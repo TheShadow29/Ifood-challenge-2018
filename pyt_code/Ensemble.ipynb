{
 "cells": [
  {
   "cell_type": "code",
   "execution_count": 77,
   "metadata": {},
   "outputs": [],
   "source": [
    "# import sys\n",
    "# sys.path.append(\"/home/paperspace/fastai/\")\n",
    "# import matplotlib\n",
    "# matplotlib.use('Agg')\n",
    "\n",
    "# from tqdm import tqdm\n",
    "# tqdm.monitor_interval = 0\n",
    "\n",
    "# from fastai.imports import *\n",
    "# from fastai.transforms import *\n",
    "# from fastai.conv_learner import *\n",
    "# from fastai.model import *\n",
    "# from fastai.dataset import *\n",
    "# from fastai.sgdr import *\n",
    "# from fastai.plots import *\n",
    "\n",
    "# PATH = \"../data/\"\n",
    "# sz = 299\n",
    "# arch = resnext101_64\n",
    "# # arch = inception_4\n",
    "# # arch = resnet50\n",
    "# # arch = resnext50\n",
    "# bs = 32\n",
    "\n",
    "# train_label_csv = f'{PATH}train3_info.csv'\n",
    "# train2_label_csv = f'{PATH}train4_info.csv'\n",
    "# valid_label_csv = f'{PATH}val_info.csv'\n",
    "# test_label_csv = f'{PATH}test_info.csv'\n",
    "\n",
    "# train_label_df = pd.read_csv(train_label_csv, header=None)\n",
    "# valid_label_df = pd.read_csv(valid_label_csv, header=None)\n",
    "# test_label_df = pd.read_csv(test_label_csv, header=None)\n",
    "# train2_label_df = pd.read_csv(train2_label_csv, header=None)\n",
    "\n",
    "\n",
    "\n",
    "# torch.cuda.is_available()\n",
    "\n",
    "# torch.backends.cudnn.enabled\n",
    "\n",
    "# # files = os.listdir(f'{PATH}train_all/')\n",
    "# # files.sort()\n",
    "# # files[-5:-1]\n",
    "\n",
    "\n",
    "\n",
    "# #train2_label_df.pivot_table(index=1, aggfunc=len).sort_values(0, ascending=True)\n",
    "# # len(train_label_df)\n",
    "\n",
    "# val_idxs = np.arange(len(train_label_df), len(train2_label_df))\n",
    "\n",
    "\n",
    "# def get_data(sz, bs):\n",
    "#     tfms = tfms_from_model(arch, sz, aug_tfms=transforms_side_on, max_zoom=1.1)\n",
    "#     #tfms = tfms_from_model(arch, sz, aug_tfms=tfms, max_zoom=1.1)\n",
    "#     data = ImageClassifierData.from_csv(PATH, 'train_all', f'{PATH}train4_info.csv', test_name='test_set',\n",
    "#                                          val_idxs=val_idxs,\n",
    "#                                         tfms=tfms, bs=bs, skip_header=False)\n",
    "#     return data\n",
    "\n",
    "\n",
    "# data = get_data(sz, bs)\n",
    "\n",
    "# learn = ConvLearner.pretrained(arch, data, precompute=False, xtra_fc=[128])\n",
    "\n",
    "\n",
    "\n",
    "# def one_to_one_map(inp_label):\n",
    "#     import json\n",
    "#     big_label_dict = json.load(open(f'{PATH}big_label_dict.json', 'r'))\n",
    "#     return big_label_dict[inp_label]\n",
    "\n",
    "# def accuracytop3(preds, targs):\n",
    "# #     pdb.set_trace()\n",
    "#     preds1 = torch.Tensor(preds)\n",
    "#     targs1 = torch.LongTensor(targs)\n",
    "#     preds_3 = preds1.sort(dim=1, descending=True)[1][:, :3]\n",
    "#     return ((preds_3[:, 0] == targs1) + (preds_3[:, 1] == targs1) +\n",
    "#             (preds_3[:, 2] == targs1)).float().mean()\n",
    "\n",
    "# # def accuracytop3(preds, targs):\n",
    "# #     preds_3 = preds.sort(dim=1, descending=True)[1][:, :3]\n",
    "# #     return ((preds_3[:, 0] == targs) + (preds_3[:, 1] == targs) +\n",
    "# #             (preds_3[:, 2] == targs)).float().mean()\n",
    "\n",
    "# # def accuracytop3(preds, targs):\n",
    "# #     preds_3 = preds.sort(dim=1, descending=True)[1][:, :3]\n",
    "# #     return ((preds_3[:, 0] == targs) + (preds_3[:, 1] == targs) +\n",
    "# #             (preds_3[:, 2] == targs)).float().mean()\n",
    "\n",
    "# def test_acc_csv():\n",
    "#     log_preds, y = learn.TTA(is_test=True)\n",
    "#     probs = np.exp(log_preds)\n",
    "\n",
    "#     probs_1 = np.mean(probs, axis=0)\n",
    "#     # probs_1.shape\n",
    "\n",
    "#     sub_ds = pd.DataFrame(probs_1)\n",
    "#     sub_ds.columns = data.classes\n",
    "#     sub_ds.insert(0, 'id', [o[9:] for o in data.test_ds.fnames])\n",
    "\n",
    "#     SUBM = f'{PATH}sub/'\n",
    "#     os.makedirs(SUBM, exist_ok=True)\n",
    "#     sub = 'id,predicted\\n'\n",
    "#     str_format = '{},{} {} {}\\n'\n",
    "#     ds_class_array = np.array(data.classes)\n",
    "#     for i in range(len(sub_ds)):\n",
    "#         r1 = sub_ds.iloc[i]\n",
    "#         r11 = np.array(r1[1:])\n",
    "#         r12 = -r11\n",
    "#         r2 = np.argsort(r12)\n",
    "#         r3 = np.array(data.classes)[r2]\n",
    "#         pred_test_fin = r3[:3]\n",
    "#         sub += str_format.format(data.test_ds.fnames[i][9:],\n",
    "#                                  pred_test_fin[0], pred_test_fin[1], pred_test_fin[2])\n",
    "\n",
    "#     with open('sub_fin1.csv', 'w') as f:\n",
    "#         f.write(sub)\n",
    "        \n",
    "# def test_acc_csv_2(log_preds):\n",
    "#     probs = np.exp(log_preds)\n",
    "\n",
    "#     probs_1 = np.mean(probs, axis=0)\n",
    "#     # probs_1.shape\n",
    "\n",
    "#     sub_ds = pd.DataFrame(probs_1)\n",
    "#     sub_ds.columns = data.classes\n",
    "#     sub_ds.insert(0, 'id', [o[9:] for o in data.test_ds.fnames])\n",
    "\n",
    "#     SUBM = f'{PATH}sub/'\n",
    "#     os.makedirs(SUBM, exist_ok=True)\n",
    "#     sub = 'id,predicted\\n'\n",
    "#     str_format = '{},{} {} {}\\n'\n",
    "#     ds_class_array = np.array(data.classes)\n",
    "#     for i in range(len(sub_ds)):\n",
    "#         r1 = sub_ds.iloc[i]\n",
    "#         r11 = np.array(r1[1:])\n",
    "#         r12 = -r11\n",
    "#         r2 = np.argsort(r12)\n",
    "#         r3 = np.array(data.classes)[r2]\n",
    "#         pred_test_fin = r3[:3]\n",
    "#         sub += str_format.format(data.test_ds.fnames[i][9:],\n",
    "#                                  pred_test_fin[0], pred_test_fin[1], pred_test_fin[2])\n",
    "\n",
    "#     with open('sub_fin2.csv', 'w') as f:\n",
    "#         f.write(sub)\n"
   ]
  },
  {
   "cell_type": "code",
   "execution_count": 1,
   "metadata": {},
   "outputs": [],
   "source": [
    "import sys\n",
    "sys.path.append(\"/home/paperspace/fastai/\")\n",
    "import matplotlib\n",
    "matplotlib.use('Agg')\n",
    "import numpy as np\n",
    "\n",
    "from tqdm import tqdm\n",
    "tqdm.monitor_interval = 0\n",
    "\n",
    "from fastai.imports import *\n",
    "from fastai.transforms import *\n",
    "from fastai.conv_learner import *\n",
    "from fastai.model import *\n",
    "from fastai.dataset import *\n",
    "from fastai.sgdr import *\n",
    "from fastai.plots import *\n",
    "\n",
    "PATH = \"../data/\"\n",
    "\n",
    "train_label_csv = f'{PATH}train3_info.csv'\n",
    "train2_label_csv = f'{PATH}train4_info.csv'\n",
    "valid_label_csv = f'{PATH}val_info.csv'\n",
    "test_label_csv = f'{PATH}test_info.csv'\n",
    "\n",
    "train_label_df = pd.read_csv(train_label_csv, header=None)\n",
    "valid_label_df = pd.read_csv(valid_label_csv, header=None)\n",
    "test_label_df = pd.read_csv(test_label_csv, header=None)\n",
    "train2_label_df = pd.read_csv(train2_label_csv, header=None)\n",
    "val_idxs = np.arange(len(train_label_df), len(train2_label_df))\n"
   ]
  },
  {
   "cell_type": "code",
   "execution_count": 2,
   "metadata": {},
   "outputs": [],
   "source": [
    "def accuracy_np(preds, targs):\n",
    "    preds = np.argmax(preds, 1)\n",
    "    return (preds==targs).mean()\n",
    "\n",
    "def accuracy(preds, targs):\n",
    "    preds = torch.max(preds, dim=1)[1]\n",
    "    return (preds==targs).float().mean()\n",
    "\n",
    "def accuracytop3_np(preds, targs):\n",
    "    preds_3 = np.argsort(preds, axis=1)[:, -3:]\n",
    "    return ((preds_3[:, 0] == targs) + (preds_3[:, 1] == targs) +\n",
    "            (preds_3[:, 2] == targs)).mean()"
   ]
  },
  {
   "cell_type": "code",
   "execution_count": null,
   "metadata": {},
   "outputs": [],
   "source": [
    "def test_acc_csv_2(log_preds):\n",
    "    probs = np.exp(log_preds)\n",
    "\n",
    "    probs_1 = np.mean(probs, axis=0)\n",
    "    # probs_1.shape\n",
    "\n",
    "    sub_ds = pd.DataFrame(probs_1)\n",
    "    sub_ds.columns = data.classes\n",
    "    sub_ds.insert(0, 'id', [o[9:] for o in data.test_ds.fnames])\n",
    "\n",
    "    SUBM = f'{PATH}sub/'\n",
    "    os.makedirs(SUBM, exist_ok=True)\n",
    "    sub = 'id,predicted\\n'\n",
    "    str_format = '{},{} {} {}\\n'\n",
    "    ds_class_array = np.array(data.classes)\n",
    "    for i in range(len(sub_ds)):\n",
    "        r1 = sub_ds.iloc[i]\n",
    "        r11 = np.array(r1[1:])\n",
    "        r12 = -r11\n",
    "        r2 = np.argsort(r12)\n",
    "        r3 = np.array(data.classes)[r2]\n",
    "        pred_test_fin = r3[:3]\n",
    "        sub += str_format.format(data.test_ds.fnames[i][9:],\n",
    "                                 pred_test_fin[0], pred_test_fin[1], pred_test_fin[2])\n",
    "\n",
    "    with open('sub_fin2.csv', 'w') as f:\n",
    "        f.write(sub)"
   ]
  },
  {
   "cell_type": "code",
   "execution_count": 3,
   "metadata": {},
   "outputs": [],
   "source": [
    "sz = 299\n",
    "arch = resnext101_64\n",
    "# arch = inception_4\n",
    "# arch = resnet50\n",
    "# arch = resnext50\n",
    "bs = 32\n",
    "\n",
    "def get_data(sz, bs):\n",
    "    tfms = tfms_from_model(arch, sz, aug_tfms=transforms_side_on, max_zoom=1.1)\n",
    "    #tfms = tfms_from_model(arch, sz, aug_tfms=tfms, max_zoom=1.1)\n",
    "    data = ImageClassifierData.from_csv(PATH, 'train_all', f'{PATH}train4_info.csv', test_name='test_set',\n",
    "                                         val_idxs=val_idxs,\n",
    "                                        tfms=tfms, bs=bs, skip_header=False)\n",
    "    return data\n",
    "\n",
    "\n",
    "data = get_data(sz, bs)\n",
    "\n",
    "learn = ConvLearner.pretrained(arch, data, precompute=False, xtra_fc=[128])\n",
    "\n",
    "learn.unfreeze()\n",
    "learn.load(\"best_rxnet_u1\")"
   ]
  },
  {
   "cell_type": "code",
   "execution_count": 4,
   "metadata": {},
   "outputs": [
    {
     "name": "stdout",
     "output_type": "stream",
     "text": [
      "                                              \r"
     ]
    }
   ],
   "source": [
    "preds , targs = learn.TTA()"
   ]
  },
  {
   "cell_type": "code",
   "execution_count": 5,
   "metadata": {},
   "outputs": [],
   "source": [
    "exp_preds = np.exp(preds)"
   ]
  },
  {
   "cell_type": "code",
   "execution_count": 6,
   "metadata": {},
   "outputs": [],
   "source": [
    "preds_noTTA , targs = predict_with_targs(learn.model, data.val_dl)"
   ]
  },
  {
   "cell_type": "code",
   "execution_count": 7,
   "metadata": {},
   "outputs": [],
   "source": [
    "exp_preds_noTTA = np.exp(preds_noTTA)"
   ]
  },
  {
   "cell_type": "code",
   "execution_count": 8,
   "metadata": {},
   "outputs": [],
   "source": [
    "preds_ave = np.mean(preds, axis=0)"
   ]
  },
  {
   "cell_type": "code",
   "execution_count": 9,
   "metadata": {},
   "outputs": [],
   "source": [
    "exp_preds_ave = np.mean(exp_preds, axis=0)"
   ]
  },
  {
   "cell_type": "code",
   "execution_count": 10,
   "metadata": {},
   "outputs": [
    {
     "data": {
      "text/plain": [
       "0.7225612709483678"
      ]
     },
     "execution_count": 10,
     "metadata": {},
     "output_type": "execute_result"
    }
   ],
   "source": [
    "accuracy_np(preds_noTTA, targs)"
   ]
  },
  {
   "cell_type": "code",
   "execution_count": 11,
   "metadata": {},
   "outputs": [
    {
     "data": {
      "text/plain": [
       "0.7384481255448997"
      ]
     },
     "execution_count": 11,
     "metadata": {},
     "output_type": "execute_result"
    }
   ],
   "source": [
    "accuracy_np(preds_ave, targs)"
   ]
  },
  {
   "cell_type": "code",
   "execution_count": 14,
   "metadata": {},
   "outputs": [
    {
     "data": {
      "text/plain": [
       "0.8748425845200039"
      ]
     },
     "execution_count": 14,
     "metadata": {},
     "output_type": "execute_result"
    }
   ],
   "source": [
    "accuracytop3_np(preds_noTTA, targs)"
   ]
  },
  {
   "cell_type": "code",
   "execution_count": 15,
   "metadata": {},
   "outputs": [
    {
     "data": {
      "text/plain": [
       "0.8876295650489199"
      ]
     },
     "execution_count": 15,
     "metadata": {},
     "output_type": "execute_result"
    }
   ],
   "source": [
    "accuracytop3_np(preds_ave, targs)"
   ]
  },
  {
   "cell_type": "code",
   "execution_count": null,
   "metadata": {},
   "outputs": [],
   "source": []
  },
  {
   "cell_type": "code",
   "execution_count": null,
   "metadata": {},
   "outputs": [],
   "source": []
  },
  {
   "cell_type": "code",
   "execution_count": 16,
   "metadata": {},
   "outputs": [],
   "source": [
    "sz = 299\n",
    "arch = resnext101_64\n",
    "# arch = inception_4\n",
    "# arch = resnet50\n",
    "# arch = resnext50\n",
    "bs = 32\n",
    "\n",
    "def get_data(sz, bs):\n",
    "    tfms = tfms_from_model(arch, sz, aug_tfms=transforms_side_on, max_zoom=1.1)\n",
    "    #tfms = tfms_from_model(arch, sz, aug_tfms=tfms, max_zoom=1.1)\n",
    "    data = ImageClassifierData.from_csv(PATH, 'train_all', f'{PATH}train4_info.csv', test_name='test_set',\n",
    "                                         val_idxs=val_idxs,\n",
    "                                        tfms=tfms, bs=bs, skip_header=False)\n",
    "    return data\n",
    "\n",
    "\n",
    "data = get_data(sz, bs)\n",
    "\n",
    "learn = ConvLearner.pretrained(arch,data, precompute=False)\n",
    "learn.unfreeze()\n",
    "learn.load(\"inception_2_high_lr\")"
   ]
  },
  {
   "cell_type": "code",
   "execution_count": 17,
   "metadata": {},
   "outputs": [
    {
     "name": "stdout",
     "output_type": "stream",
     "text": [
      "                                              \r"
     ]
    }
   ],
   "source": [
    "preds1 , targs = learn.TTA(is_test=False)"
   ]
  },
  {
   "cell_type": "code",
   "execution_count": 18,
   "metadata": {},
   "outputs": [],
   "source": [
    "exp_preds1 = np.exp(preds1)"
   ]
  },
  {
   "cell_type": "code",
   "execution_count": 19,
   "metadata": {},
   "outputs": [],
   "source": [
    "preds1_noTTA , targs = predict_with_targs(learn.model, data.val_dl)"
   ]
  },
  {
   "cell_type": "code",
   "execution_count": 20,
   "metadata": {},
   "outputs": [],
   "source": [
    "exp_preds1_noTTA = np.exp(preds1_noTTA)"
   ]
  },
  {
   "cell_type": "code",
   "execution_count": 21,
   "metadata": {},
   "outputs": [],
   "source": [
    "preds1_ave = np.mean(preds1, axis=0)"
   ]
  },
  {
   "cell_type": "code",
   "execution_count": 22,
   "metadata": {},
   "outputs": [],
   "source": [
    "exp_preds1_ave = np.mean(exp_preds1, axis=0)"
   ]
  },
  {
   "cell_type": "code",
   "execution_count": 23,
   "metadata": {},
   "outputs": [
    {
     "data": {
      "text/plain": [
       "0.7368013174464787"
      ]
     },
     "execution_count": 23,
     "metadata": {},
     "output_type": "execute_result"
    }
   ],
   "source": [
    "accuracy_np(preds1_noTTA, targs)"
   ]
  },
  {
   "cell_type": "code",
   "execution_count": 24,
   "metadata": {},
   "outputs": [
    {
     "data": {
      "text/plain": [
       "0.7534631405599147"
      ]
     },
     "execution_count": 24,
     "metadata": {},
     "output_type": "execute_result"
    }
   ],
   "source": [
    "accuracy_np(preds1_ave, targs)"
   ]
  },
  {
   "cell_type": "code",
   "execution_count": 26,
   "metadata": {},
   "outputs": [
    {
     "data": {
      "text/plain": [
       "0.8803642352029449"
      ]
     },
     "execution_count": 26,
     "metadata": {},
     "output_type": "execute_result"
    }
   ],
   "source": [
    "accuracytop3_np(preds1_noTTA, targs)"
   ]
  },
  {
   "cell_type": "code",
   "execution_count": 27,
   "metadata": {},
   "outputs": [
    {
     "data": {
      "text/plain": [
       "0.8945074106364429"
      ]
     },
     "execution_count": 27,
     "metadata": {},
     "output_type": "execute_result"
    }
   ],
   "source": [
    "accuracytop3_np(preds1_ave, targs)"
   ]
  },
  {
   "cell_type": "code",
   "execution_count": null,
   "metadata": {},
   "outputs": [],
   "source": []
  },
  {
   "cell_type": "code",
   "execution_count": 28,
   "metadata": {},
   "outputs": [],
   "source": [
    "#Main"
   ]
  },
  {
   "cell_type": "code",
   "execution_count": 29,
   "metadata": {},
   "outputs": [
    {
     "data": {
      "text/plain": [
       "0.7586941780490167"
      ]
     },
     "execution_count": 29,
     "metadata": {},
     "output_type": "execute_result"
    }
   ],
   "source": [
    "accuracy_np(preds_noTTA + preds1_noTTA, targs)"
   ]
  },
  {
   "cell_type": "code",
   "execution_count": 30,
   "metadata": {},
   "outputs": [
    {
     "data": {
      "text/plain": [
       "0.7702218347379638"
      ]
     },
     "execution_count": 30,
     "metadata": {},
     "output_type": "execute_result"
    }
   ],
   "source": [
    "accuracy_np(preds_ave + preds1_ave, targs)"
   ]
  },
  {
   "cell_type": "code",
   "execution_count": 31,
   "metadata": {},
   "outputs": [
    {
     "data": {
      "text/plain": [
       "0.7544318512060447"
      ]
     },
     "execution_count": 31,
     "metadata": {},
     "output_type": "execute_result"
    }
   ],
   "source": [
    "accuracy_np(exp_preds_noTTA + exp_preds1_noTTA, targs)"
   ]
  },
  {
   "cell_type": "code",
   "execution_count": 32,
   "metadata": {},
   "outputs": [
    {
     "data": {
      "text/plain": [
       "0.7697374794148988"
      ]
     },
     "execution_count": 32,
     "metadata": {},
     "output_type": "execute_result"
    }
   ],
   "source": [
    "accuracy_np(exp_preds_ave + exp_preds1_ave, targs)"
   ]
  },
  {
   "cell_type": "code",
   "execution_count": 33,
   "metadata": {},
   "outputs": [
    {
     "data": {
      "text/plain": [
       "0.8988666085440279"
      ]
     },
     "execution_count": 33,
     "metadata": {},
     "output_type": "execute_result"
    }
   ],
   "source": [
    "accuracytop3_np(preds_noTTA + preds1_noTTA, targs)"
   ]
  },
  {
   "cell_type": "code",
   "execution_count": 34,
   "metadata": {},
   "outputs": [
    {
     "data": {
      "text/plain": [
       "0.9065194226484549"
      ]
     },
     "execution_count": 34,
     "metadata": {},
     "output_type": "execute_result"
    }
   ],
   "source": [
    "accuracytop3_np(preds_ave + preds1_ave, targs)"
   ]
  },
  {
   "cell_type": "code",
   "execution_count": 35,
   "metadata": {},
   "outputs": [
    {
     "data": {
      "text/plain": [
       "0.8947980238302818"
      ]
     },
     "execution_count": 35,
     "metadata": {},
     "output_type": "execute_result"
    }
   ],
   "source": [
    "accuracytop3_np(exp_preds_noTTA + exp_preds1_noTTA, targs)"
   ]
  },
  {
   "cell_type": "code",
   "execution_count": 36,
   "metadata": {},
   "outputs": [
    {
     "data": {
      "text/plain": [
       "0.9037101617746779"
      ]
     },
     "execution_count": 36,
     "metadata": {},
     "output_type": "execute_result"
    }
   ],
   "source": [
    "accuracytop3_np(exp_preds_ave + exp_preds1_ave, targs)"
   ]
  },
  {
   "cell_type": "code",
   "execution_count": null,
   "metadata": {},
   "outputs": [],
   "source": []
  },
  {
   "cell_type": "code",
   "execution_count": null,
   "metadata": {},
   "outputs": [],
   "source": [
    "#ReRun Above Models for Learn.TTA() to fit"
   ]
  },
  {
   "cell_type": "code",
   "execution_count": 43,
   "metadata": {},
   "outputs": [],
   "source": [
    "sz = 299\n",
    "arch = resnext101_64\n",
    "# arch = inception_4\n",
    "# arch = resnet50\n",
    "# arch = resnext50\n",
    "bs = 32\n",
    "\n",
    "def get_data(sz, bs):\n",
    "    tfms = tfms_from_model(arch, sz, aug_tfms=transforms_side_on, max_zoom=1.1)\n",
    "    #tfms = tfms_from_model(arch, sz, aug_tfms=tfms, max_zoom=1.1)\n",
    "    data = ImageClassifierData.from_csv(PATH, 'train_all', f'{PATH}train4_info.csv', test_name='test_set',\n",
    "                                         val_idxs=val_idxs,\n",
    "                                        tfms=tfms, bs=bs, skip_header=False)\n",
    "    return data\n",
    "\n",
    "\n",
    "data = get_data(sz, bs)\n",
    "\n",
    "learn = ConvLearner.pretrained(arch, data, precompute=False, xtra_fc=[128])\n",
    "\n",
    "learn.unfreeze()\n",
    "learn.load(\"best_rxnet_u1\")"
   ]
  },
  {
   "cell_type": "code",
   "execution_count": 44,
   "metadata": {},
   "outputs": [
    {
     "name": "stdout",
     "output_type": "stream",
     "text": [
      "                                              \r"
     ]
    }
   ],
   "source": [
    "preds , targs = learn.TTA(is_test=True)"
   ]
  },
  {
   "cell_type": "code",
   "execution_count": 45,
   "metadata": {},
   "outputs": [],
   "source": [
    "sz = 299\n",
    "arch = resnext101_64\n",
    "# arch = inception_4\n",
    "# arch = resnet50\n",
    "# arch = resnext50\n",
    "bs = 32\n",
    "\n",
    "def get_data(sz, bs):\n",
    "    tfms = tfms_from_model(arch, sz, aug_tfms=transforms_side_on, max_zoom=1.1)\n",
    "    #tfms = tfms_from_model(arch, sz, aug_tfms=tfms, max_zoom=1.1)\n",
    "    data = ImageClassifierData.from_csv(PATH, 'train_all', f'{PATH}train4_info.csv', test_name='test_set',\n",
    "                                         val_idxs=val_idxs,\n",
    "                                        tfms=tfms, bs=bs, skip_header=False)\n",
    "    return data\n",
    "\n",
    "\n",
    "data = get_data(sz, bs)\n",
    "\n",
    "learn = ConvLearner.pretrained(arch,data, precompute=False)\n",
    "learn.unfreeze()\n",
    "learn.load(\"inception_2_high_lr\")"
   ]
  },
  {
   "cell_type": "code",
   "execution_count": null,
   "metadata": {},
   "outputs": [
    {
     "name": "stdout",
     "output_type": "stream",
     "text": [
      " 75%|███████▌  | 3/4 [16:22<05:27, 327.47s/it]"
     ]
    }
   ],
   "source": [
    "preds1 , targs = learn.TTA(is_test=True)"
   ]
  },
  {
   "cell_type": "code",
   "execution_count": 40,
   "metadata": {},
   "outputs": [],
   "source": [
    "def test_acc_csv_2(probs):\n",
    "    \n",
    "\n",
    "    log_preds = np.mean(probs, axis=0)\n",
    "    probs_1 = np.exp(log_preds)\n",
    "    # probs_1.shape\n",
    "\n",
    "    sub_ds = pd.DataFrame(probs_1)\n",
    "    sub_ds.columns = data.classes\n",
    "    sub_ds.insert(0, 'id', [o[9:] for o in data.test_ds.fnames])\n",
    "\n",
    "    SUBM = f'{PATH}sub/'\n",
    "    os.makedirs(SUBM, exist_ok=True)\n",
    "    sub = 'id,predicted\\n'\n",
    "    str_format = '{},{} {} {}\\n'\n",
    "    ds_class_array = np.array(data.classes)\n",
    "    for i in range(len(sub_ds)):\n",
    "        r1 = sub_ds.iloc[i]\n",
    "        r11 = np.array(r1[1:])\n",
    "        r12 = -r11\n",
    "        r2 = np.argsort(r12)\n",
    "        r3 = np.array(data.classes)[r2]\n",
    "        pred_test_fin = r3[:3]\n",
    "        sub += str_format.format(data.test_ds.fnames[i][9:],\n",
    "                                 pred_test_fin[0], pred_test_fin[1], pred_test_fin[2])\n",
    "\n",
    "    with open('sub_fin2.csv', 'w') as f:\n",
    "        f.write(sub)"
   ]
  },
  {
   "cell_type": "code",
   "execution_count": 41,
   "metadata": {},
   "outputs": [
    {
     "ename": "ValueError",
     "evalue": "Length of values does not match length of index",
     "output_type": "error",
     "traceback": [
      "\u001b[0;31m---------------------------------------------------------------------------\u001b[0m",
      "\u001b[0;31mValueError\u001b[0m                                Traceback (most recent call last)",
      "\u001b[0;32m<ipython-input-41-5001311fdde1>\u001b[0m in \u001b[0;36m<module>\u001b[0;34m()\u001b[0m\n\u001b[0;32m----> 1\u001b[0;31m \u001b[0mtest_acc_csv_2\u001b[0m\u001b[0;34m(\u001b[0m\u001b[0mpreds\u001b[0m \u001b[0;34m+\u001b[0m \u001b[0mpreds1\u001b[0m\u001b[0;34m)\u001b[0m\u001b[0;34m\u001b[0m\u001b[0m\n\u001b[0m",
      "\u001b[0;32m<ipython-input-40-c8a95258b11c>\u001b[0m in \u001b[0;36mtest_acc_csv_2\u001b[0;34m(probs)\u001b[0m\n\u001b[1;32m      8\u001b[0m     \u001b[0msub_ds\u001b[0m \u001b[0;34m=\u001b[0m \u001b[0mpd\u001b[0m\u001b[0;34m.\u001b[0m\u001b[0mDataFrame\u001b[0m\u001b[0;34m(\u001b[0m\u001b[0mprobs_1\u001b[0m\u001b[0;34m)\u001b[0m\u001b[0;34m\u001b[0m\u001b[0m\n\u001b[1;32m      9\u001b[0m     \u001b[0msub_ds\u001b[0m\u001b[0;34m.\u001b[0m\u001b[0mcolumns\u001b[0m \u001b[0;34m=\u001b[0m \u001b[0mdata\u001b[0m\u001b[0;34m.\u001b[0m\u001b[0mclasses\u001b[0m\u001b[0;34m\u001b[0m\u001b[0m\n\u001b[0;32m---> 10\u001b[0;31m     \u001b[0msub_ds\u001b[0m\u001b[0;34m.\u001b[0m\u001b[0minsert\u001b[0m\u001b[0;34m(\u001b[0m\u001b[0;36m0\u001b[0m\u001b[0;34m,\u001b[0m \u001b[0;34m'id'\u001b[0m\u001b[0;34m,\u001b[0m \u001b[0;34m[\u001b[0m\u001b[0mo\u001b[0m\u001b[0;34m[\u001b[0m\u001b[0;36m9\u001b[0m\u001b[0;34m:\u001b[0m\u001b[0;34m]\u001b[0m \u001b[0;32mfor\u001b[0m \u001b[0mo\u001b[0m \u001b[0;32min\u001b[0m \u001b[0mdata\u001b[0m\u001b[0;34m.\u001b[0m\u001b[0mtest_ds\u001b[0m\u001b[0;34m.\u001b[0m\u001b[0mfnames\u001b[0m\u001b[0;34m]\u001b[0m\u001b[0;34m)\u001b[0m\u001b[0;34m\u001b[0m\u001b[0m\n\u001b[0m\u001b[1;32m     11\u001b[0m \u001b[0;34m\u001b[0m\u001b[0m\n\u001b[1;32m     12\u001b[0m     \u001b[0mSUBM\u001b[0m \u001b[0;34m=\u001b[0m \u001b[0;34mf'{PATH}sub/'\u001b[0m\u001b[0;34m\u001b[0m\u001b[0m\n",
      "\u001b[0;32m~/anaconda3/envs/fastai/lib/python3.6/site-packages/pandas/core/frame.py\u001b[0m in \u001b[0;36minsert\u001b[0;34m(self, loc, column, value, allow_duplicates)\u001b[0m\n\u001b[1;32m   3215\u001b[0m         \"\"\"\n\u001b[1;32m   3216\u001b[0m         \u001b[0mself\u001b[0m\u001b[0;34m.\u001b[0m\u001b[0m_ensure_valid_index\u001b[0m\u001b[0;34m(\u001b[0m\u001b[0mvalue\u001b[0m\u001b[0;34m)\u001b[0m\u001b[0;34m\u001b[0m\u001b[0m\n\u001b[0;32m-> 3217\u001b[0;31m         \u001b[0mvalue\u001b[0m \u001b[0;34m=\u001b[0m \u001b[0mself\u001b[0m\u001b[0;34m.\u001b[0m\u001b[0m_sanitize_column\u001b[0m\u001b[0;34m(\u001b[0m\u001b[0mcolumn\u001b[0m\u001b[0;34m,\u001b[0m \u001b[0mvalue\u001b[0m\u001b[0;34m,\u001b[0m \u001b[0mbroadcast\u001b[0m\u001b[0;34m=\u001b[0m\u001b[0;32mFalse\u001b[0m\u001b[0;34m)\u001b[0m\u001b[0;34m\u001b[0m\u001b[0m\n\u001b[0m\u001b[1;32m   3218\u001b[0m         self._data.insert(loc, column, value,\n\u001b[1;32m   3219\u001b[0m                           allow_duplicates=allow_duplicates)\n",
      "\u001b[0;32m~/anaconda3/envs/fastai/lib/python3.6/site-packages/pandas/core/frame.py\u001b[0m in \u001b[0;36m_sanitize_column\u001b[0;34m(self, key, value, broadcast)\u001b[0m\n\u001b[1;32m   3386\u001b[0m \u001b[0;34m\u001b[0m\u001b[0m\n\u001b[1;32m   3387\u001b[0m             \u001b[0;31m# turn me into an ndarray\u001b[0m\u001b[0;34m\u001b[0m\u001b[0;34m\u001b[0m\u001b[0m\n\u001b[0;32m-> 3388\u001b[0;31m             \u001b[0mvalue\u001b[0m \u001b[0;34m=\u001b[0m \u001b[0m_sanitize_index\u001b[0m\u001b[0;34m(\u001b[0m\u001b[0mvalue\u001b[0m\u001b[0;34m,\u001b[0m \u001b[0mself\u001b[0m\u001b[0;34m.\u001b[0m\u001b[0mindex\u001b[0m\u001b[0;34m,\u001b[0m \u001b[0mcopy\u001b[0m\u001b[0;34m=\u001b[0m\u001b[0;32mFalse\u001b[0m\u001b[0;34m)\u001b[0m\u001b[0;34m\u001b[0m\u001b[0m\n\u001b[0m\u001b[1;32m   3389\u001b[0m             \u001b[0;32mif\u001b[0m \u001b[0;32mnot\u001b[0m \u001b[0misinstance\u001b[0m\u001b[0;34m(\u001b[0m\u001b[0mvalue\u001b[0m\u001b[0;34m,\u001b[0m \u001b[0;34m(\u001b[0m\u001b[0mnp\u001b[0m\u001b[0;34m.\u001b[0m\u001b[0mndarray\u001b[0m\u001b[0;34m,\u001b[0m \u001b[0mIndex\u001b[0m\u001b[0;34m)\u001b[0m\u001b[0;34m)\u001b[0m\u001b[0;34m:\u001b[0m\u001b[0;34m\u001b[0m\u001b[0m\n\u001b[1;32m   3390\u001b[0m                 \u001b[0;32mif\u001b[0m \u001b[0misinstance\u001b[0m\u001b[0;34m(\u001b[0m\u001b[0mvalue\u001b[0m\u001b[0;34m,\u001b[0m \u001b[0mlist\u001b[0m\u001b[0;34m)\u001b[0m \u001b[0;32mand\u001b[0m \u001b[0mlen\u001b[0m\u001b[0;34m(\u001b[0m\u001b[0mvalue\u001b[0m\u001b[0;34m)\u001b[0m \u001b[0;34m>\u001b[0m \u001b[0;36m0\u001b[0m\u001b[0;34m:\u001b[0m\u001b[0;34m\u001b[0m\u001b[0m\n",
      "\u001b[0;32m~/anaconda3/envs/fastai/lib/python3.6/site-packages/pandas/core/series.py\u001b[0m in \u001b[0;36m_sanitize_index\u001b[0;34m(data, index, copy)\u001b[0m\n\u001b[1;32m   3996\u001b[0m \u001b[0;34m\u001b[0m\u001b[0m\n\u001b[1;32m   3997\u001b[0m     \u001b[0;32mif\u001b[0m \u001b[0mlen\u001b[0m\u001b[0;34m(\u001b[0m\u001b[0mdata\u001b[0m\u001b[0;34m)\u001b[0m \u001b[0;34m!=\u001b[0m \u001b[0mlen\u001b[0m\u001b[0;34m(\u001b[0m\u001b[0mindex\u001b[0m\u001b[0;34m)\u001b[0m\u001b[0;34m:\u001b[0m\u001b[0;34m\u001b[0m\u001b[0m\n\u001b[0;32m-> 3998\u001b[0;31m         \u001b[0;32mraise\u001b[0m \u001b[0mValueError\u001b[0m\u001b[0;34m(\u001b[0m\u001b[0;34m'Length of values does not match length of '\u001b[0m \u001b[0;34m'index'\u001b[0m\u001b[0;34m)\u001b[0m\u001b[0;34m\u001b[0m\u001b[0m\n\u001b[0m\u001b[1;32m   3999\u001b[0m \u001b[0;34m\u001b[0m\u001b[0m\n\u001b[1;32m   4000\u001b[0m     \u001b[0;32mif\u001b[0m \u001b[0misinstance\u001b[0m\u001b[0;34m(\u001b[0m\u001b[0mdata\u001b[0m\u001b[0;34m,\u001b[0m \u001b[0mABCIndexClass\u001b[0m\u001b[0;34m)\u001b[0m \u001b[0;32mand\u001b[0m \u001b[0;32mnot\u001b[0m \u001b[0mcopy\u001b[0m\u001b[0;34m:\u001b[0m\u001b[0;34m\u001b[0m\u001b[0m\n",
      "\u001b[0;31mValueError\u001b[0m: Length of values does not match length of index"
     ]
    }
   ],
   "source": [
    "test_acc_csv_2(preds + preds1)"
   ]
  },
  {
   "cell_type": "code",
   "execution_count": null,
   "metadata": {},
   "outputs": [],
   "source": []
  },
  {
   "cell_type": "code",
   "execution_count": null,
   "metadata": {},
   "outputs": [],
   "source": []
  },
  {
   "cell_type": "code",
   "execution_count": null,
   "metadata": {},
   "outputs": [],
   "source": []
  },
  {
   "cell_type": "code",
   "execution_count": null,
   "metadata": {},
   "outputs": [],
   "source": []
  },
  {
   "cell_type": "code",
   "execution_count": null,
   "metadata": {},
   "outputs": [],
   "source": []
  },
  {
   "cell_type": "code",
   "execution_count": null,
   "metadata": {},
   "outputs": [],
   "source": []
  },
  {
   "cell_type": "code",
   "execution_count": 85,
   "metadata": {},
   "outputs": [
    {
     "data": {
      "text/plain": [
       "array([[-22.70588, -17.48094, -24.77447, ..., -21.45041, -14.7914 , -21.15521],\n",
       "       [-11.36627, -16.955  , -15.33508, ..., -15.3791 , -16.43669, -17.2322 ],\n",
       "       [ -9.23718,  -8.8346 , -10.85436, ..., -10.91261, -11.17162,  -8.90244],\n",
       "       ...,\n",
       "       [-13.56575, -15.25978, -14.05371, ..., -13.4976 , -19.59109, -14.48923],\n",
       "       [ -8.08459, -12.02396, -11.14255, ..., -13.30763, -11.77517,  -8.18233],\n",
       "       [-14.07202, -16.40103, -12.37648, ..., -15.63782, -14.10762, -11.82334]], dtype=float32)"
      ]
     },
     "execution_count": 85,
     "metadata": {},
     "output_type": "execute_result"
    }
   ],
   "source": [
    "preds"
   ]
  },
  {
   "cell_type": "code",
   "execution_count": 68,
   "metadata": {},
   "outputs": [],
   "source": [
    "exp_preds = np.exp(preds)"
   ]
  },
  {
   "cell_type": "code",
   "execution_count": 69,
   "metadata": {},
   "outputs": [],
   "source": [
    "exp_preds1 = np.exp(preds1)"
   ]
  },
  {
   "cell_type": "code",
   "execution_count": 84,
   "metadata": {},
   "outputs": [
    {
     "data": {
      "text/plain": [
       "array([[-20.67728, -19.6497 , -25.16226, ..., -18.69008, -13.87659, -20.09182],\n",
       "       [-19.17579, -19.82992, -18.38385, ..., -18.02527, -19.77863, -20.76879],\n",
       "       [-13.41726, -14.43643, -17.95786, ..., -13.99738, -11.51609, -14.33982],\n",
       "       ...,\n",
       "       [-11.93074, -12.97905, -13.56647, ..., -13.58727, -19.9073 , -16.15909],\n",
       "       [-10.91131, -11.00565, -12.18759, ..., -12.79462, -15.71659,  -9.49186],\n",
       "       [-16.44164, -20.26159, -17.80825, ..., -19.24183, -12.45485, -14.29428]], dtype=float32)"
      ]
     },
     "execution_count": 84,
     "metadata": {},
     "output_type": "execute_result"
    }
   ],
   "source": [
    "preds1"
   ]
  },
  {
   "cell_type": "code",
   "execution_count": 55,
   "metadata": {},
   "outputs": [],
   "source": [
    "preds_sort = np.argsort(preds, axis=1)"
   ]
  },
  {
   "cell_type": "code",
   "execution_count": 57,
   "metadata": {},
   "outputs": [
    {
     "data": {
      "text/plain": [
       "array([[  2, 142, 138, ..., 184,  91,  49],\n",
       "       [ 57, 135,  38, ...,  32,  50,  84],\n",
       "       [ 58, 191, 115, ..., 201,  35,  34],\n",
       "       ...,\n",
       "       [178,  98,  60, ...,  22, 155,  29],\n",
       "       [148, 127, 132, ...,  26,  12, 171],\n",
       "       [179, 176, 127, ...,  22,  77,  86]])"
      ]
     },
     "execution_count": 57,
     "metadata": {},
     "output_type": "execute_result"
    }
   ],
   "source": [
    "preds_sort"
   ]
  },
  {
   "cell_type": "code",
   "execution_count": 58,
   "metadata": {},
   "outputs": [],
   "source": [
    "def accuracy_np(preds, targs):\n",
    "    preds = np.argmax(preds, 1)\n",
    "    return (preds==targs).mean()\n",
    "\n",
    "def accuracy(preds, targs):\n",
    "    preds = torch.max(preds, dim=1)[1]\n",
    "    return (preds==targs).float().mean()\n",
    "\n",
    "def accuracytop3_np(preds, targs):\n",
    "    preds_3 = np.argsort(preds, axis=1)[:, -3:]\n",
    "    return ((preds_3[:, 0] == targs) + (preds_3[:, 1] == targs) +\n",
    "            (preds_3[:, 2] == targs)).mean()"
   ]
  },
  {
   "cell_type": "code",
   "execution_count": 21,
   "metadata": {},
   "outputs": [],
   "source": [
    "learn.load(\"best_rxnet_u1\")"
   ]
  },
  {
   "cell_type": "code",
   "execution_count": 23,
   "metadata": {},
   "outputs": [],
   "source": [
    "preds1 , targs = predict_with_targs(learn.model, data.val_dl)"
   ]
  },
  {
   "cell_type": "code",
   "execution_count": 70,
   "metadata": {},
   "outputs": [
    {
     "data": {
      "text/plain": [
       "0.7225612709483678"
      ]
     },
     "execution_count": 70,
     "metadata": {},
     "output_type": "execute_result"
    }
   ],
   "source": [
    "accuracy_np(exp_preds, targs)"
   ]
  },
  {
   "cell_type": "code",
   "execution_count": 71,
   "metadata": {},
   "outputs": [
    {
     "data": {
      "text/plain": [
       "0.8803642352029449"
      ]
     },
     "execution_count": 71,
     "metadata": {},
     "output_type": "execute_result"
    }
   ],
   "source": [
    "accuracytop3_np(exp_preds1, targs)"
   ]
  },
  {
   "cell_type": "code",
   "execution_count": 72,
   "metadata": {},
   "outputs": [
    {
     "data": {
      "text/plain": [
       "0.8748425845200039"
      ]
     },
     "execution_count": 72,
     "metadata": {},
     "output_type": "execute_result"
    }
   ],
   "source": [
    "accuracytop3_np(exp_preds, targs)"
   ]
  },
  {
   "cell_type": "code",
   "execution_count": 74,
   "metadata": {},
   "outputs": [
    {
     "data": {
      "text/plain": [
       "0.8988666085440279"
      ]
     },
     "execution_count": 74,
     "metadata": {},
     "output_type": "execute_result"
    }
   ],
   "source": [
    "accuracytop3_np(preds1 + preds, targs)"
   ]
  },
  {
   "cell_type": "code",
   "execution_count": 75,
   "metadata": {},
   "outputs": [
    {
     "data": {
      "text/plain": [
       "0.8947980238302818"
      ]
     },
     "execution_count": 75,
     "metadata": {},
     "output_type": "execute_result"
    }
   ],
   "source": [
    "accuracytop3_np(exp_preds1 + exp_preds, targs)"
   ]
  },
  {
   "cell_type": "code",
   "execution_count": 76,
   "metadata": {},
   "outputs": [
    {
     "data": {
      "text/plain": [
       "0.8988666085440279"
      ]
     },
     "execution_count": 76,
     "metadata": {},
     "output_type": "execute_result"
    }
   ],
   "source": [
    "accuracytop3_np(np.exp(preds1 + preds), targs)"
   ]
  },
  {
   "cell_type": "code",
   "execution_count": 81,
   "metadata": {},
   "outputs": [
    {
     "ename": "ValueError",
     "evalue": "Length mismatch: Expected axis has 1 elements, new values have 211 elements",
     "output_type": "error",
     "traceback": [
      "\u001b[0;31m---------------------------------------------------------------------------\u001b[0m",
      "\u001b[0;31mValueError\u001b[0m                                Traceback (most recent call last)",
      "\u001b[0;32m<ipython-input-81-75d0fe6610f8>\u001b[0m in \u001b[0;36m<module>\u001b[0;34m()\u001b[0m\n\u001b[0;32m----> 1\u001b[0;31m \u001b[0mtest_acc_csv_2\u001b[0m\u001b[0;34m(\u001b[0m\u001b[0mpreds1\u001b[0m \u001b[0;34m+\u001b[0m \u001b[0mpreds\u001b[0m\u001b[0;34m)\u001b[0m\u001b[0;34m\u001b[0m\u001b[0m\n\u001b[0m",
      "\u001b[0;32m<ipython-input-77-d091958362eb>\u001b[0m in \u001b[0;36mtest_acc_csv_2\u001b[0;34m(log_preds)\u001b[0m\n\u001b[1;32m    126\u001b[0m \u001b[0;34m\u001b[0m\u001b[0m\n\u001b[1;32m    127\u001b[0m     \u001b[0msub_ds\u001b[0m \u001b[0;34m=\u001b[0m \u001b[0mpd\u001b[0m\u001b[0;34m.\u001b[0m\u001b[0mDataFrame\u001b[0m\u001b[0;34m(\u001b[0m\u001b[0mprobs_1\u001b[0m\u001b[0;34m)\u001b[0m\u001b[0;34m\u001b[0m\u001b[0m\n\u001b[0;32m--> 128\u001b[0;31m     \u001b[0msub_ds\u001b[0m\u001b[0;34m.\u001b[0m\u001b[0mcolumns\u001b[0m \u001b[0;34m=\u001b[0m \u001b[0mdata\u001b[0m\u001b[0;34m.\u001b[0m\u001b[0mclasses\u001b[0m\u001b[0;34m\u001b[0m\u001b[0m\n\u001b[0m\u001b[1;32m    129\u001b[0m     \u001b[0msub_ds\u001b[0m\u001b[0;34m.\u001b[0m\u001b[0minsert\u001b[0m\u001b[0;34m(\u001b[0m\u001b[0;36m0\u001b[0m\u001b[0;34m,\u001b[0m \u001b[0;34m'id'\u001b[0m\u001b[0;34m,\u001b[0m \u001b[0;34m[\u001b[0m\u001b[0mo\u001b[0m\u001b[0;34m[\u001b[0m\u001b[0;36m9\u001b[0m\u001b[0;34m:\u001b[0m\u001b[0;34m]\u001b[0m \u001b[0;32mfor\u001b[0m \u001b[0mo\u001b[0m \u001b[0;32min\u001b[0m \u001b[0mdata\u001b[0m\u001b[0;34m.\u001b[0m\u001b[0mtest_ds\u001b[0m\u001b[0;34m.\u001b[0m\u001b[0mfnames\u001b[0m\u001b[0;34m]\u001b[0m\u001b[0;34m)\u001b[0m\u001b[0;34m\u001b[0m\u001b[0m\n\u001b[1;32m    130\u001b[0m \u001b[0;34m\u001b[0m\u001b[0m\n",
      "\u001b[0;32m~/anaconda3/envs/fastai/lib/python3.6/site-packages/pandas/core/generic.py\u001b[0m in \u001b[0;36m__setattr__\u001b[0;34m(self, name, value)\u001b[0m\n\u001b[1;32m   4383\u001b[0m         \u001b[0;32mtry\u001b[0m\u001b[0;34m:\u001b[0m\u001b[0;34m\u001b[0m\u001b[0m\n\u001b[1;32m   4384\u001b[0m             \u001b[0mobject\u001b[0m\u001b[0;34m.\u001b[0m\u001b[0m__getattribute__\u001b[0m\u001b[0;34m(\u001b[0m\u001b[0mself\u001b[0m\u001b[0;34m,\u001b[0m \u001b[0mname\u001b[0m\u001b[0;34m)\u001b[0m\u001b[0;34m\u001b[0m\u001b[0m\n\u001b[0;32m-> 4385\u001b[0;31m             \u001b[0;32mreturn\u001b[0m \u001b[0mobject\u001b[0m\u001b[0;34m.\u001b[0m\u001b[0m__setattr__\u001b[0m\u001b[0;34m(\u001b[0m\u001b[0mself\u001b[0m\u001b[0;34m,\u001b[0m \u001b[0mname\u001b[0m\u001b[0;34m,\u001b[0m \u001b[0mvalue\u001b[0m\u001b[0;34m)\u001b[0m\u001b[0;34m\u001b[0m\u001b[0m\n\u001b[0m\u001b[1;32m   4386\u001b[0m         \u001b[0;32mexcept\u001b[0m \u001b[0mAttributeError\u001b[0m\u001b[0;34m:\u001b[0m\u001b[0;34m\u001b[0m\u001b[0m\n\u001b[1;32m   4387\u001b[0m             \u001b[0;32mpass\u001b[0m\u001b[0;34m\u001b[0m\u001b[0m\n",
      "\u001b[0;32mpandas/_libs/properties.pyx\u001b[0m in \u001b[0;36mpandas._libs.properties.AxisProperty.__set__\u001b[0;34m()\u001b[0m\n",
      "\u001b[0;32m~/anaconda3/envs/fastai/lib/python3.6/site-packages/pandas/core/generic.py\u001b[0m in \u001b[0;36m_set_axis\u001b[0;34m(self, axis, labels)\u001b[0m\n\u001b[1;32m    643\u001b[0m \u001b[0;34m\u001b[0m\u001b[0m\n\u001b[1;32m    644\u001b[0m     \u001b[0;32mdef\u001b[0m \u001b[0m_set_axis\u001b[0m\u001b[0;34m(\u001b[0m\u001b[0mself\u001b[0m\u001b[0;34m,\u001b[0m \u001b[0maxis\u001b[0m\u001b[0;34m,\u001b[0m \u001b[0mlabels\u001b[0m\u001b[0;34m)\u001b[0m\u001b[0;34m:\u001b[0m\u001b[0;34m\u001b[0m\u001b[0m\n\u001b[0;32m--> 645\u001b[0;31m         \u001b[0mself\u001b[0m\u001b[0;34m.\u001b[0m\u001b[0m_data\u001b[0m\u001b[0;34m.\u001b[0m\u001b[0mset_axis\u001b[0m\u001b[0;34m(\u001b[0m\u001b[0maxis\u001b[0m\u001b[0;34m,\u001b[0m \u001b[0mlabels\u001b[0m\u001b[0;34m)\u001b[0m\u001b[0;34m\u001b[0m\u001b[0m\n\u001b[0m\u001b[1;32m    646\u001b[0m         \u001b[0mself\u001b[0m\u001b[0;34m.\u001b[0m\u001b[0m_clear_item_cache\u001b[0m\u001b[0;34m(\u001b[0m\u001b[0;34m)\u001b[0m\u001b[0;34m\u001b[0m\u001b[0m\n\u001b[1;32m    647\u001b[0m \u001b[0;34m\u001b[0m\u001b[0m\n",
      "\u001b[0;32m~/anaconda3/envs/fastai/lib/python3.6/site-packages/pandas/core/internals.py\u001b[0m in \u001b[0;36mset_axis\u001b[0;34m(self, axis, new_labels)\u001b[0m\n\u001b[1;32m   3321\u001b[0m             raise ValueError(\n\u001b[1;32m   3322\u001b[0m                 \u001b[0;34m'Length mismatch: Expected axis has {old} elements, new '\u001b[0m\u001b[0;34m\u001b[0m\u001b[0m\n\u001b[0;32m-> 3323\u001b[0;31m                 'values have {new} elements'.format(old=old_len, new=new_len))\n\u001b[0m\u001b[1;32m   3324\u001b[0m \u001b[0;34m\u001b[0m\u001b[0m\n\u001b[1;32m   3325\u001b[0m         \u001b[0mself\u001b[0m\u001b[0;34m.\u001b[0m\u001b[0maxes\u001b[0m\u001b[0;34m[\u001b[0m\u001b[0maxis\u001b[0m\u001b[0;34m]\u001b[0m \u001b[0;34m=\u001b[0m \u001b[0mnew_labels\u001b[0m\u001b[0;34m\u001b[0m\u001b[0m\n",
      "\u001b[0;31mValueError\u001b[0m: Length mismatch: Expected axis has 1 elements, new values have 211 elements"
     ]
    }
   ],
   "source": [
    "test_acc_csv_2(preds1 + preds)"
   ]
  },
  {
   "cell_type": "code",
   "execution_count": null,
   "metadata": {},
   "outputs": [],
   "source": []
  },
  {
   "cell_type": "code",
   "execution_count": null,
   "metadata": {},
   "outputs": [
    {
     "name": "stdout",
     "output_type": "stream",
     "text": [
      "                                              \r"
     ]
    }
   ],
   "source": [
    "test_acc_csv()"
   ]
  },
  {
   "cell_type": "code",
   "execution_count": 23,
   "metadata": {},
   "outputs": [],
   "source": [
    "learn.unfreeze()"
   ]
  },
  {
   "cell_type": "code",
   "execution_count": 24,
   "metadata": {},
   "outputs": [],
   "source": [
    "lr = np.array([0.01, 0.01, 0.01])"
   ]
  },
  {
   "cell_type": "code",
   "execution_count": 25,
   "metadata": {},
   "outputs": [
    {
     "data": {
      "application/vnd.jupyter.widget-view+json": {
       "model_id": "a05f545bb194446b8f31a682756bce37",
       "version_major": 2,
       "version_minor": 0
      },
      "text/plain": [
       "HBox(children=(IntProgress(value=0, description='Epoch', max=15), HTML(value='')))"
      ]
     },
     "metadata": {},
     "output_type": "display_data"
    },
    {
     "name": "stdout",
     "output_type": "stream",
     "text": [
      "epoch      trn_loss   val_loss   accuracy                       \n",
      "    0      3.31369    2.935552   0.310181  \n",
      "    1      2.317197   1.824626   0.539087                       \n",
      "    2      1.948038   1.607657   0.591882                       \n",
      "    3      1.708499   1.420393   0.642158                       \n",
      "    4      1.532411   1.275496   0.677516                       \n",
      "    5      1.352851   1.213705   0.686622                       \n",
      "    6      1.184933   1.143137   0.707062                       \n",
      "    7      1.075267   1.090882   0.716362                       \n",
      "    8      0.87631    1.092895   0.722174                        \n",
      "    9      0.760421   1.070515   0.729149                        \n",
      "    10     0.615178   1.082773   0.731861                        \n",
      "    11     0.468879   1.093931   0.736801                        \n",
      "    12     0.388384   1.096317   0.73467                         \n",
      "    13     0.351454   1.102349   0.734476                        \n",
      "    14     0.336884   1.101341   0.734089                       \n",
      "\n"
     ]
    },
    {
     "data": {
      "text/plain": [
       "[array([1.10134]), 0.734088927591123]"
      ]
     },
     "execution_count": 25,
     "metadata": {},
     "output_type": "execute_result"
    }
   ],
   "source": [
    "learn.fit(lr, 1, cycle_len=15, best_save_name=\"inception_2_high_lr\")"
   ]
  },
  {
   "cell_type": "code",
   "execution_count": null,
   "metadata": {},
   "outputs": [],
   "source": [
    "learn.save(\"resnext101_highlr_15\")"
   ]
  }
 ],
 "metadata": {
  "kernelspec": {
   "display_name": "Python 3",
   "language": "python",
   "name": "python3"
  },
  "language_info": {
   "codemirror_mode": {
    "name": "ipython",
    "version": 3
   },
   "file_extension": ".py",
   "mimetype": "text/x-python",
   "name": "python",
   "nbconvert_exporter": "python",
   "pygments_lexer": "ipython3",
   "version": "3.6.5"
  }
 },
 "nbformat": 4,
 "nbformat_minor": 2
}
