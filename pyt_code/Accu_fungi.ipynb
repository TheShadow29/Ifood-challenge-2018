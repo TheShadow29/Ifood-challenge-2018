{
 "cells": [
  {
   "cell_type": "code",
   "execution_count": 13,
   "metadata": {},
   "outputs": [],
   "source": [
    "import sys\n",
    "sys.path.append(\"/home/paperspace/fastai/\")\n",
    "import matplotlib\n",
    "matplotlib.use('Agg')\n",
    "\n",
    "from tqdm import tqdm\n",
    "tqdm.monitor_interval = 0\n",
    "\n",
    "from fastai.imports import *\n",
    "from fastai.transforms import *\n",
    "from fastai.conv_learner import *\n",
    "from fastai.model import *\n",
    "from fastai.dataset import *\n",
    "from fastai.sgdr import *\n",
    "from fastai.plots import *\n",
    "\n",
    "PATH = \"/home/paperspace/iFood/ifungi_data/fungi_data/\"\n",
    "sz = 299\n",
    "arch = resnext101_64\n",
    "# arch = inception_4\n",
    "# arch = resnet50\n",
    "# arch = resnext50\n",
    "bs = 32\n",
    "\n",
    "torch.cuda.is_available()\n",
    "\n",
    "torch.backends.cudnn.enabled\n",
    "\n",
    "# files = os.listdir(f'{PATH}train_all/')\n",
    "# files.sort()\n",
    "# files[-5:-1]\n",
    "\n",
    "# train_label_csv = f'{PATH}train3_info.csv'\n",
    "# train2_label_csv = f'{PATH}train4_info.csv'\n",
    "# valid_label_csv = f'{PATH}val_info.csv'\n",
    "# test_label_csv = f'{PATH}test_info.csv'\n",
    "\n",
    "# train_label_df = pd.read_csv(train_label_csv, header=None)\n",
    "# valid_label_df = pd.read_csv(valid_label_csv, header=None)\n",
    "# test_label_df = pd.read_csv(test_label_csv, header=None)\n",
    "# train2_label_df = pd.read_csv(train2_label_csv, header=None)\n",
    "\n",
    "# train2_label_df.pivot_table(index=1, aggfunc=len).sort_values(0, ascending=True) # \n",
    "# len(train_label_df)\n",
    "\n",
    "# val_idxs = np.arange(len(train_label_df), len(train2_label_df))\n",
    "test_json_fname = f'{PATH}test.json'\n",
    "val_json_fname = f'{PATH}val.json'\n",
    "\n",
    "def get_data(sz, bs):\n",
    "    # tfms = tfms_from_model(arch, sz, aug_tfms=transforms_top_down, max_zoom=1.1) # -\n",
    "    tfms = tfms_from_model(arch, sz, aug_tfms=transforms_side_on, max_zoom=1.1)\n",
    "    data = ImageClassifierData.from_paths(PATH, tfms=tfms, bs=bs, test_name='test')\n",
    "    # data = ImageClassifierData.from_csv(PATH, 'train_all', f'{PATH}train4_info.csv',\n",
    "    #                                     test_name='test_set', val_idxs=val_idxs,\n",
    "    #                                     tfms=tfms, bs=bs, skip_header=False)\n",
    "    return data\n",
    "\n",
    "\n",
    "data = get_data(sz, bs)\n",
    "\n",
    "learn = ConvLearner.pretrained(arch, data, precompute=False, xtra_fc=[512])\n",
    "\n",
    "# lrf = learn.lr_find()\n",
    "\n",
    "# learn.sched.plot_lr()\n",
    "\n",
    "# learn.sched.plot()\n",
    "\n",
    "\n",
    "# def one_to_one_map(inp_label):\n",
    "#     import json\n",
    "#     big_label_dict = json.load(open(f'{PATH}big_label_dict.json', 'r'))\n",
    "#     return big_label_dict[inp_label]\n",
    "\n",
    "# def accuracytop3(preds, targs):\n",
    "# #     pdb.set_trace()\n",
    "#     preds1 = torch.Tensor(preds)\n",
    "#     targs1 = torch.LongTensor(targs)\n",
    "#     preds_3 = preds1.sort(dim=1, descending=True)[1][:, :3]\n",
    "#     return ((preds_3[:, 0] == targs1) + (preds_3[:, 1] == targs1) +\n",
    "#             (preds_3[:, 2] == targs1)).float().mean()\n",
    "\n",
    "def accuracytop3(preds, targs):\n",
    "    preds_3 = preds.sort(dim=1, descending=True)[1][:, :3]\n",
    "    return ((preds_3[:, 0] == targs) + (preds_3[:, 1] == targs) +\n",
    "            (preds_3[:, 2] == targs)).float().mean()\n",
    "\n",
    "def accuracytop3_np(preds, targs):\n",
    "    preds_3 = np.argsort(preds, axis=1)[:, -3:]\n",
    "    return ((preds_3[:, 0] == targs) + (preds_3[:, 1] == targs) +\n",
    "            (preds_3[:, 2] == targs)).mean()\n",
    "\n",
    "def test_acc_csv():\n",
    "    test_d = json.load(open(test_json_fname, 'r'))\n",
    "    test_l = test_d['images']\n",
    "    log_preds, y = learn.TTA(is_test=True)\n",
    "    probs = np.exp(log_preds)\n",
    "    probs_1 = np.mean(probs, axis=0)\n",
    "    preds = np.argsort(-probs_1, axis=1)[:, :3]\n",
    "    sub_ds = pd.DataFrame(preds)\n",
    "    sub_ds.insert(0, 'id', [o['id'] for o in test_l])\n",
    "    sub_ds_ids = sub_ds['id']\n",
    "    sub = 'id,predicted\\n'\n",
    "    str_format = '{}, {} {} {}\\n'\n",
    "    for i in range(len(sub_ds)):\n",
    "        pred_test_fin = preds[i, :]\n",
    "        sub += str_format.format(sub_ds_ids[i],\n",
    "                                 pred_test_fin[0], pred_test_fin[1], pred_test_fin[2])\n",
    "    with open('sub_fungi1.csv', 'w') as f:\n",
    "        f.write(sub)\n",
    "        \n",
    "def val_acc_csv():\n",
    "    val_d = json.load(open(val_json_fname, 'r'))\n",
    "    val_l = val_d['images']\n",
    "    log_preds, y = learn.TTA(is_test=False)\n",
    "    probs = np.exp(log_preds)\n",
    "    probs_1 = np.mean(probs, axis=0)\n",
    "    preds = np.argsort(-probs_1, axis=1)[:, :3]\n",
    "    sub_ds = pd.DataFrame(preds)\n",
    "    sub_ds.insert(0, 'id', [o['id'] for o in val_l])\n",
    "    sub_ds_ids = sub_ds['id']\n",
    "    sub = 'id,predicted\\n'\n",
    "    str_format = '{}, {} {} {}\\n'\n",
    "    for i in range(len(sub_ds)):\n",
    "        pred_test_fin = preds[i, :]\n",
    "        sub += str_format.format(sub_ds_ids[i],\n",
    "                                 pred_test_fin[0], pred_test_fin[1], pred_test_fin[2])\n",
    "    with open('sub_fungi1_val.csv', 'w') as f:\n",
    "        f.write(sub)\n",
    "\n",
    "\n",
    "# def accuracytop3(preds, targs):\n",
    "#     preds_3 = preds.sort(dim=1, descending=True)[1][:, :3]\n",
    "#     return ((preds_3[:, 0] == targs) + (preds_3[:, 1] == targs) +\n",
    "#             (preds_3[:, 2] == targs)).float().mean()\n",
    "\n",
    "# def test_acc_csv():\n",
    "#     log_preds, y = learn.TTA(is_test=True)\n",
    "#     probs = np.exp(log_preds)\n",
    "\n",
    "#     probs_1 = np.mean(probs, axis=0)\n",
    "#     # probs_1.shape\n",
    "\n",
    "#     sub_ds = pd.DataFrame(probs_1)\n",
    "#     sub_ds.columns = data.classes\n",
    "#     sub_ds.insert(0, 'id', [o[9:] for o in data.test_ds.fnames])\n",
    "\n",
    "#     SUBM = f'{PATH}sub/'\n",
    "#     os.makedirs(SUBM, exist_ok=True)\n",
    "#     sub = 'id,predicted\\n'\n",
    "#     str_format = '{},{} {} {}\\n'\n",
    "#     ds_class_array = np.array(data.classes)\n",
    "#     for i in range(len(sub_ds)):\n",
    "#         r1 = sub_ds.iloc[i]\n",
    "#         r11 = np.array(r1[1:])\n",
    "#         r12 = -r11\n",
    "#         r2 = np.argsort(r12)\n",
    "#         r3 = np.array(data.classes)[r2]\n",
    "#         pred_test_fin = r3[:3]\n",
    "#         sub += str_format.format(data.test_ds.fnames[i][9:],\n",
    "#                                  pred_test_fin[0], pred_test_fin[1], pred_test_fin[2])\n",
    "\n",
    "#     with open('sub_fin1.csv', 'w') as f:\n",
    "#         f.write(sub)\n"
   ]
  },
  {
   "cell_type": "code",
   "execution_count": 14,
   "metadata": {},
   "outputs": [],
   "source": [
    "learn.load('best_rxnet_fu1')"
   ]
  },
  {
   "cell_type": "code",
   "execution_count": 15,
   "metadata": {},
   "outputs": [],
   "source": [
    "learn.freeze()\n",
    "learn.precompute = False"
   ]
  },
  {
   "cell_type": "code",
   "execution_count": 16,
   "metadata": {},
   "outputs": [],
   "source": [
    "learn.save_fc1()"
   ]
  },
  {
   "cell_type": "code",
   "execution_count": 17,
   "metadata": {},
   "outputs": [],
   "source": [
    "learn.precompute=True"
   ]
  },
  {
   "cell_type": "code",
   "execution_count": null,
   "metadata": {},
   "outputs": [],
   "source": [
    "learn.fit(0, 1, cycle_len=1, metrics=[accuracy, accuracytop3])"
   ]
  },
  {
   "cell_type": "code",
   "execution_count": 18,
   "metadata": {},
   "outputs": [
    {
     "name": "stdout",
     "output_type": "stream",
     "text": [
      "                                             \r"
     ]
    }
   ],
   "source": [
    "val_acc_csv()"
   ]
  },
  {
   "cell_type": "code",
   "execution_count": 6,
   "metadata": {},
   "outputs": [
    {
     "name": "stdout",
     "output_type": "stream",
     "text": [
      "                                             \r"
     ]
    }
   ],
   "source": [
    "test_acc_csv()"
   ]
  },
  {
   "cell_type": "code",
   "execution_count": null,
   "metadata": {},
   "outputs": [],
   "source": [
    "test_d = json.load(open(test_json_fname, 'r'))"
   ]
  },
  {
   "cell_type": "code",
   "execution_count": null,
   "metadata": {},
   "outputs": [],
   "source": [
    "test_d['images']"
   ]
  },
  {
   "cell_type": "code",
   "execution_count": null,
   "metadata": {},
   "outputs": [],
   "source": [
    "log_preds, y = learn.TTA()\n",
    "probs = np.exp(log_preds)"
   ]
  },
  {
   "cell_type": "code",
   "execution_count": null,
   "metadata": {},
   "outputs": [],
   "source": [
    "len(probs_1)"
   ]
  },
  {
   "cell_type": "code",
   "execution_count": null,
   "metadata": {},
   "outputs": [],
   "source": [
    "probs_1 = np.mean(probs, axis=0)\n"
   ]
  },
  {
   "cell_type": "code",
   "execution_count": null,
   "metadata": {},
   "outputs": [],
   "source": [
    "probs_1"
   ]
  },
  {
   "cell_type": "code",
   "execution_count": null,
   "metadata": {},
   "outputs": [],
   "source": [
    "preds = np.argsort(-probs_1, axis=1)"
   ]
  },
  {
   "cell_type": "code",
   "execution_count": null,
   "metadata": {},
   "outputs": [],
   "source": [
    "preds1 = preds[:, :3]"
   ]
  },
  {
   "cell_type": "code",
   "execution_count": null,
   "metadata": {},
   "outputs": [],
   "source": []
  },
  {
   "cell_type": "code",
   "execution_count": null,
   "metadata": {},
   "outputs": [],
   "source": [
    "import json"
   ]
  },
  {
   "cell_type": "code",
   "execution_count": null,
   "metadata": {},
   "outputs": [],
   "source": [
    "!ls '{PATH}'"
   ]
  },
  {
   "cell_type": "code",
   "execution_count": null,
   "metadata": {},
   "outputs": [],
   "source": [
    "valid_fname = \"/home/paperspace/iFood/ifungi_data/val.json\""
   ]
  },
  {
   "cell_type": "code",
   "execution_count": null,
   "metadata": {},
   "outputs": [],
   "source": [
    "val_d = json.load(open(valid_fname, 'r'))"
   ]
  },
  {
   "cell_type": "code",
   "execution_count": null,
   "metadata": {},
   "outputs": [],
   "source": [
    "val_l = val_d['images']"
   ]
  },
  {
   "cell_type": "code",
   "execution_count": null,
   "metadata": {},
   "outputs": [],
   "source": [
    "val_d['annotations'][0]"
   ]
  },
  {
   "cell_type": "code",
   "execution_count": null,
   "metadata": {},
   "outputs": [],
   "source": [
    "val_l[0]"
   ]
  },
  {
   "cell_type": "code",
   "execution_count": null,
   "metadata": {},
   "outputs": [],
   "source": [
    "accuracytop3_np(probs_1, y)"
   ]
  },
  {
   "cell_type": "code",
   "execution_count": null,
   "metadata": {},
   "outputs": [],
   "source": [
    "ds = pd.DataFrame(probs_1)"
   ]
  },
  {
   "cell_type": "code",
   "execution_count": null,
   "metadata": {},
   "outputs": [],
   "source": [
    "ds.columns = data.classes"
   ]
  },
  {
   "cell_type": "code",
   "execution_count": null,
   "metadata": {},
   "outputs": [],
   "source": [
    "d"
   ]
  },
  {
   "cell_type": "code",
   "execution_count": null,
   "metadata": {},
   "outputs": [],
   "source": [
    "data.val_ds.fnames"
   ]
  },
  {
   "cell_type": "code",
   "execution_count": null,
   "metadata": {},
   "outputs": [],
   "source": [
    "ds.insert(0, 'id', [o['id'] for o in val_l])"
   ]
  },
  {
   "cell_type": "code",
   "execution_count": null,
   "metadata": {},
   "outputs": [],
   "source": [
    "ds"
   ]
  },
  {
   "cell_type": "code",
   "execution_count": null,
   "metadata": {
    "scrolled": true
   },
   "outputs": [],
   "source": [
    "ds.columns[0]"
   ]
  },
  {
   "cell_type": "code",
   "execution_count": null,
   "metadata": {},
   "outputs": [],
   "source": [
    "cat_dict = {}\n",
    "for v in val_d['categories']:\n",
    "    cat_dict[v['name']] = v['id']"
   ]
  },
  {
   "cell_type": "code",
   "execution_count": null,
   "metadata": {},
   "outputs": [],
   "source": [
    "cat_dict['Achroomyces disciformis']"
   ]
  },
  {
   "cell_type": "code",
   "execution_count": null,
   "metadata": {},
   "outputs": [],
   "source": [
    "sorted(cat_dict.keys())"
   ]
  },
  {
   "cell_type": "code",
   "execution_count": null,
   "metadata": {},
   "outputs": [],
   "source": [
    "val_d = json.load(open(valid_fname, 'r'))\n",
    "log_preds, y = learn.TTA()\n",
    "probs = np.exp(log_preds)\n",
    "probs_1 = np.mean(probs, axis=0)\n",
    "preds = np.argsort(-probs_1, axis=1)[:, :3]\n",
    "sub_ds = pd.DataFrame(preds)\n",
    "sub_ds.insert(0, 'id', [o['id'] for o in val_l])\n",
    "sub_ds_ids = sub_ds['id']\n",
    "sub = 'id,predicted\\n'\n",
    "str_format = '{}, {} {} {}\\n'\n",
    "for i in range(len(sub_ds)):\n",
    "    pred_test_fin = preds[i, :]\n",
    "    sub += str_format.format(sub_ds_ids[i],\n",
    "                             pred_test_fin[0], pred_test_fin[1], pred_test_fin[2])"
   ]
  },
  {
   "cell_type": "code",
   "execution_count": null,
   "metadata": {},
   "outputs": [],
   "source": [
    "sub"
   ]
  },
  {
   "cell_type": "code",
   "execution_count": null,
   "metadata": {},
   "outputs": [],
   "source": [
    "ds['id']"
   ]
  },
  {
   "cell_type": "code",
   "execution_count": null,
   "metadata": {},
   "outputs": [],
   "source": [
    "probs.mean(axis=0)"
   ]
  }
 ],
 "metadata": {
  "kernelspec": {
   "display_name": "Python 3",
   "language": "python",
   "name": "python3"
  },
  "language_info": {
   "codemirror_mode": {
    "name": "ipython",
    "version": 3
   },
   "file_extension": ".py",
   "mimetype": "text/x-python",
   "name": "python",
   "nbconvert_exporter": "python",
   "pygments_lexer": "ipython3",
   "version": "3.6.5"
  }
 },
 "nbformat": 4,
 "nbformat_minor": 2
}
