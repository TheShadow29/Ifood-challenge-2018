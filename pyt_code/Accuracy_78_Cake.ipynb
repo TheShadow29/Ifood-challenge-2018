{
 "cells": [
  {
   "cell_type": "code",
   "execution_count": 60,
   "metadata": {},
   "outputs": [
    {
     "data": {
      "text/plain": [
       "3213"
      ]
     },
     "execution_count": 60,
     "metadata": {},
     "output_type": "execute_result"
    }
   ],
   "source": [
    "# #Code for scraping labels corresponding to the clean labels\n",
    "# #Placed on top for easier readability\n",
    "\n",
    "# ##Extracting file names from clean data folder in 'sorted' manner\n",
    "# #Replace 'directory-path-to-clean-data-folder' below\n",
    "import os\n",
    "# clean_data = []\n",
    "len(os.listdir(\"/home/paperspace/iFood/INat-challenge-18/data/cake_data/\"))\n",
    "#     if file.endswith(\".jpg\"):\n",
    "#         clean_data.append(file)\n",
    "# clean_data.sort()\n",
    "\n",
    "# #Extracting corresponding labels from labels file and making new file\n",
    "# import pandas as pd\n",
    "# #Replace 'path-to-train_info.csv' below\n",
    "# data = 'path-to-train_info.csv'\n",
    "# df = pd.read_csv(data, header=None)\n",
    "\n",
    "# df.set_index(0, inplace=True)\n",
    "# df.head()\n",
    "# clean_train_info = df.loc[clean_data]\n",
    "# clean_train_info.reset_index()\n",
    "# clean_train_info.head()\n",
    "\n",
    "# #Save the clean_train_info\n",
    "# #Check this syntax once!!\n",
    "# clean_train_info.to_csv(\"DestFile\")"
   ]
  },
  {
   "cell_type": "code",
   "execution_count": 61,
   "metadata": {
    "scrolled": true
   },
   "outputs": [],
   "source": [
    "import pandas as pd\n",
    "import numpy as np\n",
    "\n",
    "data = '../data/train4_info.csv'\n",
    "df = pd.read_csv(data, header=None)\n",
    "\n",
    "l1 = [5, 31, 68, 115, 119, 162, 172]\n",
    "cake_data = []\n",
    "for i in range(len(df)):\n",
    "    row = df.iloc[i]\n",
    "    if row[1] in l1:\n",
    "        r_1 = l1.index(row[1])\n",
    "        cake_data.append([row[0], r_1])\n",
    "\n",
    "        "
   ]
  },
  {
   "cell_type": "code",
   "execution_count": 82,
   "metadata": {
    "scrolled": true
   },
   "outputs": [
    {
     "data": {
      "text/html": [
       "<div>\n",
       "<style scoped>\n",
       "    .dataframe tbody tr th:only-of-type {\n",
       "        vertical-align: middle;\n",
       "    }\n",
       "\n",
       "    .dataframe tbody tr th {\n",
       "        vertical-align: top;\n",
       "    }\n",
       "\n",
       "    .dataframe thead th {\n",
       "        text-align: right;\n",
       "    }\n",
       "</style>\n",
       "<table border=\"1\" class=\"dataframe\">\n",
       "  <thead>\n",
       "    <tr style=\"text-align: right;\">\n",
       "      <th></th>\n",
       "      <th>0</th>\n",
       "      <th>1</th>\n",
       "    </tr>\n",
       "  </thead>\n",
       "  <tbody>\n",
       "    <tr>\n",
       "      <th>0</th>\n",
       "      <td>train_000000.jpg</td>\n",
       "      <td>94</td>\n",
       "    </tr>\n",
       "    <tr>\n",
       "      <th>1</th>\n",
       "      <td>train_000001.jpg</td>\n",
       "      <td>94</td>\n",
       "    </tr>\n",
       "    <tr>\n",
       "      <th>2</th>\n",
       "      <td>train_000002.jpg</td>\n",
       "      <td>94</td>\n",
       "    </tr>\n",
       "    <tr>\n",
       "      <th>3</th>\n",
       "      <td>train_000003.jpg</td>\n",
       "      <td>94</td>\n",
       "    </tr>\n",
       "    <tr>\n",
       "      <th>4</th>\n",
       "      <td>train_000004.jpg</td>\n",
       "      <td>94</td>\n",
       "    </tr>\n",
       "    <tr>\n",
       "      <th>5</th>\n",
       "      <td>train_000005.jpg</td>\n",
       "      <td>94</td>\n",
       "    </tr>\n",
       "    <tr>\n",
       "      <th>6</th>\n",
       "      <td>train_000006.jpg</td>\n",
       "      <td>94</td>\n",
       "    </tr>\n",
       "    <tr>\n",
       "      <th>7</th>\n",
       "      <td>train_000007.jpg</td>\n",
       "      <td>94</td>\n",
       "    </tr>\n",
       "    <tr>\n",
       "      <th>8</th>\n",
       "      <td>train_000008.jpg</td>\n",
       "      <td>94</td>\n",
       "    </tr>\n",
       "    <tr>\n",
       "      <th>9</th>\n",
       "      <td>train_000009.jpg</td>\n",
       "      <td>94</td>\n",
       "    </tr>\n",
       "    <tr>\n",
       "      <th>10</th>\n",
       "      <td>train_000010.jpg</td>\n",
       "      <td>94</td>\n",
       "    </tr>\n",
       "    <tr>\n",
       "      <th>11</th>\n",
       "      <td>train_000011.jpg</td>\n",
       "      <td>94</td>\n",
       "    </tr>\n",
       "    <tr>\n",
       "      <th>12</th>\n",
       "      <td>train_000012.jpg</td>\n",
       "      <td>94</td>\n",
       "    </tr>\n",
       "    <tr>\n",
       "      <th>13</th>\n",
       "      <td>train_000013.jpg</td>\n",
       "      <td>94</td>\n",
       "    </tr>\n",
       "    <tr>\n",
       "      <th>14</th>\n",
       "      <td>train_000014.jpg</td>\n",
       "      <td>94</td>\n",
       "    </tr>\n",
       "    <tr>\n",
       "      <th>15</th>\n",
       "      <td>train_000015.jpg</td>\n",
       "      <td>94</td>\n",
       "    </tr>\n",
       "    <tr>\n",
       "      <th>16</th>\n",
       "      <td>train_000016.jpg</td>\n",
       "      <td>94</td>\n",
       "    </tr>\n",
       "    <tr>\n",
       "      <th>17</th>\n",
       "      <td>train_000017.jpg</td>\n",
       "      <td>94</td>\n",
       "    </tr>\n",
       "    <tr>\n",
       "      <th>18</th>\n",
       "      <td>train_000018.jpg</td>\n",
       "      <td>94</td>\n",
       "    </tr>\n",
       "    <tr>\n",
       "      <th>19</th>\n",
       "      <td>train_000019.jpg</td>\n",
       "      <td>94</td>\n",
       "    </tr>\n",
       "    <tr>\n",
       "      <th>20</th>\n",
       "      <td>train_000020.jpg</td>\n",
       "      <td>94</td>\n",
       "    </tr>\n",
       "    <tr>\n",
       "      <th>21</th>\n",
       "      <td>train_000021.jpg</td>\n",
       "      <td>94</td>\n",
       "    </tr>\n",
       "    <tr>\n",
       "      <th>22</th>\n",
       "      <td>train_000022.jpg</td>\n",
       "      <td>94</td>\n",
       "    </tr>\n",
       "    <tr>\n",
       "      <th>23</th>\n",
       "      <td>train_000023.jpg</td>\n",
       "      <td>94</td>\n",
       "    </tr>\n",
       "    <tr>\n",
       "      <th>24</th>\n",
       "      <td>train_000024.jpg</td>\n",
       "      <td>94</td>\n",
       "    </tr>\n",
       "    <tr>\n",
       "      <th>25</th>\n",
       "      <td>train_000025.jpg</td>\n",
       "      <td>94</td>\n",
       "    </tr>\n",
       "    <tr>\n",
       "      <th>26</th>\n",
       "      <td>train_000026.jpg</td>\n",
       "      <td>94</td>\n",
       "    </tr>\n",
       "    <tr>\n",
       "      <th>27</th>\n",
       "      <td>train_000027.jpg</td>\n",
       "      <td>94</td>\n",
       "    </tr>\n",
       "    <tr>\n",
       "      <th>28</th>\n",
       "      <td>train_000028.jpg</td>\n",
       "      <td>94</td>\n",
       "    </tr>\n",
       "    <tr>\n",
       "      <th>29</th>\n",
       "      <td>train_000029.jpg</td>\n",
       "      <td>94</td>\n",
       "    </tr>\n",
       "    <tr>\n",
       "      <th>...</th>\n",
       "      <td>...</td>\n",
       "      <td>...</td>\n",
       "    </tr>\n",
       "    <tr>\n",
       "      <th>100334</th>\n",
       "      <td>val_010293.jpg</td>\n",
       "      <td>135</td>\n",
       "    </tr>\n",
       "    <tr>\n",
       "      <th>100335</th>\n",
       "      <td>val_010294.jpg</td>\n",
       "      <td>38</td>\n",
       "    </tr>\n",
       "    <tr>\n",
       "      <th>100336</th>\n",
       "      <td>val_010295.jpg</td>\n",
       "      <td>178</td>\n",
       "    </tr>\n",
       "    <tr>\n",
       "      <th>100337</th>\n",
       "      <td>val_010296.jpg</td>\n",
       "      <td>33</td>\n",
       "    </tr>\n",
       "    <tr>\n",
       "      <th>100338</th>\n",
       "      <td>val_010297.jpg</td>\n",
       "      <td>157</td>\n",
       "    </tr>\n",
       "    <tr>\n",
       "      <th>100339</th>\n",
       "      <td>val_010298.jpg</td>\n",
       "      <td>178</td>\n",
       "    </tr>\n",
       "    <tr>\n",
       "      <th>100340</th>\n",
       "      <td>val_010299.jpg</td>\n",
       "      <td>50</td>\n",
       "    </tr>\n",
       "    <tr>\n",
       "      <th>100341</th>\n",
       "      <td>val_010300.jpg</td>\n",
       "      <td>163</td>\n",
       "    </tr>\n",
       "    <tr>\n",
       "      <th>100342</th>\n",
       "      <td>val_010301.jpg</td>\n",
       "      <td>27</td>\n",
       "    </tr>\n",
       "    <tr>\n",
       "      <th>100343</th>\n",
       "      <td>val_010302.jpg</td>\n",
       "      <td>120</td>\n",
       "    </tr>\n",
       "    <tr>\n",
       "      <th>100344</th>\n",
       "      <td>val_010303.jpg</td>\n",
       "      <td>100</td>\n",
       "    </tr>\n",
       "    <tr>\n",
       "      <th>100345</th>\n",
       "      <td>val_010304.jpg</td>\n",
       "      <td>109</td>\n",
       "    </tr>\n",
       "    <tr>\n",
       "      <th>100346</th>\n",
       "      <td>val_010305.jpg</td>\n",
       "      <td>59</td>\n",
       "    </tr>\n",
       "    <tr>\n",
       "      <th>100347</th>\n",
       "      <td>val_010306.jpg</td>\n",
       "      <td>175</td>\n",
       "    </tr>\n",
       "    <tr>\n",
       "      <th>100348</th>\n",
       "      <td>val_010307.jpg</td>\n",
       "      <td>139</td>\n",
       "    </tr>\n",
       "    <tr>\n",
       "      <th>100349</th>\n",
       "      <td>val_010308.jpg</td>\n",
       "      <td>149</td>\n",
       "    </tr>\n",
       "    <tr>\n",
       "      <th>100350</th>\n",
       "      <td>val_010309.jpg</td>\n",
       "      <td>203</td>\n",
       "    </tr>\n",
       "    <tr>\n",
       "      <th>100351</th>\n",
       "      <td>val_010310.jpg</td>\n",
       "      <td>196</td>\n",
       "    </tr>\n",
       "    <tr>\n",
       "      <th>100352</th>\n",
       "      <td>val_010311.jpg</td>\n",
       "      <td>112</td>\n",
       "    </tr>\n",
       "    <tr>\n",
       "      <th>100353</th>\n",
       "      <td>val_010312.jpg</td>\n",
       "      <td>92</td>\n",
       "    </tr>\n",
       "    <tr>\n",
       "      <th>100354</th>\n",
       "      <td>val_010313.jpg</td>\n",
       "      <td>118</td>\n",
       "    </tr>\n",
       "    <tr>\n",
       "      <th>100355</th>\n",
       "      <td>val_010314.jpg</td>\n",
       "      <td>82</td>\n",
       "    </tr>\n",
       "    <tr>\n",
       "      <th>100356</th>\n",
       "      <td>val_010315.jpg</td>\n",
       "      <td>149</td>\n",
       "    </tr>\n",
       "    <tr>\n",
       "      <th>100357</th>\n",
       "      <td>val_010316.jpg</td>\n",
       "      <td>115</td>\n",
       "    </tr>\n",
       "    <tr>\n",
       "      <th>100358</th>\n",
       "      <td>val_010317.jpg</td>\n",
       "      <td>13</td>\n",
       "    </tr>\n",
       "    <tr>\n",
       "      <th>100359</th>\n",
       "      <td>val_010318.jpg</td>\n",
       "      <td>172</td>\n",
       "    </tr>\n",
       "    <tr>\n",
       "      <th>100360</th>\n",
       "      <td>val_010319.jpg</td>\n",
       "      <td>72</td>\n",
       "    </tr>\n",
       "    <tr>\n",
       "      <th>100361</th>\n",
       "      <td>val_010320.jpg</td>\n",
       "      <td>124</td>\n",
       "    </tr>\n",
       "    <tr>\n",
       "      <th>100362</th>\n",
       "      <td>val_010321.jpg</td>\n",
       "      <td>109</td>\n",
       "    </tr>\n",
       "    <tr>\n",
       "      <th>100363</th>\n",
       "      <td>val_010322.jpg</td>\n",
       "      <td>168</td>\n",
       "    </tr>\n",
       "  </tbody>\n",
       "</table>\n",
       "<p>100364 rows × 2 columns</p>\n",
       "</div>"
      ],
      "text/plain": [
       "                       0    1\n",
       "0       train_000000.jpg   94\n",
       "1       train_000001.jpg   94\n",
       "2       train_000002.jpg   94\n",
       "3       train_000003.jpg   94\n",
       "4       train_000004.jpg   94\n",
       "5       train_000005.jpg   94\n",
       "6       train_000006.jpg   94\n",
       "7       train_000007.jpg   94\n",
       "8       train_000008.jpg   94\n",
       "9       train_000009.jpg   94\n",
       "10      train_000010.jpg   94\n",
       "11      train_000011.jpg   94\n",
       "12      train_000012.jpg   94\n",
       "13      train_000013.jpg   94\n",
       "14      train_000014.jpg   94\n",
       "15      train_000015.jpg   94\n",
       "16      train_000016.jpg   94\n",
       "17      train_000017.jpg   94\n",
       "18      train_000018.jpg   94\n",
       "19      train_000019.jpg   94\n",
       "20      train_000020.jpg   94\n",
       "21      train_000021.jpg   94\n",
       "22      train_000022.jpg   94\n",
       "23      train_000023.jpg   94\n",
       "24      train_000024.jpg   94\n",
       "25      train_000025.jpg   94\n",
       "26      train_000026.jpg   94\n",
       "27      train_000027.jpg   94\n",
       "28      train_000028.jpg   94\n",
       "29      train_000029.jpg   94\n",
       "...                  ...  ...\n",
       "100334    val_010293.jpg  135\n",
       "100335    val_010294.jpg   38\n",
       "100336    val_010295.jpg  178\n",
       "100337    val_010296.jpg   33\n",
       "100338    val_010297.jpg  157\n",
       "100339    val_010298.jpg  178\n",
       "100340    val_010299.jpg   50\n",
       "100341    val_010300.jpg  163\n",
       "100342    val_010301.jpg   27\n",
       "100343    val_010302.jpg  120\n",
       "100344    val_010303.jpg  100\n",
       "100345    val_010304.jpg  109\n",
       "100346    val_010305.jpg   59\n",
       "100347    val_010306.jpg  175\n",
       "100348    val_010307.jpg  139\n",
       "100349    val_010308.jpg  149\n",
       "100350    val_010309.jpg  203\n",
       "100351    val_010310.jpg  196\n",
       "100352    val_010311.jpg  112\n",
       "100353    val_010312.jpg   92\n",
       "100354    val_010313.jpg  118\n",
       "100355    val_010314.jpg   82\n",
       "100356    val_010315.jpg  149\n",
       "100357    val_010316.jpg  115\n",
       "100358    val_010317.jpg   13\n",
       "100359    val_010318.jpg  172\n",
       "100360    val_010319.jpg   72\n",
       "100361    val_010320.jpg  124\n",
       "100362    val_010321.jpg  109\n",
       "100363    val_010322.jpg  168\n",
       "\n",
       "[100364 rows x 2 columns]"
      ]
     },
     "execution_count": 82,
     "metadata": {},
     "output_type": "execute_result"
    }
   ],
   "source": [
    "df"
   ]
  },
  {
   "cell_type": "code",
   "execution_count": 62,
   "metadata": {},
   "outputs": [
    {
     "name": "stdout",
     "output_type": "stream",
     "text": [
      "2829\n"
     ]
    },
    {
     "data": {
      "text/plain": [
       "3213"
      ]
     },
     "execution_count": 62,
     "metadata": {},
     "output_type": "execute_result"
    }
   ],
   "source": [
    "cake_data_pd = pd.DataFrame(cake_data)\n",
    "for ind, i in enumerate(cake_data):\n",
    "    if 'val' in i[0]:\n",
    "        print(ind)\n",
    "        break\n",
    "cake_data_pd.tail()\n",
    "len(cake_data)"
   ]
  },
  {
   "cell_type": "code",
   "execution_count": 83,
   "metadata": {
    "scrolled": true
   },
   "outputs": [
    {
     "data": {
      "text/html": [
       "<div>\n",
       "<style scoped>\n",
       "    .dataframe tbody tr th:only-of-type {\n",
       "        vertical-align: middle;\n",
       "    }\n",
       "\n",
       "    .dataframe tbody tr th {\n",
       "        vertical-align: top;\n",
       "    }\n",
       "\n",
       "    .dataframe thead th {\n",
       "        text-align: right;\n",
       "    }\n",
       "</style>\n",
       "<table border=\"1\" class=\"dataframe\">\n",
       "  <thead>\n",
       "    <tr style=\"text-align: right;\">\n",
       "      <th></th>\n",
       "      <th>0</th>\n",
       "      <th>1</th>\n",
       "    </tr>\n",
       "  </thead>\n",
       "  <tbody>\n",
       "    <tr>\n",
       "      <th>0</th>\n",
       "      <td>train_011609.jpg</td>\n",
       "      <td>1</td>\n",
       "    </tr>\n",
       "    <tr>\n",
       "      <th>1</th>\n",
       "      <td>train_011611.jpg</td>\n",
       "      <td>1</td>\n",
       "    </tr>\n",
       "    <tr>\n",
       "      <th>2</th>\n",
       "      <td>train_011612.jpg</td>\n",
       "      <td>1</td>\n",
       "    </tr>\n",
       "    <tr>\n",
       "      <th>3</th>\n",
       "      <td>train_011613.jpg</td>\n",
       "      <td>1</td>\n",
       "    </tr>\n",
       "    <tr>\n",
       "      <th>4</th>\n",
       "      <td>train_011614.jpg</td>\n",
       "      <td>1</td>\n",
       "    </tr>\n",
       "    <tr>\n",
       "      <th>5</th>\n",
       "      <td>train_011615.jpg</td>\n",
       "      <td>1</td>\n",
       "    </tr>\n",
       "    <tr>\n",
       "      <th>6</th>\n",
       "      <td>train_011616.jpg</td>\n",
       "      <td>1</td>\n",
       "    </tr>\n",
       "    <tr>\n",
       "      <th>7</th>\n",
       "      <td>train_011617.jpg</td>\n",
       "      <td>1</td>\n",
       "    </tr>\n",
       "    <tr>\n",
       "      <th>8</th>\n",
       "      <td>train_011620.jpg</td>\n",
       "      <td>1</td>\n",
       "    </tr>\n",
       "    <tr>\n",
       "      <th>9</th>\n",
       "      <td>train_011621.jpg</td>\n",
       "      <td>1</td>\n",
       "    </tr>\n",
       "    <tr>\n",
       "      <th>10</th>\n",
       "      <td>train_011622.jpg</td>\n",
       "      <td>1</td>\n",
       "    </tr>\n",
       "    <tr>\n",
       "      <th>11</th>\n",
       "      <td>train_011623.jpg</td>\n",
       "      <td>1</td>\n",
       "    </tr>\n",
       "    <tr>\n",
       "      <th>12</th>\n",
       "      <td>train_011625.jpg</td>\n",
       "      <td>1</td>\n",
       "    </tr>\n",
       "    <tr>\n",
       "      <th>13</th>\n",
       "      <td>train_011626.jpg</td>\n",
       "      <td>1</td>\n",
       "    </tr>\n",
       "    <tr>\n",
       "      <th>14</th>\n",
       "      <td>train_011627.jpg</td>\n",
       "      <td>1</td>\n",
       "    </tr>\n",
       "    <tr>\n",
       "      <th>15</th>\n",
       "      <td>train_011628.jpg</td>\n",
       "      <td>1</td>\n",
       "    </tr>\n",
       "    <tr>\n",
       "      <th>16</th>\n",
       "      <td>train_011629.jpg</td>\n",
       "      <td>1</td>\n",
       "    </tr>\n",
       "    <tr>\n",
       "      <th>17</th>\n",
       "      <td>train_011630.jpg</td>\n",
       "      <td>1</td>\n",
       "    </tr>\n",
       "    <tr>\n",
       "      <th>18</th>\n",
       "      <td>train_011631.jpg</td>\n",
       "      <td>1</td>\n",
       "    </tr>\n",
       "    <tr>\n",
       "      <th>19</th>\n",
       "      <td>train_011632.jpg</td>\n",
       "      <td>1</td>\n",
       "    </tr>\n",
       "    <tr>\n",
       "      <th>20</th>\n",
       "      <td>train_011633.jpg</td>\n",
       "      <td>1</td>\n",
       "    </tr>\n",
       "    <tr>\n",
       "      <th>21</th>\n",
       "      <td>train_011634.jpg</td>\n",
       "      <td>1</td>\n",
       "    </tr>\n",
       "    <tr>\n",
       "      <th>22</th>\n",
       "      <td>train_011635.jpg</td>\n",
       "      <td>1</td>\n",
       "    </tr>\n",
       "    <tr>\n",
       "      <th>23</th>\n",
       "      <td>train_011636.jpg</td>\n",
       "      <td>1</td>\n",
       "    </tr>\n",
       "    <tr>\n",
       "      <th>24</th>\n",
       "      <td>train_011637.jpg</td>\n",
       "      <td>1</td>\n",
       "    </tr>\n",
       "    <tr>\n",
       "      <th>25</th>\n",
       "      <td>train_011638.jpg</td>\n",
       "      <td>1</td>\n",
       "    </tr>\n",
       "    <tr>\n",
       "      <th>26</th>\n",
       "      <td>train_011639.jpg</td>\n",
       "      <td>1</td>\n",
       "    </tr>\n",
       "    <tr>\n",
       "      <th>27</th>\n",
       "      <td>train_011640.jpg</td>\n",
       "      <td>1</td>\n",
       "    </tr>\n",
       "    <tr>\n",
       "      <th>28</th>\n",
       "      <td>train_011641.jpg</td>\n",
       "      <td>1</td>\n",
       "    </tr>\n",
       "    <tr>\n",
       "      <th>29</th>\n",
       "      <td>train_011642.jpg</td>\n",
       "      <td>1</td>\n",
       "    </tr>\n",
       "    <tr>\n",
       "      <th>...</th>\n",
       "      <td>...</td>\n",
       "      <td>...</td>\n",
       "    </tr>\n",
       "    <tr>\n",
       "      <th>3183</th>\n",
       "      <td>val_009478.jpg</td>\n",
       "      <td>3</td>\n",
       "    </tr>\n",
       "    <tr>\n",
       "      <th>3184</th>\n",
       "      <td>val_009494.jpg</td>\n",
       "      <td>3</td>\n",
       "    </tr>\n",
       "    <tr>\n",
       "      <th>3185</th>\n",
       "      <td>val_009559.jpg</td>\n",
       "      <td>5</td>\n",
       "    </tr>\n",
       "    <tr>\n",
       "      <th>3186</th>\n",
       "      <td>val_009563.jpg</td>\n",
       "      <td>2</td>\n",
       "    </tr>\n",
       "    <tr>\n",
       "      <th>3187</th>\n",
       "      <td>val_009592.jpg</td>\n",
       "      <td>4</td>\n",
       "    </tr>\n",
       "    <tr>\n",
       "      <th>3188</th>\n",
       "      <td>val_009612.jpg</td>\n",
       "      <td>6</td>\n",
       "    </tr>\n",
       "    <tr>\n",
       "      <th>3189</th>\n",
       "      <td>val_009695.jpg</td>\n",
       "      <td>4</td>\n",
       "    </tr>\n",
       "    <tr>\n",
       "      <th>3190</th>\n",
       "      <td>val_009756.jpg</td>\n",
       "      <td>3</td>\n",
       "    </tr>\n",
       "    <tr>\n",
       "      <th>3191</th>\n",
       "      <td>val_009762.jpg</td>\n",
       "      <td>3</td>\n",
       "    </tr>\n",
       "    <tr>\n",
       "      <th>3192</th>\n",
       "      <td>val_009798.jpg</td>\n",
       "      <td>3</td>\n",
       "    </tr>\n",
       "    <tr>\n",
       "      <th>3193</th>\n",
       "      <td>val_009804.jpg</td>\n",
       "      <td>6</td>\n",
       "    </tr>\n",
       "    <tr>\n",
       "      <th>3194</th>\n",
       "      <td>val_009835.jpg</td>\n",
       "      <td>4</td>\n",
       "    </tr>\n",
       "    <tr>\n",
       "      <th>3195</th>\n",
       "      <td>val_009845.jpg</td>\n",
       "      <td>6</td>\n",
       "    </tr>\n",
       "    <tr>\n",
       "      <th>3196</th>\n",
       "      <td>val_009848.jpg</td>\n",
       "      <td>1</td>\n",
       "    </tr>\n",
       "    <tr>\n",
       "      <th>3197</th>\n",
       "      <td>val_009864.jpg</td>\n",
       "      <td>5</td>\n",
       "    </tr>\n",
       "    <tr>\n",
       "      <th>3198</th>\n",
       "      <td>val_009897.jpg</td>\n",
       "      <td>2</td>\n",
       "    </tr>\n",
       "    <tr>\n",
       "      <th>3199</th>\n",
       "      <td>val_009945.jpg</td>\n",
       "      <td>4</td>\n",
       "    </tr>\n",
       "    <tr>\n",
       "      <th>3200</th>\n",
       "      <td>val_009995.jpg</td>\n",
       "      <td>0</td>\n",
       "    </tr>\n",
       "    <tr>\n",
       "      <th>3201</th>\n",
       "      <td>val_010014.jpg</td>\n",
       "      <td>1</td>\n",
       "    </tr>\n",
       "    <tr>\n",
       "      <th>3202</th>\n",
       "      <td>val_010020.jpg</td>\n",
       "      <td>1</td>\n",
       "    </tr>\n",
       "    <tr>\n",
       "      <th>3203</th>\n",
       "      <td>val_010038.jpg</td>\n",
       "      <td>6</td>\n",
       "    </tr>\n",
       "    <tr>\n",
       "      <th>3204</th>\n",
       "      <td>val_010077.jpg</td>\n",
       "      <td>4</td>\n",
       "    </tr>\n",
       "    <tr>\n",
       "      <th>3205</th>\n",
       "      <td>val_010080.jpg</td>\n",
       "      <td>6</td>\n",
       "    </tr>\n",
       "    <tr>\n",
       "      <th>3206</th>\n",
       "      <td>val_010097.jpg</td>\n",
       "      <td>5</td>\n",
       "    </tr>\n",
       "    <tr>\n",
       "      <th>3207</th>\n",
       "      <td>val_010127.jpg</td>\n",
       "      <td>5</td>\n",
       "    </tr>\n",
       "    <tr>\n",
       "      <th>3208</th>\n",
       "      <td>val_010203.jpg</td>\n",
       "      <td>0</td>\n",
       "    </tr>\n",
       "    <tr>\n",
       "      <th>3209</th>\n",
       "      <td>val_010208.jpg</td>\n",
       "      <td>4</td>\n",
       "    </tr>\n",
       "    <tr>\n",
       "      <th>3210</th>\n",
       "      <td>val_010292.jpg</td>\n",
       "      <td>0</td>\n",
       "    </tr>\n",
       "    <tr>\n",
       "      <th>3211</th>\n",
       "      <td>val_010316.jpg</td>\n",
       "      <td>3</td>\n",
       "    </tr>\n",
       "    <tr>\n",
       "      <th>3212</th>\n",
       "      <td>val_010318.jpg</td>\n",
       "      <td>6</td>\n",
       "    </tr>\n",
       "  </tbody>\n",
       "</table>\n",
       "<p>3213 rows × 2 columns</p>\n",
       "</div>"
      ],
      "text/plain": [
       "                     0  1\n",
       "0     train_011609.jpg  1\n",
       "1     train_011611.jpg  1\n",
       "2     train_011612.jpg  1\n",
       "3     train_011613.jpg  1\n",
       "4     train_011614.jpg  1\n",
       "5     train_011615.jpg  1\n",
       "6     train_011616.jpg  1\n",
       "7     train_011617.jpg  1\n",
       "8     train_011620.jpg  1\n",
       "9     train_011621.jpg  1\n",
       "10    train_011622.jpg  1\n",
       "11    train_011623.jpg  1\n",
       "12    train_011625.jpg  1\n",
       "13    train_011626.jpg  1\n",
       "14    train_011627.jpg  1\n",
       "15    train_011628.jpg  1\n",
       "16    train_011629.jpg  1\n",
       "17    train_011630.jpg  1\n",
       "18    train_011631.jpg  1\n",
       "19    train_011632.jpg  1\n",
       "20    train_011633.jpg  1\n",
       "21    train_011634.jpg  1\n",
       "22    train_011635.jpg  1\n",
       "23    train_011636.jpg  1\n",
       "24    train_011637.jpg  1\n",
       "25    train_011638.jpg  1\n",
       "26    train_011639.jpg  1\n",
       "27    train_011640.jpg  1\n",
       "28    train_011641.jpg  1\n",
       "29    train_011642.jpg  1\n",
       "...                ... ..\n",
       "3183    val_009478.jpg  3\n",
       "3184    val_009494.jpg  3\n",
       "3185    val_009559.jpg  5\n",
       "3186    val_009563.jpg  2\n",
       "3187    val_009592.jpg  4\n",
       "3188    val_009612.jpg  6\n",
       "3189    val_009695.jpg  4\n",
       "3190    val_009756.jpg  3\n",
       "3191    val_009762.jpg  3\n",
       "3192    val_009798.jpg  3\n",
       "3193    val_009804.jpg  6\n",
       "3194    val_009835.jpg  4\n",
       "3195    val_009845.jpg  6\n",
       "3196    val_009848.jpg  1\n",
       "3197    val_009864.jpg  5\n",
       "3198    val_009897.jpg  2\n",
       "3199    val_009945.jpg  4\n",
       "3200    val_009995.jpg  0\n",
       "3201    val_010014.jpg  1\n",
       "3202    val_010020.jpg  1\n",
       "3203    val_010038.jpg  6\n",
       "3204    val_010077.jpg  4\n",
       "3205    val_010080.jpg  6\n",
       "3206    val_010097.jpg  5\n",
       "3207    val_010127.jpg  5\n",
       "3208    val_010203.jpg  0\n",
       "3209    val_010208.jpg  4\n",
       "3210    val_010292.jpg  0\n",
       "3211    val_010316.jpg  3\n",
       "3212    val_010318.jpg  6\n",
       "\n",
       "[3213 rows x 2 columns]"
      ]
     },
     "execution_count": 83,
     "metadata": {},
     "output_type": "execute_result"
    }
   ],
   "source": [
    "cake_data_pd\n"
   ]
  },
  {
   "cell_type": "code",
   "execution_count": 90,
   "metadata": {},
   "outputs": [],
   "source": [
    "cake_data_pd.to_csv(\"../data/train_cake_labels.csv\", header=None, index=False)"
   ]
  },
  {
   "cell_type": "code",
   "execution_count": 91,
   "metadata": {},
   "outputs": [
    {
     "data": {
      "text/plain": [
       "array([2829, 2830, 2831, 2832, 2833, 2834, 2835, 2836, 2837, 2838, 2839, 2840, 2841, 2842, 2843, 2844, 2845,\n",
       "       2846, 2847, 2848, 2849, 2850, 2851, 2852, 2853, 2854, 2855, 2856, 2857, 2858, 2859, 2860, 2861, 2862,\n",
       "       2863, 2864, 2865, 2866, 2867, 2868, 2869, 2870, 2871, 2872, 2873, 2874, 2875, 2876, 2877, 2878, 2879,\n",
       "       2880, 2881, 2882, 2883, 2884, 2885, 2886, 2887, 2888, 2889, 2890, 2891, 2892, 2893, 2894, 2895, 2896,\n",
       "       2897, 2898, 2899, 2900, 2901, 2902, 2903, 2904, 2905, 2906, 2907, 2908, 2909, 2910, 2911, 2912, 2913,\n",
       "       2914, 2915, 2916, 2917, 2918, 2919, 2920, 2921, 2922, 2923, 2924, 2925, 2926, 2927, 2928, 2929, 2930,\n",
       "       2931, 2932, 2933, 2934, 2935, 2936, 2937, 2938, 2939, 2940, 2941, 2942, 2943, 2944, 2945, 2946, 2947,\n",
       "       2948, 2949, 2950, 2951, 2952, 2953, 2954, 2955, 2956, 2957, 2958, 2959, 2960, 2961, 2962, 2963, 2964,\n",
       "       2965, 2966, 2967, 2968, 2969, 2970, 2971, 2972, 2973, 2974, 2975, 2976, 2977, 2978, 2979, 2980, 2981,\n",
       "       2982, 2983, 2984, 2985, 2986, 2987, 2988, 2989, 2990, 2991, 2992, 2993, 2994, 2995, 2996, 2997, 2998,\n",
       "       2999, 3000, 3001, 3002, 3003, 3004, 3005, 3006, 3007, 3008, 3009, 3010, 3011, 3012, 3013, 3014, 3015,\n",
       "       3016, 3017, 3018, 3019, 3020, 3021, 3022, 3023, 3024, 3025, 3026, 3027, 3028, 3029, 3030, 3031, 3032,\n",
       "       3033, 3034, 3035, 3036, 3037, 3038, 3039, 3040, 3041, 3042, 3043, 3044, 3045, 3046, 3047, 3048, 3049,\n",
       "       3050, 3051, 3052, 3053, 3054, 3055, 3056, 3057, 3058, 3059, 3060, 3061, 3062, 3063, 3064, 3065, 3066,\n",
       "       3067, 3068, 3069, 3070, 3071, 3072, 3073, 3074, 3075, 3076, 3077, 3078, 3079, 3080, 3081, 3082, 3083,\n",
       "       3084, 3085, 3086, 3087, 3088, 3089, 3090, 3091, 3092, 3093, 3094, 3095, 3096, 3097, 3098, 3099, 3100,\n",
       "       3101, 3102, 3103, 3104, 3105, 3106, 3107, 3108, 3109, 3110, 3111, 3112, 3113, 3114, 3115, 3116, 3117,\n",
       "       3118, 3119, 3120, 3121, 3122, 3123, 3124, 3125, 3126, 3127, 3128, 3129, 3130, 3131, 3132, 3133, 3134,\n",
       "       3135, 3136, 3137, 3138, 3139, 3140, 3141, 3142, 3143, 3144, 3145, 3146, 3147, 3148, 3149, 3150, 3151,\n",
       "       3152, 3153, 3154, 3155, 3156, 3157, 3158, 3159, 3160, 3161, 3162, 3163, 3164, 3165, 3166, 3167, 3168,\n",
       "       3169, 3170, 3171, 3172, 3173, 3174, 3175, 3176, 3177, 3178, 3179, 3180, 3181, 3182, 3183, 3184, 3185,\n",
       "       3186, 3187, 3188, 3189, 3190, 3191, 3192, 3193, 3194, 3195, 3196, 3197, 3198, 3199, 3200, 3201, 3202,\n",
       "       3203, 3204, 3205, 3206, 3207, 3208, 3209, 3210, 3211, 3212])"
      ]
     },
     "execution_count": 91,
     "metadata": {},
     "output_type": "execute_result"
    }
   ],
   "source": [
    "val_idxs=np.arange(2829,3213)\n",
    "val_idxs"
   ]
  },
  {
   "cell_type": "code",
   "execution_count": 88,
   "metadata": {},
   "outputs": [],
   "source": [
    "dddf = pd.read_csv(\"../data/train_cake_labels.csv\", header=None)"
   ]
  },
  {
   "cell_type": "code",
   "execution_count": 89,
   "metadata": {
    "scrolled": true
   },
   "outputs": [
    {
     "data": {
      "text/html": [
       "<div>\n",
       "<style scoped>\n",
       "    .dataframe tbody tr th:only-of-type {\n",
       "        vertical-align: middle;\n",
       "    }\n",
       "\n",
       "    .dataframe tbody tr th {\n",
       "        vertical-align: top;\n",
       "    }\n",
       "\n",
       "    .dataframe thead th {\n",
       "        text-align: right;\n",
       "    }\n",
       "</style>\n",
       "<table border=\"1\" class=\"dataframe\">\n",
       "  <thead>\n",
       "    <tr style=\"text-align: right;\">\n",
       "      <th></th>\n",
       "      <th>0</th>\n",
       "      <th>1</th>\n",
       "    </tr>\n",
       "  </thead>\n",
       "  <tbody>\n",
       "    <tr>\n",
       "      <th>0</th>\n",
       "      <td>train_011609.jpg</td>\n",
       "      <td>1</td>\n",
       "    </tr>\n",
       "    <tr>\n",
       "      <th>1</th>\n",
       "      <td>train_011611.jpg</td>\n",
       "      <td>1</td>\n",
       "    </tr>\n",
       "    <tr>\n",
       "      <th>2</th>\n",
       "      <td>train_011612.jpg</td>\n",
       "      <td>1</td>\n",
       "    </tr>\n",
       "    <tr>\n",
       "      <th>3</th>\n",
       "      <td>train_011613.jpg</td>\n",
       "      <td>1</td>\n",
       "    </tr>\n",
       "    <tr>\n",
       "      <th>4</th>\n",
       "      <td>train_011614.jpg</td>\n",
       "      <td>1</td>\n",
       "    </tr>\n",
       "    <tr>\n",
       "      <th>5</th>\n",
       "      <td>train_011615.jpg</td>\n",
       "      <td>1</td>\n",
       "    </tr>\n",
       "    <tr>\n",
       "      <th>6</th>\n",
       "      <td>train_011616.jpg</td>\n",
       "      <td>1</td>\n",
       "    </tr>\n",
       "    <tr>\n",
       "      <th>7</th>\n",
       "      <td>train_011617.jpg</td>\n",
       "      <td>1</td>\n",
       "    </tr>\n",
       "    <tr>\n",
       "      <th>8</th>\n",
       "      <td>train_011620.jpg</td>\n",
       "      <td>1</td>\n",
       "    </tr>\n",
       "    <tr>\n",
       "      <th>9</th>\n",
       "      <td>train_011621.jpg</td>\n",
       "      <td>1</td>\n",
       "    </tr>\n",
       "    <tr>\n",
       "      <th>10</th>\n",
       "      <td>train_011622.jpg</td>\n",
       "      <td>1</td>\n",
       "    </tr>\n",
       "    <tr>\n",
       "      <th>11</th>\n",
       "      <td>train_011623.jpg</td>\n",
       "      <td>1</td>\n",
       "    </tr>\n",
       "    <tr>\n",
       "      <th>12</th>\n",
       "      <td>train_011625.jpg</td>\n",
       "      <td>1</td>\n",
       "    </tr>\n",
       "    <tr>\n",
       "      <th>13</th>\n",
       "      <td>train_011626.jpg</td>\n",
       "      <td>1</td>\n",
       "    </tr>\n",
       "    <tr>\n",
       "      <th>14</th>\n",
       "      <td>train_011627.jpg</td>\n",
       "      <td>1</td>\n",
       "    </tr>\n",
       "    <tr>\n",
       "      <th>15</th>\n",
       "      <td>train_011628.jpg</td>\n",
       "      <td>1</td>\n",
       "    </tr>\n",
       "    <tr>\n",
       "      <th>16</th>\n",
       "      <td>train_011629.jpg</td>\n",
       "      <td>1</td>\n",
       "    </tr>\n",
       "    <tr>\n",
       "      <th>17</th>\n",
       "      <td>train_011630.jpg</td>\n",
       "      <td>1</td>\n",
       "    </tr>\n",
       "    <tr>\n",
       "      <th>18</th>\n",
       "      <td>train_011631.jpg</td>\n",
       "      <td>1</td>\n",
       "    </tr>\n",
       "    <tr>\n",
       "      <th>19</th>\n",
       "      <td>train_011632.jpg</td>\n",
       "      <td>1</td>\n",
       "    </tr>\n",
       "    <tr>\n",
       "      <th>20</th>\n",
       "      <td>train_011633.jpg</td>\n",
       "      <td>1</td>\n",
       "    </tr>\n",
       "    <tr>\n",
       "      <th>21</th>\n",
       "      <td>train_011634.jpg</td>\n",
       "      <td>1</td>\n",
       "    </tr>\n",
       "    <tr>\n",
       "      <th>22</th>\n",
       "      <td>train_011635.jpg</td>\n",
       "      <td>1</td>\n",
       "    </tr>\n",
       "    <tr>\n",
       "      <th>23</th>\n",
       "      <td>train_011636.jpg</td>\n",
       "      <td>1</td>\n",
       "    </tr>\n",
       "    <tr>\n",
       "      <th>24</th>\n",
       "      <td>train_011637.jpg</td>\n",
       "      <td>1</td>\n",
       "    </tr>\n",
       "    <tr>\n",
       "      <th>25</th>\n",
       "      <td>train_011638.jpg</td>\n",
       "      <td>1</td>\n",
       "    </tr>\n",
       "    <tr>\n",
       "      <th>26</th>\n",
       "      <td>train_011639.jpg</td>\n",
       "      <td>1</td>\n",
       "    </tr>\n",
       "    <tr>\n",
       "      <th>27</th>\n",
       "      <td>train_011640.jpg</td>\n",
       "      <td>1</td>\n",
       "    </tr>\n",
       "    <tr>\n",
       "      <th>28</th>\n",
       "      <td>train_011641.jpg</td>\n",
       "      <td>1</td>\n",
       "    </tr>\n",
       "    <tr>\n",
       "      <th>29</th>\n",
       "      <td>train_011642.jpg</td>\n",
       "      <td>1</td>\n",
       "    </tr>\n",
       "    <tr>\n",
       "      <th>...</th>\n",
       "      <td>...</td>\n",
       "      <td>...</td>\n",
       "    </tr>\n",
       "    <tr>\n",
       "      <th>3183</th>\n",
       "      <td>val_009478.jpg</td>\n",
       "      <td>3</td>\n",
       "    </tr>\n",
       "    <tr>\n",
       "      <th>3184</th>\n",
       "      <td>val_009494.jpg</td>\n",
       "      <td>3</td>\n",
       "    </tr>\n",
       "    <tr>\n",
       "      <th>3185</th>\n",
       "      <td>val_009559.jpg</td>\n",
       "      <td>5</td>\n",
       "    </tr>\n",
       "    <tr>\n",
       "      <th>3186</th>\n",
       "      <td>val_009563.jpg</td>\n",
       "      <td>2</td>\n",
       "    </tr>\n",
       "    <tr>\n",
       "      <th>3187</th>\n",
       "      <td>val_009592.jpg</td>\n",
       "      <td>4</td>\n",
       "    </tr>\n",
       "    <tr>\n",
       "      <th>3188</th>\n",
       "      <td>val_009612.jpg</td>\n",
       "      <td>6</td>\n",
       "    </tr>\n",
       "    <tr>\n",
       "      <th>3189</th>\n",
       "      <td>val_009695.jpg</td>\n",
       "      <td>4</td>\n",
       "    </tr>\n",
       "    <tr>\n",
       "      <th>3190</th>\n",
       "      <td>val_009756.jpg</td>\n",
       "      <td>3</td>\n",
       "    </tr>\n",
       "    <tr>\n",
       "      <th>3191</th>\n",
       "      <td>val_009762.jpg</td>\n",
       "      <td>3</td>\n",
       "    </tr>\n",
       "    <tr>\n",
       "      <th>3192</th>\n",
       "      <td>val_009798.jpg</td>\n",
       "      <td>3</td>\n",
       "    </tr>\n",
       "    <tr>\n",
       "      <th>3193</th>\n",
       "      <td>val_009804.jpg</td>\n",
       "      <td>6</td>\n",
       "    </tr>\n",
       "    <tr>\n",
       "      <th>3194</th>\n",
       "      <td>val_009835.jpg</td>\n",
       "      <td>4</td>\n",
       "    </tr>\n",
       "    <tr>\n",
       "      <th>3195</th>\n",
       "      <td>val_009845.jpg</td>\n",
       "      <td>6</td>\n",
       "    </tr>\n",
       "    <tr>\n",
       "      <th>3196</th>\n",
       "      <td>val_009848.jpg</td>\n",
       "      <td>1</td>\n",
       "    </tr>\n",
       "    <tr>\n",
       "      <th>3197</th>\n",
       "      <td>val_009864.jpg</td>\n",
       "      <td>5</td>\n",
       "    </tr>\n",
       "    <tr>\n",
       "      <th>3198</th>\n",
       "      <td>val_009897.jpg</td>\n",
       "      <td>2</td>\n",
       "    </tr>\n",
       "    <tr>\n",
       "      <th>3199</th>\n",
       "      <td>val_009945.jpg</td>\n",
       "      <td>4</td>\n",
       "    </tr>\n",
       "    <tr>\n",
       "      <th>3200</th>\n",
       "      <td>val_009995.jpg</td>\n",
       "      <td>0</td>\n",
       "    </tr>\n",
       "    <tr>\n",
       "      <th>3201</th>\n",
       "      <td>val_010014.jpg</td>\n",
       "      <td>1</td>\n",
       "    </tr>\n",
       "    <tr>\n",
       "      <th>3202</th>\n",
       "      <td>val_010020.jpg</td>\n",
       "      <td>1</td>\n",
       "    </tr>\n",
       "    <tr>\n",
       "      <th>3203</th>\n",
       "      <td>val_010038.jpg</td>\n",
       "      <td>6</td>\n",
       "    </tr>\n",
       "    <tr>\n",
       "      <th>3204</th>\n",
       "      <td>val_010077.jpg</td>\n",
       "      <td>4</td>\n",
       "    </tr>\n",
       "    <tr>\n",
       "      <th>3205</th>\n",
       "      <td>val_010080.jpg</td>\n",
       "      <td>6</td>\n",
       "    </tr>\n",
       "    <tr>\n",
       "      <th>3206</th>\n",
       "      <td>val_010097.jpg</td>\n",
       "      <td>5</td>\n",
       "    </tr>\n",
       "    <tr>\n",
       "      <th>3207</th>\n",
       "      <td>val_010127.jpg</td>\n",
       "      <td>5</td>\n",
       "    </tr>\n",
       "    <tr>\n",
       "      <th>3208</th>\n",
       "      <td>val_010203.jpg</td>\n",
       "      <td>0</td>\n",
       "    </tr>\n",
       "    <tr>\n",
       "      <th>3209</th>\n",
       "      <td>val_010208.jpg</td>\n",
       "      <td>4</td>\n",
       "    </tr>\n",
       "    <tr>\n",
       "      <th>3210</th>\n",
       "      <td>val_010292.jpg</td>\n",
       "      <td>0</td>\n",
       "    </tr>\n",
       "    <tr>\n",
       "      <th>3211</th>\n",
       "      <td>val_010316.jpg</td>\n",
       "      <td>3</td>\n",
       "    </tr>\n",
       "    <tr>\n",
       "      <th>3212</th>\n",
       "      <td>val_010318.jpg</td>\n",
       "      <td>6</td>\n",
       "    </tr>\n",
       "  </tbody>\n",
       "</table>\n",
       "<p>3213 rows × 2 columns</p>\n",
       "</div>"
      ],
      "text/plain": [
       "                     0  1\n",
       "0     train_011609.jpg  1\n",
       "1     train_011611.jpg  1\n",
       "2     train_011612.jpg  1\n",
       "3     train_011613.jpg  1\n",
       "4     train_011614.jpg  1\n",
       "5     train_011615.jpg  1\n",
       "6     train_011616.jpg  1\n",
       "7     train_011617.jpg  1\n",
       "8     train_011620.jpg  1\n",
       "9     train_011621.jpg  1\n",
       "10    train_011622.jpg  1\n",
       "11    train_011623.jpg  1\n",
       "12    train_011625.jpg  1\n",
       "13    train_011626.jpg  1\n",
       "14    train_011627.jpg  1\n",
       "15    train_011628.jpg  1\n",
       "16    train_011629.jpg  1\n",
       "17    train_011630.jpg  1\n",
       "18    train_011631.jpg  1\n",
       "19    train_011632.jpg  1\n",
       "20    train_011633.jpg  1\n",
       "21    train_011634.jpg  1\n",
       "22    train_011635.jpg  1\n",
       "23    train_011636.jpg  1\n",
       "24    train_011637.jpg  1\n",
       "25    train_011638.jpg  1\n",
       "26    train_011639.jpg  1\n",
       "27    train_011640.jpg  1\n",
       "28    train_011641.jpg  1\n",
       "29    train_011642.jpg  1\n",
       "...                ... ..\n",
       "3183    val_009478.jpg  3\n",
       "3184    val_009494.jpg  3\n",
       "3185    val_009559.jpg  5\n",
       "3186    val_009563.jpg  2\n",
       "3187    val_009592.jpg  4\n",
       "3188    val_009612.jpg  6\n",
       "3189    val_009695.jpg  4\n",
       "3190    val_009756.jpg  3\n",
       "3191    val_009762.jpg  3\n",
       "3192    val_009798.jpg  3\n",
       "3193    val_009804.jpg  6\n",
       "3194    val_009835.jpg  4\n",
       "3195    val_009845.jpg  6\n",
       "3196    val_009848.jpg  1\n",
       "3197    val_009864.jpg  5\n",
       "3198    val_009897.jpg  2\n",
       "3199    val_009945.jpg  4\n",
       "3200    val_009995.jpg  0\n",
       "3201    val_010014.jpg  1\n",
       "3202    val_010020.jpg  1\n",
       "3203    val_010038.jpg  6\n",
       "3204    val_010077.jpg  4\n",
       "3205    val_010080.jpg  6\n",
       "3206    val_010097.jpg  5\n",
       "3207    val_010127.jpg  5\n",
       "3208    val_010203.jpg  0\n",
       "3209    val_010208.jpg  4\n",
       "3210    val_010292.jpg  0\n",
       "3211    val_010316.jpg  3\n",
       "3212    val_010318.jpg  6\n",
       "\n",
       "[3213 rows x 2 columns]"
      ]
     },
     "execution_count": 89,
     "metadata": {},
     "output_type": "execute_result"
    }
   ],
   "source": [
    "dddf"
   ]
  },
  {
   "cell_type": "code",
   "execution_count": 36,
   "metadata": {},
   "outputs": [],
   "source": [
    "import shutil"
   ]
  },
  {
   "cell_type": "code",
   "execution_count": 39,
   "metadata": {},
   "outputs": [],
   "source": [
    "!mkdir ../data/cake_data"
   ]
  },
  {
   "cell_type": "code",
   "execution_count": 41,
   "metadata": {},
   "outputs": [],
   "source": [
    "for i in cake_data:\n",
    "    fname = i[0]\n",
    "    dest = \"../data/cake_data/\"\n",
    "    src = \"../data/all_train/\" + fname\n",
    "    shutil.copy(src, dest)"
   ]
  },
  {
   "cell_type": "code",
   "execution_count": 42,
   "metadata": {
    "collapsed": true
   },
   "outputs": [
    {
     "name": "stdout",
     "output_type": "stream",
     "text": [
      "train_011609.jpg  train_019073.jpg  train_040898.jpg  train_072224.jpg\r\n",
      "train_011611.jpg  train_019074.jpg  train_040899.jpg  train_072225.jpg\r\n",
      "train_011612.jpg  train_019075.jpg  train_040900.jpg  train_072227.jpg\r\n",
      "train_011613.jpg  train_019076.jpg  train_040901.jpg  train_072228.jpg\r\n",
      "train_011614.jpg  train_019077.jpg  train_040902.jpg  train_072229.jpg\r\n",
      "train_011615.jpg  train_019078.jpg  train_040903.jpg  train_072230.jpg\r\n",
      "train_011616.jpg  train_019079.jpg  train_040904.jpg  train_072231.jpg\r\n",
      "train_011617.jpg  train_019080.jpg  train_040905.jpg  train_072232.jpg\r\n",
      "train_011620.jpg  train_019081.jpg  train_040906.jpg  train_072233.jpg\r\n",
      "train_011621.jpg  train_019082.jpg  train_040907.jpg  train_072234.jpg\r\n",
      "train_011622.jpg  train_019083.jpg  train_040908.jpg  train_072235.jpg\r\n",
      "train_011623.jpg  train_019084.jpg  train_040909.jpg  train_072236.jpg\r\n",
      "train_011625.jpg  train_019085.jpg  train_040910.jpg  train_072237.jpg\r\n",
      "train_011626.jpg  train_019086.jpg  train_040911.jpg  train_072238.jpg\r\n",
      "train_011627.jpg  train_019087.jpg  train_040912.jpg  train_072239.jpg\r\n",
      "train_011628.jpg  train_019088.jpg  train_040913.jpg  train_072240.jpg\r\n",
      "train_011629.jpg  train_019089.jpg  train_040914.jpg  train_072241.jpg\r\n",
      "train_011630.jpg  train_019090.jpg  train_040915.jpg  train_072242.jpg\r\n",
      "train_011631.jpg  train_019091.jpg  train_040916.jpg  train_072243.jpg\r\n",
      "train_011632.jpg  train_019092.jpg  train_040917.jpg  train_072244.jpg\r\n",
      "train_011633.jpg  train_019093.jpg  train_040918.jpg  train_072245.jpg\r\n",
      "train_011634.jpg  train_019094.jpg  train_040919.jpg  train_072246.jpg\r\n",
      "train_011635.jpg  train_019095.jpg  train_040920.jpg  train_072247.jpg\r\n",
      "train_011636.jpg  train_019096.jpg  train_040921.jpg  train_072248.jpg\r\n",
      "train_011637.jpg  train_019097.jpg  train_040922.jpg  train_072249.jpg\r\n",
      "train_011638.jpg  train_019098.jpg  train_040923.jpg  train_072250.jpg\r\n",
      "train_011639.jpg  train_019099.jpg  train_040924.jpg  train_072251.jpg\r\n",
      "train_011640.jpg  train_019100.jpg  train_040925.jpg  train_072252.jpg\r\n",
      "train_011641.jpg  train_019101.jpg  train_040926.jpg  train_072253.jpg\r\n",
      "train_011642.jpg  train_019102.jpg  train_040927.jpg  train_072254.jpg\r\n",
      "train_011643.jpg  train_019103.jpg  train_040928.jpg  train_072255.jpg\r\n",
      "train_011644.jpg  train_019104.jpg  train_040929.jpg  train_072256.jpg\r\n",
      "train_011645.jpg  train_019105.jpg  train_040930.jpg  train_072257.jpg\r\n",
      "train_011646.jpg  train_019106.jpg  train_040931.jpg  train_072258.jpg\r\n",
      "train_011647.jpg  train_019107.jpg  train_040932.jpg  train_072259.jpg\r\n",
      "train_011649.jpg  train_019108.jpg  train_040933.jpg  train_072260.jpg\r\n",
      "train_011650.jpg  train_019109.jpg  train_040934.jpg  train_072261.jpg\r\n",
      "train_011651.jpg  train_019110.jpg  train_040935.jpg  train_072262.jpg\r\n",
      "train_011652.jpg  train_019111.jpg  train_040936.jpg  train_072263.jpg\r\n",
      "train_011653.jpg  train_019112.jpg  train_040937.jpg  train_072264.jpg\r\n",
      "train_011654.jpg  train_019113.jpg  train_040938.jpg  train_072265.jpg\r\n",
      "train_011655.jpg  train_019114.jpg  train_040939.jpg  train_072266.jpg\r\n",
      "train_011657.jpg  train_019115.jpg  train_040940.jpg  train_072267.jpg\r\n",
      "train_011658.jpg  train_019116.jpg  train_040941.jpg  train_072268.jpg\r\n",
      "train_011659.jpg  train_019117.jpg  train_040942.jpg  train_072269.jpg\r\n",
      "train_011660.jpg  train_019118.jpg  train_040943.jpg  train_072270.jpg\r\n",
      "train_011661.jpg  train_019119.jpg  train_040944.jpg  train_072271.jpg\r\n",
      "train_011662.jpg  train_019120.jpg  train_040945.jpg  train_072272.jpg\r\n",
      "train_011663.jpg  train_019121.jpg  train_040946.jpg  train_072273.jpg\r\n",
      "train_011664.jpg  train_019122.jpg  train_040947.jpg  train_072274.jpg\r\n",
      "train_011665.jpg  train_019123.jpg  train_040948.jpg  train_072275.jpg\r\n",
      "train_011666.jpg  train_019124.jpg  train_040949.jpg  train_072276.jpg\r\n",
      "train_011667.jpg  train_019125.jpg  train_040950.jpg  train_072277.jpg\r\n",
      "train_011669.jpg  train_019126.jpg  train_040951.jpg  train_072278.jpg\r\n",
      "train_011670.jpg  train_019127.jpg  train_040952.jpg  train_072279.jpg\r\n",
      "train_011671.jpg  train_019128.jpg  train_040953.jpg  train_072280.jpg\r\n",
      "train_011672.jpg  train_019129.jpg  train_040954.jpg  train_072281.jpg\r\n",
      "train_011673.jpg  train_019130.jpg  train_040955.jpg  train_072282.jpg\r\n",
      "train_011674.jpg  train_019131.jpg  train_040956.jpg  train_072283.jpg\r\n",
      "train_011675.jpg  train_019133.jpg  train_040957.jpg  train_072284.jpg\r\n",
      "train_011676.jpg  train_019134.jpg  train_040958.jpg  train_072285.jpg\r\n",
      "train_011677.jpg  train_019135.jpg  train_040959.jpg  train_072286.jpg\r\n",
      "train_011678.jpg  train_019136.jpg  train_040960.jpg  train_072287.jpg\r\n",
      "train_011679.jpg  train_019137.jpg  train_040961.jpg  train_072288.jpg\r\n",
      "train_011680.jpg  train_019138.jpg  train_040962.jpg  train_072289.jpg\r\n",
      "train_011681.jpg  train_019139.jpg  train_040963.jpg  train_072290.jpg\r\n",
      "train_011682.jpg  train_019140.jpg  train_040964.jpg  train_072291.jpg\r\n",
      "train_011683.jpg  train_019141.jpg  train_040965.jpg  train_072292.jpg\r\n",
      "train_011684.jpg  train_019142.jpg  train_040966.jpg  train_072293.jpg\r\n",
      "train_011686.jpg  train_019143.jpg  train_040967.jpg  train_072294.jpg\r\n",
      "train_011687.jpg  train_019144.jpg  train_040968.jpg  train_072295.jpg\r\n",
      "train_011688.jpg  train_019145.jpg  train_040969.jpg  train_072296.jpg\r\n",
      "train_011689.jpg  train_019146.jpg  train_040970.jpg  train_072297.jpg\r\n",
      "train_011690.jpg  train_019147.jpg  train_040971.jpg  train_072298.jpg\r\n",
      "train_011691.jpg  train_019148.jpg  train_040972.jpg  train_072299.jpg\r\n",
      "train_011692.jpg  train_019149.jpg  train_040973.jpg  train_072300.jpg\r\n",
      "train_011693.jpg  train_019150.jpg  train_040974.jpg  train_072301.jpg\r\n",
      "train_011694.jpg  train_019151.jpg  train_040975.jpg  train_072302.jpg\r\n",
      "train_011695.jpg  train_019152.jpg  train_040976.jpg  train_072303.jpg\r\n",
      "train_011696.jpg  train_019153.jpg  train_040977.jpg  train_072304.jpg\r\n",
      "train_011697.jpg  train_019154.jpg  train_040978.jpg  train_072305.jpg\r\n",
      "train_011698.jpg  train_019155.jpg  train_040979.jpg  train_072306.jpg\r\n",
      "train_011699.jpg  train_019156.jpg  train_040980.jpg  train_072307.jpg\r\n",
      "train_011700.jpg  train_019157.jpg  train_040981.jpg  train_072308.jpg\r\n",
      "train_011701.jpg  train_019158.jpg  train_040982.jpg  train_072309.jpg\r\n",
      "train_011703.jpg  train_019159.jpg  train_040983.jpg  train_074175.jpg\r\n",
      "train_011704.jpg  train_019160.jpg  train_040984.jpg  train_074177.jpg\r\n",
      "train_011705.jpg  train_019161.jpg  train_040985.jpg  train_074178.jpg\r\n",
      "train_011706.jpg  train_019162.jpg  train_040986.jpg  train_074179.jpg\r\n",
      "train_011708.jpg  train_019163.jpg  train_040987.jpg  train_074181.jpg\r\n",
      "train_011709.jpg  train_019164.jpg  train_040988.jpg  train_074182.jpg\r\n",
      "train_011711.jpg  train_019165.jpg  train_040989.jpg  train_074183.jpg\r\n",
      "train_011712.jpg  train_019166.jpg  train_040990.jpg  train_074184.jpg\r\n",
      "train_011713.jpg  train_019167.jpg  train_040991.jpg  train_074185.jpg\r\n",
      "train_011714.jpg  train_019168.jpg  train_040992.jpg  train_074187.jpg\r\n",
      "train_011715.jpg  train_019169.jpg  train_040993.jpg  train_074188.jpg\r\n",
      "train_011716.jpg  train_019170.jpg  train_040994.jpg  train_074189.jpg\r\n",
      "train_011717.jpg  train_019171.jpg  train_040995.jpg  train_074190.jpg\r\n",
      "train_011718.jpg  train_019172.jpg  train_040996.jpg  train_074191.jpg\r\n",
      "train_011719.jpg  train_019173.jpg  train_040997.jpg  train_074192.jpg\r\n",
      "train_011720.jpg  train_019174.jpg  train_040998.jpg  train_074193.jpg\r\n",
      "train_011721.jpg  train_019175.jpg  train_040999.jpg  train_074194.jpg\r\n",
      "train_011722.jpg  train_019176.jpg  train_041000.jpg  train_074195.jpg\r\n",
      "train_011723.jpg  train_019177.jpg  train_041001.jpg  train_074197.jpg\r\n",
      "train_011724.jpg  train_019178.jpg  train_041002.jpg  train_074198.jpg\r\n",
      "train_011725.jpg  train_019179.jpg  train_041003.jpg  train_074204.jpg\r\n",
      "train_011726.jpg  train_019180.jpg  train_041004.jpg  train_074205.jpg\r\n",
      "train_011727.jpg  train_019181.jpg  train_041005.jpg  train_074206.jpg\r\n",
      "train_011729.jpg  train_019182.jpg  train_041006.jpg  train_074207.jpg\r\n",
      "train_011730.jpg  train_019183.jpg  train_041007.jpg  train_074210.jpg\r\n",
      "train_011731.jpg  train_019184.jpg  train_041008.jpg  train_074212.jpg\r\n",
      "train_011732.jpg  train_019185.jpg  train_041009.jpg  train_074213.jpg\r\n",
      "train_011733.jpg  train_019186.jpg  train_041010.jpg  train_074214.jpg\r\n",
      "train_011735.jpg  train_019187.jpg  train_041011.jpg  train_074216.jpg\r\n",
      "train_011736.jpg  train_019188.jpg  train_041012.jpg  train_074218.jpg\r\n",
      "train_011737.jpg  train_019189.jpg  train_041013.jpg  train_074219.jpg\r\n",
      "train_011738.jpg  train_019190.jpg  train_041014.jpg  train_074220.jpg\r\n",
      "train_011739.jpg  train_019191.jpg  train_041015.jpg  train_074222.jpg\r\n",
      "train_011740.jpg  train_019192.jpg  train_041016.jpg  train_074223.jpg\r\n",
      "train_011741.jpg  train_019193.jpg  train_041017.jpg  train_074224.jpg\r\n",
      "train_011742.jpg  train_019194.jpg  train_041018.jpg  train_074225.jpg\r\n",
      "train_011743.jpg  train_019195.jpg  train_041019.jpg  train_074227.jpg\r\n",
      "train_011744.jpg  train_019196.jpg  train_041020.jpg  train_074228.jpg\r\n",
      "train_011745.jpg  train_019197.jpg  train_041021.jpg  train_074229.jpg\r\n",
      "train_011746.jpg  train_019198.jpg  train_041022.jpg  train_074230.jpg\r\n",
      "train_011747.jpg  train_019199.jpg  train_041023.jpg  train_074232.jpg\r\n",
      "train_011748.jpg  train_019200.jpg  train_041024.jpg  train_074233.jpg\r\n",
      "train_011749.jpg  train_019201.jpg  train_041025.jpg  train_074235.jpg\r\n",
      "train_011750.jpg  train_019202.jpg  train_041026.jpg  train_074238.jpg\r\n",
      "train_011751.jpg  train_019203.jpg  train_041027.jpg  train_074239.jpg\r\n",
      "train_011752.jpg  train_019204.jpg  train_041028.jpg  train_074240.jpg\r\n",
      "train_011753.jpg  train_019205.jpg  train_041029.jpg  train_074241.jpg\r\n",
      "train_011754.jpg  train_019206.jpg  train_041030.jpg  train_074242.jpg\r\n",
      "train_011755.jpg  train_019207.jpg  train_041031.jpg  train_074243.jpg\r\n",
      "train_011756.jpg  train_019208.jpg  train_041032.jpg  train_074244.jpg\r\n",
      "train_011760.jpg  train_019209.jpg  train_041033.jpg  train_074245.jpg\r\n",
      "train_011761.jpg  train_019210.jpg  train_041034.jpg  train_074248.jpg\r\n",
      "train_011762.jpg  train_019211.jpg  train_041035.jpg  train_074249.jpg\r\n",
      "train_011763.jpg  train_019212.jpg  train_041036.jpg  train_074250.jpg\r\n",
      "train_011764.jpg  train_019213.jpg  train_041037.jpg  train_074251.jpg\r\n",
      "train_011765.jpg  train_019214.jpg  train_041038.jpg  train_074252.jpg\r\n",
      "train_011768.jpg  train_019215.jpg  train_041039.jpg  train_074254.jpg\r\n",
      "train_011769.jpg  train_019216.jpg  train_041040.jpg  train_074255.jpg\r\n",
      "train_011772.jpg  train_019217.jpg  train_041041.jpg  train_074256.jpg\r\n",
      "train_011773.jpg  train_019218.jpg  train_041042.jpg  train_074257.jpg\r\n",
      "train_011774.jpg  train_019219.jpg  train_041043.jpg  train_074259.jpg\r\n",
      "train_011775.jpg  train_019221.jpg  train_041044.jpg  train_074260.jpg\r\n",
      "train_011776.jpg  train_019222.jpg  train_041045.jpg  train_074261.jpg\r\n",
      "train_011777.jpg  train_019223.jpg  train_041046.jpg  train_074263.jpg\r\n",
      "train_011778.jpg  train_019224.jpg  train_041047.jpg  train_074265.jpg\r\n",
      "train_011779.jpg  train_019225.jpg  train_041048.jpg  train_074267.jpg\r\n",
      "train_011780.jpg  train_019226.jpg  train_041049.jpg  train_074268.jpg\r\n",
      "train_011781.jpg  train_019227.jpg  train_041050.jpg  train_074269.jpg\r\n",
      "train_011783.jpg  train_019228.jpg  train_041051.jpg  train_074270.jpg\r\n",
      "train_011784.jpg  train_019229.jpg  train_041052.jpg  train_074271.jpg\r\n",
      "train_011785.jpg  train_019230.jpg  train_041053.jpg  train_074273.jpg\r\n",
      "train_011787.jpg  train_019231.jpg  train_041054.jpg  train_074274.jpg\r\n",
      "train_011789.jpg  train_019233.jpg  train_041055.jpg  train_074275.jpg\r\n",
      "train_011790.jpg  train_019234.jpg  train_041056.jpg  train_074277.jpg\r\n",
      "train_011791.jpg  train_019235.jpg  train_041057.jpg  train_074278.jpg\r\n",
      "train_011792.jpg  train_019236.jpg  train_041058.jpg  train_074280.jpg\r\n",
      "train_011793.jpg  train_019237.jpg  train_041059.jpg  train_074281.jpg\r\n",
      "train_011794.jpg  train_019238.jpg  train_041060.jpg  train_074282.jpg\r\n",
      "train_011795.jpg  train_019239.jpg  train_041061.jpg  train_074283.jpg\r\n",
      "train_011796.jpg  train_019240.jpg  train_041062.jpg  train_074286.jpg\r\n",
      "train_011797.jpg  train_019241.jpg  train_041063.jpg  train_074287.jpg\r\n",
      "train_011798.jpg  train_019242.jpg  train_041064.jpg  train_074289.jpg\r\n",
      "train_011799.jpg  train_019244.jpg  train_041065.jpg  train_074290.jpg\r\n",
      "train_011800.jpg  train_019245.jpg  train_041066.jpg  train_074291.jpg\r\n",
      "train_011801.jpg  train_019246.jpg  train_041067.jpg  train_074292.jpg\r\n",
      "train_011802.jpg  train_019247.jpg  train_041068.jpg  train_074294.jpg\r\n",
      "train_011803.jpg  train_019248.jpg  train_041069.jpg  train_074295.jpg\r\n",
      "train_011804.jpg  train_019249.jpg  train_041070.jpg  train_074296.jpg\r\n",
      "train_011805.jpg  train_027166.jpg  train_041071.jpg  train_074297.jpg\r\n",
      "train_011806.jpg  train_027167.jpg  train_041072.jpg  train_074300.jpg\r\n",
      "train_011807.jpg  train_027168.jpg  train_041073.jpg  train_074301.jpg\r\n",
      "train_011808.jpg  train_027169.jpg  train_041074.jpg  train_074302.jpg\r\n",
      "train_011809.jpg  train_027170.jpg  train_041075.jpg  train_074303.jpg\r\n",
      "train_011810.jpg  train_027171.jpg  train_041076.jpg  train_074304.jpg\r\n",
      "train_011811.jpg  train_027172.jpg  train_041077.jpg  train_074305.jpg\r\n",
      "train_011813.jpg  train_027173.jpg  train_041078.jpg  train_074306.jpg\r\n",
      "train_011815.jpg  train_027174.jpg  train_041079.jpg  train_074307.jpg\r\n",
      "train_011816.jpg  train_027175.jpg  train_041080.jpg  train_074308.jpg\r\n",
      "train_011817.jpg  train_027176.jpg  train_041081.jpg  train_074312.jpg\r\n",
      "train_011818.jpg  train_027177.jpg  train_041082.jpg  train_074313.jpg\r\n",
      "train_011819.jpg  train_027178.jpg  train_041083.jpg  train_074315.jpg\r\n",
      "train_011820.jpg  train_027179.jpg  train_041084.jpg  train_074316.jpg\r\n",
      "train_011821.jpg  train_027180.jpg  train_041085.jpg  train_074318.jpg\r\n",
      "train_011822.jpg  train_027181.jpg  train_041086.jpg  train_074319.jpg\r\n",
      "train_011823.jpg  train_027182.jpg  train_041087.jpg  train_074322.jpg\r\n",
      "train_011824.jpg  train_027183.jpg  train_041088.jpg  train_074323.jpg\r\n",
      "train_011825.jpg  train_027184.jpg  train_041089.jpg  train_074324.jpg\r\n",
      "train_011826.jpg  train_027185.jpg  train_041090.jpg  train_074325.jpg\r\n",
      "train_011827.jpg  train_027186.jpg  train_041091.jpg  train_074326.jpg\r\n",
      "train_011828.jpg  train_027187.jpg  train_041092.jpg  train_074327.jpg\r\n",
      "train_011830.jpg  train_027188.jpg  train_041093.jpg  train_074329.jpg\r\n",
      "train_011831.jpg  train_027189.jpg  train_041094.jpg  train_074330.jpg\r\n",
      "train_011832.jpg  train_027190.jpg  train_041095.jpg  train_074332.jpg\r\n",
      "train_011833.jpg  train_027191.jpg  train_041096.jpg  train_074333.jpg\r\n",
      "train_011834.jpg  train_027192.jpg  train_041097.jpg  train_074335.jpg\r\n",
      "train_011835.jpg  train_027193.jpg  train_041098.jpg  train_074337.jpg\r\n",
      "train_011836.jpg  train_027194.jpg  train_041099.jpg  train_074339.jpg\r\n",
      "train_011837.jpg  train_027195.jpg  train_041100.jpg  train_074340.jpg\r\n",
      "train_011838.jpg  train_027196.jpg  train_041101.jpg  train_074341.jpg\r\n",
      "train_011839.jpg  train_027197.jpg  train_041102.jpg  train_074342.jpg\r\n",
      "train_011840.jpg  train_027198.jpg  train_041103.jpg  train_074343.jpg\r\n",
      "train_011841.jpg  train_027199.jpg  train_041104.jpg  train_074345.jpg\r\n",
      "train_011842.jpg  train_027200.jpg  train_041105.jpg  train_074346.jpg\r\n",
      "train_011843.jpg  train_027201.jpg  train_041106.jpg  train_074348.jpg\r\n",
      "train_011844.jpg  train_027202.jpg  train_041107.jpg  train_074350.jpg\r\n",
      "train_011845.jpg  train_027203.jpg  train_041108.jpg  train_074352.jpg\r\n",
      "train_011846.jpg  train_027204.jpg  train_041109.jpg  train_074353.jpg\r\n",
      "train_011847.jpg  train_027205.jpg  train_041110.jpg  train_074354.jpg\r\n",
      "train_011849.jpg  train_027206.jpg  train_041111.jpg  train_074355.jpg\r\n",
      "train_011850.jpg  train_027207.jpg  train_041112.jpg  train_074356.jpg\r\n",
      "train_011851.jpg  train_027208.jpg  train_041113.jpg  train_074357.jpg\r\n",
      "train_011852.jpg  train_027209.jpg  train_041114.jpg  train_074358.jpg\r\n",
      "train_011853.jpg  train_027210.jpg  train_041115.jpg  train_074359.jpg\r\n",
      "train_011854.jpg  train_027211.jpg  train_041116.jpg  train_074360.jpg\r\n",
      "train_011855.jpg  train_027212.jpg  train_041117.jpg  train_074362.jpg\r\n",
      "train_011857.jpg  train_027213.jpg  train_041118.jpg  train_074364.jpg\r\n",
      "train_011858.jpg  train_027214.jpg  train_041119.jpg  train_074366.jpg\r\n",
      "train_011860.jpg  train_027215.jpg  train_041120.jpg  train_074368.jpg\r\n",
      "train_011861.jpg  train_027216.jpg  train_041121.jpg  train_074370.jpg\r\n",
      "train_011862.jpg  train_027217.jpg  train_041122.jpg  train_074372.jpg\r\n",
      "train_011864.jpg  train_027218.jpg  train_041123.jpg  train_074373.jpg\r\n",
      "train_011865.jpg  train_027219.jpg  train_041124.jpg  train_074374.jpg\r\n",
      "train_011866.jpg  train_027220.jpg  train_041125.jpg  train_074376.jpg\r\n",
      "train_011867.jpg  train_027221.jpg  train_041126.jpg  train_074378.jpg\r\n",
      "train_011868.jpg  train_027222.jpg  train_041127.jpg  train_074379.jpg\r\n",
      "train_011869.jpg  train_027223.jpg  train_041128.jpg  train_074380.jpg\r\n",
      "train_011870.jpg  train_027224.jpg  train_041129.jpg  train_074381.jpg\r\n",
      "train_011871.jpg  train_027225.jpg  train_041130.jpg  train_074383.jpg\r\n",
      "train_011872.jpg  train_027226.jpg  train_041131.jpg  train_074384.jpg\r\n",
      "train_011873.jpg  train_027227.jpg  train_041132.jpg  train_074385.jpg\r\n",
      "train_011874.jpg  train_027228.jpg  train_041133.jpg  train_074386.jpg\r\n",
      "train_011876.jpg  train_027229.jpg  train_041134.jpg  train_074388.jpg\r\n",
      "train_011878.jpg  train_027230.jpg  train_041135.jpg  train_074389.jpg\r\n",
      "train_011879.jpg  train_027231.jpg  train_041136.jpg  train_074390.jpg\r\n",
      "train_011880.jpg  train_027232.jpg  train_041137.jpg  train_074391.jpg\r\n",
      "train_011881.jpg  train_027233.jpg  train_041138.jpg  train_074393.jpg\r\n",
      "train_011882.jpg  train_027234.jpg  train_041139.jpg  train_074394.jpg\r\n",
      "train_011883.jpg  train_027235.jpg  train_041140.jpg  train_074395.jpg\r\n",
      "train_011884.jpg  train_027236.jpg  train_041141.jpg  train_074397.jpg\r\n",
      "train_011885.jpg  train_027237.jpg  train_041142.jpg  train_074398.jpg\r\n",
      "train_011886.jpg  train_027238.jpg  train_041143.jpg  train_074399.jpg\r\n",
      "train_011887.jpg  train_027239.jpg  train_041144.jpg  train_074400.jpg\r\n",
      "train_011888.jpg  train_027240.jpg  train_041145.jpg  train_074402.jpg\r\n",
      "train_011889.jpg  train_027241.jpg  train_041146.jpg  train_074403.jpg\r\n",
      "train_011890.jpg  train_027242.jpg  train_041147.jpg  train_074407.jpg\r\n",
      "train_011891.jpg  train_027243.jpg  train_041148.jpg  train_074408.jpg\r\n",
      "train_011892.jpg  train_027244.jpg  train_041149.jpg  train_074409.jpg\r\n",
      "train_011893.jpg  train_027245.jpg  train_041150.jpg  train_074410.jpg\r\n",
      "train_011894.jpg  train_027246.jpg  train_041151.jpg  train_074411.jpg\r\n",
      "train_011895.jpg  train_027247.jpg  train_041152.jpg  train_074412.jpg\r\n",
      "train_011896.jpg  train_027248.jpg  train_041153.jpg  train_074413.jpg\r\n",
      "train_011897.jpg  train_027249.jpg  train_041154.jpg  train_074414.jpg\r\n",
      "train_011898.jpg  train_027250.jpg  train_041155.jpg  train_074415.jpg\r\n",
      "train_011899.jpg  train_027251.jpg  train_041156.jpg  train_074416.jpg\r\n",
      "train_011900.jpg  train_027252.jpg  train_041157.jpg  train_074418.jpg\r\n",
      "train_011901.jpg  train_027253.jpg  train_041158.jpg  train_074419.jpg\r\n",
      "train_011902.jpg  train_027254.jpg  train_041159.jpg  train_074420.jpg\r\n",
      "train_011904.jpg  train_027255.jpg  train_041160.jpg  train_074421.jpg\r\n",
      "train_011906.jpg  train_027256.jpg  train_041161.jpg  train_074423.jpg\r\n",
      "train_011907.jpg  train_027257.jpg  train_041162.jpg  train_074424.jpg\r\n",
      "train_011908.jpg  train_027258.jpg  train_041163.jpg  train_074425.jpg\r\n",
      "train_011909.jpg  train_027259.jpg  train_041164.jpg  train_074426.jpg\r\n",
      "train_011910.jpg  train_027260.jpg  train_041165.jpg  train_074427.jpg\r\n",
      "train_011911.jpg  train_027261.jpg  train_041166.jpg  train_074428.jpg\r\n",
      "train_011912.jpg  train_027262.jpg  train_041167.jpg  train_074429.jpg\r\n",
      "train_011913.jpg  train_027263.jpg  train_041168.jpg  train_074430.jpg\r\n",
      "train_011914.jpg  train_027264.jpg  train_041169.jpg  train_074431.jpg\r\n",
      "train_011915.jpg  train_027265.jpg  train_041170.jpg  train_074432.jpg\r\n",
      "train_011916.jpg  train_027266.jpg  train_041171.jpg  train_074433.jpg\r\n",
      "train_011917.jpg  train_027267.jpg  train_041172.jpg  train_074434.jpg\r\n",
      "train_011918.jpg  train_027268.jpg  train_041173.jpg  train_074435.jpg\r\n",
      "train_011919.jpg  train_027269.jpg  train_041174.jpg  train_074436.jpg\r\n",
      "train_011920.jpg  train_027270.jpg  train_041175.jpg  train_074437.jpg\r\n",
      "train_011922.jpg  train_027271.jpg  train_041176.jpg  train_074438.jpg\r\n",
      "train_011923.jpg  train_027272.jpg  train_041177.jpg  train_074439.jpg\r\n",
      "train_011924.jpg  train_027273.jpg  train_041178.jpg  train_074440.jpg\r\n",
      "train_011925.jpg  train_027274.jpg  train_041179.jpg  train_074441.jpg\r\n",
      "train_011926.jpg  train_027275.jpg  train_041180.jpg  train_074442.jpg\r\n",
      "train_011927.jpg  train_027276.jpg  train_041181.jpg  train_074443.jpg\r\n",
      "train_011928.jpg  train_027277.jpg  train_041182.jpg  train_074444.jpg\r\n",
      "train_011929.jpg  train_027278.jpg  train_041183.jpg  train_074446.jpg\r\n",
      "train_011931.jpg  train_027279.jpg  train_041184.jpg  train_074450.jpg\r\n",
      "train_011932.jpg  train_027280.jpg  train_041185.jpg  train_074451.jpg\r\n",
      "train_011933.jpg  train_027281.jpg  train_041186.jpg  train_074453.jpg\r\n",
      "train_011934.jpg  train_027282.jpg  train_041187.jpg  train_074454.jpg\r\n",
      "train_011935.jpg  train_027283.jpg  train_041188.jpg  train_074455.jpg\r\n",
      "train_011937.jpg  train_027284.jpg  train_041189.jpg  train_074456.jpg\r\n",
      "train_011938.jpg  train_027285.jpg  train_041190.jpg  train_074457.jpg\r\n",
      "train_011939.jpg  train_027286.jpg  train_041191.jpg  train_074459.jpg\r\n",
      "train_011940.jpg  train_027287.jpg  train_041192.jpg  train_074461.jpg\r\n",
      "train_011941.jpg  train_027288.jpg  train_041193.jpg  train_074462.jpg\r\n",
      "train_011942.jpg  train_027289.jpg  train_041194.jpg  train_074463.jpg\r\n",
      "train_011943.jpg  train_027290.jpg  train_041195.jpg  train_074464.jpg\r\n",
      "train_011944.jpg  train_027291.jpg  train_041196.jpg  train_074465.jpg\r\n",
      "train_011945.jpg  train_027292.jpg  train_041197.jpg  train_074466.jpg\r\n",
      "train_011946.jpg  train_027293.jpg  train_041198.jpg  train_074467.jpg\r\n",
      "train_011947.jpg  train_027294.jpg  train_041199.jpg  train_074468.jpg\r\n",
      "train_011948.jpg  train_027295.jpg  train_041200.jpg  train_074470.jpg\r\n",
      "train_011949.jpg  train_027296.jpg  train_041201.jpg  train_074471.jpg\r\n",
      "train_011950.jpg  train_027297.jpg  train_041202.jpg  train_074472.jpg\r\n",
      "train_011951.jpg  train_027298.jpg  train_041203.jpg  train_074473.jpg\r\n",
      "train_011952.jpg  train_027299.jpg  train_041204.jpg  train_074474.jpg\r\n",
      "train_011953.jpg  train_027300.jpg  train_041205.jpg  train_074475.jpg\r\n",
      "train_011954.jpg  train_027301.jpg  train_041206.jpg  train_074476.jpg\r\n",
      "train_011955.jpg  train_027302.jpg  train_041207.jpg  train_074477.jpg\r\n",
      "train_011956.jpg  train_027303.jpg  train_041208.jpg  train_074478.jpg\r\n",
      "train_011957.jpg  train_027304.jpg  train_041209.jpg  train_074479.jpg\r\n",
      "train_011958.jpg  train_027305.jpg  train_041210.jpg  train_074480.jpg\r\n",
      "train_011959.jpg  train_027306.jpg  train_041211.jpg  train_074481.jpg\r\n",
      "train_011960.jpg  train_027307.jpg  train_041212.jpg  train_074483.jpg\r\n",
      "train_011961.jpg  train_027308.jpg  train_041213.jpg  train_074484.jpg\r\n",
      "train_011963.jpg  train_027309.jpg  train_041214.jpg  train_074485.jpg\r\n",
      "train_011964.jpg  train_027310.jpg  train_041215.jpg  train_074486.jpg\r\n",
      "train_011965.jpg  train_027311.jpg  train_041216.jpg  train_074487.jpg\r\n",
      "train_011966.jpg  train_027312.jpg  train_041217.jpg  train_074488.jpg\r\n",
      "train_011967.jpg  train_027313.jpg  train_041218.jpg  train_074489.jpg\r\n",
      "train_011968.jpg  train_027314.jpg  train_041219.jpg  train_074490.jpg\r\n",
      "train_011969.jpg  train_027315.jpg  train_041220.jpg  train_074491.jpg\r\n",
      "train_011970.jpg  train_027316.jpg  train_041221.jpg  train_074492.jpg\r\n",
      "train_011971.jpg  train_027317.jpg  train_041222.jpg  train_074493.jpg\r\n",
      "train_011972.jpg  train_027318.jpg  train_041223.jpg  train_074494.jpg\r\n",
      "train_011973.jpg  train_027319.jpg  train_041224.jpg  train_074495.jpg\r\n",
      "train_011974.jpg  train_027320.jpg  train_041225.jpg  train_074496.jpg\r\n",
      "train_011975.jpg  train_027322.jpg  train_041226.jpg  train_074497.jpg\r\n",
      "train_011976.jpg  train_027323.jpg  train_041227.jpg  train_074498.jpg\r\n",
      "train_011977.jpg  train_027324.jpg  train_041228.jpg  train_074499.jpg\r\n",
      "train_011978.jpg  train_027325.jpg  train_041229.jpg  train_074500.jpg\r\n",
      "train_011980.jpg  train_027326.jpg  train_041230.jpg  train_074501.jpg\r\n",
      "train_011981.jpg  train_027327.jpg  train_041231.jpg  train_074502.jpg\r\n",
      "train_011982.jpg  train_027328.jpg  train_041232.jpg  train_074503.jpg\r\n",
      "train_011983.jpg  train_027329.jpg  train_041233.jpg  train_074505.jpg\r\n",
      "train_011984.jpg  train_027330.jpg  train_041234.jpg  train_074506.jpg\r\n",
      "train_011985.jpg  train_027331.jpg  train_041235.jpg  train_074507.jpg\r\n",
      "train_011986.jpg  train_027332.jpg  train_071732.jpg  train_074508.jpg\r\n",
      "train_011987.jpg  train_027334.jpg  train_071733.jpg  train_074509.jpg\r\n",
      "train_011988.jpg  train_027335.jpg  train_071734.jpg  train_074510.jpg\r\n",
      "train_011990.jpg  train_027336.jpg  train_071735.jpg  train_074511.jpg\r\n",
      "train_011991.jpg  train_027337.jpg  train_071737.jpg  train_074512.jpg\r\n",
      "train_011992.jpg  train_027338.jpg  train_071738.jpg  train_074513.jpg\r\n",
      "train_011993.jpg  train_027339.jpg  train_071739.jpg  train_074514.jpg\r\n",
      "train_011994.jpg  train_027340.jpg  train_071740.jpg  train_074515.jpg\r\n",
      "train_011995.jpg  train_027341.jpg  train_071741.jpg  train_074518.jpg\r\n",
      "train_011996.jpg  train_027342.jpg  train_071742.jpg  train_074519.jpg\r\n",
      "train_011997.jpg  train_027343.jpg  train_071743.jpg  train_074520.jpg\r\n",
      "train_011998.jpg  train_027344.jpg  train_071744.jpg  train_074521.jpg\r\n",
      "train_011999.jpg  train_027345.jpg  train_071745.jpg  train_074522.jpg\r\n",
      "train_012000.jpg  train_027346.jpg  train_071746.jpg  train_074523.jpg\r\n",
      "train_012001.jpg  train_027348.jpg  train_071747.jpg  train_074524.jpg\r\n",
      "train_012002.jpg  train_027349.jpg  train_071748.jpg  train_074525.jpg\r\n",
      "train_012003.jpg  train_027350.jpg  train_071749.jpg  train_074526.jpg\r\n",
      "train_012004.jpg  train_027351.jpg  train_071750.jpg  train_074527.jpg\r\n",
      "train_012005.jpg  train_027352.jpg  train_071751.jpg  train_074528.jpg\r\n",
      "train_018619.jpg  train_027353.jpg  train_071752.jpg  train_074529.jpg\r\n",
      "train_018620.jpg  train_027354.jpg  train_071753.jpg  train_074530.jpg\r\n",
      "train_018621.jpg  train_027355.jpg  train_071754.jpg  train_074533.jpg\r\n",
      "train_018622.jpg  train_027356.jpg  train_071755.jpg  train_074534.jpg\r\n",
      "train_018623.jpg  train_027357.jpg  train_071756.jpg  train_074535.jpg\r\n",
      "train_018624.jpg  train_027358.jpg  train_071759.jpg  train_074536.jpg\r\n",
      "train_018625.jpg  train_027359.jpg  train_071760.jpg  train_074537.jpg\r\n",
      "train_018626.jpg  train_027360.jpg  train_071761.jpg  train_074538.jpg\r\n",
      "train_018628.jpg  train_027361.jpg  train_071762.jpg  train_074539.jpg\r\n",
      "train_018629.jpg  train_027362.jpg  train_071763.jpg  train_074540.jpg\r\n",
      "train_018630.jpg  train_027363.jpg  train_071764.jpg  train_074541.jpg\r\n",
      "train_018631.jpg  train_027364.jpg  train_071765.jpg  train_074542.jpg\r\n",
      "train_018632.jpg  train_027365.jpg  train_071766.jpg  train_074543.jpg\r\n",
      "train_018633.jpg  train_027366.jpg  train_071767.jpg  train_074544.jpg\r\n",
      "train_018634.jpg  train_027367.jpg  train_071768.jpg  train_074545.jpg\r\n",
      "train_018635.jpg  train_027368.jpg  train_071769.jpg  train_074546.jpg\r\n",
      "train_018636.jpg  train_027369.jpg  train_071770.jpg  train_074547.jpg\r\n",
      "train_018637.jpg  train_027370.jpg  train_071771.jpg  train_074548.jpg\r\n",
      "train_018638.jpg  train_027371.jpg  train_071772.jpg  train_074549.jpg\r\n",
      "train_018639.jpg  train_027372.jpg  train_071773.jpg  train_074550.jpg\r\n",
      "train_018640.jpg  train_027373.jpg  train_071774.jpg  train_074551.jpg\r\n",
      "train_018641.jpg  train_027374.jpg  train_071775.jpg  train_074552.jpg\r\n",
      "train_018642.jpg  train_027375.jpg  train_071776.jpg  train_074553.jpg\r\n",
      "train_018643.jpg  train_027376.jpg  train_071777.jpg  train_074554.jpg\r\n",
      "train_018644.jpg  train_027377.jpg  train_071778.jpg  train_074555.jpg\r\n",
      "train_018645.jpg  train_027378.jpg  train_071779.jpg  train_074556.jpg\r\n",
      "train_018646.jpg  train_027379.jpg  train_071780.jpg  train_074557.jpg\r\n",
      "train_018647.jpg  train_027380.jpg  train_071781.jpg  train_074558.jpg\r\n",
      "train_018648.jpg  train_027381.jpg  train_071782.jpg  train_074559.jpg\r\n",
      "train_018649.jpg  train_027382.jpg  train_071783.jpg  train_074560.jpg\r\n",
      "train_018650.jpg  train_027383.jpg  train_071784.jpg  train_074561.jpg\r\n",
      "train_018651.jpg  train_027384.jpg  train_071786.jpg  train_074562.jpg\r\n",
      "train_018652.jpg  train_027385.jpg  train_071787.jpg  train_074563.jpg\r\n",
      "train_018653.jpg  train_027386.jpg  train_071788.jpg  train_074564.jpg\r\n",
      "train_018654.jpg  train_027387.jpg  train_071789.jpg  train_074565.jpg\r\n",
      "train_018655.jpg  train_027388.jpg  train_071791.jpg  train_074566.jpg\r\n",
      "train_018656.jpg  train_027389.jpg  train_071792.jpg  train_074567.jpg\r\n",
      "train_018657.jpg  train_027390.jpg  train_071793.jpg  train_074568.jpg\r\n",
      "train_018658.jpg  train_027391.jpg  train_071794.jpg  train_074569.jpg\r\n",
      "train_018659.jpg  train_027392.jpg  train_071795.jpg  train_074570.jpg\r\n",
      "train_018660.jpg  train_027393.jpg  train_071796.jpg  train_074571.jpg\r\n",
      "train_018661.jpg  train_027394.jpg  train_071797.jpg  train_074573.jpg\r\n",
      "train_018662.jpg  train_027395.jpg  train_071798.jpg  train_074574.jpg\r\n",
      "train_018663.jpg  train_027396.jpg  train_071800.jpg  train_074575.jpg\r\n",
      "train_018664.jpg  train_027397.jpg  train_071801.jpg  train_074576.jpg\r\n",
      "train_018665.jpg  train_027398.jpg  train_071802.jpg  train_074577.jpg\r\n",
      "train_018666.jpg  train_027399.jpg  train_071803.jpg  train_074578.jpg\r\n",
      "train_018667.jpg  train_027400.jpg  train_071804.jpg  train_074579.jpg\r\n",
      "train_018668.jpg  train_027401.jpg  train_071805.jpg  train_074581.jpg\r\n",
      "train_018669.jpg  train_027402.jpg  train_071806.jpg  train_074582.jpg\r\n",
      "train_018670.jpg  train_027403.jpg  train_071807.jpg  train_074584.jpg\r\n",
      "train_018671.jpg  train_027404.jpg  train_071808.jpg  train_074585.jpg\r\n",
      "train_018672.jpg  train_027405.jpg  train_071809.jpg  train_074586.jpg\r\n",
      "train_018673.jpg  train_027406.jpg  train_071810.jpg  train_074588.jpg\r\n",
      "train_018674.jpg  train_027407.jpg  train_071812.jpg  train_074589.jpg\r\n",
      "train_018675.jpg  train_027408.jpg  train_071814.jpg  train_074590.jpg\r\n",
      "train_018676.jpg  train_027409.jpg  train_071815.jpg  train_074591.jpg\r\n",
      "train_018677.jpg  train_027410.jpg  train_071816.jpg  train_074592.jpg\r\n",
      "train_018678.jpg  train_027411.jpg  train_071818.jpg  train_074593.jpg\r\n",
      "train_018679.jpg  train_027412.jpg  train_071819.jpg  train_074594.jpg\r\n",
      "train_018680.jpg  train_027413.jpg  train_071820.jpg  val_000025.jpg\r\n",
      "train_018681.jpg  train_027414.jpg  train_071821.jpg  val_000105.jpg\r\n",
      "train_018682.jpg  train_027415.jpg  train_071824.jpg  val_000107.jpg\r\n",
      "train_018683.jpg  train_027416.jpg  train_071825.jpg  val_000199.jpg\r\n",
      "train_018684.jpg  train_027417.jpg  train_071826.jpg  val_000203.jpg\r\n",
      "train_018685.jpg  train_027418.jpg  train_071827.jpg  val_000209.jpg\r\n",
      "train_018686.jpg  train_027419.jpg  train_071828.jpg  val_000230.jpg\r\n",
      "train_018687.jpg  train_027420.jpg  train_071829.jpg  val_000254.jpg\r\n",
      "train_018688.jpg  train_027421.jpg  train_071831.jpg  val_000308.jpg\r\n",
      "train_018689.jpg  train_027422.jpg  train_071832.jpg  val_000321.jpg\r\n",
      "train_018690.jpg  train_027423.jpg  train_071833.jpg  val_000360.jpg\r\n",
      "train_018691.jpg  train_027424.jpg  train_071834.jpg  val_000399.jpg\r\n",
      "train_018692.jpg  train_027425.jpg  train_071835.jpg  val_000410.jpg\r\n",
      "train_018693.jpg  train_027426.jpg  train_071836.jpg  val_000418.jpg\r\n",
      "train_018694.jpg  train_027427.jpg  train_071837.jpg  val_000480.jpg\r\n",
      "train_018695.jpg  train_027428.jpg  train_071838.jpg  val_000515.jpg\r\n",
      "train_018696.jpg  train_027429.jpg  train_071839.jpg  val_000542.jpg\r\n",
      "train_018697.jpg  train_027430.jpg  train_071841.jpg  val_000545.jpg\r\n",
      "train_018698.jpg  train_027431.jpg  train_071843.jpg  val_000549.jpg\r\n",
      "train_018699.jpg  train_027432.jpg  train_071844.jpg  val_000590.jpg\r\n",
      "train_018700.jpg  train_027433.jpg  train_071846.jpg  val_000602.jpg\r\n",
      "train_018701.jpg  train_027434.jpg  train_071847.jpg  val_000624.jpg\r\n",
      "train_018702.jpg  train_027435.jpg  train_071848.jpg  val_000641.jpg\r\n",
      "train_018703.jpg  train_027436.jpg  train_071849.jpg  val_000687.jpg\r\n",
      "train_018704.jpg  train_027437.jpg  train_071850.jpg  val_000704.jpg\r\n",
      "train_018705.jpg  train_027438.jpg  train_071851.jpg  val_000717.jpg\r\n",
      "train_018706.jpg  train_027439.jpg  train_071852.jpg  val_000738.jpg\r\n",
      "train_018707.jpg  train_027440.jpg  train_071853.jpg  val_000750.jpg\r\n",
      "train_018708.jpg  train_027441.jpg  train_071854.jpg  val_000751.jpg\r\n",
      "train_018709.jpg  train_027442.jpg  train_071855.jpg  val_000783.jpg\r\n",
      "train_018711.jpg  train_027443.jpg  train_071856.jpg  val_000866.jpg\r\n",
      "train_018712.jpg  train_027444.jpg  train_071858.jpg  val_000921.jpg\r\n",
      "train_018713.jpg  train_027445.jpg  train_071859.jpg  val_000992.jpg\r\n",
      "train_018714.jpg  train_027446.jpg  train_071860.jpg  val_001026.jpg\r\n",
      "train_018715.jpg  train_027447.jpg  train_071861.jpg  val_001068.jpg\r\n",
      "train_018716.jpg  train_027448.jpg  train_071862.jpg  val_001073.jpg\r\n",
      "train_018717.jpg  train_027449.jpg  train_071863.jpg  val_001074.jpg\r\n",
      "train_018718.jpg  train_027450.jpg  train_071864.jpg  val_001088.jpg\r\n",
      "train_018719.jpg  train_027451.jpg  train_071865.jpg  val_001091.jpg\r\n",
      "train_018720.jpg  train_027452.jpg  train_071866.jpg  val_001103.jpg\r\n",
      "train_018721.jpg  train_027453.jpg  train_071867.jpg  val_001145.jpg\r\n",
      "train_018722.jpg  train_027454.jpg  train_071868.jpg  val_001148.jpg\r\n",
      "train_018724.jpg  train_027455.jpg  train_071869.jpg  val_001252.jpg\r\n",
      "train_018725.jpg  train_027456.jpg  train_071870.jpg  val_001287.jpg\r\n",
      "train_018726.jpg  train_027457.jpg  train_071871.jpg  val_001293.jpg\r\n",
      "train_018727.jpg  train_027458.jpg  train_071872.jpg  val_001294.jpg\r\n",
      "train_018728.jpg  train_027459.jpg  train_071873.jpg  val_001302.jpg\r\n",
      "train_018729.jpg  train_027460.jpg  train_071874.jpg  val_001331.jpg\r\n",
      "train_018730.jpg  train_027461.jpg  train_071875.jpg  val_001350.jpg\r\n",
      "train_018731.jpg  train_027462.jpg  train_071876.jpg  val_001385.jpg\r\n",
      "train_018732.jpg  train_027463.jpg  train_071877.jpg  val_001409.jpg\r\n",
      "train_018733.jpg  train_027464.jpg  train_071878.jpg  val_001472.jpg\r\n",
      "train_018734.jpg  train_027465.jpg  train_071879.jpg  val_001556.jpg\r\n",
      "train_018735.jpg  train_027466.jpg  train_071880.jpg  val_001634.jpg\r\n",
      "train_018736.jpg  train_027467.jpg  train_071881.jpg  val_001711.jpg\r\n",
      "train_018737.jpg  train_027468.jpg  train_071882.jpg  val_001731.jpg\r\n",
      "train_018738.jpg  train_027469.jpg  train_071884.jpg  val_001828.jpg\r\n",
      "train_018739.jpg  train_027470.jpg  train_071886.jpg  val_001836.jpg\r\n",
      "train_018740.jpg  train_027471.jpg  train_071887.jpg  val_001850.jpg\r\n",
      "train_018741.jpg  train_027472.jpg  train_071888.jpg  val_001864.jpg\r\n",
      "train_018742.jpg  train_027473.jpg  train_071889.jpg  val_001891.jpg\r\n",
      "train_018743.jpg  train_027475.jpg  train_071890.jpg  val_001934.jpg\r\n",
      "train_018744.jpg  train_027476.jpg  train_071891.jpg  val_001961.jpg\r\n",
      "train_018745.jpg  train_027477.jpg  train_071892.jpg  val_001989.jpg\r\n",
      "train_018746.jpg  train_027478.jpg  train_071893.jpg  val_002090.jpg\r\n",
      "train_018747.jpg  train_027479.jpg  train_071894.jpg  val_002101.jpg\r\n",
      "train_018748.jpg  train_027480.jpg  train_071895.jpg  val_002114.jpg\r\n",
      "train_018749.jpg  train_027481.jpg  train_071896.jpg  val_002145.jpg\r\n",
      "train_018750.jpg  train_027482.jpg  train_071897.jpg  val_002154.jpg\r\n",
      "train_018751.jpg  train_027483.jpg  train_071898.jpg  val_002155.jpg\r\n",
      "train_018752.jpg  train_027484.jpg  train_071899.jpg  val_002178.jpg\r\n",
      "train_018753.jpg  train_027485.jpg  train_071900.jpg  val_002186.jpg\r\n",
      "train_018754.jpg  train_027486.jpg  train_071901.jpg  val_002211.jpg\r\n",
      "train_018755.jpg  train_027487.jpg  train_071902.jpg  val_002213.jpg\r\n",
      "train_018756.jpg  train_027488.jpg  train_071903.jpg  val_002214.jpg\r\n",
      "train_018757.jpg  train_027489.jpg  train_071904.jpg  val_002222.jpg\r\n",
      "train_018758.jpg  train_027490.jpg  train_071905.jpg  val_002230.jpg\r\n",
      "train_018759.jpg  train_027491.jpg  train_071906.jpg  val_002247.jpg\r\n",
      "train_018760.jpg  train_027492.jpg  train_071907.jpg  val_002283.jpg\r\n",
      "train_018761.jpg  train_027493.jpg  train_071908.jpg  val_002288.jpg\r\n",
      "train_018762.jpg  train_027494.jpg  train_071909.jpg  val_002296.jpg\r\n",
      "train_018763.jpg  train_027495.jpg  train_071910.jpg  val_002302.jpg\r\n",
      "train_018764.jpg  train_027496.jpg  train_071911.jpg  val_002328.jpg\r\n",
      "train_018765.jpg  train_027497.jpg  train_071912.jpg  val_002335.jpg\r\n",
      "train_018766.jpg  train_027498.jpg  train_071913.jpg  val_002384.jpg\r\n",
      "train_018767.jpg  train_027499.jpg  train_071914.jpg  val_002416.jpg\r\n",
      "train_018768.jpg  train_027500.jpg  train_071915.jpg  val_002448.jpg\r\n",
      "train_018769.jpg  train_027501.jpg  train_071916.jpg  val_002455.jpg\r\n",
      "train_018770.jpg  train_027502.jpg  train_071917.jpg  val_002579.jpg\r\n",
      "train_018771.jpg  train_027503.jpg  train_071918.jpg  val_002602.jpg\r\n",
      "train_018772.jpg  train_027504.jpg  train_071919.jpg  val_002626.jpg\r\n",
      "train_018773.jpg  train_027505.jpg  train_071920.jpg  val_002632.jpg\r\n",
      "train_018774.jpg  train_027506.jpg  train_071921.jpg  val_002633.jpg\r\n",
      "train_018775.jpg  train_027507.jpg  train_071922.jpg  val_002651.jpg\r\n",
      "train_018776.jpg  train_027508.jpg  train_071923.jpg  val_002695.jpg\r\n",
      "train_018777.jpg  train_027509.jpg  train_071924.jpg  val_002719.jpg\r\n",
      "train_018778.jpg  train_027510.jpg  train_071925.jpg  val_002757.jpg\r\n",
      "train_018779.jpg  train_027511.jpg  train_071926.jpg  val_002760.jpg\r\n",
      "train_018780.jpg  train_027512.jpg  train_071927.jpg  val_002771.jpg\r\n",
      "train_018781.jpg  train_027513.jpg  train_071928.jpg  val_002792.jpg\r\n",
      "train_018782.jpg  train_027514.jpg  train_071929.jpg  val_002794.jpg\r\n",
      "train_018783.jpg  train_027515.jpg  train_071930.jpg  val_002799.jpg\r\n",
      "train_018784.jpg  train_027516.jpg  train_071931.jpg  val_002810.jpg\r\n",
      "train_018785.jpg  train_027517.jpg  train_071932.jpg  val_002834.jpg\r\n",
      "train_018786.jpg  train_027518.jpg  train_071933.jpg  val_002862.jpg\r\n",
      "train_018787.jpg  train_027519.jpg  train_071936.jpg  val_002911.jpg\r\n",
      "train_018788.jpg  train_027520.jpg  train_071937.jpg  val_002913.jpg\r\n",
      "train_018789.jpg  train_027521.jpg  train_071938.jpg  val_002917.jpg\r\n",
      "train_018790.jpg  train_027522.jpg  train_071939.jpg  val_002965.jpg\r\n",
      "train_018791.jpg  train_027523.jpg  train_071940.jpg  val_002984.jpg\r\n",
      "train_018792.jpg  train_027524.jpg  train_071941.jpg  val_003002.jpg\r\n",
      "train_018793.jpg  train_027525.jpg  train_071942.jpg  val_003068.jpg\r\n",
      "train_018794.jpg  train_027526.jpg  train_071943.jpg  val_003075.jpg\r\n",
      "train_018795.jpg  train_027527.jpg  train_071944.jpg  val_003087.jpg\r\n",
      "train_018796.jpg  train_027528.jpg  train_071945.jpg  val_003102.jpg\r\n",
      "train_018798.jpg  train_027529.jpg  train_071946.jpg  val_003132.jpg\r\n",
      "train_018799.jpg  train_027530.jpg  train_071947.jpg  val_003161.jpg\r\n",
      "train_018800.jpg  train_027531.jpg  train_071948.jpg  val_003167.jpg\r\n",
      "train_018801.jpg  train_027532.jpg  train_071949.jpg  val_003218.jpg\r\n",
      "train_018802.jpg  train_027533.jpg  train_071950.jpg  val_003219.jpg\r\n",
      "train_018803.jpg  train_027534.jpg  train_071951.jpg  val_003224.jpg\r\n",
      "train_018804.jpg  train_027535.jpg  train_071952.jpg  val_003237.jpg\r\n",
      "train_018805.jpg  train_027536.jpg  train_071953.jpg  val_003367.jpg\r\n",
      "train_018806.jpg  train_027537.jpg  train_071954.jpg  val_003369.jpg\r\n",
      "train_018807.jpg  train_027538.jpg  train_071955.jpg  val_003373.jpg\r\n",
      "train_018808.jpg  train_027539.jpg  train_071956.jpg  val_003400.jpg\r\n",
      "train_018809.jpg  train_027540.jpg  train_071957.jpg  val_003453.jpg\r\n",
      "train_018810.jpg  train_027541.jpg  train_071958.jpg  val_003458.jpg\r\n",
      "train_018811.jpg  train_027542.jpg  train_071959.jpg  val_003471.jpg\r\n",
      "train_018812.jpg  train_027543.jpg  train_071960.jpg  val_003480.jpg\r\n",
      "train_018813.jpg  train_027544.jpg  train_071961.jpg  val_003488.jpg\r\n",
      "train_018814.jpg  train_027545.jpg  train_071962.jpg  val_003529.jpg\r\n",
      "train_018815.jpg  train_027546.jpg  train_071963.jpg  val_003556.jpg\r\n",
      "train_018816.jpg  train_027547.jpg  train_071964.jpg  val_003587.jpg\r\n",
      "train_018817.jpg  train_027548.jpg  train_071965.jpg  val_003615.jpg\r\n",
      "train_018818.jpg  train_027549.jpg  train_071967.jpg  val_003653.jpg\r\n",
      "train_018819.jpg  train_027550.jpg  train_071968.jpg  val_003677.jpg\r\n",
      "train_018820.jpg  train_027551.jpg  train_071969.jpg  val_003679.jpg\r\n",
      "train_018821.jpg  train_027552.jpg  train_071970.jpg  val_003749.jpg\r\n",
      "train_018822.jpg  train_027553.jpg  train_071971.jpg  val_003860.jpg\r\n",
      "train_018823.jpg  train_027554.jpg  train_071972.jpg  val_003869.jpg\r\n",
      "train_018824.jpg  train_027555.jpg  train_071973.jpg  val_003877.jpg\r\n",
      "train_018825.jpg  train_027556.jpg  train_071974.jpg  val_003931.jpg\r\n",
      "train_018826.jpg  train_027557.jpg  train_071975.jpg  val_003975.jpg\r\n",
      "train_018827.jpg  train_027558.jpg  train_071976.jpg  val_003998.jpg\r\n",
      "train_018828.jpg  train_027559.jpg  train_071977.jpg  val_004038.jpg\r\n",
      "train_018829.jpg  train_027560.jpg  train_071978.jpg  val_004050.jpg\r\n",
      "train_018830.jpg  train_027561.jpg  train_071979.jpg  val_004100.jpg\r\n",
      "train_018831.jpg  train_027562.jpg  train_071980.jpg  val_004115.jpg\r\n",
      "train_018832.jpg  train_027563.jpg  train_071981.jpg  val_004138.jpg\r\n",
      "train_018833.jpg  train_027564.jpg  train_071982.jpg  val_004156.jpg\r\n",
      "train_018834.jpg  train_027565.jpg  train_071984.jpg  val_004179.jpg\r\n",
      "train_018835.jpg  train_027566.jpg  train_071985.jpg  val_004192.jpg\r\n",
      "train_018836.jpg  train_027567.jpg  train_071986.jpg  val_004211.jpg\r\n",
      "train_018837.jpg  train_027568.jpg  train_071987.jpg  val_004255.jpg\r\n",
      "train_018838.jpg  train_027569.jpg  train_071988.jpg  val_004277.jpg\r\n",
      "train_018839.jpg  train_027570.jpg  train_071989.jpg  val_004295.jpg\r\n",
      "train_018840.jpg  train_027571.jpg  train_071990.jpg  val_004299.jpg\r\n",
      "train_018841.jpg  train_027572.jpg  train_071991.jpg  val_004360.jpg\r\n",
      "train_018842.jpg  train_027573.jpg  train_071992.jpg  val_004407.jpg\r\n",
      "train_018843.jpg  train_027574.jpg  train_071993.jpg  val_004421.jpg\r\n",
      "train_018844.jpg  train_027575.jpg  train_071994.jpg  val_004422.jpg\r\n",
      "train_018845.jpg  train_027576.jpg  train_071995.jpg  val_004436.jpg\r\n",
      "train_018846.jpg  train_027577.jpg  train_071996.jpg  val_004441.jpg\r\n",
      "train_018847.jpg  train_027578.jpg  train_071997.jpg  val_004449.jpg\r\n",
      "train_018848.jpg  train_027579.jpg  train_071998.jpg  val_004457.jpg\r\n",
      "train_018849.jpg  train_027580.jpg  train_071999.jpg  val_004479.jpg\r\n",
      "train_018850.jpg  train_027581.jpg  train_072000.jpg  val_004534.jpg\r\n",
      "train_018851.jpg  train_027582.jpg  train_072001.jpg  val_004555.jpg\r\n",
      "train_018852.jpg  train_027583.jpg  train_072002.jpg  val_004593.jpg\r\n",
      "train_018853.jpg  train_027584.jpg  train_072003.jpg  val_004656.jpg\r\n",
      "train_018854.jpg  train_027585.jpg  train_072004.jpg  val_004658.jpg\r\n",
      "train_018855.jpg  train_027586.jpg  train_072005.jpg  val_004667.jpg\r\n",
      "train_018856.jpg  train_027587.jpg  train_072006.jpg  val_004683.jpg\r\n",
      "train_018857.jpg  train_027588.jpg  train_072007.jpg  val_004688.jpg\r\n",
      "train_018858.jpg  train_027589.jpg  train_072008.jpg  val_004733.jpg\r\n",
      "train_018859.jpg  train_027590.jpg  train_072009.jpg  val_004741.jpg\r\n",
      "train_018860.jpg  train_027591.jpg  train_072010.jpg  val_004753.jpg\r\n",
      "train_018861.jpg  train_027592.jpg  train_072011.jpg  val_004772.jpg\r\n",
      "train_018862.jpg  train_027593.jpg  train_072012.jpg  val_004784.jpg\r\n",
      "train_018863.jpg  train_027594.jpg  train_072013.jpg  val_004813.jpg\r\n",
      "train_018864.jpg  train_027595.jpg  train_072014.jpg  val_004846.jpg\r\n",
      "train_018865.jpg  train_027596.jpg  train_072015.jpg  val_004850.jpg\r\n",
      "train_018866.jpg  train_027597.jpg  train_072016.jpg  val_004862.jpg\r\n",
      "train_018867.jpg  train_027598.jpg  train_072017.jpg  val_004870.jpg\r\n",
      "train_018868.jpg  train_027599.jpg  train_072018.jpg  val_004886.jpg\r\n",
      "train_018869.jpg  train_027600.jpg  train_072019.jpg  val_004897.jpg\r\n",
      "train_018870.jpg  train_027601.jpg  train_072020.jpg  val_004905.jpg\r\n",
      "train_018871.jpg  train_027602.jpg  train_072021.jpg  val_004939.jpg\r\n",
      "train_018872.jpg  train_027603.jpg  train_072022.jpg  val_004999.jpg\r\n",
      "train_018873.jpg  train_027604.jpg  train_072024.jpg  val_005002.jpg\r\n",
      "train_018874.jpg  train_027605.jpg  train_072025.jpg  val_005064.jpg\r\n",
      "train_018875.jpg  train_027606.jpg  train_072026.jpg  val_005134.jpg\r\n",
      "train_018876.jpg  train_027607.jpg  train_072027.jpg  val_005158.jpg\r\n",
      "train_018877.jpg  train_027608.jpg  train_072028.jpg  val_005176.jpg\r\n",
      "train_018878.jpg  train_027609.jpg  train_072029.jpg  val_005198.jpg\r\n",
      "train_018879.jpg  train_027610.jpg  train_072030.jpg  val_005220.jpg\r\n",
      "train_018880.jpg  train_027611.jpg  train_072031.jpg  val_005239.jpg\r\n",
      "train_018881.jpg  train_027612.jpg  train_072032.jpg  val_005243.jpg\r\n",
      "train_018882.jpg  train_027613.jpg  train_072033.jpg  val_005257.jpg\r\n",
      "train_018883.jpg  train_027614.jpg  train_072034.jpg  val_005258.jpg\r\n",
      "train_018884.jpg  train_027615.jpg  train_072035.jpg  val_005308.jpg\r\n",
      "train_018885.jpg  train_027616.jpg  train_072036.jpg  val_005345.jpg\r\n",
      "train_018886.jpg  train_027617.jpg  train_072037.jpg  val_005368.jpg\r\n",
      "train_018887.jpg  train_027618.jpg  train_072038.jpg  val_005386.jpg\r\n",
      "train_018888.jpg  train_027619.jpg  train_072039.jpg  val_005391.jpg\r\n",
      "train_018889.jpg  train_027620.jpg  train_072040.jpg  val_005511.jpg\r\n",
      "train_018890.jpg  train_027621.jpg  train_072041.jpg  val_005533.jpg\r\n",
      "train_018891.jpg  train_027622.jpg  train_072042.jpg  val_005539.jpg\r\n",
      "train_018892.jpg  train_027623.jpg  train_072043.jpg  val_005549.jpg\r\n",
      "train_018893.jpg  train_027624.jpg  train_072044.jpg  val_005558.jpg\r\n",
      "train_018894.jpg  train_027625.jpg  train_072045.jpg  val_005568.jpg\r\n",
      "train_018895.jpg  train_027626.jpg  train_072046.jpg  val_005594.jpg\r\n",
      "train_018896.jpg  train_027627.jpg  train_072047.jpg  val_005631.jpg\r\n",
      "train_018897.jpg  train_027628.jpg  train_072048.jpg  val_005648.jpg\r\n",
      "train_018898.jpg  train_027629.jpg  train_072049.jpg  val_005687.jpg\r\n",
      "train_018899.jpg  train_027630.jpg  train_072050.jpg  val_005713.jpg\r\n",
      "train_018900.jpg  train_027631.jpg  train_072051.jpg  val_005720.jpg\r\n",
      "train_018901.jpg  train_027632.jpg  train_072052.jpg  val_005741.jpg\r\n",
      "train_018902.jpg  train_027633.jpg  train_072053.jpg  val_005774.jpg\r\n",
      "train_018903.jpg  train_027634.jpg  train_072054.jpg  val_005777.jpg\r\n",
      "train_018904.jpg  train_027635.jpg  train_072055.jpg  val_005782.jpg\r\n",
      "train_018905.jpg  train_027636.jpg  train_072056.jpg  val_005787.jpg\r\n",
      "train_018906.jpg  train_027637.jpg  train_072057.jpg  val_005818.jpg\r\n",
      "train_018907.jpg  train_027638.jpg  train_072058.jpg  val_005839.jpg\r\n",
      "train_018908.jpg  train_027639.jpg  train_072059.jpg  val_005884.jpg\r\n",
      "train_018909.jpg  train_027640.jpg  train_072060.jpg  val_005916.jpg\r\n",
      "train_018910.jpg  train_027641.jpg  train_072061.jpg  val_006082.jpg\r\n",
      "train_018911.jpg  train_027642.jpg  train_072062.jpg  val_006084.jpg\r\n",
      "train_018912.jpg  train_027643.jpg  train_072063.jpg  val_006128.jpg\r\n",
      "train_018913.jpg  train_027644.jpg  train_072064.jpg  val_006153.jpg\r\n",
      "train_018914.jpg  train_027645.jpg  train_072065.jpg  val_006175.jpg\r\n",
      "train_018915.jpg  train_027646.jpg  train_072066.jpg  val_006195.jpg\r\n",
      "train_018916.jpg  train_027647.jpg  train_072067.jpg  val_006197.jpg\r\n",
      "train_018917.jpg  train_027648.jpg  train_072068.jpg  val_006218.jpg\r\n",
      "train_018918.jpg  train_027649.jpg  train_072069.jpg  val_006250.jpg\r\n",
      "train_018919.jpg  train_027650.jpg  train_072070.jpg  val_006252.jpg\r\n",
      "train_018920.jpg  train_027651.jpg  train_072071.jpg  val_006253.jpg\r\n",
      "train_018921.jpg  train_027652.jpg  train_072072.jpg  val_006272.jpg\r\n",
      "train_018922.jpg  train_027653.jpg  train_072074.jpg  val_006294.jpg\r\n",
      "train_018923.jpg  train_027654.jpg  train_072075.jpg  val_006307.jpg\r\n",
      "train_018924.jpg  train_027655.jpg  train_072076.jpg  val_006361.jpg\r\n",
      "train_018925.jpg  train_027656.jpg  train_072077.jpg  val_006368.jpg\r\n",
      "train_018927.jpg  train_027657.jpg  train_072078.jpg  val_006411.jpg\r\n",
      "train_018928.jpg  train_027658.jpg  train_072079.jpg  val_006420.jpg\r\n",
      "train_018929.jpg  train_027659.jpg  train_072080.jpg  val_006430.jpg\r\n",
      "train_018930.jpg  train_027660.jpg  train_072081.jpg  val_006466.jpg\r\n",
      "train_018931.jpg  train_027661.jpg  train_072082.jpg  val_006532.jpg\r\n",
      "train_018932.jpg  train_027662.jpg  train_072083.jpg  val_006619.jpg\r\n",
      "train_018933.jpg  train_027663.jpg  train_072084.jpg  val_006620.jpg\r\n",
      "train_018934.jpg  train_027664.jpg  train_072085.jpg  val_006640.jpg\r\n",
      "train_018935.jpg  train_027665.jpg  train_072086.jpg  val_006655.jpg\r\n",
      "train_018936.jpg  train_027666.jpg  train_072087.jpg  val_006656.jpg\r\n",
      "train_018937.jpg  train_027667.jpg  train_072088.jpg  val_006664.jpg\r\n",
      "train_018938.jpg  train_027668.jpg  train_072089.jpg  val_006820.jpg\r\n",
      "train_018939.jpg  train_027669.jpg  train_072090.jpg  val_006847.jpg\r\n",
      "train_018940.jpg  train_027670.jpg  train_072091.jpg  val_006848.jpg\r\n",
      "train_018941.jpg  train_027671.jpg  train_072092.jpg  val_006867.jpg\r\n",
      "train_018942.jpg  train_027672.jpg  train_072093.jpg  val_006875.jpg\r\n",
      "train_018943.jpg  train_027673.jpg  train_072094.jpg  val_006886.jpg\r\n",
      "train_018944.jpg  train_027674.jpg  train_072095.jpg  val_006925.jpg\r\n",
      "train_018945.jpg  train_027675.jpg  train_072096.jpg  val_006943.jpg\r\n",
      "train_018946.jpg  train_027676.jpg  train_072097.jpg  val_006947.jpg\r\n",
      "train_018947.jpg  train_027677.jpg  train_072098.jpg  val_006949.jpg\r\n",
      "train_018948.jpg  train_027678.jpg  train_072099.jpg  val_006980.jpg\r\n",
      "train_018949.jpg  train_027679.jpg  train_072100.jpg  val_006998.jpg\r\n",
      "train_018950.jpg  train_027680.jpg  train_072101.jpg  val_007009.jpg\r\n",
      "train_018951.jpg  train_027681.jpg  train_072102.jpg  val_007015.jpg\r\n",
      "train_018952.jpg  train_027682.jpg  train_072103.jpg  val_007019.jpg\r\n",
      "train_018953.jpg  train_027683.jpg  train_072104.jpg  val_007033.jpg\r\n",
      "train_018954.jpg  train_027684.jpg  train_072105.jpg  val_007056.jpg\r\n",
      "train_018955.jpg  train_027685.jpg  train_072106.jpg  val_007085.jpg\r\n",
      "train_018956.jpg  train_027686.jpg  train_072107.jpg  val_007126.jpg\r\n",
      "train_018957.jpg  train_027687.jpg  train_072108.jpg  val_007129.jpg\r\n",
      "train_018958.jpg  train_027688.jpg  train_072109.jpg  val_007140.jpg\r\n",
      "train_018959.jpg  train_027689.jpg  train_072110.jpg  val_007164.jpg\r\n",
      "train_018960.jpg  train_027690.jpg  train_072111.jpg  val_007170.jpg\r\n",
      "train_018961.jpg  train_027691.jpg  train_072112.jpg  val_007251.jpg\r\n",
      "train_018962.jpg  train_027692.jpg  train_072113.jpg  val_007253.jpg\r\n",
      "train_018963.jpg  train_027693.jpg  train_072114.jpg  val_007278.jpg\r\n",
      "train_018964.jpg  train_027694.jpg  train_072115.jpg  val_007292.jpg\r\n",
      "train_018965.jpg  train_027695.jpg  train_072116.jpg  val_007316.jpg\r\n",
      "train_018966.jpg  train_027696.jpg  train_072117.jpg  val_007340.jpg\r\n",
      "train_018967.jpg  train_027697.jpg  train_072118.jpg  val_007398.jpg\r\n",
      "train_018968.jpg  train_027698.jpg  train_072119.jpg  val_007422.jpg\r\n",
      "train_018969.jpg  train_027699.jpg  train_072120.jpg  val_007446.jpg\r\n",
      "train_018970.jpg  train_027700.jpg  train_072121.jpg  val_007463.jpg\r\n",
      "train_018971.jpg  train_027701.jpg  train_072122.jpg  val_007483.jpg\r\n",
      "train_018972.jpg  train_027702.jpg  train_072123.jpg  val_007488.jpg\r\n",
      "train_018973.jpg  train_027703.jpg  train_072124.jpg  val_007503.jpg\r\n",
      "train_018974.jpg  train_027704.jpg  train_072125.jpg  val_007607.jpg\r\n",
      "train_018975.jpg  train_027705.jpg  train_072126.jpg  val_007618.jpg\r\n",
      "train_018976.jpg  train_027706.jpg  train_072127.jpg  val_007634.jpg\r\n",
      "train_018977.jpg  train_027707.jpg  train_072128.jpg  val_007671.jpg\r\n",
      "train_018978.jpg  train_027708.jpg  train_072129.jpg  val_007688.jpg\r\n",
      "train_018979.jpg  train_027709.jpg  train_072130.jpg  val_007720.jpg\r\n",
      "train_018980.jpg  train_027710.jpg  train_072131.jpg  val_007725.jpg\r\n",
      "train_018981.jpg  train_027711.jpg  train_072132.jpg  val_007730.jpg\r\n",
      "train_018982.jpg  train_027712.jpg  train_072133.jpg  val_007756.jpg\r\n",
      "train_018983.jpg  train_027713.jpg  train_072134.jpg  val_007759.jpg\r\n",
      "train_018984.jpg  train_027714.jpg  train_072135.jpg  val_007830.jpg\r\n",
      "train_018985.jpg  train_027715.jpg  train_072136.jpg  val_007911.jpg\r\n",
      "train_018987.jpg  train_027716.jpg  train_072137.jpg  val_007926.jpg\r\n",
      "train_018988.jpg  train_027717.jpg  train_072138.jpg  val_007994.jpg\r\n",
      "train_018989.jpg  train_027718.jpg  train_072139.jpg  val_008011.jpg\r\n",
      "train_018990.jpg  train_027719.jpg  train_072140.jpg  val_008042.jpg\r\n",
      "train_018991.jpg  train_027720.jpg  train_072141.jpg  val_008073.jpg\r\n",
      "train_018992.jpg  train_027721.jpg  train_072142.jpg  val_008139.jpg\r\n",
      "train_018993.jpg  train_027722.jpg  train_072143.jpg  val_008164.jpg\r\n",
      "train_018994.jpg  train_027723.jpg  train_072144.jpg  val_008201.jpg\r\n",
      "train_018995.jpg  train_027724.jpg  train_072145.jpg  val_008207.jpg\r\n",
      "train_018996.jpg  train_027725.jpg  train_072146.jpg  val_008224.jpg\r\n",
      "train_018997.jpg  train_027726.jpg  train_072147.jpg  val_008242.jpg\r\n",
      "train_018998.jpg  train_027727.jpg  train_072148.jpg  val_008286.jpg\r\n",
      "train_018999.jpg  train_027728.jpg  train_072149.jpg  val_008338.jpg\r\n",
      "train_019000.jpg  train_027729.jpg  train_072150.jpg  val_008360.jpg\r\n",
      "train_019001.jpg  train_027730.jpg  train_072151.jpg  val_008414.jpg\r\n",
      "train_019002.jpg  train_027731.jpg  train_072152.jpg  val_008426.jpg\r\n",
      "train_019003.jpg  train_027732.jpg  train_072153.jpg  val_008439.jpg\r\n",
      "train_019004.jpg  train_027733.jpg  train_072154.jpg  val_008440.jpg\r\n",
      "train_019005.jpg  train_027734.jpg  train_072155.jpg  val_008496.jpg\r\n",
      "train_019006.jpg  train_027735.jpg  train_072156.jpg  val_008505.jpg\r\n",
      "train_019007.jpg  train_027736.jpg  train_072158.jpg  val_008530.jpg\r\n",
      "train_019008.jpg  train_027737.jpg  train_072159.jpg  val_008569.jpg\r\n",
      "train_019009.jpg  train_027738.jpg  train_072160.jpg  val_008617.jpg\r\n",
      "train_019010.jpg  train_027739.jpg  train_072161.jpg  val_008691.jpg\r\n",
      "train_019011.jpg  train_027740.jpg  train_072162.jpg  val_008728.jpg\r\n",
      "train_019012.jpg  train_027741.jpg  train_072163.jpg  val_008747.jpg\r\n",
      "train_019013.jpg  train_027742.jpg  train_072164.jpg  val_008777.jpg\r\n",
      "train_019014.jpg  train_027743.jpg  train_072165.jpg  val_008786.jpg\r\n",
      "train_019015.jpg  train_027744.jpg  train_072166.jpg  val_008795.jpg\r\n",
      "train_019016.jpg  train_027745.jpg  train_072167.jpg  val_008816.jpg\r\n",
      "train_019017.jpg  train_027746.jpg  train_072168.jpg  val_008819.jpg\r\n",
      "train_019018.jpg  train_039660.jpg  train_072169.jpg  val_008824.jpg\r\n",
      "train_019019.jpg  train_039661.jpg  train_072170.jpg  val_008856.jpg\r\n",
      "train_019020.jpg  train_039662.jpg  train_072171.jpg  val_008940.jpg\r\n",
      "train_019021.jpg  train_039663.jpg  train_072172.jpg  val_008966.jpg\r\n",
      "train_019022.jpg  train_039664.jpg  train_072173.jpg  val_008999.jpg\r\n",
      "train_019023.jpg  train_039666.jpg  train_072174.jpg  val_009006.jpg\r\n",
      "train_019024.jpg  train_039667.jpg  train_072175.jpg  val_009053.jpg\r\n",
      "train_019025.jpg  train_039668.jpg  train_072176.jpg  val_009091.jpg\r\n",
      "train_019026.jpg  train_039669.jpg  train_072177.jpg  val_009151.jpg\r\n",
      "train_019027.jpg  train_039670.jpg  train_072178.jpg  val_009159.jpg\r\n",
      "train_019028.jpg  train_039671.jpg  train_072179.jpg  val_009178.jpg\r\n",
      "train_019029.jpg  train_039672.jpg  train_072180.jpg  val_009207.jpg\r\n",
      "train_019030.jpg  train_039673.jpg  train_072181.jpg  val_009218.jpg\r\n",
      "train_019031.jpg  train_039674.jpg  train_072182.jpg  val_009259.jpg\r\n",
      "train_019032.jpg  train_039677.jpg  train_072183.jpg  val_009353.jpg\r\n",
      "train_019033.jpg  train_039678.jpg  train_072184.jpg  val_009357.jpg\r\n",
      "train_019034.jpg  train_039679.jpg  train_072185.jpg  val_009364.jpg\r\n",
      "train_019035.jpg  train_039680.jpg  train_072186.jpg  val_009384.jpg\r\n",
      "train_019036.jpg  train_039681.jpg  train_072187.jpg  val_009387.jpg\r\n",
      "train_019037.jpg  train_039682.jpg  train_072188.jpg  val_009426.jpg\r\n",
      "train_019038.jpg  train_039683.jpg  train_072189.jpg  val_009430.jpg\r\n",
      "train_019039.jpg  train_039685.jpg  train_072190.jpg  val_009478.jpg\r\n",
      "train_019040.jpg  train_039686.jpg  train_072191.jpg  val_009494.jpg\r\n",
      "train_019041.jpg  train_039687.jpg  train_072192.jpg  val_009559.jpg\r\n",
      "train_019042.jpg  train_039688.jpg  train_072193.jpg  val_009563.jpg\r\n",
      "train_019043.jpg  train_039689.jpg  train_072194.jpg  val_009592.jpg\r\n",
      "train_019044.jpg  train_039690.jpg  train_072195.jpg  val_009612.jpg\r\n",
      "train_019045.jpg  train_039691.jpg  train_072196.jpg  val_009695.jpg\r\n",
      "train_019046.jpg  train_039692.jpg  train_072198.jpg  val_009756.jpg\r\n",
      "train_019047.jpg  train_039693.jpg  train_072199.jpg  val_009762.jpg\r\n",
      "train_019048.jpg  train_040873.jpg  train_072200.jpg  val_009798.jpg\r\n",
      "train_019049.jpg  train_040874.jpg  train_072201.jpg  val_009804.jpg\r\n",
      "train_019050.jpg  train_040875.jpg  train_072202.jpg  val_009835.jpg\r\n",
      "train_019051.jpg  train_040876.jpg  train_072203.jpg  val_009845.jpg\r\n",
      "train_019052.jpg  train_040877.jpg  train_072204.jpg  val_009848.jpg\r\n",
      "train_019053.jpg  train_040878.jpg  train_072205.jpg  val_009864.jpg\r\n",
      "train_019054.jpg  train_040879.jpg  train_072206.jpg  val_009897.jpg\r\n",
      "train_019055.jpg  train_040880.jpg  train_072207.jpg  val_009945.jpg\r\n",
      "train_019056.jpg  train_040881.jpg  train_072208.jpg  val_009995.jpg\r\n",
      "train_019057.jpg  train_040882.jpg  train_072209.jpg  val_010014.jpg\r\n",
      "train_019059.jpg  train_040883.jpg  train_072210.jpg  val_010020.jpg\r\n",
      "train_019060.jpg  train_040884.jpg  train_072211.jpg  val_010038.jpg\r\n",
      "train_019061.jpg  train_040885.jpg  train_072212.jpg  val_010077.jpg\r\n",
      "train_019062.jpg  train_040886.jpg  train_072213.jpg  val_010080.jpg\r\n",
      "train_019063.jpg  train_040887.jpg  train_072214.jpg  val_010097.jpg\r\n",
      "train_019064.jpg  train_040888.jpg  train_072215.jpg  val_010127.jpg\r\n",
      "train_019065.jpg  train_040889.jpg  train_072216.jpg  val_010203.jpg\r\n",
      "train_019066.jpg  train_040890.jpg  train_072217.jpg  val_010208.jpg\r\n",
      "train_019067.jpg  train_040891.jpg  train_072218.jpg  val_010292.jpg\r\n",
      "train_019068.jpg  train_040892.jpg  train_072219.jpg  val_010316.jpg\r\n",
      "train_019069.jpg  train_040893.jpg  train_072220.jpg  val_010318.jpg\r\n",
      "train_019070.jpg  train_040895.jpg  train_072221.jpg\r\n",
      "train_019071.jpg  train_040896.jpg  train_072222.jpg\r\n",
      "train_019072.jpg  train_040897.jpg  train_072223.jpg\r\n"
     ]
    }
   ],
   "source": [
    "!ls ../data/cake_data/"
   ]
  },
  {
   "cell_type": "code",
   "execution_count": 1,
   "metadata": {},
   "outputs": [],
   "source": [
    "# Put these at the top of every notebook, to get automatic reloading and inline plotting\n",
    "## 1\n",
    "%reload_ext autoreload\n",
    "%autoreload 2\n",
    "%matplotlib inline"
   ]
  },
  {
   "cell_type": "code",
   "execution_count": 2,
   "metadata": {},
   "outputs": [],
   "source": [
    "## 2\n",
    "import sys\n",
    "fast_ai_path = \"/home/paperspace/fastai/\"\n",
    "sys.path.append(fast_ai_path)"
   ]
  },
  {
   "cell_type": "code",
   "execution_count": 67,
   "metadata": {
    "scrolled": true
   },
   "outputs": [],
   "source": [
    "# !pip install torchtext"
   ]
  },
  {
   "cell_type": "code",
   "execution_count": 68,
   "metadata": {
    "scrolled": true
   },
   "outputs": [],
   "source": [
    "from tqdm import tqdm\n",
    "tqdm.monitor_interval = 0"
   ]
  },
  {
   "cell_type": "code",
   "execution_count": 3,
   "metadata": {},
   "outputs": [],
   "source": [
    "# This file contains all the main external libs we'll use\n",
    "## 3\n",
    "from fastai.imports import *"
   ]
  },
  {
   "cell_type": "code",
   "execution_count": 4,
   "metadata": {},
   "outputs": [],
   "source": [
    "## 4\n",
    "from fastai.transforms import *\n",
    "from fastai.conv_learner import *\n",
    "from fastai.model import *\n",
    "from fastai.dataset import *\n",
    "from fastai.sgdr import *\n",
    "from fastai.plots import *"
   ]
  },
  {
   "cell_type": "code",
   "execution_count": 19,
   "metadata": {},
   "outputs": [],
   "source": [
    "## 5\n",
    "PATH = \"/home/paperspace/iFood/INat-challenge-18/data/\"\n",
    "sz=560\n",
    "arch = resnet34\n",
    "bs=64"
   ]
  },
  {
   "cell_type": "code",
   "execution_count": 6,
   "metadata": {},
   "outputs": [
    {
     "data": {
      "text/plain": [
       "True"
      ]
     },
     "execution_count": 6,
     "metadata": {},
     "output_type": "execute_result"
    }
   ],
   "source": [
    "## 6\n",
    "torch.cuda.is_available()"
   ]
  },
  {
   "cell_type": "code",
   "execution_count": 7,
   "metadata": {},
   "outputs": [
    {
     "data": {
      "text/plain": [
       "True"
      ]
     },
     "execution_count": 7,
     "metadata": {},
     "output_type": "execute_result"
    }
   ],
   "source": [
    "## 7\n",
    "torch.backends.cudnn.enabled"
   ]
  },
  {
   "cell_type": "code",
   "execution_count": 8,
   "metadata": {},
   "outputs": [],
   "source": [
    "## 8\n",
    "train_label_csv = f'{PATH}train3_info.csv'\n",
    "trainval_label_csv = f'{PATH}train_cake_labels.csv'\n",
    "valid_label_csv = f'{PATH}val_info.csv'\n",
    "test_label_csv = f'{PATH}test_info.csv'\n",
    "\n",
    "\n",
    "train_label_df = pd.read_csv(train_label_csv, header=None)\n",
    "valid_label_df = pd.read_csv(valid_label_csv, header=None)\n",
    "test_label_df = pd.read_csv(test_label_csv, header=None)\n",
    "trainval_label_df = pd.read_csv(trainval_label_csv, header=None)"
   ]
  },
  {
   "cell_type": "code",
   "execution_count": 9,
   "metadata": {
    "scrolled": true
   },
   "outputs": [
    {
     "data": {
      "text/html": [
       "<div>\n",
       "<style scoped>\n",
       "    .dataframe tbody tr th:only-of-type {\n",
       "        vertical-align: middle;\n",
       "    }\n",
       "\n",
       "    .dataframe tbody tr th {\n",
       "        vertical-align: top;\n",
       "    }\n",
       "\n",
       "    .dataframe thead th {\n",
       "        text-align: right;\n",
       "    }\n",
       "</style>\n",
       "<table border=\"1\" class=\"dataframe\">\n",
       "  <thead>\n",
       "    <tr style=\"text-align: right;\">\n",
       "      <th></th>\n",
       "      <th>0</th>\n",
       "      <th>1</th>\n",
       "    </tr>\n",
       "  </thead>\n",
       "  <tbody>\n",
       "    <tr>\n",
       "      <th>0</th>\n",
       "      <td>train_011609.jpg</td>\n",
       "      <td>1</td>\n",
       "    </tr>\n",
       "    <tr>\n",
       "      <th>1</th>\n",
       "      <td>train_011611.jpg</td>\n",
       "      <td>1</td>\n",
       "    </tr>\n",
       "    <tr>\n",
       "      <th>2</th>\n",
       "      <td>train_011612.jpg</td>\n",
       "      <td>1</td>\n",
       "    </tr>\n",
       "    <tr>\n",
       "      <th>3</th>\n",
       "      <td>train_011613.jpg</td>\n",
       "      <td>1</td>\n",
       "    </tr>\n",
       "    <tr>\n",
       "      <th>4</th>\n",
       "      <td>train_011614.jpg</td>\n",
       "      <td>1</td>\n",
       "    </tr>\n",
       "    <tr>\n",
       "      <th>5</th>\n",
       "      <td>train_011615.jpg</td>\n",
       "      <td>1</td>\n",
       "    </tr>\n",
       "    <tr>\n",
       "      <th>6</th>\n",
       "      <td>train_011616.jpg</td>\n",
       "      <td>1</td>\n",
       "    </tr>\n",
       "    <tr>\n",
       "      <th>7</th>\n",
       "      <td>train_011617.jpg</td>\n",
       "      <td>1</td>\n",
       "    </tr>\n",
       "    <tr>\n",
       "      <th>8</th>\n",
       "      <td>train_011620.jpg</td>\n",
       "      <td>1</td>\n",
       "    </tr>\n",
       "    <tr>\n",
       "      <th>9</th>\n",
       "      <td>train_011621.jpg</td>\n",
       "      <td>1</td>\n",
       "    </tr>\n",
       "    <tr>\n",
       "      <th>10</th>\n",
       "      <td>train_011622.jpg</td>\n",
       "      <td>1</td>\n",
       "    </tr>\n",
       "    <tr>\n",
       "      <th>11</th>\n",
       "      <td>train_011623.jpg</td>\n",
       "      <td>1</td>\n",
       "    </tr>\n",
       "    <tr>\n",
       "      <th>12</th>\n",
       "      <td>train_011625.jpg</td>\n",
       "      <td>1</td>\n",
       "    </tr>\n",
       "    <tr>\n",
       "      <th>13</th>\n",
       "      <td>train_011626.jpg</td>\n",
       "      <td>1</td>\n",
       "    </tr>\n",
       "    <tr>\n",
       "      <th>14</th>\n",
       "      <td>train_011627.jpg</td>\n",
       "      <td>1</td>\n",
       "    </tr>\n",
       "    <tr>\n",
       "      <th>15</th>\n",
       "      <td>train_011628.jpg</td>\n",
       "      <td>1</td>\n",
       "    </tr>\n",
       "    <tr>\n",
       "      <th>16</th>\n",
       "      <td>train_011629.jpg</td>\n",
       "      <td>1</td>\n",
       "    </tr>\n",
       "    <tr>\n",
       "      <th>17</th>\n",
       "      <td>train_011630.jpg</td>\n",
       "      <td>1</td>\n",
       "    </tr>\n",
       "    <tr>\n",
       "      <th>18</th>\n",
       "      <td>train_011631.jpg</td>\n",
       "      <td>1</td>\n",
       "    </tr>\n",
       "    <tr>\n",
       "      <th>19</th>\n",
       "      <td>train_011632.jpg</td>\n",
       "      <td>1</td>\n",
       "    </tr>\n",
       "    <tr>\n",
       "      <th>20</th>\n",
       "      <td>train_011633.jpg</td>\n",
       "      <td>1</td>\n",
       "    </tr>\n",
       "    <tr>\n",
       "      <th>21</th>\n",
       "      <td>train_011634.jpg</td>\n",
       "      <td>1</td>\n",
       "    </tr>\n",
       "    <tr>\n",
       "      <th>22</th>\n",
       "      <td>train_011635.jpg</td>\n",
       "      <td>1</td>\n",
       "    </tr>\n",
       "    <tr>\n",
       "      <th>23</th>\n",
       "      <td>train_011636.jpg</td>\n",
       "      <td>1</td>\n",
       "    </tr>\n",
       "    <tr>\n",
       "      <th>24</th>\n",
       "      <td>train_011637.jpg</td>\n",
       "      <td>1</td>\n",
       "    </tr>\n",
       "    <tr>\n",
       "      <th>25</th>\n",
       "      <td>train_011638.jpg</td>\n",
       "      <td>1</td>\n",
       "    </tr>\n",
       "    <tr>\n",
       "      <th>26</th>\n",
       "      <td>train_011639.jpg</td>\n",
       "      <td>1</td>\n",
       "    </tr>\n",
       "    <tr>\n",
       "      <th>27</th>\n",
       "      <td>train_011640.jpg</td>\n",
       "      <td>1</td>\n",
       "    </tr>\n",
       "    <tr>\n",
       "      <th>28</th>\n",
       "      <td>train_011641.jpg</td>\n",
       "      <td>1</td>\n",
       "    </tr>\n",
       "    <tr>\n",
       "      <th>29</th>\n",
       "      <td>train_011642.jpg</td>\n",
       "      <td>1</td>\n",
       "    </tr>\n",
       "    <tr>\n",
       "      <th>...</th>\n",
       "      <td>...</td>\n",
       "      <td>...</td>\n",
       "    </tr>\n",
       "    <tr>\n",
       "      <th>3183</th>\n",
       "      <td>val_009478.jpg</td>\n",
       "      <td>3</td>\n",
       "    </tr>\n",
       "    <tr>\n",
       "      <th>3184</th>\n",
       "      <td>val_009494.jpg</td>\n",
       "      <td>3</td>\n",
       "    </tr>\n",
       "    <tr>\n",
       "      <th>3185</th>\n",
       "      <td>val_009559.jpg</td>\n",
       "      <td>5</td>\n",
       "    </tr>\n",
       "    <tr>\n",
       "      <th>3186</th>\n",
       "      <td>val_009563.jpg</td>\n",
       "      <td>2</td>\n",
       "    </tr>\n",
       "    <tr>\n",
       "      <th>3187</th>\n",
       "      <td>val_009592.jpg</td>\n",
       "      <td>4</td>\n",
       "    </tr>\n",
       "    <tr>\n",
       "      <th>3188</th>\n",
       "      <td>val_009612.jpg</td>\n",
       "      <td>6</td>\n",
       "    </tr>\n",
       "    <tr>\n",
       "      <th>3189</th>\n",
       "      <td>val_009695.jpg</td>\n",
       "      <td>4</td>\n",
       "    </tr>\n",
       "    <tr>\n",
       "      <th>3190</th>\n",
       "      <td>val_009756.jpg</td>\n",
       "      <td>3</td>\n",
       "    </tr>\n",
       "    <tr>\n",
       "      <th>3191</th>\n",
       "      <td>val_009762.jpg</td>\n",
       "      <td>3</td>\n",
       "    </tr>\n",
       "    <tr>\n",
       "      <th>3192</th>\n",
       "      <td>val_009798.jpg</td>\n",
       "      <td>3</td>\n",
       "    </tr>\n",
       "    <tr>\n",
       "      <th>3193</th>\n",
       "      <td>val_009804.jpg</td>\n",
       "      <td>6</td>\n",
       "    </tr>\n",
       "    <tr>\n",
       "      <th>3194</th>\n",
       "      <td>val_009835.jpg</td>\n",
       "      <td>4</td>\n",
       "    </tr>\n",
       "    <tr>\n",
       "      <th>3195</th>\n",
       "      <td>val_009845.jpg</td>\n",
       "      <td>6</td>\n",
       "    </tr>\n",
       "    <tr>\n",
       "      <th>3196</th>\n",
       "      <td>val_009848.jpg</td>\n",
       "      <td>1</td>\n",
       "    </tr>\n",
       "    <tr>\n",
       "      <th>3197</th>\n",
       "      <td>val_009864.jpg</td>\n",
       "      <td>5</td>\n",
       "    </tr>\n",
       "    <tr>\n",
       "      <th>3198</th>\n",
       "      <td>val_009897.jpg</td>\n",
       "      <td>2</td>\n",
       "    </tr>\n",
       "    <tr>\n",
       "      <th>3199</th>\n",
       "      <td>val_009945.jpg</td>\n",
       "      <td>4</td>\n",
       "    </tr>\n",
       "    <tr>\n",
       "      <th>3200</th>\n",
       "      <td>val_009995.jpg</td>\n",
       "      <td>0</td>\n",
       "    </tr>\n",
       "    <tr>\n",
       "      <th>3201</th>\n",
       "      <td>val_010014.jpg</td>\n",
       "      <td>1</td>\n",
       "    </tr>\n",
       "    <tr>\n",
       "      <th>3202</th>\n",
       "      <td>val_010020.jpg</td>\n",
       "      <td>1</td>\n",
       "    </tr>\n",
       "    <tr>\n",
       "      <th>3203</th>\n",
       "      <td>val_010038.jpg</td>\n",
       "      <td>6</td>\n",
       "    </tr>\n",
       "    <tr>\n",
       "      <th>3204</th>\n",
       "      <td>val_010077.jpg</td>\n",
       "      <td>4</td>\n",
       "    </tr>\n",
       "    <tr>\n",
       "      <th>3205</th>\n",
       "      <td>val_010080.jpg</td>\n",
       "      <td>6</td>\n",
       "    </tr>\n",
       "    <tr>\n",
       "      <th>3206</th>\n",
       "      <td>val_010097.jpg</td>\n",
       "      <td>5</td>\n",
       "    </tr>\n",
       "    <tr>\n",
       "      <th>3207</th>\n",
       "      <td>val_010127.jpg</td>\n",
       "      <td>5</td>\n",
       "    </tr>\n",
       "    <tr>\n",
       "      <th>3208</th>\n",
       "      <td>val_010203.jpg</td>\n",
       "      <td>0</td>\n",
       "    </tr>\n",
       "    <tr>\n",
       "      <th>3209</th>\n",
       "      <td>val_010208.jpg</td>\n",
       "      <td>4</td>\n",
       "    </tr>\n",
       "    <tr>\n",
       "      <th>3210</th>\n",
       "      <td>val_010292.jpg</td>\n",
       "      <td>0</td>\n",
       "    </tr>\n",
       "    <tr>\n",
       "      <th>3211</th>\n",
       "      <td>val_010316.jpg</td>\n",
       "      <td>3</td>\n",
       "    </tr>\n",
       "    <tr>\n",
       "      <th>3212</th>\n",
       "      <td>val_010318.jpg</td>\n",
       "      <td>6</td>\n",
       "    </tr>\n",
       "  </tbody>\n",
       "</table>\n",
       "<p>3213 rows × 2 columns</p>\n",
       "</div>"
      ],
      "text/plain": [
       "                     0  1\n",
       "0     train_011609.jpg  1\n",
       "1     train_011611.jpg  1\n",
       "2     train_011612.jpg  1\n",
       "3     train_011613.jpg  1\n",
       "4     train_011614.jpg  1\n",
       "5     train_011615.jpg  1\n",
       "6     train_011616.jpg  1\n",
       "7     train_011617.jpg  1\n",
       "8     train_011620.jpg  1\n",
       "9     train_011621.jpg  1\n",
       "10    train_011622.jpg  1\n",
       "11    train_011623.jpg  1\n",
       "12    train_011625.jpg  1\n",
       "13    train_011626.jpg  1\n",
       "14    train_011627.jpg  1\n",
       "15    train_011628.jpg  1\n",
       "16    train_011629.jpg  1\n",
       "17    train_011630.jpg  1\n",
       "18    train_011631.jpg  1\n",
       "19    train_011632.jpg  1\n",
       "20    train_011633.jpg  1\n",
       "21    train_011634.jpg  1\n",
       "22    train_011635.jpg  1\n",
       "23    train_011636.jpg  1\n",
       "24    train_011637.jpg  1\n",
       "25    train_011638.jpg  1\n",
       "26    train_011639.jpg  1\n",
       "27    train_011640.jpg  1\n",
       "28    train_011641.jpg  1\n",
       "29    train_011642.jpg  1\n",
       "...                ... ..\n",
       "3183    val_009478.jpg  3\n",
       "3184    val_009494.jpg  3\n",
       "3185    val_009559.jpg  5\n",
       "3186    val_009563.jpg  2\n",
       "3187    val_009592.jpg  4\n",
       "3188    val_009612.jpg  6\n",
       "3189    val_009695.jpg  4\n",
       "3190    val_009756.jpg  3\n",
       "3191    val_009762.jpg  3\n",
       "3192    val_009798.jpg  3\n",
       "3193    val_009804.jpg  6\n",
       "3194    val_009835.jpg  4\n",
       "3195    val_009845.jpg  6\n",
       "3196    val_009848.jpg  1\n",
       "3197    val_009864.jpg  5\n",
       "3198    val_009897.jpg  2\n",
       "3199    val_009945.jpg  4\n",
       "3200    val_009995.jpg  0\n",
       "3201    val_010014.jpg  1\n",
       "3202    val_010020.jpg  1\n",
       "3203    val_010038.jpg  6\n",
       "3204    val_010077.jpg  4\n",
       "3205    val_010080.jpg  6\n",
       "3206    val_010097.jpg  5\n",
       "3207    val_010127.jpg  5\n",
       "3208    val_010203.jpg  0\n",
       "3209    val_010208.jpg  4\n",
       "3210    val_010292.jpg  0\n",
       "3211    val_010316.jpg  3\n",
       "3212    val_010318.jpg  6\n",
       "\n",
       "[3213 rows x 2 columns]"
      ]
     },
     "execution_count": 9,
     "metadata": {},
     "output_type": "execute_result"
    }
   ],
   "source": [
    "trainval_label_df"
   ]
  },
  {
   "cell_type": "code",
   "execution_count": 20,
   "metadata": {
    "scrolled": true
   },
   "outputs": [],
   "source": [
    "val_idxs=np.arange(2829,3213)"
   ]
  },
  {
   "cell_type": "code",
   "execution_count": 21,
   "metadata": {},
   "outputs": [],
   "source": [
    "## 9\n",
    "#val_idxs = np.arange(len(train_label_df), len(trainval_label_df))\n",
    "def get_data(sz, bs):\n",
    "    tfms = tfms_from_model(arch, sz, aug_tfms=transforms_top_down, max_zoom=1.1)\n",
    "    data = ImageClassifierData.from_csv(PATH, 'cake_data', f'{PATH}train_cake_labels.csv', val_idxs=val_idxs, tfms=tfms, bs=bs, skip_header=False)\n",
    "    return data \n",
    "\n",
    "data = get_data(sz,bs)"
   ]
  },
  {
   "cell_type": "code",
   "execution_count": 13,
   "metadata": {},
   "outputs": [
    {
     "data": {
      "text/plain": [
       "'/home/paperspace/iFood/INat-challenge-18/data/all_train/val_010322.jpg'"
      ]
     },
     "execution_count": 13,
     "metadata": {},
     "output_type": "execute_result"
    }
   ],
   "source": [
    "\n",
    "fn = PATH + data.val_ds.fnames[-1]; fn"
   ]
  },
  {
   "cell_type": "code",
   "execution_count": 14,
   "metadata": {},
   "outputs": [
    {
     "data": {
      "image/png": "[encoded data removed]",
      "text/plain": [
       "<PIL.JpegImagePlugin.JpegImageFile image mode=RGB size=384x256 at 0x7FF7B49AE240>"
      ]
     },
     "execution_count": 14,
     "metadata": {},
     "output_type": "execute_result"
    }
   ],
   "source": [
    "img = PIL.Image.open(fn); img\n"
   ]
  },
  {
   "cell_type": "code",
   "execution_count": 15,
   "metadata": {},
   "outputs": [
    {
     "data": {
      "text/plain": [
       "(384, 256)"
      ]
     },
     "execution_count": 15,
     "metadata": {},
     "output_type": "execute_result"
    }
   ],
   "source": [
    "img.size\n"
   ]
  },
  {
   "cell_type": "code",
   "execution_count": 16,
   "metadata": {},
   "outputs": [
    {
     "data": {
      "text/plain": [
       "(90041, 24088)"
      ]
     },
     "execution_count": 16,
     "metadata": {},
     "output_type": "execute_result"
    }
   ],
   "source": [
    "len(data.trn_ds), len(data.test_ds)"
   ]
  },
  {
   "cell_type": "code",
   "execution_count": 22,
   "metadata": {},
   "outputs": [],
   "source": [
    "## 10\n",
    "learn = ConvLearner.pretrained(arch,data, ps=0.6, precompute=True, opt_fn=optim.Adam, xtra_fc=[])"
   ]
  },
  {
   "cell_type": "code",
   "execution_count": 20,
   "metadata": {},
   "outputs": [
    {
     "data": {
      "text/plain": [
       "Sequential(\n",
       "  (0): BatchNorm1d(1024, eps=1e-05, momentum=0.1, affine=True)\n",
       "  (1): Dropout(p=0.8)\n",
       "  (2): Linear(in_features=1024, out_features=7, bias=True)\n",
       "  (3): LogSoftmax()\n",
       ")"
      ]
     },
     "execution_count": 20,
     "metadata": {},
     "output_type": "execute_result"
    }
   ],
   "source": [
    "learn"
   ]
  },
  {
   "cell_type": "code",
   "execution_count": 23,
   "metadata": {},
   "outputs": [
    {
     "data": {
      "application/vnd.jupyter.widget-view+json": {
       "model_id": "c51fbc7085cb41528f51206294aeaac2",
       "version_major": 2,
       "version_minor": 0
      },
      "text/plain": [
       "HBox(children=(IntProgress(value=0, description='Epoch', max=1), HTML(value='')))"
      ]
     },
     "metadata": {},
     "output_type": "display_data"
    },
    {
     "name": "stdout",
     "output_type": "stream",
     "text": [
      "                                                          \r"
     ]
    }
   ],
   "source": [
    "## 11\n",
    "lrf=learn.lr_find()"
   ]
  },
  {
   "cell_type": "code",
   "execution_count": 24,
   "metadata": {},
   "outputs": [
    {
     "data": {
      "image/png": "[encoded data removed]",
      "text/plain": [
       "<Figure size 432x288 with 1 Axes>"
      ]
     },
     "metadata": {},
     "output_type": "display_data"
    }
   ],
   "source": [
    "## 12\n",
    "learn.sched.plot()"
   ]
  },
  {
   "cell_type": "code",
   "execution_count": 107,
   "metadata": {},
   "outputs": [],
   "source": [
    "## 13\n",
    "def accuracytop3(preds, targs):\n",
    "    preds_3 = preds.sort(dim=1, descending=True)[1][:, :3]\n",
    "    return ((preds_3[:, 0] == targs) + (preds_3[:, 1] == targs) + (preds_3[:, 2] == targs)).float().mean()\n",
    "    "
   ]
  },
  {
   "cell_type": "code",
   "execution_count": 25,
   "metadata": {},
   "outputs": [
    {
     "data": {
      "application/vnd.jupyter.widget-view+json": {
       "model_id": "cf9689b05f2d41c1b5de276fd28e3adb",
       "version_major": 2,
       "version_minor": 0
      },
      "text/plain": [
       "HBox(children=(IntProgress(value=0, description='Epoch', max=20), HTML(value='')))"
      ]
     },
     "metadata": {},
     "output_type": "display_data"
    },
    {
     "name": "stdout",
     "output_type": "stream",
     "text": [
      "epoch      trn_loss   val_loss   accuracy                 \n",
      "    0      2.286912   1.985896   0.257812  \n",
      "    1      1.599826   1.248405   0.598958                 \n",
      "    2      1.258211   1.287061   0.59375                  \n",
      "    3      1.1614     1.261379   0.622396                 \n",
      "    4      1.07635    1.308003   0.617188                 \n",
      "    5      1.017553   1.479086   0.59375                   \n",
      "    6      0.970333   1.258029   0.635417                  \n",
      "    7      0.950722   1.213225   0.643229                  \n",
      "    8      0.876859   1.228467   0.645833                  \n",
      "    9      0.829626   1.336898   0.638021                  \n",
      "    10     0.813297   1.268821   0.630208                  \n",
      "    11     0.800137   1.244498   0.630208                  \n",
      "    12     0.77051    1.278575   0.627604                  \n",
      "    13     0.738041   1.241523   0.638021                  \n",
      "    14     0.731716   1.240334   0.645833                  \n",
      "    15     0.720723   1.253884   0.653646                  \n",
      "    16     0.718      1.200972   0.643229                  \n",
      "    17     0.682725   1.210723   0.653646                  \n",
      "    18     0.696353   1.26935    0.645833                  \n",
      "    19     0.681736   1.215716   0.648438                  \n"
     ]
    },
    {
     "data": {
      "text/plain": [
       "[array([1.21572]), 0.6484375]"
      ]
     },
     "execution_count": 25,
     "metadata": {},
     "output_type": "execute_result"
    }
   ],
   "source": [
    "learn.fit(0.01,1,cycle_len=20, cycle_mult=2)"
   ]
  },
  {
   "cell_type": "code",
   "execution_count": 16,
   "metadata": {},
   "outputs": [
    {
     "data": {
      "application/vnd.jupyter.widget-view+json": {
       "model_id": "f44485df600a43f79ff1111ed14d7214",
       "version_major": 2,
       "version_minor": 0
      },
      "text/plain": [
       "HBox(children=(IntProgress(value=0, description='Epoch', max=1), HTML(value='')))"
      ]
     },
     "metadata": {},
     "output_type": "display_data"
    },
    {
     "name": "stdout",
     "output_type": "stream",
     "text": [
      "epoch      trn_loss   val_loss   accuracy   accuracytop3      \n",
      "    0      1.647628   1.809012   0.547903   0.741161  \n",
      "\n"
     ]
    },
    {
     "data": {
      "text/plain": [
       "[array([1.80901]), 0.5479027414857723, 0.7411605153771597]"
      ]
     },
     "execution_count": 16,
     "metadata": {},
     "output_type": "execute_result"
    }
   ],
   "source": [
    "learn.fit(0.000005,1,cycle_len=1,best_save_name=\"Best_Single_Accuracy_ResNext50\", metrics= [accuracy, accuracytop3])"
   ]
  },
  {
   "cell_type": "code",
   "execution_count": 30,
   "metadata": {},
   "outputs": [
    {
     "data": {
      "application/vnd.jupyter.widget-view+json": {
       "model_id": "1fd10c34d18040e98e4bdf1f04cdea8f",
       "version_major": 2,
       "version_minor": 0
      },
      "text/plain": [
       "HBox(children=(IntProgress(value=0, description='Epoch', max=12), HTML(value='')))"
      ]
     },
     "metadata": {},
     "output_type": "display_data"
    },
    {
     "name": "stdout",
     "output_type": "stream",
     "text": [
      "epoch      trn_loss   val_loss   accuracy   accuracytop3      \n",
      "    0      2.962604   2.433242   0.421002   0.618619  \n",
      "    1      2.634302   2.214991   0.455488   0.661629          \n",
      "    2      2.607547   2.156016   0.473796   0.675773          \n",
      "    3      2.433292   2.085201   0.489199   0.689722          \n",
      "    4      2.388411   2.054139   0.496174   0.695825          \n",
      "    5      2.256199   1.96968    0.517679   0.711809          \n",
      "    6      2.107029   1.912934   0.526882   0.723046          \n",
      "    7      1.95382    1.869331   0.536956   0.730117          \n",
      "    8      1.888085   1.857584   0.542478   0.732926          \n",
      "    9      1.763142   1.836244   0.545287   0.735542          \n",
      "    10     1.69417    1.830689   0.545772   0.738448          \n",
      "    11     1.673896   1.819312   0.546159   0.738448          \n",
      "\n"
     ]
    },
    {
     "data": {
      "text/plain": [
       "[array([1.81931]), 0.5461590623227384, 0.7384481255679956]"
      ]
     },
     "execution_count": 30,
     "metadata": {},
     "output_type": "execute_result"
    }
   ],
   "source": [
    "learn.fit(0.01, 1, cycle_len=12, metrics=[accuracy, accuracytop3])"
   ]
  },
  {
   "cell_type": "code",
   "execution_count": 15,
   "metadata": {},
   "outputs": [
    {
     "data": {
      "application/vnd.jupyter.widget-view+json": {
       "model_id": "60ba8c23857e4f5aba9f8b2b6af0bf43",
       "version_major": 2,
       "version_minor": 0
      },
      "text/plain": [
       "HBox(children=(IntProgress(value=0, description='Epoch', max=6), HTML(value='')))"
      ]
     },
     "metadata": {},
     "output_type": "display_data"
    },
    {
     "name": "stdout",
     "output_type": "stream",
     "text": [
      "epoch      trn_loss   val_loss   accuracy   accuracytop3      \n",
      "    0      2.346911   2.052323   0.491718   0.697665  \n",
      "    1      2.210721   1.971112   0.51797    0.709484          \n",
      "    2      2.128973   1.909001   0.524557   0.723239          \n",
      "    3      1.912079   1.852386   0.535891   0.732636          \n",
      "    4      1.795439   1.833148   0.541122   0.736414          \n",
      "    5      1.705825   1.831526   0.543447   0.736414          \n",
      "\n"
     ]
    },
    {
     "data": {
      "text/plain": [
       "[array([1.83153]), 0.5434466725135744, 0.7364138331707049]"
      ]
     },
     "execution_count": 15,
     "metadata": {},
     "output_type": "execute_result"
    }
   ],
   "source": [
    "learn.fit(0.005, 1, cycle_len=6, metrics=[accuracy, accuracytop3])"
   ]
  },
  {
   "cell_type": "code",
   "execution_count": 16,
   "metadata": {},
   "outputs": [
    {
     "data": {
      "application/vnd.jupyter.widget-view+json": {
       "model_id": "03dfe2c3256647798b2dec7df862fe45",
       "version_major": 2,
       "version_minor": 0
      },
      "text/plain": [
       "HBox(children=(IntProgress(value=0, description='Epoch', max=6), HTML(value='')))"
      ]
     },
     "metadata": {},
     "output_type": "display_data"
    },
    {
     "name": "stdout",
     "output_type": "stream",
     "text": [
      "epoch      trn_loss   val_loss   accuracy   accuracytop3      \n",
      "    0      1.692069   1.82681    0.54209    0.735542  \n",
      "    1      1.677489   1.824984   0.542769   0.737964          \n",
      "    2      1.628303   1.818196   0.544028   0.738642          \n",
      "    3      1.649466   1.814988   0.542962   0.741064          \n",
      "    4      1.595184   1.817156   0.544222   0.739126          \n",
      "    5      1.594124   1.825406   0.544028   0.740095          \n",
      "\n"
     ]
    },
    {
     "data": {
      "text/plain": [
       "[array([1.82541]), 0.5440278989012524, 0.7400949336259989]"
      ]
     },
     "execution_count": 16,
     "metadata": {},
     "output_type": "execute_result"
    }
   ],
   "source": [
    "learn.fit(0.0005, 1, cycle_len=6, metrics=[accuracy, accuracytop3])"
   ]
  },
  {
   "cell_type": "code",
   "execution_count": 26,
   "metadata": {},
   "outputs": [],
   "source": [
    "learn.unfreeze()\n"
   ]
  },
  {
   "cell_type": "code",
   "execution_count": 18,
   "metadata": {},
   "outputs": [],
   "source": [
    "learn.freeze()"
   ]
  },
  {
   "cell_type": "code",
   "execution_count": 20,
   "metadata": {},
   "outputs": [
    {
     "data": {
      "text/plain": [
       "Sequential(\n",
       "  (0): BatchNorm1d(4096, eps=1e-05, momentum=0.1, affine=True)\n",
       "  (1): Dropout(p=0.25)\n",
       "  (2): Linear(in_features=4096, out_features=512, bias=True)\n",
       "  (3): ReLU()\n",
       "  (4): BatchNorm1d(512, eps=1e-05, momentum=0.1, affine=True)\n",
       "  (5): Dropout(p=0.5)\n",
       "  (6): Linear(in_features=512, out_features=211, bias=True)\n",
       "  (7): LogSoftmax()\n",
       ")"
      ]
     },
     "execution_count": 20,
     "metadata": {},
     "output_type": "execute_result"
    }
   ],
   "source": [
    "learn.pretrained(arch, data, precompute=True, pretrained=False, opt_fn=optim.Adam)"
   ]
  },
  {
   "cell_type": "code",
   "execution_count": 27,
   "metadata": {},
   "outputs": [],
   "source": [
    "lr = np.array([0.0005/49, 0.0005/7, 0.0005])"
   ]
  },
  {
   "cell_type": "code",
   "execution_count": 28,
   "metadata": {},
   "outputs": [
    {
     "data": {
      "application/vnd.jupyter.widget-view+json": {
       "model_id": "a61631d24e9d47ba9c995c80758dfd9e",
       "version_major": 2,
       "version_minor": 0
      },
      "text/plain": [
       "HBox(children=(IntProgress(value=0, description='Epoch', max=32), HTML(value='')))"
      ]
     },
     "metadata": {},
     "output_type": "display_data"
    },
    {
     "name": "stdout",
     "output_type": "stream",
     "text": [
      "epoch      trn_loss   val_loss   accuracy                 \n",
      "    0      1.160915   1.280039   0.653646  \n",
      "    1      1.133338   1.280596   0.651042                 \n",
      "    2      1.152233   1.290179   0.651042                 \n",
      "  0%|          | 0/45 [00:00<?, ?it/s]"
     ]
    },
    {
     "ename": "KeyboardInterrupt",
     "evalue": "",
     "output_type": "error",
     "traceback": [
      "\u001b[0;31m---------------------------------------------------------------------------\u001b[0m",
      "\u001b[0;31mKeyboardInterrupt\u001b[0m                         Traceback (most recent call last)",
      "\u001b[0;32m~/fastai/fastai/dataloader.py\u001b[0m in \u001b[0;36m__iter__\u001b[0;34m(self)\u001b[0m\n\u001b[1;32m     87\u001b[0m                 \u001b[0;32mfor\u001b[0m \u001b[0mc\u001b[0m \u001b[0;32min\u001b[0m \u001b[0mchunk_iter\u001b[0m\u001b[0;34m(\u001b[0m\u001b[0miter\u001b[0m\u001b[0;34m(\u001b[0m\u001b[0mself\u001b[0m\u001b[0;34m.\u001b[0m\u001b[0mbatch_sampler\u001b[0m\u001b[0;34m)\u001b[0m\u001b[0;34m,\u001b[0m \u001b[0mself\u001b[0m\u001b[0;34m.\u001b[0m\u001b[0mnum_workers\u001b[0m\u001b[0;34m*\u001b[0m\u001b[0;36m10\u001b[0m\u001b[0;34m)\u001b[0m\u001b[0;34m:\u001b[0m\u001b[0;34m\u001b[0m\u001b[0m\n\u001b[0;32m---> 88\u001b[0;31m                     \u001b[0;32mfor\u001b[0m \u001b[0mbatch\u001b[0m \u001b[0;32min\u001b[0m \u001b[0me\u001b[0m\u001b[0;34m.\u001b[0m\u001b[0mmap\u001b[0m\u001b[0;34m(\u001b[0m\u001b[0mself\u001b[0m\u001b[0;34m.\u001b[0m\u001b[0mget_batch\u001b[0m\u001b[0;34m,\u001b[0m \u001b[0mc\u001b[0m\u001b[0;34m)\u001b[0m\u001b[0;34m:\u001b[0m\u001b[0;34m\u001b[0m\u001b[0m\n\u001b[0m\u001b[1;32m     89\u001b[0m                         \u001b[0;32myield\u001b[0m \u001b[0mget_tensor\u001b[0m\u001b[0;34m(\u001b[0m\u001b[0mbatch\u001b[0m\u001b[0;34m,\u001b[0m \u001b[0mself\u001b[0m\u001b[0;34m.\u001b[0m\u001b[0mpin_memory\u001b[0m\u001b[0;34m,\u001b[0m \u001b[0mself\u001b[0m\u001b[0;34m.\u001b[0m\u001b[0mhalf\u001b[0m\u001b[0;34m)\u001b[0m\u001b[0;34m\u001b[0m\u001b[0m\n",
      "\u001b[0;32m~/anaconda3/envs/fastai/lib/python3.6/concurrent/futures/_base.py\u001b[0m in \u001b[0;36mresult_iterator\u001b[0;34m()\u001b[0m\n\u001b[1;32m    585\u001b[0m                     \u001b[0;32mif\u001b[0m \u001b[0mtimeout\u001b[0m \u001b[0;32mis\u001b[0m \u001b[0;32mNone\u001b[0m\u001b[0;34m:\u001b[0m\u001b[0;34m\u001b[0m\u001b[0m\n\u001b[0;32m--> 586\u001b[0;31m                         \u001b[0;32myield\u001b[0m \u001b[0mfs\u001b[0m\u001b[0;34m.\u001b[0m\u001b[0mpop\u001b[0m\u001b[0;34m(\u001b[0m\u001b[0;34m)\u001b[0m\u001b[0;34m.\u001b[0m\u001b[0mresult\u001b[0m\u001b[0;34m(\u001b[0m\u001b[0;34m)\u001b[0m\u001b[0;34m\u001b[0m\u001b[0m\n\u001b[0m\u001b[1;32m    587\u001b[0m                     \u001b[0;32melse\u001b[0m\u001b[0;34m:\u001b[0m\u001b[0;34m\u001b[0m\u001b[0m\n",
      "\u001b[0;32m~/anaconda3/envs/fastai/lib/python3.6/concurrent/futures/_base.py\u001b[0m in \u001b[0;36mresult\u001b[0;34m(self, timeout)\u001b[0m\n\u001b[1;32m    426\u001b[0m \u001b[0;34m\u001b[0m\u001b[0m\n\u001b[0;32m--> 427\u001b[0;31m             \u001b[0mself\u001b[0m\u001b[0;34m.\u001b[0m\u001b[0m_condition\u001b[0m\u001b[0;34m.\u001b[0m\u001b[0mwait\u001b[0m\u001b[0;34m(\u001b[0m\u001b[0mtimeout\u001b[0m\u001b[0;34m)\u001b[0m\u001b[0;34m\u001b[0m\u001b[0m\n\u001b[0m\u001b[1;32m    428\u001b[0m \u001b[0;34m\u001b[0m\u001b[0m\n",
      "\u001b[0;32m~/anaconda3/envs/fastai/lib/python3.6/threading.py\u001b[0m in \u001b[0;36mwait\u001b[0;34m(self, timeout)\u001b[0m\n\u001b[1;32m    294\u001b[0m             \u001b[0;32mif\u001b[0m \u001b[0mtimeout\u001b[0m \u001b[0;32mis\u001b[0m \u001b[0;32mNone\u001b[0m\u001b[0;34m:\u001b[0m\u001b[0;34m\u001b[0m\u001b[0m\n\u001b[0;32m--> 295\u001b[0;31m                 \u001b[0mwaiter\u001b[0m\u001b[0;34m.\u001b[0m\u001b[0macquire\u001b[0m\u001b[0;34m(\u001b[0m\u001b[0;34m)\u001b[0m\u001b[0;34m\u001b[0m\u001b[0m\n\u001b[0m\u001b[1;32m    296\u001b[0m                 \u001b[0mgotit\u001b[0m \u001b[0;34m=\u001b[0m \u001b[0;32mTrue\u001b[0m\u001b[0;34m\u001b[0m\u001b[0m\n",
      "\u001b[0;31mKeyboardInterrupt\u001b[0m: ",
      "\nDuring handling of the above exception, another exception occurred:\n",
      "\u001b[0;31mKeyboardInterrupt\u001b[0m                         Traceback (most recent call last)",
      "\u001b[0;32m<ipython-input-28-b71455f1dcb9>\u001b[0m in \u001b[0;36m<module>\u001b[0;34m()\u001b[0m\n\u001b[0;32m----> 1\u001b[0;31m \u001b[0mlearn\u001b[0m\u001b[0;34m.\u001b[0m\u001b[0mfit\u001b[0m\u001b[0;34m(\u001b[0m\u001b[0mlr\u001b[0m\u001b[0;34m,\u001b[0m \u001b[0;36m1\u001b[0m\u001b[0;34m,\u001b[0m \u001b[0mcycle_len\u001b[0m\u001b[0;34m=\u001b[0m\u001b[0;36m32\u001b[0m\u001b[0;34m,\u001b[0m \u001b[0mbest_save_name\u001b[0m\u001b[0;34m=\u001b[0m\u001b[0;34m\"weights_best_resnet_cake\"\u001b[0m\u001b[0;34m)\u001b[0m\u001b[0;34m\u001b[0m\u001b[0m\n\u001b[0m",
      "\u001b[0;32m~/fastai/fastai/learner.py\u001b[0m in \u001b[0;36mfit\u001b[0;34m(self, lrs, n_cycle, wds, **kwargs)\u001b[0m\n\u001b[1;32m    285\u001b[0m         \u001b[0mself\u001b[0m\u001b[0;34m.\u001b[0m\u001b[0msched\u001b[0m \u001b[0;34m=\u001b[0m \u001b[0;32mNone\u001b[0m\u001b[0;34m\u001b[0m\u001b[0m\n\u001b[1;32m    286\u001b[0m         \u001b[0mlayer_opt\u001b[0m \u001b[0;34m=\u001b[0m \u001b[0mself\u001b[0m\u001b[0;34m.\u001b[0m\u001b[0mget_layer_opt\u001b[0m\u001b[0;34m(\u001b[0m\u001b[0mlrs\u001b[0m\u001b[0;34m,\u001b[0m \u001b[0mwds\u001b[0m\u001b[0;34m)\u001b[0m\u001b[0;34m\u001b[0m\u001b[0m\n\u001b[0;32m--> 287\u001b[0;31m         \u001b[0;32mreturn\u001b[0m \u001b[0mself\u001b[0m\u001b[0;34m.\u001b[0m\u001b[0mfit_gen\u001b[0m\u001b[0;34m(\u001b[0m\u001b[0mself\u001b[0m\u001b[0;34m.\u001b[0m\u001b[0mmodel\u001b[0m\u001b[0;34m,\u001b[0m \u001b[0mself\u001b[0m\u001b[0;34m.\u001b[0m\u001b[0mdata\u001b[0m\u001b[0;34m,\u001b[0m \u001b[0mlayer_opt\u001b[0m\u001b[0;34m,\u001b[0m \u001b[0mn_cycle\u001b[0m\u001b[0;34m,\u001b[0m \u001b[0;34m**\u001b[0m\u001b[0mkwargs\u001b[0m\u001b[0;34m)\u001b[0m\u001b[0;34m\u001b[0m\u001b[0m\n\u001b[0m\u001b[1;32m    288\u001b[0m \u001b[0;34m\u001b[0m\u001b[0m\n\u001b[1;32m    289\u001b[0m     \u001b[0;32mdef\u001b[0m \u001b[0mwarm_up\u001b[0m\u001b[0;34m(\u001b[0m\u001b[0mself\u001b[0m\u001b[0;34m,\u001b[0m \u001b[0mlr\u001b[0m\u001b[0;34m,\u001b[0m \u001b[0mwds\u001b[0m\u001b[0;34m=\u001b[0m\u001b[0;32mNone\u001b[0m\u001b[0;34m)\u001b[0m\u001b[0;34m:\u001b[0m\u001b[0;34m\u001b[0m\u001b[0m\n",
      "\u001b[0;32m~/fastai/fastai/learner.py\u001b[0m in \u001b[0;36mfit_gen\u001b[0;34m(self, model, data, layer_opt, n_cycle, cycle_len, cycle_mult, cycle_save_name, best_save_name, use_clr, use_clr_beta, metrics, callbacks, use_wd_sched, norm_wds, wds_sched_mult, use_swa, swa_start, swa_eval_freq, **kwargs)\u001b[0m\n\u001b[1;32m    232\u001b[0m             \u001b[0mmetrics\u001b[0m\u001b[0;34m=\u001b[0m\u001b[0mmetrics\u001b[0m\u001b[0;34m,\u001b[0m \u001b[0mcallbacks\u001b[0m\u001b[0;34m=\u001b[0m\u001b[0mcallbacks\u001b[0m\u001b[0;34m,\u001b[0m \u001b[0mreg_fn\u001b[0m\u001b[0;34m=\u001b[0m\u001b[0mself\u001b[0m\u001b[0;34m.\u001b[0m\u001b[0mreg_fn\u001b[0m\u001b[0;34m,\u001b[0m \u001b[0mclip\u001b[0m\u001b[0;34m=\u001b[0m\u001b[0mself\u001b[0m\u001b[0;34m.\u001b[0m\u001b[0mclip\u001b[0m\u001b[0;34m,\u001b[0m \u001b[0mfp16\u001b[0m\u001b[0;34m=\u001b[0m\u001b[0mself\u001b[0m\u001b[0;34m.\u001b[0m\u001b[0mfp16\u001b[0m\u001b[0;34m,\u001b[0m\u001b[0;34m\u001b[0m\u001b[0m\n\u001b[1;32m    233\u001b[0m             \u001b[0mswa_model\u001b[0m\u001b[0;34m=\u001b[0m\u001b[0mself\u001b[0m\u001b[0;34m.\u001b[0m\u001b[0mswa_model\u001b[0m \u001b[0;32mif\u001b[0m \u001b[0muse_swa\u001b[0m \u001b[0;32melse\u001b[0m \u001b[0;32mNone\u001b[0m\u001b[0;34m,\u001b[0m \u001b[0mswa_start\u001b[0m\u001b[0;34m=\u001b[0m\u001b[0mswa_start\u001b[0m\u001b[0;34m,\u001b[0m\u001b[0;34m\u001b[0m\u001b[0m\n\u001b[0;32m--> 234\u001b[0;31m             swa_eval_freq=swa_eval_freq, **kwargs)\n\u001b[0m\u001b[1;32m    235\u001b[0m \u001b[0;34m\u001b[0m\u001b[0m\n\u001b[1;32m    236\u001b[0m     \u001b[0;32mdef\u001b[0m \u001b[0mget_layer_groups\u001b[0m\u001b[0;34m(\u001b[0m\u001b[0mself\u001b[0m\u001b[0;34m)\u001b[0m\u001b[0;34m:\u001b[0m \u001b[0;32mreturn\u001b[0m \u001b[0mself\u001b[0m\u001b[0;34m.\u001b[0m\u001b[0mmodels\u001b[0m\u001b[0;34m.\u001b[0m\u001b[0mget_layer_groups\u001b[0m\u001b[0;34m(\u001b[0m\u001b[0;34m)\u001b[0m\u001b[0;34m\u001b[0m\u001b[0m\n",
      "\u001b[0;32m~/fastai/fastai/model.py\u001b[0m in \u001b[0;36mfit\u001b[0;34m(model, data, n_epochs, opt, crit, metrics, callbacks, stepper, swa_model, swa_start, swa_eval_freq, **kwargs)\u001b[0m\n\u001b[1;32m    133\u001b[0m         \u001b[0;32mif\u001b[0m \u001b[0mall_val\u001b[0m\u001b[0;34m:\u001b[0m \u001b[0mval_iter\u001b[0m \u001b[0;34m=\u001b[0m \u001b[0mIterBatch\u001b[0m\u001b[0;34m(\u001b[0m\u001b[0mcur_data\u001b[0m\u001b[0;34m.\u001b[0m\u001b[0mval_dl\u001b[0m\u001b[0;34m)\u001b[0m\u001b[0;34m\u001b[0m\u001b[0m\n\u001b[1;32m    134\u001b[0m \u001b[0;34m\u001b[0m\u001b[0m\n\u001b[0;32m--> 135\u001b[0;31m         \u001b[0;32mfor\u001b[0m \u001b[0;34m(\u001b[0m\u001b[0;34m*\u001b[0m\u001b[0mx\u001b[0m\u001b[0;34m,\u001b[0m\u001b[0my\u001b[0m\u001b[0;34m)\u001b[0m \u001b[0;32min\u001b[0m \u001b[0mt\u001b[0m\u001b[0;34m:\u001b[0m\u001b[0;34m\u001b[0m\u001b[0m\n\u001b[0m\u001b[1;32m    136\u001b[0m             \u001b[0mbatch_num\u001b[0m \u001b[0;34m+=\u001b[0m \u001b[0;36m1\u001b[0m\u001b[0;34m\u001b[0m\u001b[0m\n\u001b[1;32m    137\u001b[0m             \u001b[0;32mfor\u001b[0m \u001b[0mcb\u001b[0m \u001b[0;32min\u001b[0m \u001b[0mcallbacks\u001b[0m\u001b[0;34m:\u001b[0m \u001b[0mcb\u001b[0m\u001b[0;34m.\u001b[0m\u001b[0mon_batch_begin\u001b[0m\u001b[0;34m(\u001b[0m\u001b[0;34m)\u001b[0m\u001b[0;34m\u001b[0m\u001b[0m\n",
      "\u001b[0;32m~/anaconda3/envs/fastai/lib/python3.6/site-packages/tqdm/_tqdm.py\u001b[0m in \u001b[0;36m__iter__\u001b[0;34m(self)\u001b[0m\n\u001b[1;32m    925\u001b[0m \"\"\", fp_write=getattr(self.fp, 'write', sys.stderr.write))\n\u001b[1;32m    926\u001b[0m \u001b[0;34m\u001b[0m\u001b[0m\n\u001b[0;32m--> 927\u001b[0;31m             \u001b[0;32mfor\u001b[0m \u001b[0mobj\u001b[0m \u001b[0;32min\u001b[0m \u001b[0miterable\u001b[0m\u001b[0;34m:\u001b[0m\u001b[0;34m\u001b[0m\u001b[0m\n\u001b[0m\u001b[1;32m    928\u001b[0m                 \u001b[0;32myield\u001b[0m \u001b[0mobj\u001b[0m\u001b[0;34m\u001b[0m\u001b[0m\n\u001b[1;32m    929\u001b[0m                 \u001b[0;31m# Update and possibly print the progressbar.\u001b[0m\u001b[0;34m\u001b[0m\u001b[0;34m\u001b[0m\u001b[0m\n",
      "\u001b[0;32m~/fastai/fastai/dataloader.py\u001b[0m in \u001b[0;36m__iter__\u001b[0;34m(self)\u001b[0m\n\u001b[1;32m     87\u001b[0m                 \u001b[0;32mfor\u001b[0m \u001b[0mc\u001b[0m \u001b[0;32min\u001b[0m \u001b[0mchunk_iter\u001b[0m\u001b[0;34m(\u001b[0m\u001b[0miter\u001b[0m\u001b[0;34m(\u001b[0m\u001b[0mself\u001b[0m\u001b[0;34m.\u001b[0m\u001b[0mbatch_sampler\u001b[0m\u001b[0;34m)\u001b[0m\u001b[0;34m,\u001b[0m \u001b[0mself\u001b[0m\u001b[0;34m.\u001b[0m\u001b[0mnum_workers\u001b[0m\u001b[0;34m*\u001b[0m\u001b[0;36m10\u001b[0m\u001b[0;34m)\u001b[0m\u001b[0;34m:\u001b[0m\u001b[0;34m\u001b[0m\u001b[0m\n\u001b[1;32m     88\u001b[0m                     \u001b[0;32mfor\u001b[0m \u001b[0mbatch\u001b[0m \u001b[0;32min\u001b[0m \u001b[0me\u001b[0m\u001b[0;34m.\u001b[0m\u001b[0mmap\u001b[0m\u001b[0;34m(\u001b[0m\u001b[0mself\u001b[0m\u001b[0;34m.\u001b[0m\u001b[0mget_batch\u001b[0m\u001b[0;34m,\u001b[0m \u001b[0mc\u001b[0m\u001b[0;34m)\u001b[0m\u001b[0;34m:\u001b[0m\u001b[0;34m\u001b[0m\u001b[0m\n\u001b[0;32m---> 89\u001b[0;31m                         \u001b[0;32myield\u001b[0m \u001b[0mget_tensor\u001b[0m\u001b[0;34m(\u001b[0m\u001b[0mbatch\u001b[0m\u001b[0;34m,\u001b[0m \u001b[0mself\u001b[0m\u001b[0;34m.\u001b[0m\u001b[0mpin_memory\u001b[0m\u001b[0;34m,\u001b[0m \u001b[0mself\u001b[0m\u001b[0;34m.\u001b[0m\u001b[0mhalf\u001b[0m\u001b[0;34m)\u001b[0m\u001b[0;34m\u001b[0m\u001b[0m\n\u001b[0m\u001b[1;32m     90\u001b[0m \u001b[0;34m\u001b[0m\u001b[0m\n",
      "\u001b[0;32m~/anaconda3/envs/fastai/lib/python3.6/concurrent/futures/_base.py\u001b[0m in \u001b[0;36m__exit__\u001b[0;34m(self, exc_type, exc_val, exc_tb)\u001b[0m\n\u001b[1;32m    609\u001b[0m \u001b[0;34m\u001b[0m\u001b[0m\n\u001b[1;32m    610\u001b[0m     \u001b[0;32mdef\u001b[0m \u001b[0m__exit__\u001b[0m\u001b[0;34m(\u001b[0m\u001b[0mself\u001b[0m\u001b[0;34m,\u001b[0m \u001b[0mexc_type\u001b[0m\u001b[0;34m,\u001b[0m \u001b[0mexc_val\u001b[0m\u001b[0;34m,\u001b[0m \u001b[0mexc_tb\u001b[0m\u001b[0;34m)\u001b[0m\u001b[0;34m:\u001b[0m\u001b[0;34m\u001b[0m\u001b[0m\n\u001b[0;32m--> 611\u001b[0;31m         \u001b[0mself\u001b[0m\u001b[0;34m.\u001b[0m\u001b[0mshutdown\u001b[0m\u001b[0;34m(\u001b[0m\u001b[0mwait\u001b[0m\u001b[0;34m=\u001b[0m\u001b[0;32mTrue\u001b[0m\u001b[0;34m)\u001b[0m\u001b[0;34m\u001b[0m\u001b[0m\n\u001b[0m\u001b[1;32m    612\u001b[0m         \u001b[0;32mreturn\u001b[0m \u001b[0;32mFalse\u001b[0m\u001b[0;34m\u001b[0m\u001b[0m\n",
      "\u001b[0;32m~/anaconda3/envs/fastai/lib/python3.6/concurrent/futures/thread.py\u001b[0m in \u001b[0;36mshutdown\u001b[0;34m(self, wait)\u001b[0m\n\u001b[1;32m    150\u001b[0m         \u001b[0;32mif\u001b[0m \u001b[0mwait\u001b[0m\u001b[0;34m:\u001b[0m\u001b[0;34m\u001b[0m\u001b[0m\n\u001b[1;32m    151\u001b[0m             \u001b[0;32mfor\u001b[0m \u001b[0mt\u001b[0m \u001b[0;32min\u001b[0m \u001b[0mself\u001b[0m\u001b[0;34m.\u001b[0m\u001b[0m_threads\u001b[0m\u001b[0;34m:\u001b[0m\u001b[0;34m\u001b[0m\u001b[0m\n\u001b[0;32m--> 152\u001b[0;31m                 \u001b[0mt\u001b[0m\u001b[0;34m.\u001b[0m\u001b[0mjoin\u001b[0m\u001b[0;34m(\u001b[0m\u001b[0;34m)\u001b[0m\u001b[0;34m\u001b[0m\u001b[0m\n\u001b[0m\u001b[1;32m    153\u001b[0m     \u001b[0mshutdown\u001b[0m\u001b[0;34m.\u001b[0m\u001b[0m__doc__\u001b[0m \u001b[0;34m=\u001b[0m \u001b[0m_base\u001b[0m\u001b[0;34m.\u001b[0m\u001b[0mExecutor\u001b[0m\u001b[0;34m.\u001b[0m\u001b[0mshutdown\u001b[0m\u001b[0;34m.\u001b[0m\u001b[0m__doc__\u001b[0m\u001b[0;34m\u001b[0m\u001b[0m\n",
      "\u001b[0;32m~/anaconda3/envs/fastai/lib/python3.6/threading.py\u001b[0m in \u001b[0;36mjoin\u001b[0;34m(self, timeout)\u001b[0m\n\u001b[1;32m   1054\u001b[0m \u001b[0;34m\u001b[0m\u001b[0m\n\u001b[1;32m   1055\u001b[0m         \u001b[0;32mif\u001b[0m \u001b[0mtimeout\u001b[0m \u001b[0;32mis\u001b[0m \u001b[0;32mNone\u001b[0m\u001b[0;34m:\u001b[0m\u001b[0;34m\u001b[0m\u001b[0m\n\u001b[0;32m-> 1056\u001b[0;31m             \u001b[0mself\u001b[0m\u001b[0;34m.\u001b[0m\u001b[0m_wait_for_tstate_lock\u001b[0m\u001b[0;34m(\u001b[0m\u001b[0;34m)\u001b[0m\u001b[0;34m\u001b[0m\u001b[0m\n\u001b[0m\u001b[1;32m   1057\u001b[0m         \u001b[0;32melse\u001b[0m\u001b[0;34m:\u001b[0m\u001b[0;34m\u001b[0m\u001b[0m\n\u001b[1;32m   1058\u001b[0m             \u001b[0;31m# the behavior of a negative timeout isn't documented, but\u001b[0m\u001b[0;34m\u001b[0m\u001b[0;34m\u001b[0m\u001b[0m\n",
      "\u001b[0;32m~/anaconda3/envs/fastai/lib/python3.6/threading.py\u001b[0m in \u001b[0;36m_wait_for_tstate_lock\u001b[0;34m(self, block, timeout)\u001b[0m\n\u001b[1;32m   1070\u001b[0m         \u001b[0;32mif\u001b[0m \u001b[0mlock\u001b[0m \u001b[0;32mis\u001b[0m \u001b[0;32mNone\u001b[0m\u001b[0;34m:\u001b[0m  \u001b[0;31m# already determined that the C code is done\u001b[0m\u001b[0;34m\u001b[0m\u001b[0m\n\u001b[1;32m   1071\u001b[0m             \u001b[0;32massert\u001b[0m \u001b[0mself\u001b[0m\u001b[0;34m.\u001b[0m\u001b[0m_is_stopped\u001b[0m\u001b[0;34m\u001b[0m\u001b[0m\n\u001b[0;32m-> 1072\u001b[0;31m         \u001b[0;32melif\u001b[0m \u001b[0mlock\u001b[0m\u001b[0;34m.\u001b[0m\u001b[0macquire\u001b[0m\u001b[0;34m(\u001b[0m\u001b[0mblock\u001b[0m\u001b[0;34m,\u001b[0m \u001b[0mtimeout\u001b[0m\u001b[0;34m)\u001b[0m\u001b[0;34m:\u001b[0m\u001b[0;34m\u001b[0m\u001b[0m\n\u001b[0m\u001b[1;32m   1073\u001b[0m             \u001b[0mlock\u001b[0m\u001b[0;34m.\u001b[0m\u001b[0mrelease\u001b[0m\u001b[0;34m(\u001b[0m\u001b[0;34m)\u001b[0m\u001b[0;34m\u001b[0m\u001b[0m\n\u001b[1;32m   1074\u001b[0m             \u001b[0mself\u001b[0m\u001b[0;34m.\u001b[0m\u001b[0m_stop\u001b[0m\u001b[0;34m(\u001b[0m\u001b[0;34m)\u001b[0m\u001b[0;34m\u001b[0m\u001b[0m\n",
      "\u001b[0;31mKeyboardInterrupt\u001b[0m: "
     ]
    }
   ],
   "source": [
    "learn.fit(lr, 1, cycle_len=32, best_save_name=\"weights_best_resnet_cake\")"
   ]
  },
  {
   "cell_type": "code",
   "execution_count": 30,
   "metadata": {},
   "outputs": [],
   "source": [
    "learn.load(\"weights_best_resnet_cake\")"
   ]
  },
  {
   "cell_type": "code",
   "execution_count": 31,
   "metadata": {},
   "outputs": [],
   "source": [
    "learn.freeze()"
   ]
  },
  {
   "cell_type": "code",
   "execution_count": null,
   "metadata": {},
   "outputs": [
    {
     "data": {
      "application/vnd.jupyter.widget-view+json": {
       "model_id": "8713589723d34530941a0938b27ea24d",
       "version_major": 2,
       "version_minor": 0
      },
      "text/plain": [
       "HBox(children=(IntProgress(value=0, description='Epoch', max=1), HTML(value='')))"
      ]
     },
     "metadata": {},
     "output_type": "display_data"
    },
    {
     "name": "stdout",
     "output_type": "stream",
     "text": [
      "\r",
      "  0%|          | 0/45 [00:00<?, ?it/s]"
     ]
    }
   ],
   "source": [
    "learn.fit(1e-3, 1, cycle_len=1, best_save_name=\"weights_best_resnet_cake\")"
   ]
  },
  {
   "cell_type": "code",
   "execution_count": 21,
   "metadata": {},
   "outputs": [],
   "source": [
    "learn = ConvLearner.pretrained(arch,data, ps=0.6, precompute=True, opt_fn=optim.Adam, xtra_fc=[1024, 512])"
   ]
  },
  {
   "cell_type": "code",
   "execution_count": 22,
   "metadata": {},
   "outputs": [
    {
     "data": {
      "text/plain": [
       "Sequential(\n",
       "  (0): BatchNorm1d(4096, eps=1e-05, momentum=0.1, affine=True)\n",
       "  (1): Dropout(p=0.6)\n",
       "  (2): Linear(in_features=4096, out_features=1024, bias=True)\n",
       "  (3): ReLU()\n",
       "  (4): BatchNorm1d(1024, eps=1e-05, momentum=0.1, affine=True)\n",
       "  (5): Dropout(p=0.6)\n",
       "  (6): Linear(in_features=1024, out_features=512, bias=True)\n",
       "  (7): ReLU()\n",
       "  (8): BatchNorm1d(512, eps=1e-05, momentum=0.1, affine=True)\n",
       "  (9): Dropout(p=0.6)\n",
       "  (10): Linear(in_features=512, out_features=211, bias=True)\n",
       "  (11): LogSoftmax()\n",
       ")"
      ]
     },
     "execution_count": 22,
     "metadata": {},
     "output_type": "execute_result"
    }
   ],
   "source": [
    "learn"
   ]
  },
  {
   "cell_type": "code",
   "execution_count": 23,
   "metadata": {},
   "outputs": [
    {
     "data": {
      "application/vnd.jupyter.widget-view+json": {
       "model_id": "44fb40eeeb734f19a0761a1506feb609",
       "version_major": 2,
       "version_minor": 0
      },
      "text/plain": [
       "HBox(children=(IntProgress(value=0, description='Epoch', max=6), HTML(value='')))"
      ]
     },
     "metadata": {},
     "output_type": "display_data"
    },
    {
     "name": "stdout",
     "output_type": "stream",
     "text": [
      "epoch      trn_loss   val_loss   accuracy   accuracytop3      \n",
      "    0      3.217058   2.450848   0.414124   0.629856  \n",
      "    1      2.932224   2.197088   0.463722   0.680132          \n",
      "    2      2.741302   2.051458   0.499952   0.705028          \n",
      "    3      2.585082   1.937469   0.526979   0.725564          \n",
      "    4      2.473964   1.870364   0.539959   0.735542          \n",
      "    5      2.452849   1.8622     0.540831   0.734476          \n",
      "\n"
     ]
    },
    {
     "data": {
      "text/plain": [
       "[array([1.8622]), 0.5408311537545885, 0.7344764119477324]"
      ]
     },
     "execution_count": 23,
     "metadata": {},
     "output_type": "execute_result"
    }
   ],
   "source": [
    "learn.fit(0.005, 1, cycle_len=6, metrics=[accuracy, accuracytop3])"
   ]
  },
  {
   "cell_type": "code",
   "execution_count": 24,
   "metadata": {},
   "outputs": [
    {
     "data": {
      "application/vnd.jupyter.widget-view+json": {
       "model_id": "1097e4f5344641938b0829f922465572",
       "version_major": 2,
       "version_minor": 0
      },
      "text/plain": [
       "HBox(children=(IntProgress(value=0, description='Epoch', max=6), HTML(value='')))"
      ]
     },
     "metadata": {},
     "output_type": "display_data"
    },
    {
     "name": "stdout",
     "output_type": "stream",
     "text": [
      "epoch      trn_loss   val_loss   accuracy   accuracytop3      \n",
      "    0      3.022655   2.196406   0.466725   0.670251  \n",
      "    1      2.855193   2.076077   0.491814   0.695631          \n",
      "    2      2.73697    1.974355   0.512642   0.71578           \n",
      "    3      2.489848   1.875302   0.534825   0.733217          \n",
      "    4      2.406375   1.834186   0.541994   0.739611          \n",
      "    5      2.312918   1.821758   0.548678   0.74087           \n",
      "\n"
     ]
    },
    {
     "data": {
      "text/plain": [
       "[array([1.82176]), 0.5486777099622586, 0.7408699022121904]"
      ]
     },
     "execution_count": 24,
     "metadata": {},
     "output_type": "execute_result"
    }
   ],
   "source": [
    "learn.fit(0.008, 1, cycle_len=6, metrics=[accuracy, accuracytop3])"
   ]
  },
  {
   "cell_type": "code",
   "execution_count": 39,
   "metadata": {},
   "outputs": [],
   "source": [
    "learn.save('wt2')"
   ]
  },
  {
   "cell_type": "code",
   "execution_count": 40,
   "metadata": {},
   "outputs": [],
   "source": [
    "learn = ConvLearner.pretrained(arch,data, ps=0, precompute=True, opt_fn=optim.Adam, xtra_fc=[1024, 512])"
   ]
  },
  {
   "cell_type": "code",
   "execution_count": 41,
   "metadata": {},
   "outputs": [
    {
     "ename": "KeyError",
     "evalue": "'unexpected key \"2.weight\" in state_dict'",
     "output_type": "error",
     "traceback": [
      "\u001b[0;31m---------------------------------------------------------------------------\u001b[0m",
      "\u001b[0;31mKeyError\u001b[0m                                  Traceback (most recent call last)",
      "\u001b[0;32m<ipython-input-41-81d18c796578>\u001b[0m in \u001b[0;36m<module>\u001b[0;34m()\u001b[0m\n\u001b[0;32m----> 1\u001b[0;31m \u001b[0mlearn\u001b[0m\u001b[0;34m.\u001b[0m\u001b[0mload\u001b[0m\u001b[0;34m(\u001b[0m\u001b[0;34m'wt2'\u001b[0m\u001b[0;34m)\u001b[0m\u001b[0;34m\u001b[0m\u001b[0m\n\u001b[0m",
      "\u001b[0;32m~/fastai/fastai/learner.py\u001b[0m in \u001b[0;36mload\u001b[0;34m(self, name)\u001b[0m\n\u001b[1;32m     94\u001b[0m \u001b[0;34m\u001b[0m\u001b[0m\n\u001b[1;32m     95\u001b[0m     \u001b[0;32mdef\u001b[0m \u001b[0mload\u001b[0m\u001b[0;34m(\u001b[0m\u001b[0mself\u001b[0m\u001b[0;34m,\u001b[0m \u001b[0mname\u001b[0m\u001b[0;34m)\u001b[0m\u001b[0;34m:\u001b[0m\u001b[0;34m\u001b[0m\u001b[0m\n\u001b[0;32m---> 96\u001b[0;31m         \u001b[0mload_model\u001b[0m\u001b[0;34m(\u001b[0m\u001b[0mself\u001b[0m\u001b[0;34m.\u001b[0m\u001b[0mmodel\u001b[0m\u001b[0;34m,\u001b[0m \u001b[0mself\u001b[0m\u001b[0;34m.\u001b[0m\u001b[0mget_model_path\u001b[0m\u001b[0;34m(\u001b[0m\u001b[0mname\u001b[0m\u001b[0;34m)\u001b[0m\u001b[0;34m)\u001b[0m\u001b[0;34m\u001b[0m\u001b[0m\n\u001b[0m\u001b[1;32m     97\u001b[0m         \u001b[0;32mif\u001b[0m \u001b[0mhasattr\u001b[0m\u001b[0;34m(\u001b[0m\u001b[0mself\u001b[0m\u001b[0;34m,\u001b[0m \u001b[0;34m'swa_model'\u001b[0m\u001b[0;34m)\u001b[0m\u001b[0;34m:\u001b[0m \u001b[0mload_model\u001b[0m\u001b[0;34m(\u001b[0m\u001b[0mself\u001b[0m\u001b[0;34m.\u001b[0m\u001b[0mswa_model\u001b[0m\u001b[0;34m,\u001b[0m \u001b[0mself\u001b[0m\u001b[0;34m.\u001b[0m\u001b[0mget_model_path\u001b[0m\u001b[0;34m(\u001b[0m\u001b[0mname\u001b[0m\u001b[0;34m)\u001b[0m\u001b[0;34m[\u001b[0m\u001b[0;34m:\u001b[0m\u001b[0;34m-\u001b[0m\u001b[0;36m3\u001b[0m\u001b[0;34m]\u001b[0m\u001b[0;34m+\u001b[0m\u001b[0;34m'-swa.h5'\u001b[0m\u001b[0;34m)\u001b[0m\u001b[0;34m\u001b[0m\u001b[0m\n\u001b[1;32m     98\u001b[0m \u001b[0;34m\u001b[0m\u001b[0m\n",
      "\u001b[0;32m~/fastai/fastai/torch_imports.py\u001b[0m in \u001b[0;36mload_model\u001b[0;34m(m, p)\u001b[0m\n\u001b[1;32m     25\u001b[0m \u001b[0;32mdef\u001b[0m \u001b[0mchildren\u001b[0m\u001b[0;34m(\u001b[0m\u001b[0mm\u001b[0m\u001b[0;34m)\u001b[0m\u001b[0;34m:\u001b[0m \u001b[0;32mreturn\u001b[0m \u001b[0mm\u001b[0m \u001b[0;32mif\u001b[0m \u001b[0misinstance\u001b[0m\u001b[0;34m(\u001b[0m\u001b[0mm\u001b[0m\u001b[0;34m,\u001b[0m \u001b[0;34m(\u001b[0m\u001b[0mlist\u001b[0m\u001b[0;34m,\u001b[0m \u001b[0mtuple\u001b[0m\u001b[0;34m)\u001b[0m\u001b[0;34m)\u001b[0m \u001b[0;32melse\u001b[0m \u001b[0mlist\u001b[0m\u001b[0;34m(\u001b[0m\u001b[0mm\u001b[0m\u001b[0;34m.\u001b[0m\u001b[0mchildren\u001b[0m\u001b[0;34m(\u001b[0m\u001b[0;34m)\u001b[0m\u001b[0;34m)\u001b[0m\u001b[0;34m\u001b[0m\u001b[0m\n\u001b[1;32m     26\u001b[0m \u001b[0;32mdef\u001b[0m \u001b[0msave_model\u001b[0m\u001b[0;34m(\u001b[0m\u001b[0mm\u001b[0m\u001b[0;34m,\u001b[0m \u001b[0mp\u001b[0m\u001b[0;34m)\u001b[0m\u001b[0;34m:\u001b[0m \u001b[0mtorch\u001b[0m\u001b[0;34m.\u001b[0m\u001b[0msave\u001b[0m\u001b[0;34m(\u001b[0m\u001b[0mm\u001b[0m\u001b[0;34m.\u001b[0m\u001b[0mstate_dict\u001b[0m\u001b[0;34m(\u001b[0m\u001b[0;34m)\u001b[0m\u001b[0;34m,\u001b[0m \u001b[0mp\u001b[0m\u001b[0;34m)\u001b[0m\u001b[0;34m\u001b[0m\u001b[0m\n\u001b[0;32m---> 27\u001b[0;31m \u001b[0;32mdef\u001b[0m \u001b[0mload_model\u001b[0m\u001b[0;34m(\u001b[0m\u001b[0mm\u001b[0m\u001b[0;34m,\u001b[0m \u001b[0mp\u001b[0m\u001b[0;34m)\u001b[0m\u001b[0;34m:\u001b[0m \u001b[0mm\u001b[0m\u001b[0;34m.\u001b[0m\u001b[0mload_state_dict\u001b[0m\u001b[0;34m(\u001b[0m\u001b[0mtorch\u001b[0m\u001b[0;34m.\u001b[0m\u001b[0mload\u001b[0m\u001b[0;34m(\u001b[0m\u001b[0mp\u001b[0m\u001b[0;34m,\u001b[0m \u001b[0mmap_location\u001b[0m\u001b[0;34m=\u001b[0m\u001b[0;32mlambda\u001b[0m \u001b[0mstorage\u001b[0m\u001b[0;34m,\u001b[0m \u001b[0mloc\u001b[0m\u001b[0;34m:\u001b[0m \u001b[0mstorage\u001b[0m\u001b[0;34m)\u001b[0m\u001b[0;34m)\u001b[0m\u001b[0;34m\u001b[0m\u001b[0m\n\u001b[0m\u001b[1;32m     28\u001b[0m \u001b[0;34m\u001b[0m\u001b[0m\n\u001b[1;32m     29\u001b[0m \u001b[0;32mdef\u001b[0m \u001b[0mload_pre\u001b[0m\u001b[0;34m(\u001b[0m\u001b[0mpre\u001b[0m\u001b[0;34m,\u001b[0m \u001b[0mf\u001b[0m\u001b[0;34m,\u001b[0m \u001b[0mfn\u001b[0m\u001b[0;34m)\u001b[0m\u001b[0;34m:\u001b[0m\u001b[0;34m\u001b[0m\u001b[0m\n",
      "\u001b[0;32m~/anaconda3/envs/fastai/lib/python3.6/site-packages/torch/nn/modules/module.py\u001b[0m in \u001b[0;36mload_state_dict\u001b[0;34m(self, state_dict, strict)\u001b[0m\n\u001b[1;32m    520\u001b[0m             \u001b[0;32melif\u001b[0m \u001b[0mstrict\u001b[0m\u001b[0;34m:\u001b[0m\u001b[0;34m\u001b[0m\u001b[0m\n\u001b[1;32m    521\u001b[0m                 raise KeyError('unexpected key \"{}\" in state_dict'\n\u001b[0;32m--> 522\u001b[0;31m                                .format(name))\n\u001b[0m\u001b[1;32m    523\u001b[0m         \u001b[0;32mif\u001b[0m \u001b[0mstrict\u001b[0m\u001b[0;34m:\u001b[0m\u001b[0;34m\u001b[0m\u001b[0m\n\u001b[1;32m    524\u001b[0m             \u001b[0mmissing\u001b[0m \u001b[0;34m=\u001b[0m \u001b[0mset\u001b[0m\u001b[0;34m(\u001b[0m\u001b[0mown_state\u001b[0m\u001b[0;34m.\u001b[0m\u001b[0mkeys\u001b[0m\u001b[0;34m(\u001b[0m\u001b[0;34m)\u001b[0m\u001b[0;34m)\u001b[0m \u001b[0;34m-\u001b[0m \u001b[0mset\u001b[0m\u001b[0;34m(\u001b[0m\u001b[0mstate_dict\u001b[0m\u001b[0;34m.\u001b[0m\u001b[0mkeys\u001b[0m\u001b[0;34m(\u001b[0m\u001b[0;34m)\u001b[0m\u001b[0;34m)\u001b[0m\u001b[0;34m\u001b[0m\u001b[0m\n",
      "\u001b[0;31mKeyError\u001b[0m: 'unexpected key \"2.weight\" in state_dict'"
     ]
    }
   ],
   "source": [
    "learn.load('wt2')"
   ]
  },
  {
   "cell_type": "code",
   "execution_count": 31,
   "metadata": {},
   "outputs": [
    {
     "data": {
      "application/vnd.jupyter.widget-view+json": {
       "model_id": "fa63d792abb5499ab115ef6a28b9a7ad",
       "version_major": 2,
       "version_minor": 0
      },
      "text/plain": [
       "HBox(children=(IntProgress(value=0, description='Epoch', max=6), HTML(value='')))"
      ]
     },
     "metadata": {},
     "output_type": "display_data"
    },
    {
     "name": "stdout",
     "output_type": "stream",
     "text": [
      "epoch      trn_loss   val_loss   accuracy   accuracytop3      \n",
      "    0      3.255326   2.090952   0.517582   0.720527  \n",
      "    1      3.150526   2.086937   0.517485   0.717136          \n",
      "    2      3.133677   2.093654   0.515354   0.714424          \n",
      "    3      3.059607   2.080562   0.51177    0.714521          \n",
      "    4      3.065541   2.078168   0.517776   0.714812          \n",
      "    5      3.031553   2.065968   0.516904   0.716749          \n",
      "\n"
     ]
    },
    {
     "data": {
      "text/plain": [
       "[array([2.06597]), 0.5169040007691945, 0.716749007025396]"
      ]
     },
     "execution_count": 31,
     "metadata": {},
     "output_type": "execute_result"
    }
   ],
   "source": [
    "learn.fit(0.002, 1, cycle_len=6, metrics=[accuracy, accuracytop3])"
   ]
  },
  {
   "cell_type": "code",
   "execution_count": 27,
   "metadata": {},
   "outputs": [],
   "source": [
    "## 26\n",
    "def accuracytop5(preds, targs):\n",
    "    preds_5 = preds.sort(dim=1, descending=True)[1][:, :5]\n",
    "    return ((preds_5[:, 0] == targs) + (preds_5[:, 1] == targs) + (preds_5[:, 2] == targs) + (preds_5[:, 3] == targs) + (preds_5[:, 4] == targs)).float().mean()"
   ]
  },
  {
   "cell_type": "code",
   "execution_count": 17,
   "metadata": {},
   "outputs": [
    {
     "data": {
      "application/vnd.jupyter.widget-view+json": {
       "model_id": "76956b2dd45e4ed898b6df264bbdd5ae",
       "version_major": 2,
       "version_minor": 0
      },
      "text/plain": [
       "HBox(children=(IntProgress(value=0, description='Epoch', max=1), HTML(value='')))"
      ]
     },
     "metadata": {},
     "output_type": "display_data"
    },
    {
     "name": "stdout",
     "output_type": "stream",
     "text": [
      "epoch      trn_loss   val_loss   accuracy   accuracytop3 accuracytop5 \n",
      "    0      2.190248   2.020182   0.506829   0.700184   0.774872  \n"
     ]
    },
    {
     "data": {
      "text/plain": [
       "[array([2.02018]), 0.5068294100494426, 0.7001840550054428, 0.7748716458220659]"
      ]
     },
     "execution_count": 17,
     "metadata": {},
     "output_type": "execute_result"
    }
   ],
   "source": [
    "learn.fit(0.0001, 1, cycle_len=1, metrics=[accuracy, accuracytop3, accuracytop5])"
   ]
  },
  {
   "cell_type": "code",
   "execution_count": 26,
   "metadata": {},
   "outputs": [],
   "source": [
    "learn.set_data(get_data(299,bs))"
   ]
  },
  {
   "cell_type": "code",
   "execution_count": 25,
   "metadata": {},
   "outputs": [],
   "source": [
    "learn = ConvLearner.pretrained(arch,data, precompute=True, opt_fn=optim.Adam)"
   ]
  },
  {
   "cell_type": "code",
   "execution_count": 26,
   "metadata": {},
   "outputs": [
    {
     "data": {
      "application/vnd.jupyter.widget-view+json": {
       "model_id": "1dda7cca8bb14d769d3c230eb97b8daa",
       "version_major": 2,
       "version_minor": 0
      },
      "text/plain": [
       "HBox(children=(IntProgress(value=0, description='Epoch', max=8), HTML(value='')))"
      ]
     },
     "metadata": {},
     "output_type": "display_data"
    },
    {
     "name": "stdout",
     "output_type": "stream",
     "text": [
      "epoch      trn_loss   val_loss   accuracy   accuracytop3      \n",
      "    0      2.52197    2.043707   0.50218    0.705609  \n",
      "    1      2.224607   1.848614   0.543931   0.738061          \n",
      "    2      1.973016   1.740157   0.564661   0.759372          \n",
      "    3      1.825368   1.704838   0.572992   0.764894          \n",
      "    4      2.250499   1.8521     0.540831   0.737964          \n",
      "    5      2.033454   1.746137   0.56379    0.755982          \n",
      "    6      1.758494   1.67417    0.58113    0.768672          \n",
      "    7      1.648383   1.654515   0.584423   0.770512          \n",
      "\n"
     ]
    },
    {
     "data": {
      "text/plain": [
       "[array([1.65452]), 0.5844231328160036, 0.770512447885611]"
      ]
     },
     "execution_count": 26,
     "metadata": {},
     "output_type": "execute_result"
    }
   ],
   "source": [
    "## 14\n",
    "learn.fit(0.005, 2, cycle_len=4, metrics=[accuracy, accuracytop3])"
   ]
  },
  {
   "cell_type": "code",
   "execution_count": 16,
   "metadata": {},
   "outputs": [
    {
     "data": {
      "application/vnd.jupyter.widget-view+json": {
       "model_id": "8bd98b828f464b188e010250aba20296",
       "version_major": 2,
       "version_minor": 0
      },
      "text/plain": [
       "HBox(children=(IntProgress(value=0, description='Epoch', max=6), HTML(value='')))"
      ]
     },
     "metadata": {},
     "output_type": "display_data"
    },
    {
     "name": "stdout",
     "output_type": "stream",
     "text": [
      "epoch      trn_loss   val_loss   accuracy   accuracytop3      \n",
      "    0      2.055959   1.674868   0.583358   0.770997  \n",
      "    1      1.91435    1.698059   0.582679   0.768672          \n",
      "    2      1.938405   1.677323   0.585101   0.773806          \n",
      "    3      1.933923   1.664695   0.585779   0.77274           \n",
      "    4      1.845834   1.639709   0.588976   0.774969          \n",
      "    5      1.811491   1.631824   0.591204   0.774872          \n",
      "\n"
     ]
    },
    {
     "data": {
      "text/plain": [
       "[array([1.63182]), 0.5912041073244786, 0.774871645793196]"
      ]
     },
     "execution_count": 16,
     "metadata": {},
     "output_type": "execute_result"
    }
   ],
   "source": [
    "## 15\n",
    "learn.fit(0.001, 2, cycle_len=2, cycle_mult=2, metrics=[accuracy, accuracytop3])"
   ]
  },
  {
   "cell_type": "code",
   "execution_count": 28,
   "metadata": {},
   "outputs": [],
   "source": [
    "learn.precompute=False"
   ]
  },
  {
   "cell_type": "code",
   "execution_count": 28,
   "metadata": {},
   "outputs": [],
   "source": [
    "learn.set_data(get_data(299,bs))"
   ]
  },
  {
   "cell_type": "code",
   "execution_count": 29,
   "metadata": {},
   "outputs": [],
   "source": [
    "## 19\n",
    "learn.unfreeze()\n",
    "learn.bn_freeze(True) "
   ]
  },
  {
   "cell_type": "code",
   "execution_count": 41,
   "metadata": {},
   "outputs": [],
   "source": [
    "lr = np.array([0.0005/9, 0.0005/3, 0.0005])"
   ]
  },
  {
   "cell_type": "code",
   "execution_count": null,
   "metadata": {},
   "outputs": [
    {
     "data": {
      "application/vnd.jupyter.widget-view+json": {
       "model_id": "59b13d34f1024442bd362deeb062be9f",
       "version_major": 2,
       "version_minor": 0
      },
      "text/plain": [
       "HBox(children=(IntProgress(value=0, description='Epoch', max=15), HTML(value='')))"
      ]
     },
     "metadata": {},
     "output_type": "display_data"
    },
    {
     "name": "stdout",
     "output_type": "stream",
     "text": [
      "epoch      trn_loss   val_loss   accuracy   accuracytop3 accuracytop5 \n",
      "    0      1.684223   1.6249     0.589364   0.775065   0.836288  \n",
      "    1      1.685654   1.609299   0.58917    0.776325   0.839678  \n",
      "    2      1.716076   1.593563   0.59411    0.779715   0.840938  \n",
      "    3      1.67963    1.585842   0.597694   0.781459   0.842197  \n",
      "    4      1.652898   1.580697   0.600116   0.784171   0.842294  \n",
      " 96%|█████████▌| 1351/1407 [18:37<00:46,  1.21it/s, loss=1.67]    5      1.620791   1.573541   0.599632   0.782815   0.841906  \n",
      "    6      1.606457   1.571016   0.601666   0.783978   0.843166  \n",
      "  3%|▎         | 39/1407 [00:34<19:58,  1.14it/s, loss=1.61]"
     ]
    }
   ],
   "source": [
    "learn.fit(0.002, 1, cycle_len=15, metrics=[accuracy, accuracytop3, accuracytop5])"
   ]
  },
  {
   "cell_type": "code",
   "execution_count": 21,
   "metadata": {},
   "outputs": [
    {
     "data": {
      "application/vnd.jupyter.widget-view+json": {
       "model_id": "e4ab818af8a047dfa20744cfad4fa469",
       "version_major": 2,
       "version_minor": 0
      },
      "text/plain": [
       "HBox(children=(IntProgress(value=0, description='Epoch', max=15), HTML(value='')))"
      ]
     },
     "metadata": {},
     "output_type": "display_data"
    },
    {
     "name": "stdout",
     "output_type": "stream",
     "text": [
      "epoch      trn_loss   val_loss   accuracy   accuracytop3      \n",
      "    0      2.34166    2.016892   0.508089   0.70309   \n",
      "    1      2.326768   2.003939   0.50712    0.703865          \n",
      "    2      2.355233   1.996178   0.512351   0.705609          \n",
      "    3      2.231041   1.972136   0.514967   0.710356          \n",
      "    4      2.314773   1.975047   0.515645   0.70929           \n",
      "    5      2.245307   1.964998   0.518938   0.708321          \n",
      " 23%|██▎       | 320/1407 [01:18<04:26,  4.07it/s, loss=2.22]"
     ]
    },
    {
     "ename": "KeyboardInterrupt",
     "evalue": "",
     "output_type": "error",
     "traceback": [
      "\u001b[0;31m---------------------------------------------------------------------------\u001b[0m",
      "\u001b[0;31mKeyboardInterrupt\u001b[0m                         Traceback (most recent call last)",
      "\u001b[0;32m<ipython-input-21-12652c79f561>\u001b[0m in \u001b[0;36m<module>\u001b[0;34m()\u001b[0m\n\u001b[0;32m----> 1\u001b[0;31m \u001b[0mlearn\u001b[0m\u001b[0;34m.\u001b[0m\u001b[0mfit\u001b[0m\u001b[0;34m(\u001b[0m\u001b[0mlr\u001b[0m\u001b[0;34m,\u001b[0m \u001b[0;36m1\u001b[0m\u001b[0;34m,\u001b[0m \u001b[0mcycle_len\u001b[0m\u001b[0;34m=\u001b[0m\u001b[0;36m15\u001b[0m\u001b[0;34m,\u001b[0m \u001b[0mmetrics\u001b[0m\u001b[0;34m=\u001b[0m\u001b[0;34m[\u001b[0m\u001b[0maccuracy\u001b[0m\u001b[0;34m,\u001b[0m \u001b[0maccuracytop3\u001b[0m\u001b[0;34m]\u001b[0m\u001b[0;34m)\u001b[0m\u001b[0;34m\u001b[0m\u001b[0m\n\u001b[0m",
      "\u001b[0;32m~/fastai/fastai/learner.py\u001b[0m in \u001b[0;36mfit\u001b[0;34m(self, lrs, n_cycle, wds, **kwargs)\u001b[0m\n\u001b[1;32m    285\u001b[0m         \u001b[0mself\u001b[0m\u001b[0;34m.\u001b[0m\u001b[0msched\u001b[0m \u001b[0;34m=\u001b[0m \u001b[0;32mNone\u001b[0m\u001b[0;34m\u001b[0m\u001b[0m\n\u001b[1;32m    286\u001b[0m         \u001b[0mlayer_opt\u001b[0m \u001b[0;34m=\u001b[0m \u001b[0mself\u001b[0m\u001b[0;34m.\u001b[0m\u001b[0mget_layer_opt\u001b[0m\u001b[0;34m(\u001b[0m\u001b[0mlrs\u001b[0m\u001b[0;34m,\u001b[0m \u001b[0mwds\u001b[0m\u001b[0;34m)\u001b[0m\u001b[0;34m\u001b[0m\u001b[0m\n\u001b[0;32m--> 287\u001b[0;31m         \u001b[0;32mreturn\u001b[0m \u001b[0mself\u001b[0m\u001b[0;34m.\u001b[0m\u001b[0mfit_gen\u001b[0m\u001b[0;34m(\u001b[0m\u001b[0mself\u001b[0m\u001b[0;34m.\u001b[0m\u001b[0mmodel\u001b[0m\u001b[0;34m,\u001b[0m \u001b[0mself\u001b[0m\u001b[0;34m.\u001b[0m\u001b[0mdata\u001b[0m\u001b[0;34m,\u001b[0m \u001b[0mlayer_opt\u001b[0m\u001b[0;34m,\u001b[0m \u001b[0mn_cycle\u001b[0m\u001b[0;34m,\u001b[0m \u001b[0;34m**\u001b[0m\u001b[0mkwargs\u001b[0m\u001b[0;34m)\u001b[0m\u001b[0;34m\u001b[0m\u001b[0m\n\u001b[0m\u001b[1;32m    288\u001b[0m \u001b[0;34m\u001b[0m\u001b[0m\n\u001b[1;32m    289\u001b[0m     \u001b[0;32mdef\u001b[0m \u001b[0mwarm_up\u001b[0m\u001b[0;34m(\u001b[0m\u001b[0mself\u001b[0m\u001b[0;34m,\u001b[0m \u001b[0mlr\u001b[0m\u001b[0;34m,\u001b[0m \u001b[0mwds\u001b[0m\u001b[0;34m=\u001b[0m\u001b[0;32mNone\u001b[0m\u001b[0;34m)\u001b[0m\u001b[0;34m:\u001b[0m\u001b[0;34m\u001b[0m\u001b[0m\n",
      "\u001b[0;32m~/fastai/fastai/learner.py\u001b[0m in \u001b[0;36mfit_gen\u001b[0;34m(self, model, data, layer_opt, n_cycle, cycle_len, cycle_mult, cycle_save_name, best_save_name, use_clr, use_clr_beta, metrics, callbacks, use_wd_sched, norm_wds, wds_sched_mult, use_swa, swa_start, swa_eval_freq, **kwargs)\u001b[0m\n\u001b[1;32m    232\u001b[0m             \u001b[0mmetrics\u001b[0m\u001b[0;34m=\u001b[0m\u001b[0mmetrics\u001b[0m\u001b[0;34m,\u001b[0m \u001b[0mcallbacks\u001b[0m\u001b[0;34m=\u001b[0m\u001b[0mcallbacks\u001b[0m\u001b[0;34m,\u001b[0m \u001b[0mreg_fn\u001b[0m\u001b[0;34m=\u001b[0m\u001b[0mself\u001b[0m\u001b[0;34m.\u001b[0m\u001b[0mreg_fn\u001b[0m\u001b[0;34m,\u001b[0m \u001b[0mclip\u001b[0m\u001b[0;34m=\u001b[0m\u001b[0mself\u001b[0m\u001b[0;34m.\u001b[0m\u001b[0mclip\u001b[0m\u001b[0;34m,\u001b[0m \u001b[0mfp16\u001b[0m\u001b[0;34m=\u001b[0m\u001b[0mself\u001b[0m\u001b[0;34m.\u001b[0m\u001b[0mfp16\u001b[0m\u001b[0;34m,\u001b[0m\u001b[0;34m\u001b[0m\u001b[0m\n\u001b[1;32m    233\u001b[0m             \u001b[0mswa_model\u001b[0m\u001b[0;34m=\u001b[0m\u001b[0mself\u001b[0m\u001b[0;34m.\u001b[0m\u001b[0mswa_model\u001b[0m \u001b[0;32mif\u001b[0m \u001b[0muse_swa\u001b[0m \u001b[0;32melse\u001b[0m \u001b[0;32mNone\u001b[0m\u001b[0;34m,\u001b[0m \u001b[0mswa_start\u001b[0m\u001b[0;34m=\u001b[0m\u001b[0mswa_start\u001b[0m\u001b[0;34m,\u001b[0m\u001b[0;34m\u001b[0m\u001b[0m\n\u001b[0;32m--> 234\u001b[0;31m             swa_eval_freq=swa_eval_freq, **kwargs)\n\u001b[0m\u001b[1;32m    235\u001b[0m \u001b[0;34m\u001b[0m\u001b[0m\n\u001b[1;32m    236\u001b[0m     \u001b[0;32mdef\u001b[0m \u001b[0mget_layer_groups\u001b[0m\u001b[0;34m(\u001b[0m\u001b[0mself\u001b[0m\u001b[0;34m)\u001b[0m\u001b[0;34m:\u001b[0m \u001b[0;32mreturn\u001b[0m \u001b[0mself\u001b[0m\u001b[0;34m.\u001b[0m\u001b[0mmodels\u001b[0m\u001b[0;34m.\u001b[0m\u001b[0mget_layer_groups\u001b[0m\u001b[0;34m(\u001b[0m\u001b[0;34m)\u001b[0m\u001b[0;34m\u001b[0m\u001b[0m\n",
      "\u001b[0;32m~/fastai/fastai/model.py\u001b[0m in \u001b[0;36mfit\u001b[0;34m(model, data, n_epochs, opt, crit, metrics, callbacks, stepper, swa_model, swa_start, swa_eval_freq, **kwargs)\u001b[0m\n\u001b[1;32m    133\u001b[0m         \u001b[0;32mif\u001b[0m \u001b[0mall_val\u001b[0m\u001b[0;34m:\u001b[0m \u001b[0mval_iter\u001b[0m \u001b[0;34m=\u001b[0m \u001b[0mIterBatch\u001b[0m\u001b[0;34m(\u001b[0m\u001b[0mcur_data\u001b[0m\u001b[0;34m.\u001b[0m\u001b[0mval_dl\u001b[0m\u001b[0;34m)\u001b[0m\u001b[0;34m\u001b[0m\u001b[0m\n\u001b[1;32m    134\u001b[0m \u001b[0;34m\u001b[0m\u001b[0m\n\u001b[0;32m--> 135\u001b[0;31m         \u001b[0;32mfor\u001b[0m \u001b[0;34m(\u001b[0m\u001b[0;34m*\u001b[0m\u001b[0mx\u001b[0m\u001b[0;34m,\u001b[0m\u001b[0my\u001b[0m\u001b[0;34m)\u001b[0m \u001b[0;32min\u001b[0m \u001b[0mt\u001b[0m\u001b[0;34m:\u001b[0m\u001b[0;34m\u001b[0m\u001b[0m\n\u001b[0m\u001b[1;32m    136\u001b[0m             \u001b[0mbatch_num\u001b[0m \u001b[0;34m+=\u001b[0m \u001b[0;36m1\u001b[0m\u001b[0;34m\u001b[0m\u001b[0m\n\u001b[1;32m    137\u001b[0m             \u001b[0;32mfor\u001b[0m \u001b[0mcb\u001b[0m \u001b[0;32min\u001b[0m \u001b[0mcallbacks\u001b[0m\u001b[0;34m:\u001b[0m \u001b[0mcb\u001b[0m\u001b[0;34m.\u001b[0m\u001b[0mon_batch_begin\u001b[0m\u001b[0;34m(\u001b[0m\u001b[0;34m)\u001b[0m\u001b[0;34m\u001b[0m\u001b[0m\n",
      "\u001b[0;32m~/anaconda3/envs/fastai/lib/python3.6/site-packages/tqdm/_tqdm.py\u001b[0m in \u001b[0;36m__iter__\u001b[0;34m(self)\u001b[0m\n\u001b[1;32m    925\u001b[0m \"\"\", fp_write=getattr(self.fp, 'write', sys.stderr.write))\n\u001b[1;32m    926\u001b[0m \u001b[0;34m\u001b[0m\u001b[0m\n\u001b[0;32m--> 927\u001b[0;31m             \u001b[0;32mfor\u001b[0m \u001b[0mobj\u001b[0m \u001b[0;32min\u001b[0m \u001b[0miterable\u001b[0m\u001b[0;34m:\u001b[0m\u001b[0;34m\u001b[0m\u001b[0m\n\u001b[0m\u001b[1;32m    928\u001b[0m                 \u001b[0;32myield\u001b[0m \u001b[0mobj\u001b[0m\u001b[0;34m\u001b[0m\u001b[0m\n\u001b[1;32m    929\u001b[0m                 \u001b[0;31m# Update and possibly print the progressbar.\u001b[0m\u001b[0;34m\u001b[0m\u001b[0;34m\u001b[0m\u001b[0m\n",
      "\u001b[0;32m~/fastai/fastai/dataloader.py\u001b[0m in \u001b[0;36m__iter__\u001b[0;34m(self)\u001b[0m\n\u001b[1;32m     86\u001b[0m                 \u001b[0;31m# avoid py3.6 issue where queue is infinite and can result in memory exhaustion\u001b[0m\u001b[0;34m\u001b[0m\u001b[0;34m\u001b[0m\u001b[0m\n\u001b[1;32m     87\u001b[0m                 \u001b[0;32mfor\u001b[0m \u001b[0mc\u001b[0m \u001b[0;32min\u001b[0m \u001b[0mchunk_iter\u001b[0m\u001b[0;34m(\u001b[0m\u001b[0miter\u001b[0m\u001b[0;34m(\u001b[0m\u001b[0mself\u001b[0m\u001b[0;34m.\u001b[0m\u001b[0mbatch_sampler\u001b[0m\u001b[0;34m)\u001b[0m\u001b[0;34m,\u001b[0m \u001b[0mself\u001b[0m\u001b[0;34m.\u001b[0m\u001b[0mnum_workers\u001b[0m\u001b[0;34m*\u001b[0m\u001b[0;36m10\u001b[0m\u001b[0;34m)\u001b[0m\u001b[0;34m:\u001b[0m\u001b[0;34m\u001b[0m\u001b[0m\n\u001b[0;32m---> 88\u001b[0;31m                     \u001b[0;32mfor\u001b[0m \u001b[0mbatch\u001b[0m \u001b[0;32min\u001b[0m \u001b[0me\u001b[0m\u001b[0;34m.\u001b[0m\u001b[0mmap\u001b[0m\u001b[0;34m(\u001b[0m\u001b[0mself\u001b[0m\u001b[0;34m.\u001b[0m\u001b[0mget_batch\u001b[0m\u001b[0;34m,\u001b[0m \u001b[0mc\u001b[0m\u001b[0;34m)\u001b[0m\u001b[0;34m:\u001b[0m\u001b[0;34m\u001b[0m\u001b[0m\n\u001b[0m\u001b[1;32m     89\u001b[0m                         \u001b[0;32myield\u001b[0m \u001b[0mget_tensor\u001b[0m\u001b[0;34m(\u001b[0m\u001b[0mbatch\u001b[0m\u001b[0;34m,\u001b[0m \u001b[0mself\u001b[0m\u001b[0;34m.\u001b[0m\u001b[0mpin_memory\u001b[0m\u001b[0;34m,\u001b[0m \u001b[0mself\u001b[0m\u001b[0;34m.\u001b[0m\u001b[0mhalf\u001b[0m\u001b[0;34m)\u001b[0m\u001b[0;34m\u001b[0m\u001b[0m\n\u001b[1;32m     90\u001b[0m \u001b[0;34m\u001b[0m\u001b[0m\n",
      "\u001b[0;32m~/anaconda3/envs/fastai/lib/python3.6/concurrent/futures/_base.py\u001b[0m in \u001b[0;36mresult_iterator\u001b[0;34m()\u001b[0m\n\u001b[1;32m    584\u001b[0m                     \u001b[0;31m# Careful not to keep a reference to the popped future\u001b[0m\u001b[0;34m\u001b[0m\u001b[0;34m\u001b[0m\u001b[0m\n\u001b[1;32m    585\u001b[0m                     \u001b[0;32mif\u001b[0m \u001b[0mtimeout\u001b[0m \u001b[0;32mis\u001b[0m \u001b[0;32mNone\u001b[0m\u001b[0;34m:\u001b[0m\u001b[0;34m\u001b[0m\u001b[0m\n\u001b[0;32m--> 586\u001b[0;31m                         \u001b[0;32myield\u001b[0m \u001b[0mfs\u001b[0m\u001b[0;34m.\u001b[0m\u001b[0mpop\u001b[0m\u001b[0;34m(\u001b[0m\u001b[0;34m)\u001b[0m\u001b[0;34m.\u001b[0m\u001b[0mresult\u001b[0m\u001b[0;34m(\u001b[0m\u001b[0;34m)\u001b[0m\u001b[0;34m\u001b[0m\u001b[0m\n\u001b[0m\u001b[1;32m    587\u001b[0m                     \u001b[0;32melse\u001b[0m\u001b[0;34m:\u001b[0m\u001b[0;34m\u001b[0m\u001b[0m\n\u001b[1;32m    588\u001b[0m                         \u001b[0;32myield\u001b[0m \u001b[0mfs\u001b[0m\u001b[0;34m.\u001b[0m\u001b[0mpop\u001b[0m\u001b[0;34m(\u001b[0m\u001b[0;34m)\u001b[0m\u001b[0;34m.\u001b[0m\u001b[0mresult\u001b[0m\u001b[0;34m(\u001b[0m\u001b[0mend_time\u001b[0m \u001b[0;34m-\u001b[0m \u001b[0mtime\u001b[0m\u001b[0;34m.\u001b[0m\u001b[0mtime\u001b[0m\u001b[0;34m(\u001b[0m\u001b[0;34m)\u001b[0m\u001b[0;34m)\u001b[0m\u001b[0;34m\u001b[0m\u001b[0m\n",
      "\u001b[0;32m~/anaconda3/envs/fastai/lib/python3.6/concurrent/futures/_base.py\u001b[0m in \u001b[0;36mresult\u001b[0;34m(self, timeout)\u001b[0m\n\u001b[1;32m    425\u001b[0m                 \u001b[0;32mreturn\u001b[0m \u001b[0mself\u001b[0m\u001b[0;34m.\u001b[0m\u001b[0m__get_result\u001b[0m\u001b[0;34m(\u001b[0m\u001b[0;34m)\u001b[0m\u001b[0;34m\u001b[0m\u001b[0m\n\u001b[1;32m    426\u001b[0m \u001b[0;34m\u001b[0m\u001b[0m\n\u001b[0;32m--> 427\u001b[0;31m             \u001b[0mself\u001b[0m\u001b[0;34m.\u001b[0m\u001b[0m_condition\u001b[0m\u001b[0;34m.\u001b[0m\u001b[0mwait\u001b[0m\u001b[0;34m(\u001b[0m\u001b[0mtimeout\u001b[0m\u001b[0;34m)\u001b[0m\u001b[0;34m\u001b[0m\u001b[0m\n\u001b[0m\u001b[1;32m    428\u001b[0m \u001b[0;34m\u001b[0m\u001b[0m\n\u001b[1;32m    429\u001b[0m             \u001b[0;32mif\u001b[0m \u001b[0mself\u001b[0m\u001b[0;34m.\u001b[0m\u001b[0m_state\u001b[0m \u001b[0;32min\u001b[0m \u001b[0;34m[\u001b[0m\u001b[0mCANCELLED\u001b[0m\u001b[0;34m,\u001b[0m \u001b[0mCANCELLED_AND_NOTIFIED\u001b[0m\u001b[0;34m]\u001b[0m\u001b[0;34m:\u001b[0m\u001b[0;34m\u001b[0m\u001b[0m\n",
      "\u001b[0;32m~/anaconda3/envs/fastai/lib/python3.6/threading.py\u001b[0m in \u001b[0;36mwait\u001b[0;34m(self, timeout)\u001b[0m\n\u001b[1;32m    293\u001b[0m         \u001b[0;32mtry\u001b[0m\u001b[0;34m:\u001b[0m    \u001b[0;31m# restore state no matter what (e.g., KeyboardInterrupt)\u001b[0m\u001b[0;34m\u001b[0m\u001b[0m\n\u001b[1;32m    294\u001b[0m             \u001b[0;32mif\u001b[0m \u001b[0mtimeout\u001b[0m \u001b[0;32mis\u001b[0m \u001b[0;32mNone\u001b[0m\u001b[0;34m:\u001b[0m\u001b[0;34m\u001b[0m\u001b[0m\n\u001b[0;32m--> 295\u001b[0;31m                 \u001b[0mwaiter\u001b[0m\u001b[0;34m.\u001b[0m\u001b[0macquire\u001b[0m\u001b[0;34m(\u001b[0m\u001b[0;34m)\u001b[0m\u001b[0;34m\u001b[0m\u001b[0m\n\u001b[0m\u001b[1;32m    296\u001b[0m                 \u001b[0mgotit\u001b[0m \u001b[0;34m=\u001b[0m \u001b[0;32mTrue\u001b[0m\u001b[0;34m\u001b[0m\u001b[0m\n\u001b[1;32m    297\u001b[0m             \u001b[0;32melse\u001b[0m\u001b[0;34m:\u001b[0m\u001b[0;34m\u001b[0m\u001b[0m\n",
      "\u001b[0;31mKeyboardInterrupt\u001b[0m: "
     ]
    }
   ],
   "source": [
    "learn.fit(lr, 1, cycle_len=15, metrics=[accuracy, accuracytop3])"
   ]
  },
  {
   "cell_type": "code",
   "execution_count": 29,
   "metadata": {},
   "outputs": [
    {
     "data": {
      "application/vnd.jupyter.widget-view+json": {
       "model_id": "1bad8b4e12d1461f86f0df3cda6c1895",
       "version_major": 2,
       "version_minor": 0
      },
      "text/plain": [
       "HBox(children=(IntProgress(value=0, description='Epoch', max=4), HTML(value='')))"
      ]
     },
     "metadata": {},
     "output_type": "display_data"
    },
    {
     "name": "stdout",
     "output_type": "stream",
     "text": [
      "  3%|▎         | 41/1407 [01:05<36:24,  1.60s/it, loss=1.83] \n"
     ]
    },
    {
     "ename": "KeyboardInterrupt",
     "evalue": "",
     "output_type": "error",
     "traceback": [
      "\u001b[0;31m---------------------------------------------------------------------------\u001b[0m",
      "\u001b[0;31mKeyboardInterrupt\u001b[0m                         Traceback (most recent call last)",
      "\u001b[0;32m<ipython-input-29-162756522974>\u001b[0m in \u001b[0;36m<module>\u001b[0;34m()\u001b[0m\n\u001b[0;32m----> 1\u001b[0;31m \u001b[0mlearn\u001b[0m\u001b[0;34m.\u001b[0m\u001b[0mfit\u001b[0m\u001b[0;34m(\u001b[0m\u001b[0;36m0.001\u001b[0m\u001b[0;34m,\u001b[0m \u001b[0;36m1\u001b[0m\u001b[0;34m,\u001b[0m \u001b[0mcycle_len\u001b[0m\u001b[0;34m=\u001b[0m\u001b[0;36m4\u001b[0m\u001b[0;34m,\u001b[0m \u001b[0mmetrics\u001b[0m\u001b[0;34m=\u001b[0m\u001b[0;34m[\u001b[0m\u001b[0maccuracy\u001b[0m\u001b[0;34m,\u001b[0m \u001b[0maccuracytop3\u001b[0m\u001b[0;34m]\u001b[0m\u001b[0;34m)\u001b[0m\u001b[0;34m\u001b[0m\u001b[0m\n\u001b[0m",
      "\u001b[0;32m~/fastai/fastai/learner.py\u001b[0m in \u001b[0;36mfit\u001b[0;34m(self, lrs, n_cycle, wds, **kwargs)\u001b[0m\n\u001b[1;32m    285\u001b[0m         \u001b[0mself\u001b[0m\u001b[0;34m.\u001b[0m\u001b[0msched\u001b[0m \u001b[0;34m=\u001b[0m \u001b[0;32mNone\u001b[0m\u001b[0;34m\u001b[0m\u001b[0m\n\u001b[1;32m    286\u001b[0m         \u001b[0mlayer_opt\u001b[0m \u001b[0;34m=\u001b[0m \u001b[0mself\u001b[0m\u001b[0;34m.\u001b[0m\u001b[0mget_layer_opt\u001b[0m\u001b[0;34m(\u001b[0m\u001b[0mlrs\u001b[0m\u001b[0;34m,\u001b[0m \u001b[0mwds\u001b[0m\u001b[0;34m)\u001b[0m\u001b[0;34m\u001b[0m\u001b[0m\n\u001b[0;32m--> 287\u001b[0;31m         \u001b[0;32mreturn\u001b[0m \u001b[0mself\u001b[0m\u001b[0;34m.\u001b[0m\u001b[0mfit_gen\u001b[0m\u001b[0;34m(\u001b[0m\u001b[0mself\u001b[0m\u001b[0;34m.\u001b[0m\u001b[0mmodel\u001b[0m\u001b[0;34m,\u001b[0m \u001b[0mself\u001b[0m\u001b[0;34m.\u001b[0m\u001b[0mdata\u001b[0m\u001b[0;34m,\u001b[0m \u001b[0mlayer_opt\u001b[0m\u001b[0;34m,\u001b[0m \u001b[0mn_cycle\u001b[0m\u001b[0;34m,\u001b[0m \u001b[0;34m**\u001b[0m\u001b[0mkwargs\u001b[0m\u001b[0;34m)\u001b[0m\u001b[0;34m\u001b[0m\u001b[0m\n\u001b[0m\u001b[1;32m    288\u001b[0m \u001b[0;34m\u001b[0m\u001b[0m\n\u001b[1;32m    289\u001b[0m     \u001b[0;32mdef\u001b[0m \u001b[0mwarm_up\u001b[0m\u001b[0;34m(\u001b[0m\u001b[0mself\u001b[0m\u001b[0;34m,\u001b[0m \u001b[0mlr\u001b[0m\u001b[0;34m,\u001b[0m \u001b[0mwds\u001b[0m\u001b[0;34m=\u001b[0m\u001b[0;32mNone\u001b[0m\u001b[0;34m)\u001b[0m\u001b[0;34m:\u001b[0m\u001b[0;34m\u001b[0m\u001b[0m\n",
      "\u001b[0;32m~/fastai/fastai/learner.py\u001b[0m in \u001b[0;36mfit_gen\u001b[0;34m(self, model, data, layer_opt, n_cycle, cycle_len, cycle_mult, cycle_save_name, best_save_name, use_clr, use_clr_beta, metrics, callbacks, use_wd_sched, norm_wds, wds_sched_mult, use_swa, swa_start, swa_eval_freq, **kwargs)\u001b[0m\n\u001b[1;32m    232\u001b[0m             \u001b[0mmetrics\u001b[0m\u001b[0;34m=\u001b[0m\u001b[0mmetrics\u001b[0m\u001b[0;34m,\u001b[0m \u001b[0mcallbacks\u001b[0m\u001b[0;34m=\u001b[0m\u001b[0mcallbacks\u001b[0m\u001b[0;34m,\u001b[0m \u001b[0mreg_fn\u001b[0m\u001b[0;34m=\u001b[0m\u001b[0mself\u001b[0m\u001b[0;34m.\u001b[0m\u001b[0mreg_fn\u001b[0m\u001b[0;34m,\u001b[0m \u001b[0mclip\u001b[0m\u001b[0;34m=\u001b[0m\u001b[0mself\u001b[0m\u001b[0;34m.\u001b[0m\u001b[0mclip\u001b[0m\u001b[0;34m,\u001b[0m \u001b[0mfp16\u001b[0m\u001b[0;34m=\u001b[0m\u001b[0mself\u001b[0m\u001b[0;34m.\u001b[0m\u001b[0mfp16\u001b[0m\u001b[0;34m,\u001b[0m\u001b[0;34m\u001b[0m\u001b[0m\n\u001b[1;32m    233\u001b[0m             \u001b[0mswa_model\u001b[0m\u001b[0;34m=\u001b[0m\u001b[0mself\u001b[0m\u001b[0;34m.\u001b[0m\u001b[0mswa_model\u001b[0m \u001b[0;32mif\u001b[0m \u001b[0muse_swa\u001b[0m \u001b[0;32melse\u001b[0m \u001b[0;32mNone\u001b[0m\u001b[0;34m,\u001b[0m \u001b[0mswa_start\u001b[0m\u001b[0;34m=\u001b[0m\u001b[0mswa_start\u001b[0m\u001b[0;34m,\u001b[0m\u001b[0;34m\u001b[0m\u001b[0m\n\u001b[0;32m--> 234\u001b[0;31m             swa_eval_freq=swa_eval_freq, **kwargs)\n\u001b[0m\u001b[1;32m    235\u001b[0m \u001b[0;34m\u001b[0m\u001b[0m\n\u001b[1;32m    236\u001b[0m     \u001b[0;32mdef\u001b[0m \u001b[0mget_layer_groups\u001b[0m\u001b[0;34m(\u001b[0m\u001b[0mself\u001b[0m\u001b[0;34m)\u001b[0m\u001b[0;34m:\u001b[0m \u001b[0;32mreturn\u001b[0m \u001b[0mself\u001b[0m\u001b[0;34m.\u001b[0m\u001b[0mmodels\u001b[0m\u001b[0;34m.\u001b[0m\u001b[0mget_layer_groups\u001b[0m\u001b[0;34m(\u001b[0m\u001b[0;34m)\u001b[0m\u001b[0;34m\u001b[0m\u001b[0m\n",
      "\u001b[0;32m~/fastai/fastai/model.py\u001b[0m in \u001b[0;36mfit\u001b[0;34m(model, data, n_epochs, opt, crit, metrics, callbacks, stepper, swa_model, swa_start, swa_eval_freq, **kwargs)\u001b[0m\n\u001b[1;32m    133\u001b[0m         \u001b[0;32mif\u001b[0m \u001b[0mall_val\u001b[0m\u001b[0;34m:\u001b[0m \u001b[0mval_iter\u001b[0m \u001b[0;34m=\u001b[0m \u001b[0mIterBatch\u001b[0m\u001b[0;34m(\u001b[0m\u001b[0mcur_data\u001b[0m\u001b[0;34m.\u001b[0m\u001b[0mval_dl\u001b[0m\u001b[0;34m)\u001b[0m\u001b[0;34m\u001b[0m\u001b[0m\n\u001b[1;32m    134\u001b[0m \u001b[0;34m\u001b[0m\u001b[0m\n\u001b[0;32m--> 135\u001b[0;31m         \u001b[0;32mfor\u001b[0m \u001b[0;34m(\u001b[0m\u001b[0;34m*\u001b[0m\u001b[0mx\u001b[0m\u001b[0;34m,\u001b[0m\u001b[0my\u001b[0m\u001b[0;34m)\u001b[0m \u001b[0;32min\u001b[0m \u001b[0mt\u001b[0m\u001b[0;34m:\u001b[0m\u001b[0;34m\u001b[0m\u001b[0m\n\u001b[0m\u001b[1;32m    136\u001b[0m             \u001b[0mbatch_num\u001b[0m \u001b[0;34m+=\u001b[0m \u001b[0;36m1\u001b[0m\u001b[0;34m\u001b[0m\u001b[0m\n\u001b[1;32m    137\u001b[0m             \u001b[0;32mfor\u001b[0m \u001b[0mcb\u001b[0m \u001b[0;32min\u001b[0m \u001b[0mcallbacks\u001b[0m\u001b[0;34m:\u001b[0m \u001b[0mcb\u001b[0m\u001b[0;34m.\u001b[0m\u001b[0mon_batch_begin\u001b[0m\u001b[0;34m(\u001b[0m\u001b[0;34m)\u001b[0m\u001b[0;34m\u001b[0m\u001b[0m\n",
      "\u001b[0;32m~/anaconda3/envs/fastai/lib/python3.6/site-packages/tqdm/_tqdm.py\u001b[0m in \u001b[0;36m__iter__\u001b[0;34m(self)\u001b[0m\n\u001b[1;32m    925\u001b[0m \"\"\", fp_write=getattr(self.fp, 'write', sys.stderr.write))\n\u001b[1;32m    926\u001b[0m \u001b[0;34m\u001b[0m\u001b[0m\n\u001b[0;32m--> 927\u001b[0;31m             \u001b[0;32mfor\u001b[0m \u001b[0mobj\u001b[0m \u001b[0;32min\u001b[0m \u001b[0miterable\u001b[0m\u001b[0;34m:\u001b[0m\u001b[0;34m\u001b[0m\u001b[0m\n\u001b[0m\u001b[1;32m    928\u001b[0m                 \u001b[0;32myield\u001b[0m \u001b[0mobj\u001b[0m\u001b[0;34m\u001b[0m\u001b[0m\n\u001b[1;32m    929\u001b[0m                 \u001b[0;31m# Update and possibly print the progressbar.\u001b[0m\u001b[0;34m\u001b[0m\u001b[0;34m\u001b[0m\u001b[0m\n",
      "\u001b[0;32m~/fastai/fastai/dataloader.py\u001b[0m in \u001b[0;36m__iter__\u001b[0;34m(self)\u001b[0m\n\u001b[1;32m     87\u001b[0m                 \u001b[0;32mfor\u001b[0m \u001b[0mc\u001b[0m \u001b[0;32min\u001b[0m \u001b[0mchunk_iter\u001b[0m\u001b[0;34m(\u001b[0m\u001b[0miter\u001b[0m\u001b[0;34m(\u001b[0m\u001b[0mself\u001b[0m\u001b[0;34m.\u001b[0m\u001b[0mbatch_sampler\u001b[0m\u001b[0;34m)\u001b[0m\u001b[0;34m,\u001b[0m \u001b[0mself\u001b[0m\u001b[0;34m.\u001b[0m\u001b[0mnum_workers\u001b[0m\u001b[0;34m*\u001b[0m\u001b[0;36m10\u001b[0m\u001b[0;34m)\u001b[0m\u001b[0;34m:\u001b[0m\u001b[0;34m\u001b[0m\u001b[0m\n\u001b[1;32m     88\u001b[0m                     \u001b[0;32mfor\u001b[0m \u001b[0mbatch\u001b[0m \u001b[0;32min\u001b[0m \u001b[0me\u001b[0m\u001b[0;34m.\u001b[0m\u001b[0mmap\u001b[0m\u001b[0;34m(\u001b[0m\u001b[0mself\u001b[0m\u001b[0;34m.\u001b[0m\u001b[0mget_batch\u001b[0m\u001b[0;34m,\u001b[0m \u001b[0mc\u001b[0m\u001b[0;34m)\u001b[0m\u001b[0;34m:\u001b[0m\u001b[0;34m\u001b[0m\u001b[0m\n\u001b[0;32m---> 89\u001b[0;31m                         \u001b[0;32myield\u001b[0m \u001b[0mget_tensor\u001b[0m\u001b[0;34m(\u001b[0m\u001b[0mbatch\u001b[0m\u001b[0;34m,\u001b[0m \u001b[0mself\u001b[0m\u001b[0;34m.\u001b[0m\u001b[0mpin_memory\u001b[0m\u001b[0;34m,\u001b[0m \u001b[0mself\u001b[0m\u001b[0;34m.\u001b[0m\u001b[0mhalf\u001b[0m\u001b[0;34m)\u001b[0m\u001b[0;34m\u001b[0m\u001b[0m\n\u001b[0m\u001b[1;32m     90\u001b[0m \u001b[0;34m\u001b[0m\u001b[0m\n",
      "\u001b[0;32m~/fastai/fastai/dataloader.py\u001b[0m in \u001b[0;36mget_tensor\u001b[0;34m(batch, pin, half)\u001b[0m\n\u001b[1;32m     18\u001b[0m         \u001b[0;32mreturn\u001b[0m \u001b[0;34m{\u001b[0m\u001b[0mk\u001b[0m\u001b[0;34m:\u001b[0m \u001b[0mget_tensor\u001b[0m\u001b[0;34m(\u001b[0m\u001b[0msample\u001b[0m\u001b[0;34m,\u001b[0m \u001b[0mpin\u001b[0m\u001b[0;34m,\u001b[0m \u001b[0mhalf\u001b[0m\u001b[0;34m)\u001b[0m \u001b[0;32mfor\u001b[0m \u001b[0mk\u001b[0m\u001b[0;34m,\u001b[0m \u001b[0msample\u001b[0m \u001b[0;32min\u001b[0m \u001b[0mbatch\u001b[0m\u001b[0;34m.\u001b[0m\u001b[0mitems\u001b[0m\u001b[0;34m(\u001b[0m\u001b[0;34m)\u001b[0m\u001b[0;34m}\u001b[0m\u001b[0;34m\u001b[0m\u001b[0m\n\u001b[1;32m     19\u001b[0m     \u001b[0;32melif\u001b[0m \u001b[0misinstance\u001b[0m\u001b[0;34m(\u001b[0m\u001b[0mbatch\u001b[0m\u001b[0;34m,\u001b[0m \u001b[0mcollections\u001b[0m\u001b[0;34m.\u001b[0m\u001b[0mSequence\u001b[0m\u001b[0;34m)\u001b[0m\u001b[0;34m:\u001b[0m\u001b[0;34m\u001b[0m\u001b[0m\n\u001b[0;32m---> 20\u001b[0;31m         \u001b[0;32mreturn\u001b[0m \u001b[0;34m[\u001b[0m\u001b[0mget_tensor\u001b[0m\u001b[0;34m(\u001b[0m\u001b[0msample\u001b[0m\u001b[0;34m,\u001b[0m \u001b[0mpin\u001b[0m\u001b[0;34m,\u001b[0m \u001b[0mhalf\u001b[0m\u001b[0;34m)\u001b[0m \u001b[0;32mfor\u001b[0m \u001b[0msample\u001b[0m \u001b[0;32min\u001b[0m \u001b[0mbatch\u001b[0m\u001b[0;34m]\u001b[0m\u001b[0;34m\u001b[0m\u001b[0m\n\u001b[0m\u001b[1;32m     21\u001b[0m     \u001b[0;32mraise\u001b[0m \u001b[0mTypeError\u001b[0m\u001b[0;34m(\u001b[0m\u001b[0;34mf\"batch must contain numbers, dicts or lists; found {type(batch)}\"\u001b[0m\u001b[0;34m)\u001b[0m\u001b[0;34m\u001b[0m\u001b[0m\n\u001b[1;32m     22\u001b[0m \u001b[0;34m\u001b[0m\u001b[0m\n",
      "\u001b[0;32m~/fastai/fastai/dataloader.py\u001b[0m in \u001b[0;36m<listcomp>\u001b[0;34m(.0)\u001b[0m\n\u001b[1;32m     18\u001b[0m         \u001b[0;32mreturn\u001b[0m \u001b[0;34m{\u001b[0m\u001b[0mk\u001b[0m\u001b[0;34m:\u001b[0m \u001b[0mget_tensor\u001b[0m\u001b[0;34m(\u001b[0m\u001b[0msample\u001b[0m\u001b[0;34m,\u001b[0m \u001b[0mpin\u001b[0m\u001b[0;34m,\u001b[0m \u001b[0mhalf\u001b[0m\u001b[0;34m)\u001b[0m \u001b[0;32mfor\u001b[0m \u001b[0mk\u001b[0m\u001b[0;34m,\u001b[0m \u001b[0msample\u001b[0m \u001b[0;32min\u001b[0m \u001b[0mbatch\u001b[0m\u001b[0;34m.\u001b[0m\u001b[0mitems\u001b[0m\u001b[0;34m(\u001b[0m\u001b[0;34m)\u001b[0m\u001b[0;34m}\u001b[0m\u001b[0;34m\u001b[0m\u001b[0m\n\u001b[1;32m     19\u001b[0m     \u001b[0;32melif\u001b[0m \u001b[0misinstance\u001b[0m\u001b[0;34m(\u001b[0m\u001b[0mbatch\u001b[0m\u001b[0;34m,\u001b[0m \u001b[0mcollections\u001b[0m\u001b[0;34m.\u001b[0m\u001b[0mSequence\u001b[0m\u001b[0;34m)\u001b[0m\u001b[0;34m:\u001b[0m\u001b[0;34m\u001b[0m\u001b[0m\n\u001b[0;32m---> 20\u001b[0;31m         \u001b[0;32mreturn\u001b[0m \u001b[0;34m[\u001b[0m\u001b[0mget_tensor\u001b[0m\u001b[0;34m(\u001b[0m\u001b[0msample\u001b[0m\u001b[0;34m,\u001b[0m \u001b[0mpin\u001b[0m\u001b[0;34m,\u001b[0m \u001b[0mhalf\u001b[0m\u001b[0;34m)\u001b[0m \u001b[0;32mfor\u001b[0m \u001b[0msample\u001b[0m \u001b[0;32min\u001b[0m \u001b[0mbatch\u001b[0m\u001b[0;34m]\u001b[0m\u001b[0;34m\u001b[0m\u001b[0m\n\u001b[0m\u001b[1;32m     21\u001b[0m     \u001b[0;32mraise\u001b[0m \u001b[0mTypeError\u001b[0m\u001b[0;34m(\u001b[0m\u001b[0;34mf\"batch must contain numbers, dicts or lists; found {type(batch)}\"\u001b[0m\u001b[0;34m)\u001b[0m\u001b[0;34m\u001b[0m\u001b[0m\n\u001b[1;32m     22\u001b[0m \u001b[0;34m\u001b[0m\u001b[0m\n",
      "\u001b[0;32m~/fastai/fastai/dataloader.py\u001b[0m in \u001b[0;36mget_tensor\u001b[0;34m(batch, pin, half)\u001b[0m\n\u001b[1;32m     10\u001b[0m \u001b[0;32mdef\u001b[0m \u001b[0mget_tensor\u001b[0m\u001b[0;34m(\u001b[0m\u001b[0mbatch\u001b[0m\u001b[0;34m,\u001b[0m \u001b[0mpin\u001b[0m\u001b[0;34m,\u001b[0m \u001b[0mhalf\u001b[0m\u001b[0;34m=\u001b[0m\u001b[0;32mFalse\u001b[0m\u001b[0;34m)\u001b[0m\u001b[0;34m:\u001b[0m\u001b[0;34m\u001b[0m\u001b[0m\n\u001b[1;32m     11\u001b[0m     \u001b[0;32mif\u001b[0m \u001b[0misinstance\u001b[0m\u001b[0;34m(\u001b[0m\u001b[0mbatch\u001b[0m\u001b[0;34m,\u001b[0m \u001b[0;34m(\u001b[0m\u001b[0mnp\u001b[0m\u001b[0;34m.\u001b[0m\u001b[0mndarray\u001b[0m\u001b[0;34m,\u001b[0m \u001b[0mnp\u001b[0m\u001b[0;34m.\u001b[0m\u001b[0mgeneric\u001b[0m\u001b[0;34m)\u001b[0m\u001b[0;34m)\u001b[0m\u001b[0;34m:\u001b[0m\u001b[0;34m\u001b[0m\u001b[0m\n\u001b[0;32m---> 12\u001b[0;31m         \u001b[0mbatch\u001b[0m \u001b[0;34m=\u001b[0m \u001b[0mT\u001b[0m\u001b[0;34m(\u001b[0m\u001b[0mbatch\u001b[0m\u001b[0;34m,\u001b[0m \u001b[0mhalf\u001b[0m\u001b[0;34m=\u001b[0m\u001b[0mhalf\u001b[0m\u001b[0;34m,\u001b[0m \u001b[0mcuda\u001b[0m\u001b[0;34m=\u001b[0m\u001b[0;32mFalse\u001b[0m\u001b[0;34m)\u001b[0m\u001b[0;34m.\u001b[0m\u001b[0mcontiguous\u001b[0m\u001b[0;34m(\u001b[0m\u001b[0;34m)\u001b[0m\u001b[0;34m\u001b[0m\u001b[0m\n\u001b[0m\u001b[1;32m     13\u001b[0m         \u001b[0;32mif\u001b[0m \u001b[0mpin\u001b[0m\u001b[0;34m:\u001b[0m \u001b[0mbatch\u001b[0m \u001b[0;34m=\u001b[0m \u001b[0mbatch\u001b[0m\u001b[0;34m.\u001b[0m\u001b[0mpin_memory\u001b[0m\u001b[0;34m(\u001b[0m\u001b[0;34m)\u001b[0m\u001b[0;34m\u001b[0m\u001b[0m\n\u001b[1;32m     14\u001b[0m         \u001b[0;32mreturn\u001b[0m \u001b[0mto_gpu\u001b[0m\u001b[0;34m(\u001b[0m\u001b[0mbatch\u001b[0m\u001b[0;34m)\u001b[0m\u001b[0;34m\u001b[0m\u001b[0m\n",
      "\u001b[0;32m~/fastai/fastai/core.py\u001b[0m in \u001b[0;36mT\u001b[0;34m(a, half, cuda)\u001b[0m\n\u001b[1;32m     23\u001b[0m     \"\"\"\n\u001b[1;32m     24\u001b[0m     \u001b[0;32mif\u001b[0m \u001b[0;32mnot\u001b[0m \u001b[0mtorch\u001b[0m\u001b[0;34m.\u001b[0m\u001b[0mis_tensor\u001b[0m\u001b[0;34m(\u001b[0m\u001b[0ma\u001b[0m\u001b[0;34m)\u001b[0m\u001b[0;34m:\u001b[0m\u001b[0;34m\u001b[0m\u001b[0m\n\u001b[0;32m---> 25\u001b[0;31m         \u001b[0ma\u001b[0m \u001b[0;34m=\u001b[0m \u001b[0mnp\u001b[0m\u001b[0;34m.\u001b[0m\u001b[0marray\u001b[0m\u001b[0;34m(\u001b[0m\u001b[0mnp\u001b[0m\u001b[0;34m.\u001b[0m\u001b[0mascontiguousarray\u001b[0m\u001b[0;34m(\u001b[0m\u001b[0ma\u001b[0m\u001b[0;34m)\u001b[0m\u001b[0;34m)\u001b[0m\u001b[0;34m\u001b[0m\u001b[0m\n\u001b[0m\u001b[1;32m     26\u001b[0m         \u001b[0;32mif\u001b[0m \u001b[0ma\u001b[0m\u001b[0;34m.\u001b[0m\u001b[0mdtype\u001b[0m \u001b[0;32min\u001b[0m \u001b[0;34m(\u001b[0m\u001b[0mnp\u001b[0m\u001b[0;34m.\u001b[0m\u001b[0mint8\u001b[0m\u001b[0;34m,\u001b[0m \u001b[0mnp\u001b[0m\u001b[0;34m.\u001b[0m\u001b[0mint16\u001b[0m\u001b[0;34m,\u001b[0m \u001b[0mnp\u001b[0m\u001b[0;34m.\u001b[0m\u001b[0mint32\u001b[0m\u001b[0;34m,\u001b[0m \u001b[0mnp\u001b[0m\u001b[0;34m.\u001b[0m\u001b[0mint64\u001b[0m\u001b[0;34m)\u001b[0m\u001b[0;34m:\u001b[0m\u001b[0;34m\u001b[0m\u001b[0m\n\u001b[1;32m     27\u001b[0m             \u001b[0ma\u001b[0m \u001b[0;34m=\u001b[0m \u001b[0mtorch\u001b[0m\u001b[0;34m.\u001b[0m\u001b[0mLongTensor\u001b[0m\u001b[0;34m(\u001b[0m\u001b[0ma\u001b[0m\u001b[0;34m.\u001b[0m\u001b[0mastype\u001b[0m\u001b[0;34m(\u001b[0m\u001b[0mnp\u001b[0m\u001b[0;34m.\u001b[0m\u001b[0mint64\u001b[0m\u001b[0;34m)\u001b[0m\u001b[0;34m)\u001b[0m\u001b[0;34m\u001b[0m\u001b[0m\n",
      "\u001b[0;32m~/anaconda3/envs/fastai/lib/python3.6/site-packages/numpy/core/numeric.py\u001b[0m in \u001b[0;36mascontiguousarray\u001b[0;34m(a, dtype)\u001b[0m\n\u001b[1;32m    579\u001b[0m \u001b[0;34m\u001b[0m\u001b[0m\n\u001b[1;32m    580\u001b[0m     \"\"\"\n\u001b[0;32m--> 581\u001b[0;31m     \u001b[0;32mreturn\u001b[0m \u001b[0marray\u001b[0m\u001b[0;34m(\u001b[0m\u001b[0ma\u001b[0m\u001b[0;34m,\u001b[0m \u001b[0mdtype\u001b[0m\u001b[0;34m,\u001b[0m \u001b[0mcopy\u001b[0m\u001b[0;34m=\u001b[0m\u001b[0;32mFalse\u001b[0m\u001b[0;34m,\u001b[0m \u001b[0morder\u001b[0m\u001b[0;34m=\u001b[0m\u001b[0;34m'C'\u001b[0m\u001b[0;34m,\u001b[0m \u001b[0mndmin\u001b[0m\u001b[0;34m=\u001b[0m\u001b[0;36m1\u001b[0m\u001b[0;34m)\u001b[0m\u001b[0;34m\u001b[0m\u001b[0m\n\u001b[0m\u001b[1;32m    582\u001b[0m \u001b[0;34m\u001b[0m\u001b[0m\n\u001b[1;32m    583\u001b[0m \u001b[0;34m\u001b[0m\u001b[0m\n",
      "\u001b[0;31mKeyboardInterrupt\u001b[0m: "
     ]
    }
   ],
   "source": [
    "learn.fit(0.001, 1, cycle_len=4, metrics=[accuracy, accuracytop3])"
   ]
  },
  {
   "cell_type": "code",
   "execution_count": 40,
   "metadata": {},
   "outputs": [
    {
     "data": {
      "application/vnd.jupyter.widget-view+json": {
       "model_id": "c2cdaa6957ea4d2bbb454582284ad4b3",
       "version_major": 2,
       "version_minor": 0
      },
      "text/plain": [
       "HBox(children=(IntProgress(value=0, description='Epoch', max=1), HTML(value='')))"
      ]
     },
     "metadata": {},
     "output_type": "display_data"
    },
    {
     "name": "stdout",
     "output_type": "stream",
     "text": [
      " 59%|█████▊    | 934/1590 [00:07<00:05, 124.64it/s, loss=3.63]"
     ]
    },
    {
     "name": "stderr",
     "output_type": "stream",
     "text": [
      "/home/SharedData/anaconda2/envs/inat/lib/python3.6/site-packages/tqdm/_monitor.py:89: TqdmSynchronisationWarning: Set changed size during iteration (see https://github.com/tqdm/tqdm/issues/481)\n",
      "  TqdmSynchronisationWarning)\n"
     ]
    },
    {
     "name": "stdout",
     "output_type": "stream",
     "text": [
      "                                                               \r"
     ]
    }
   ],
   "source": [
    "lrf=learn.lr_find()"
   ]
  },
  {
   "cell_type": "code",
   "execution_count": 41,
   "metadata": {},
   "outputs": [
    {
     "data": {
      "image/png": "[encoded data removed]",
      "text/plain": [
       "<Figure size 432x288 with 1 Axes>"
      ]
     },
     "metadata": {},
     "output_type": "display_data"
    },
    {
     "name": "stderr",
     "output_type": "stream",
     "text": [
      "/home/SharedData/anaconda2/envs/inat/lib/python3.6/site-packages/tqdm/_monitor.py:89: TqdmSynchronisationWarning: Set changed size during iteration (see https://github.com/tqdm/tqdm/issues/481)\n",
      "  TqdmSynchronisationWarning)\n"
     ]
    }
   ],
   "source": [
    "learn.sched.plot()\n"
   ]
  },
  {
   "cell_type": "code",
   "execution_count": 17,
   "metadata": {},
   "outputs": [
    {
     "data": {
      "application/vnd.jupyter.widget-view+json": {
       "model_id": "54623dddace94d95b4dab082c7580002",
       "version_major": 2,
       "version_minor": 0
      },
      "text/plain": [
       "HBox(children=(IntProgress(value=0, description='Epoch', max=4), HTML(value='')))"
      ]
     },
     "metadata": {},
     "output_type": "display_data"
    },
    {
     "name": "stdout",
     "output_type": "stream",
     "text": [
      "epoch      trn_loss   val_loss   accuracy   accuracytop3      \n",
      "    0      1.909875   1.641255   0.585586   0.777681  \n",
      "    1      1.837904   1.639679   0.58762    0.774969          \n",
      "    2      1.734485   1.628884   0.589848   0.775647          \n",
      "    3      1.713699   1.62951    0.591301   0.77865           \n",
      "\n"
     ]
    },
    {
     "data": {
      "text/plain": [
       "[array([1.62951]), 0.5913009783890917, 0.7786496173535208]"
      ]
     },
     "execution_count": 17,
     "metadata": {},
     "output_type": "execute_result"
    }
   ],
   "source": [
    "## 16_1\n",
    "learn.fit(0.001, 1, cycle_len=4, cycle_mult=2, metrics=[accuracy, accuracytop3])"
   ]
  },
  {
   "cell_type": "code",
   "execution_count": 18,
   "metadata": {},
   "outputs": [
    {
     "data": {
      "application/vnd.jupyter.widget-view+json": {
       "model_id": "16d7eec27ffa4cbdb7b20b5750973deb",
       "version_major": 2,
       "version_minor": 0
      },
      "text/plain": [
       "HBox(children=(IntProgress(value=0, description='Epoch', max=4), HTML(value='')))"
      ]
     },
     "metadata": {},
     "output_type": "display_data"
    },
    {
     "name": "stdout",
     "output_type": "stream",
     "text": [
      "epoch      trn_loss   val_loss   accuracy   accuracytop3       \n",
      "    0      1.805718   1.669715   0.585586   0.774     \n",
      "    1      1.766532   1.636396   0.590042   0.775743          \n",
      "    2      1.696463   1.613897   0.591398   0.779812          \n",
      "    3      1.640284   1.634223   0.591398   0.7771            \n",
      "\n"
     ]
    },
    {
     "data": {
      "text/plain": [
       "[array([1.63422]), 0.5913978494537047, 0.7770996803601306]"
      ]
     },
     "execution_count": 18,
     "metadata": {},
     "output_type": "execute_result"
    }
   ],
   "source": [
    "## 16_2\n",
    "learn.fit(0.001, 1, cycle_len=4, cycle_mult=2, metrics=[accuracy, accuracytop3])"
   ]
  },
  {
   "cell_type": "code",
   "execution_count": 19,
   "metadata": {},
   "outputs": [
    {
     "name": "stdout",
     "output_type": "stream",
     "text": [
      "                                             \r"
     ]
    }
   ],
   "source": [
    "# 16_3 Testing1\n",
    "log_preds, y = learn.TTA(is_test=True)\n",
    "probs = np.exp(log_preds)"
   ]
  },
  {
   "cell_type": "code",
   "execution_count": 22,
   "metadata": {},
   "outputs": [
    {
     "data": {
      "text/plain": [
       "(24088, 211)"
      ]
     },
     "execution_count": 22,
     "metadata": {},
     "output_type": "execute_result"
    }
   ],
   "source": [
    "#16_3_2 Testing2\n",
    "probs_1 = np.mean(probs, axis=0)\n",
    "probs_1.shape"
   ]
  },
  {
   "cell_type": "code",
   "execution_count": 25,
   "metadata": {},
   "outputs": [
    {
     "data": {
      "text/html": [
       "<div>\n",
       "<style scoped>\n",
       "    .dataframe tbody tr th:only-of-type {\n",
       "        vertical-align: middle;\n",
       "    }\n",
       "\n",
       "    .dataframe tbody tr th {\n",
       "        vertical-align: top;\n",
       "    }\n",
       "\n",
       "    .dataframe thead th {\n",
       "        text-align: right;\n",
       "    }\n",
       "</style>\n",
       "<table border=\"1\" class=\"dataframe\">\n",
       "  <thead>\n",
       "    <tr style=\"text-align: right;\">\n",
       "      <th></th>\n",
       "      <th>id</th>\n",
       "      <th>0</th>\n",
       "      <th>1</th>\n",
       "      <th>10</th>\n",
       "      <th>100</th>\n",
       "      <th>101</th>\n",
       "      <th>102</th>\n",
       "      <th>103</th>\n",
       "      <th>104</th>\n",
       "      <th>105</th>\n",
       "      <th>...</th>\n",
       "      <th>90</th>\n",
       "      <th>91</th>\n",
       "      <th>92</th>\n",
       "      <th>93</th>\n",
       "      <th>94</th>\n",
       "      <th>95</th>\n",
       "      <th>96</th>\n",
       "      <th>97</th>\n",
       "      <th>98</th>\n",
       "      <th>99</th>\n",
       "    </tr>\n",
       "  </thead>\n",
       "  <tbody>\n",
       "    <tr>\n",
       "      <th>0</th>\n",
       "      <td>test_007350.jpg</td>\n",
       "      <td>4.146333e-07</td>\n",
       "      <td>1.978815e-07</td>\n",
       "      <td>6.500111e-06</td>\n",
       "      <td>2.588403e-06</td>\n",
       "      <td>0.000004</td>\n",
       "      <td>1.673968e-04</td>\n",
       "      <td>0.035036</td>\n",
       "      <td>3.889451e-05</td>\n",
       "      <td>6.647213e-07</td>\n",
       "      <td>...</td>\n",
       "      <td>0.000023</td>\n",
       "      <td>1.220477e-05</td>\n",
       "      <td>1.481471e-04</td>\n",
       "      <td>0.000003</td>\n",
       "      <td>1.572336e-07</td>\n",
       "      <td>1.515304e-05</td>\n",
       "      <td>1.798267e-06</td>\n",
       "      <td>3.615795e-09</td>\n",
       "      <td>1.354377e-05</td>\n",
       "      <td>6.001461e-07</td>\n",
       "    </tr>\n",
       "    <tr>\n",
       "      <th>1</th>\n",
       "      <td>test_002371.jpg</td>\n",
       "      <td>1.687718e-06</td>\n",
       "      <td>4.329611e-06</td>\n",
       "      <td>2.945113e-07</td>\n",
       "      <td>3.995941e-05</td>\n",
       "      <td>0.000005</td>\n",
       "      <td>1.489524e-05</td>\n",
       "      <td>0.000020</td>\n",
       "      <td>4.057375e-06</td>\n",
       "      <td>6.346622e-04</td>\n",
       "      <td>...</td>\n",
       "      <td>0.000265</td>\n",
       "      <td>4.347206e-05</td>\n",
       "      <td>1.916569e-05</td>\n",
       "      <td>0.000215</td>\n",
       "      <td>1.179059e-04</td>\n",
       "      <td>2.666743e-03</td>\n",
       "      <td>1.263602e-06</td>\n",
       "      <td>4.976774e-08</td>\n",
       "      <td>9.177227e-06</td>\n",
       "      <td>5.778560e-07</td>\n",
       "    </tr>\n",
       "    <tr>\n",
       "      <th>2</th>\n",
       "      <td>test_011109.jpg</td>\n",
       "      <td>1.181902e-04</td>\n",
       "      <td>8.196144e-05</td>\n",
       "      <td>3.127698e-05</td>\n",
       "      <td>2.319823e-05</td>\n",
       "      <td>0.000001</td>\n",
       "      <td>9.201749e-04</td>\n",
       "      <td>0.000046</td>\n",
       "      <td>1.120761e-04</td>\n",
       "      <td>6.258561e-05</td>\n",
       "      <td>...</td>\n",
       "      <td>0.042891</td>\n",
       "      <td>4.179105e-03</td>\n",
       "      <td>2.099222e-03</td>\n",
       "      <td>0.000230</td>\n",
       "      <td>1.723711e-03</td>\n",
       "      <td>1.850424e-05</td>\n",
       "      <td>4.064087e-02</td>\n",
       "      <td>2.255787e-03</td>\n",
       "      <td>2.428206e-03</td>\n",
       "      <td>4.266172e-04</td>\n",
       "    </tr>\n",
       "    <tr>\n",
       "      <th>3</th>\n",
       "      <td>test_013610.jpg</td>\n",
       "      <td>1.035941e-08</td>\n",
       "      <td>1.054500e-07</td>\n",
       "      <td>1.531043e-06</td>\n",
       "      <td>1.328058e-07</td>\n",
       "      <td>0.000005</td>\n",
       "      <td>3.504865e-08</td>\n",
       "      <td>0.000153</td>\n",
       "      <td>8.810797e-07</td>\n",
       "      <td>1.868634e-06</td>\n",
       "      <td>...</td>\n",
       "      <td>0.000003</td>\n",
       "      <td>3.528336e-07</td>\n",
       "      <td>9.491087e-07</td>\n",
       "      <td>0.000002</td>\n",
       "      <td>1.265851e-06</td>\n",
       "      <td>1.964478e-07</td>\n",
       "      <td>5.675873e-07</td>\n",
       "      <td>5.773346e-08</td>\n",
       "      <td>4.097206e-07</td>\n",
       "      <td>2.233159e-06</td>\n",
       "    </tr>\n",
       "    <tr>\n",
       "      <th>4</th>\n",
       "      <td>test_022100.jpg</td>\n",
       "      <td>4.815719e-05</td>\n",
       "      <td>4.261851e-04</td>\n",
       "      <td>2.074755e-04</td>\n",
       "      <td>1.696218e-04</td>\n",
       "      <td>0.000055</td>\n",
       "      <td>3.145180e-04</td>\n",
       "      <td>0.003036</td>\n",
       "      <td>1.361804e-02</td>\n",
       "      <td>1.283103e-05</td>\n",
       "      <td>...</td>\n",
       "      <td>0.002015</td>\n",
       "      <td>8.847730e-03</td>\n",
       "      <td>1.390447e-04</td>\n",
       "      <td>0.026780</td>\n",
       "      <td>9.336508e-06</td>\n",
       "      <td>1.157879e-03</td>\n",
       "      <td>3.210028e-06</td>\n",
       "      <td>1.139196e-03</td>\n",
       "      <td>3.200659e-04</td>\n",
       "      <td>9.416150e-04</td>\n",
       "    </tr>\n",
       "  </tbody>\n",
       "</table>\n",
       "<p>5 rows × 212 columns</p>\n",
       "</div>"
      ],
      "text/plain": [
       "                id             0             1            10           100  \\\n",
       "0  test_007350.jpg  4.146333e-07  1.978815e-07  6.500111e-06  2.588403e-06   \n",
       "1  test_002371.jpg  1.687718e-06  4.329611e-06  2.945113e-07  3.995941e-05   \n",
       "2  test_011109.jpg  1.181902e-04  8.196144e-05  3.127698e-05  2.319823e-05   \n",
       "3  test_013610.jpg  1.035941e-08  1.054500e-07  1.531043e-06  1.328058e-07   \n",
       "4  test_022100.jpg  4.815719e-05  4.261851e-04  2.074755e-04  1.696218e-04   \n",
       "\n",
       "        101           102       103           104           105      ...       \\\n",
       "0  0.000004  1.673968e-04  0.035036  3.889451e-05  6.647213e-07      ...        \n",
       "1  0.000005  1.489524e-05  0.000020  4.057375e-06  6.346622e-04      ...        \n",
       "2  0.000001  9.201749e-04  0.000046  1.120761e-04  6.258561e-05      ...        \n",
       "3  0.000005  3.504865e-08  0.000153  8.810797e-07  1.868634e-06      ...        \n",
       "4  0.000055  3.145180e-04  0.003036  1.361804e-02  1.283103e-05      ...        \n",
       "\n",
       "         90            91            92        93            94            95  \\\n",
       "0  0.000023  1.220477e-05  1.481471e-04  0.000003  1.572336e-07  1.515304e-05   \n",
       "1  0.000265  4.347206e-05  1.916569e-05  0.000215  1.179059e-04  2.666743e-03   \n",
       "2  0.042891  4.179105e-03  2.099222e-03  0.000230  1.723711e-03  1.850424e-05   \n",
       "3  0.000003  3.528336e-07  9.491087e-07  0.000002  1.265851e-06  1.964478e-07   \n",
       "4  0.002015  8.847730e-03  1.390447e-04  0.026780  9.336508e-06  1.157879e-03   \n",
       "\n",
       "             96            97            98            99  \n",
       "0  1.798267e-06  3.615795e-09  1.354377e-05  6.001461e-07  \n",
       "1  1.263602e-06  4.976774e-08  9.177227e-06  5.778560e-07  \n",
       "2  4.064087e-02  2.255787e-03  2.428206e-03  4.266172e-04  \n",
       "3  5.675873e-07  5.773346e-08  4.097206e-07  2.233159e-06  \n",
       "4  3.210028e-06  1.139196e-03  3.200659e-04  9.416150e-04  \n",
       "\n",
       "[5 rows x 212 columns]"
      ]
     },
     "execution_count": 25,
     "metadata": {},
     "output_type": "execute_result"
    }
   ],
   "source": [
    "#16_3_3 Testing3\n",
    "sub_ds = pd.DataFrame(probs_1)\n",
    "sub_ds.columns = data.classes\n",
    "sub_ds.insert(0, 'id', [o[9:] for o in data.test_ds.fnames])\n",
    "sub_ds.head()"
   ]
  },
  {
   "cell_type": "code",
   "execution_count": 64,
   "metadata": {
    "collapsed": true
   },
   "outputs": [
    {
     "data": {
      "text/plain": [
       "id     test_007350.jpg\n",
       "0          4.14633e-07\n",
       "1          1.97882e-07\n",
       "10         6.50011e-06\n",
       "100         2.5884e-06\n",
       "101        3.73423e-06\n",
       "102        0.000167397\n",
       "103          0.0350365\n",
       "104        3.88945e-05\n",
       "105        6.64721e-07\n",
       "106        6.22754e-05\n",
       "107         3.2911e-05\n",
       "108        6.40096e-05\n",
       "109        2.64113e-07\n",
       "11         6.09125e-06\n",
       "110        4.00061e-07\n",
       "111         1.2892e-07\n",
       "112        1.71511e-05\n",
       "113        1.42572e-06\n",
       "114         0.00296323\n",
       "115        5.04817e-06\n",
       "116        3.58852e-05\n",
       "117        0.000387646\n",
       "118        3.35351e-06\n",
       "119         2.4629e-06\n",
       "12         1.94114e-06\n",
       "120        1.71383e-07\n",
       "121        1.51247e-05\n",
       "122          0.0469722\n",
       "123         1.7096e-06\n",
       "            ...       \n",
       "72         6.58119e-06\n",
       "73         9.31972e-06\n",
       "74            0.677904\n",
       "75         3.83846e-05\n",
       "76         8.48173e-07\n",
       "77           0.0598035\n",
       "78         1.58428e-07\n",
       "79         4.57145e-07\n",
       "8          8.23519e-07\n",
       "80         5.60285e-06\n",
       "81         2.01296e-06\n",
       "82         5.70216e-06\n",
       "83          0.00221367\n",
       "84         5.22611e-05\n",
       "85         0.000401462\n",
       "86         2.01877e-06\n",
       "87         5.76379e-05\n",
       "88         4.04314e-08\n",
       "89         5.82037e-08\n",
       "9          1.67533e-05\n",
       "90         2.31284e-05\n",
       "91         1.22048e-05\n",
       "92         0.000148147\n",
       "93         2.51077e-06\n",
       "94         1.57234e-07\n",
       "95          1.5153e-05\n",
       "96         1.79827e-06\n",
       "97          3.6158e-09\n",
       "98         1.35438e-05\n",
       "99         6.00146e-07\n",
       "Name: 0, Length: 212, dtype: object"
      ]
     },
     "execution_count": 64,
     "metadata": {},
     "output_type": "execute_result"
    }
   ],
   "source": [
    "sub_ds.iloc[0]"
   ]
  },
  {
   "cell_type": "code",
   "execution_count": 74,
   "metadata": {},
   "outputs": [
    {
     "data": {
      "text/plain": [
       "<matplotlib.image.AxesImage at 0x7f4a1dc01e80>"
      ]
     },
     "execution_count": 74,
     "metadata": {},
     "output_type": "execute_result"
    },
    {
     "data": {
      "image/png": "[encoded data removed]",
      "text/plain": [
       "<Figure size 432x288 with 1 Axes>"
      ]
     },
     "metadata": {},
     "output_type": "display_data"
    }
   ],
   "source": [
    "img_test = PIL.Image.open(f'{PATH}test_set/test_002371.jpg')\n",
    "plt.imshow(img_test)"
   ]
  },
  {
   "cell_type": "code",
   "execution_count": 67,
   "metadata": {},
   "outputs": [
    {
     "data": {
      "text/plain": [
       "150     0.595044\n",
       "60       0.15525\n",
       "82     0.0987843\n",
       "Name: 1, dtype: object"
      ]
     },
     "execution_count": 67,
     "metadata": {},
     "output_type": "execute_result"
    }
   ],
   "source": [
    "r1 = sub_ds.iloc[1]\n",
    "r11 = np.array(r1[1:])\n",
    "r12 = -r11\n",
    "r2 = np.argsort(r12)\n",
    "r3 = np.array(data.classes)[r2]\n",
    "r3\n",
    "r3[:3]\n",
    "r1[r3[:3]]"
   ]
  },
  {
   "cell_type": "code",
   "execution_count": null,
   "metadata": {},
   "outputs": [],
   "source": [
    "# 16_3_4 Testing4\n",
    "SUBM = f'{PATH}sub/' \n",
    "os.makedirs(SUBM, exist_ok=True)\n",
    "sub = 'id, predicted\\n'\n",
    "str_format = '{},{} {} {}\\n'\n",
    "ds_class_array = np.array(data.classes)\n",
    "for i in range(len(sub_ds)):\n",
    "    r1 = sub_ds.iloc[i]\n",
    "    r11 = np.array(r1[1:])\n",
    "    r12 = -r11\n",
    "    r2 = np.argsort(r12)\n",
    "    r3 = np.array(data.classes)[r2]\n",
    "    pred_test_fin = r3[:3]\n",
    "    sub += str_format.format(data.test_ds.fnames[i][9:], pred_test_fin[0], pred_test_fin[1], pred_test_fin[2])\n",
    "# with open('sub1.csv', 'w') as f:\n",
    "#     f.write(sub)"
   ]
  },
  {
   "cell_type": "code",
   "execution_count": null,
   "metadata": {},
   "outputs": [],
   "source": [
    "# 16_3_5 Testing5\n",
    "with open('sub1.csv', 'w') as f:\n",
    "    f.write(sub)"
   ]
  },
  {
   "cell_type": "code",
   "execution_count": null,
   "metadata": {},
   "outputs": [],
   "source": [
    "## Optional. Doesnt Help Much\n",
    "learn.set_data(get_data(299,bs))"
   ]
  },
  {
   "cell_type": "code",
   "execution_count": null,
   "metadata": {},
   "outputs": [],
   "source": [
    "learn.fit(0.001, 1, cycle_len=4, cycle_mult=2, metrics=[accuracy, accuracytop3])"
   ]
  },
  {
   "cell_type": "code",
   "execution_count": 44,
   "metadata": {},
   "outputs": [
    {
     "name": "stderr",
     "output_type": "stream",
     "text": [
      "/home/SharedData/anaconda2/envs/inat/lib/python3.6/site-packages/tqdm/_monitor.py:89: TqdmSynchronisationWarning: Set changed size during iteration (see https://github.com/tqdm/tqdm/issues/481)\n",
      "  TqdmSynchronisationWarning)\n"
     ]
    }
   ],
   "source": [
    "## 17\n",
    "import torch"
   ]
  },
  {
   "cell_type": "code",
   "execution_count": 45,
   "metadata": {},
   "outputs": [
    {
     "name": "stderr",
     "output_type": "stream",
     "text": [
      "/home/SharedData/anaconda2/envs/inat/lib/python3.6/site-packages/tqdm/_monitor.py:89: TqdmSynchronisationWarning: Set changed size during iteration (see https://github.com/tqdm/tqdm/issues/481)\n",
      "  TqdmSynchronisationWarning)\n"
     ]
    }
   ],
   "source": [
    "pred_test = learn.predict(is_test=True)"
   ]
  },
  {
   "cell_type": "code",
   "execution_count": null,
   "metadata": {},
   "outputs": [],
   "source": [
    "learn"
   ]
  },
  {
   "cell_type": "code",
   "execution_count": 108,
   "metadata": {},
   "outputs": [
    {
     "name": "stderr",
     "output_type": "stream",
     "text": [
      "/home/SharedData/anaconda2/envs/inat/lib/python3.6/site-packages/tqdm/_monitor.py:89: TqdmSynchronisationWarning: Set changed size during iteration (see https://github.com/tqdm/tqdm/issues/481)\n",
      "  TqdmSynchronisationWarning)\n"
     ]
    }
   ],
   "source": [
    "log_preds = learn.predict(is_test=True)\n",
    "probs = np.exp(log_preds)  "
   ]
  },
  {
   "cell_type": "code",
   "execution_count": 109,
   "metadata": {},
   "outputs": [
    {
     "data": {
      "text/plain": [
       "(24088, 211)"
      ]
     },
     "execution_count": 109,
     "metadata": {},
     "output_type": "execute_result"
    }
   ],
   "source": [
    "probs.shape"
   ]
  },
  {
   "cell_type": "code",
   "execution_count": 103,
   "metadata": {},
   "outputs": [
    {
     "data": {
      "text/plain": [
       "'test_007350.jpg'"
      ]
     },
     "execution_count": 103,
     "metadata": {},
     "output_type": "execute_result"
    },
    {
     "name": "stderr",
     "output_type": "stream",
     "text": [
      "/home/SharedData/anaconda2/envs/inat/lib/python3.6/site-packages/tqdm/_monitor.py:89: TqdmSynchronisationWarning: Set changed size during iteration (see https://github.com/tqdm/tqdm/issues/481)\n",
      "  TqdmSynchronisationWarning)\n"
     ]
    }
   ],
   "source": [
    "data.test_ds.fnames[0][9:]"
   ]
  },
  {
   "cell_type": "code",
   "execution_count": 111,
   "metadata": {},
   "outputs": [
    {
     "data": {
      "text/plain": [
       "(24088, 211)"
      ]
     },
     "execution_count": 111,
     "metadata": {},
     "output_type": "execute_result"
    }
   ],
   "source": [
    "probs.shape"
   ]
  },
  {
   "cell_type": "code",
   "execution_count": 1,
   "metadata": {},
   "outputs": [
    {
     "ename": "NameError",
     "evalue": "name 'pd' is not defined",
     "output_type": "error",
     "traceback": [
      "\u001b[0;31m---------------------------------------------------------------------------\u001b[0m",
      "\u001b[0;31mNameError\u001b[0m                                 Traceback (most recent call last)",
      "\u001b[0;32m<ipython-input-1-44912105af43>\u001b[0m in \u001b[0;36m<module>\u001b[0;34m()\u001b[0m\n\u001b[0;32m----> 1\u001b[0;31m \u001b[0mds\u001b[0m \u001b[0;34m=\u001b[0m \u001b[0mpd\u001b[0m\u001b[0;34m.\u001b[0m\u001b[0mDataFrame\u001b[0m\u001b[0;34m(\u001b[0m\u001b[0mprobs\u001b[0m\u001b[0;34m)\u001b[0m\u001b[0;34m\u001b[0m\u001b[0m\n\u001b[0m\u001b[1;32m      2\u001b[0m \u001b[0mds\u001b[0m\u001b[0;34m.\u001b[0m\u001b[0mcolumns\u001b[0m \u001b[0;34m=\u001b[0m \u001b[0mdata\u001b[0m\u001b[0;34m.\u001b[0m\u001b[0mclasses\u001b[0m\u001b[0;34m\u001b[0m\u001b[0m\n\u001b[1;32m      3\u001b[0m \u001b[0mds\u001b[0m\u001b[0;34m.\u001b[0m\u001b[0minsert\u001b[0m\u001b[0;34m(\u001b[0m\u001b[0;36m0\u001b[0m\u001b[0;34m,\u001b[0m \u001b[0;34m'id'\u001b[0m\u001b[0;34m,\u001b[0m \u001b[0;34m[\u001b[0m\u001b[0mo\u001b[0m\u001b[0;34m[\u001b[0m\u001b[0;36m9\u001b[0m\u001b[0;34m:\u001b[0m\u001b[0;34m]\u001b[0m \u001b[0;32mfor\u001b[0m \u001b[0mo\u001b[0m \u001b[0;32min\u001b[0m \u001b[0mdata\u001b[0m\u001b[0;34m.\u001b[0m\u001b[0mtest_ds\u001b[0m\u001b[0;34m.\u001b[0m\u001b[0mfnames\u001b[0m\u001b[0;34m]\u001b[0m\u001b[0;34m)\u001b[0m\u001b[0;34m\u001b[0m\u001b[0m\n",
      "\u001b[0;31mNameError\u001b[0m: name 'pd' is not defined"
     ]
    }
   ],
   "source": [
    "ds = pd.DataFrame(probs)\n",
    "ds.columns = data.classes\n",
    "ds.insert(0, 'id', [o[9:] for o in data.test_ds.fnames])"
   ]
  },
  {
   "cell_type": "code",
   "execution_count": 114,
   "metadata": {},
   "outputs": [
    {
     "data": {
      "text/html": [
       "<div>\n",
       "<style scoped>\n",
       "    .dataframe tbody tr th:only-of-type {\n",
       "        vertical-align: middle;\n",
       "    }\n",
       "\n",
       "    .dataframe tbody tr th {\n",
       "        vertical-align: top;\n",
       "    }\n",
       "\n",
       "    .dataframe thead th {\n",
       "        text-align: right;\n",
       "    }\n",
       "</style>\n",
       "<table border=\"1\" class=\"dataframe\">\n",
       "  <thead>\n",
       "    <tr style=\"text-align: right;\">\n",
       "      <th></th>\n",
       "      <th>id</th>\n",
       "      <th>0</th>\n",
       "      <th>1</th>\n",
       "      <th>10</th>\n",
       "      <th>100</th>\n",
       "      <th>101</th>\n",
       "      <th>102</th>\n",
       "      <th>103</th>\n",
       "      <th>104</th>\n",
       "      <th>105</th>\n",
       "      <th>...</th>\n",
       "      <th>90</th>\n",
       "      <th>91</th>\n",
       "      <th>92</th>\n",
       "      <th>93</th>\n",
       "      <th>94</th>\n",
       "      <th>95</th>\n",
       "      <th>96</th>\n",
       "      <th>97</th>\n",
       "      <th>98</th>\n",
       "      <th>99</th>\n",
       "    </tr>\n",
       "  </thead>\n",
       "  <tbody>\n",
       "    <tr>\n",
       "      <th>0</th>\n",
       "      <td>test_007350.jpg</td>\n",
       "      <td>8.257394e-07</td>\n",
       "      <td>0.000001</td>\n",
       "      <td>1.378909e-06</td>\n",
       "      <td>8.536839e-06</td>\n",
       "      <td>0.000008</td>\n",
       "      <td>2.753644e-04</td>\n",
       "      <td>0.057976</td>\n",
       "      <td>0.000043</td>\n",
       "      <td>7.074201e-07</td>\n",
       "      <td>...</td>\n",
       "      <td>0.000023</td>\n",
       "      <td>0.000048</td>\n",
       "      <td>0.000198</td>\n",
       "      <td>0.000004</td>\n",
       "      <td>8.404323e-07</td>\n",
       "      <td>0.000019</td>\n",
       "      <td>7.224164e-07</td>\n",
       "      <td>9.517435e-09</td>\n",
       "      <td>1.883745e-05</td>\n",
       "      <td>0.000003</td>\n",
       "    </tr>\n",
       "    <tr>\n",
       "      <th>1</th>\n",
       "      <td>test_002371.jpg</td>\n",
       "      <td>1.699701e-05</td>\n",
       "      <td>0.000001</td>\n",
       "      <td>6.267365e-07</td>\n",
       "      <td>2.334872e-05</td>\n",
       "      <td>0.000009</td>\n",
       "      <td>3.882266e-05</td>\n",
       "      <td>0.000032</td>\n",
       "      <td>0.000013</td>\n",
       "      <td>1.141820e-03</td>\n",
       "      <td>...</td>\n",
       "      <td>0.000280</td>\n",
       "      <td>0.000080</td>\n",
       "      <td>0.000029</td>\n",
       "      <td>0.000875</td>\n",
       "      <td>4.993047e-04</td>\n",
       "      <td>0.001099</td>\n",
       "      <td>1.814055e-06</td>\n",
       "      <td>2.452228e-08</td>\n",
       "      <td>2.056050e-05</td>\n",
       "      <td>0.000003</td>\n",
       "    </tr>\n",
       "    <tr>\n",
       "      <th>2</th>\n",
       "      <td>test_011109.jpg</td>\n",
       "      <td>1.361980e-04</td>\n",
       "      <td>0.000105</td>\n",
       "      <td>1.795087e-04</td>\n",
       "      <td>6.104214e-05</td>\n",
       "      <td>0.000003</td>\n",
       "      <td>7.107649e-04</td>\n",
       "      <td>0.000054</td>\n",
       "      <td>0.000052</td>\n",
       "      <td>3.104154e-05</td>\n",
       "      <td>...</td>\n",
       "      <td>0.081321</td>\n",
       "      <td>0.003447</td>\n",
       "      <td>0.000763</td>\n",
       "      <td>0.000087</td>\n",
       "      <td>1.032034e-04</td>\n",
       "      <td>0.000007</td>\n",
       "      <td>8.600924e-03</td>\n",
       "      <td>3.134420e-03</td>\n",
       "      <td>9.918975e-04</td>\n",
       "      <td>0.001369</td>\n",
       "    </tr>\n",
       "    <tr>\n",
       "      <th>3</th>\n",
       "      <td>test_013610.jpg</td>\n",
       "      <td>1.106999e-07</td>\n",
       "      <td>0.000002</td>\n",
       "      <td>6.327406e-06</td>\n",
       "      <td>8.630017e-08</td>\n",
       "      <td>0.000015</td>\n",
       "      <td>4.237994e-07</td>\n",
       "      <td>0.000155</td>\n",
       "      <td>0.000011</td>\n",
       "      <td>3.850968e-06</td>\n",
       "      <td>...</td>\n",
       "      <td>0.000006</td>\n",
       "      <td>0.000004</td>\n",
       "      <td>0.000004</td>\n",
       "      <td>0.000101</td>\n",
       "      <td>1.080636e-05</td>\n",
       "      <td>0.000004</td>\n",
       "      <td>1.467571e-06</td>\n",
       "      <td>1.126925e-06</td>\n",
       "      <td>9.205834e-07</td>\n",
       "      <td>0.000032</td>\n",
       "    </tr>\n",
       "    <tr>\n",
       "      <th>4</th>\n",
       "      <td>test_022100.jpg</td>\n",
       "      <td>4.964558e-06</td>\n",
       "      <td>0.000029</td>\n",
       "      <td>6.428989e-05</td>\n",
       "      <td>2.535579e-05</td>\n",
       "      <td>0.000039</td>\n",
       "      <td>5.478813e-04</td>\n",
       "      <td>0.003795</td>\n",
       "      <td>0.009454</td>\n",
       "      <td>6.386695e-05</td>\n",
       "      <td>...</td>\n",
       "      <td>0.000374</td>\n",
       "      <td>0.004381</td>\n",
       "      <td>0.000064</td>\n",
       "      <td>0.025982</td>\n",
       "      <td>2.230156e-04</td>\n",
       "      <td>0.000524</td>\n",
       "      <td>1.495113e-06</td>\n",
       "      <td>2.895586e-04</td>\n",
       "      <td>9.277763e-05</td>\n",
       "      <td>0.000198</td>\n",
       "    </tr>\n",
       "  </tbody>\n",
       "</table>\n",
       "<p>5 rows × 212 columns</p>\n",
       "</div>"
      ],
      "text/plain": [
       "                id             0         1            10           100  \\\n",
       "0  test_007350.jpg  8.257394e-07  0.000001  1.378909e-06  8.536839e-06   \n",
       "1  test_002371.jpg  1.699701e-05  0.000001  6.267365e-07  2.334872e-05   \n",
       "2  test_011109.jpg  1.361980e-04  0.000105  1.795087e-04  6.104214e-05   \n",
       "3  test_013610.jpg  1.106999e-07  0.000002  6.327406e-06  8.630017e-08   \n",
       "4  test_022100.jpg  4.964558e-06  0.000029  6.428989e-05  2.535579e-05   \n",
       "\n",
       "        101           102       103       104           105    ...     \\\n",
       "0  0.000008  2.753644e-04  0.057976  0.000043  7.074201e-07    ...      \n",
       "1  0.000009  3.882266e-05  0.000032  0.000013  1.141820e-03    ...      \n",
       "2  0.000003  7.107649e-04  0.000054  0.000052  3.104154e-05    ...      \n",
       "3  0.000015  4.237994e-07  0.000155  0.000011  3.850968e-06    ...      \n",
       "4  0.000039  5.478813e-04  0.003795  0.009454  6.386695e-05    ...      \n",
       "\n",
       "         90        91        92        93            94        95  \\\n",
       "0  0.000023  0.000048  0.000198  0.000004  8.404323e-07  0.000019   \n",
       "1  0.000280  0.000080  0.000029  0.000875  4.993047e-04  0.001099   \n",
       "2  0.081321  0.003447  0.000763  0.000087  1.032034e-04  0.000007   \n",
       "3  0.000006  0.000004  0.000004  0.000101  1.080636e-05  0.000004   \n",
       "4  0.000374  0.004381  0.000064  0.025982  2.230156e-04  0.000524   \n",
       "\n",
       "             96            97            98        99  \n",
       "0  7.224164e-07  9.517435e-09  1.883745e-05  0.000003  \n",
       "1  1.814055e-06  2.452228e-08  2.056050e-05  0.000003  \n",
       "2  8.600924e-03  3.134420e-03  9.918975e-04  0.001369  \n",
       "3  1.467571e-06  1.126925e-06  9.205834e-07  0.000032  \n",
       "4  1.495113e-06  2.895586e-04  9.277763e-05  0.000198  \n",
       "\n",
       "[5 rows x 212 columns]"
      ]
     },
     "execution_count": 114,
     "metadata": {},
     "output_type": "execute_result"
    },
    {
     "name": "stderr",
     "output_type": "stream",
     "text": [
      "/home/SharedData/anaconda2/envs/inat/lib/python3.6/site-packages/tqdm/_monitor.py:89: TqdmSynchronisationWarning: Set changed size during iteration (see https://github.com/tqdm/tqdm/issues/481)\n",
      "  TqdmSynchronisationWarning)\n"
     ]
    }
   ],
   "source": [
    "ds.head()"
   ]
  },
  {
   "cell_type": "code",
   "execution_count": null,
   "metadata": {},
   "outputs": [],
   "source": []
  },
  {
   "cell_type": "code",
   "execution_count": 115,
   "metadata": {},
   "outputs": [
    {
     "name": "stderr",
     "output_type": "stream",
     "text": [
      "/home/SharedData/anaconda2/envs/inat/lib/python3.6/site-packages/tqdm/_monitor.py:89: TqdmSynchronisationWarning: Set changed size during iteration (see https://github.com/tqdm/tqdm/issues/481)\n",
      "  TqdmSynchronisationWarning)\n"
     ]
    }
   ],
   "source": [
    "SUBM = f'{PATH}sub/' \n",
    "os.makedirs(SUBM, exist_ok=True) \n",
    "ds.to_csv(f'{SUBM}subm.csv', index=False)"
   ]
  },
  {
   "cell_type": "code",
   "execution_count": 97,
   "metadata": {},
   "outputs": [
    {
     "data": {
      "text/plain": [
       "array([[-15.00763, -13.86598, -13.39703, ..., -19.68117, -10.0939 , -14.05108],\n",
       "       [-11.39051, -13.78832, -14.03053, ..., -18.51392, -11.62117, -13.28467],\n",
       "       [ -9.10438,  -9.53239,  -9.56141, ...,  -5.42962,  -7.34809,  -7.81707],\n",
       "       ...,\n",
       "       [ -5.3704 ,  -8.70796,  -7.50382, ..., -12.89626,  -3.39326, -10.44531],\n",
       "       [-13.28137,  -6.20516,  -7.18792, ...,  -0.12323, -10.83559,  -7.85944],\n",
       "       [-12.81127, -15.55582, -12.11323, ..., -12.98618, -16.18496, -15.9948 ]], dtype=float32)"
      ]
     },
     "execution_count": 97,
     "metadata": {},
     "output_type": "execute_result"
    },
    {
     "name": "stderr",
     "output_type": "stream",
     "text": [
      "/home/SharedData/anaconda2/envs/inat/lib/python3.6/site-packages/tqdm/_monitor.py:89: TqdmSynchronisationWarning: Set changed size during iteration (see https://github.com/tqdm/tqdm/issues/481)\n",
      "  TqdmSynchronisationWarning)\n"
     ]
    }
   ],
   "source": [
    "pred_test"
   ]
  },
  {
   "cell_type": "code",
   "execution_count": 48,
   "metadata": {},
   "outputs": [
    {
     "data": {
      "text/plain": [
       "24088"
      ]
     },
     "execution_count": 48,
     "metadata": {},
     "output_type": "execute_result"
    },
    {
     "name": "stderr",
     "output_type": "stream",
     "text": [
      "/home/SharedData/anaconda2/envs/inat/lib/python3.6/site-packages/tqdm/_monitor.py:89: TqdmSynchronisationWarning: Set changed size during iteration (see https://github.com/tqdm/tqdm/issues/481)\n",
      "  TqdmSynchronisationWarning)\n"
     ]
    }
   ],
   "source": [
    "len(test_label_df)"
   ]
  },
  {
   "cell_type": "code",
   "execution_count": 61,
   "metadata": {},
   "outputs": [
    {
     "name": "stderr",
     "output_type": "stream",
     "text": [
      "/home/SharedData/anaconda2/envs/inat/lib/python3.6/site-packages/tqdm/_monitor.py:89: TqdmSynchronisationWarning: Set changed size during iteration (see https://github.com/tqdm/tqdm/issues/481)\n",
      "  TqdmSynchronisationWarning)\n"
     ]
    }
   ],
   "source": [
    "pred_test_3 = (-pred_test).argsort(axis=1)\n",
    "pred_test_3 = pred_test_3[:, :3]"
   ]
  },
  {
   "cell_type": "code",
   "execution_count": 72,
   "metadata": {},
   "outputs": [
    {
     "data": {
      "text/plain": [
       "'test_000000.jpg'"
      ]
     },
     "execution_count": 72,
     "metadata": {},
     "output_type": "execute_result"
    },
    {
     "name": "stderr",
     "output_type": "stream",
     "text": [
      "/home/SharedData/anaconda2/envs/inat/lib/python3.6/site-packages/tqdm/_monitor.py:89: TqdmSynchronisationWarning: Set changed size during iteration (see https://github.com/tqdm/tqdm/issues/481)\n",
      "  TqdmSynchronisationWarning)\n"
     ]
    }
   ],
   "source": [
    "test_label_df[0][0]"
   ]
  },
  {
   "cell_type": "code",
   "execution_count": 99,
   "metadata": {},
   "outputs": [
    {
     "data": {
      "text/plain": [
       "'../data/test_set/test_007350.jpg'"
      ]
     },
     "execution_count": 99,
     "metadata": {},
     "output_type": "execute_result"
    },
    {
     "name": "stderr",
     "output_type": "stream",
     "text": [
      "/home/SharedData/anaconda2/envs/inat/lib/python3.6/site-packages/tqdm/_monitor.py:89: TqdmSynchronisationWarning: Set changed size during iteration (see https://github.com/tqdm/tqdm/issues/481)\n",
      "  TqdmSynchronisationWarning)\n"
     ]
    }
   ],
   "source": [
    "fn = PATH + data.test_ds.fnames[0]; fn"
   ]
  },
  {
   "cell_type": "code",
   "execution_count": 120,
   "metadata": {},
   "outputs": [
    {
     "name": "stderr",
     "output_type": "stream",
     "text": [
      "/home/SharedData/anaconda2/envs/inat/lib/python3.6/site-packages/tqdm/_monitor.py:89: TqdmSynchronisationWarning: Set changed size during iteration (see https://github.com/tqdm/tqdm/issues/481)\n",
      "  TqdmSynchronisationWarning)\n"
     ]
    }
   ],
   "source": [
    "sub = 'id, predicted\\n'\n",
    "str_format = '{},{} {} {}\\n'\n",
    "for i in range(len(ds)):\n",
    "    row = ds.\n",
    "    sub += str_format.format(data.test_ds.fnames[i][9:], pred_test_3[i, 0], pred_test_3[i, 1], pred_test_3[i, 2])\n",
    "with open('sub1.csv', 'w') as f:\n",
    "    f.write(sub)"
   ]
  },
  {
   "cell_type": "code",
   "execution_count": 96,
   "metadata": {},
   "outputs": [
    {
     "name": "stdout",
     "output_type": "stream",
     "text": [
      " 50%|█████     | 2/4 [00:01<00:01,  1.00it/s]"
     ]
    },
    {
     "name": "stderr",
     "output_type": "stream",
     "text": [
      "/home/SharedData/anaconda2/envs/inat/lib/python3.6/site-packages/tqdm/_monitor.py:89: TqdmSynchronisationWarning: Set changed size during iteration (see https://github.com/tqdm/tqdm/issues/481)\n",
      "  TqdmSynchronisationWarning)\n"
     ]
    },
    {
     "name": "stdout",
     "output_type": "stream",
     "text": [
      "                                             \r"
     ]
    },
    {
     "data": {
      "text/plain": [
       "0.7865930446575607"
      ]
     },
     "execution_count": 96,
     "metadata": {},
     "output_type": "execute_result"
    }
   ],
   "source": [
    "## 18\n",
    "log_preds,y = learn.TTA()\n",
    "probs = np.mean(np.exp(log_preds),0)\n",
    "b = torch.from_numpy(probs)\n",
    "c = torch.from_numpy(y)\n",
    "accuracytop3(b, c)"
   ]
  },
  {
   "cell_type": "code",
   "execution_count": null,
   "metadata": {},
   "outputs": [],
   "source": [
    "## Dont Run\n",
    "def unfreeze_new(self, num_from_last):\n",
    "    \"\"\" Unfreeze all layers.\n",
    "\n",
    "    Make all layers trainable by unfreezing. This will also set the `precompute` to `False` since we can\n",
    "    no longer pre-calculate the activation of frozen layers.\n",
    "\n",
    "    Returns:\n",
    "        None\n",
    "    \"\"\"\n",
    "    self.freeze_to(-1*num_from_last)\n",
    "    self.precompute = False"
   ]
  },
  {
   "cell_type": "code",
   "execution_count": 77,
   "metadata": {},
   "outputs": [
    {
     "name": "stderr",
     "output_type": "stream",
     "text": [
      "/home/SharedData/anaconda2/envs/inat/lib/python3.6/site-packages/tqdm/_monitor.py:89: TqdmSynchronisationWarning: Set changed size during iteration (see https://github.com/tqdm/tqdm/issues/481)\n",
      "  TqdmSynchronisationWarning)\n"
     ]
    }
   ],
   "source": [
    "from fastai.conv_learner import *"
   ]
  },
  {
   "cell_type": "code",
   "execution_count": 78,
   "metadata": {},
   "outputs": [
    {
     "name": "stderr",
     "output_type": "stream",
     "text": [
      "/home/SharedData/anaconda2/envs/inat/lib/python3.6/site-packages/tqdm/_monitor.py:89: TqdmSynchronisationWarning: Set changed size during iteration (see https://github.com/tqdm/tqdm/issues/481)\n",
      "  TqdmSynchronisationWarning)\n"
     ]
    }
   ],
   "source": [
    "## 19\n",
    "learn.unfreeze()\n",
    "learn.bn_freeze(True) "
   ]
  },
  {
   "cell_type": "raw",
   "metadata": {},
   "source": [
    "lr = np.array([0.00001, 0.0001, 0.001])"
   ]
  },
  {
   "cell_type": "code",
   "execution_count": 79,
   "metadata": {},
   "outputs": [],
   "source": [
    "## 20\n",
    "lr = np.array([0.00001, 0.0001, 0.001])"
   ]
  },
  {
   "cell_type": "code",
   "execution_count": 83,
   "metadata": {},
   "outputs": [],
   "source": [
    "learn.set_data(get_data(224,bs//2))"
   ]
  },
  {
   "cell_type": "code",
   "execution_count": 95,
   "metadata": {},
   "outputs": [
    {
     "ename": "AssertionError",
     "evalue": "",
     "output_type": "error",
     "traceback": [
      "\u001b[0;31m---------------------------------------------------------------------------\u001b[0m",
      "\u001b[0;31mAssertionError\u001b[0m                            Traceback (most recent call last)",
      "\u001b[0;32m<ipython-input-95-717cac2ad0b7>\u001b[0m in \u001b[0;36m<module>\u001b[0;34m()\u001b[0m\n\u001b[1;32m      1\u001b[0m \u001b[0;31m## 21\u001b[0m\u001b[0;34m\u001b[0m\u001b[0;34m\u001b[0m\u001b[0m\n\u001b[0;32m----> 2\u001b[0;31m \u001b[0mlearn\u001b[0m\u001b[0;34m.\u001b[0m\u001b[0mfit\u001b[0m\u001b[0;34m(\u001b[0m\u001b[0mlr\u001b[0m\u001b[0;34m,\u001b[0m \u001b[0;36m1\u001b[0m\u001b[0;34m,\u001b[0m \u001b[0mcycle_len\u001b[0m\u001b[0;34m=\u001b[0m\u001b[0;36m1\u001b[0m\u001b[0;34m,\u001b[0m \u001b[0mmetrics\u001b[0m\u001b[0;34m=\u001b[0m\u001b[0;34m[\u001b[0m\u001b[0maccuracy\u001b[0m\u001b[0;34m,\u001b[0m \u001b[0maccuracytop3\u001b[0m\u001b[0;34m]\u001b[0m\u001b[0;34m)\u001b[0m\u001b[0;34m\u001b[0m\u001b[0m\n\u001b[0m",
      "\u001b[0;32m/home/SharedData/anaconda2/external/fastai/fastai/learner.py\u001b[0m in \u001b[0;36mfit\u001b[0;34m(self, lrs, n_cycle, wds, **kwargs)\u001b[0m\n\u001b[1;32m    284\u001b[0m         \"\"\"\n\u001b[1;32m    285\u001b[0m         \u001b[0mself\u001b[0m\u001b[0;34m.\u001b[0m\u001b[0msched\u001b[0m \u001b[0;34m=\u001b[0m \u001b[0;32mNone\u001b[0m\u001b[0;34m\u001b[0m\u001b[0m\n\u001b[0;32m--> 286\u001b[0;31m         \u001b[0mlayer_opt\u001b[0m \u001b[0;34m=\u001b[0m \u001b[0mself\u001b[0m\u001b[0;34m.\u001b[0m\u001b[0mget_layer_opt\u001b[0m\u001b[0;34m(\u001b[0m\u001b[0mlrs\u001b[0m\u001b[0;34m,\u001b[0m \u001b[0mwds\u001b[0m\u001b[0;34m)\u001b[0m\u001b[0;34m\u001b[0m\u001b[0m\n\u001b[0m\u001b[1;32m    287\u001b[0m         \u001b[0;32mreturn\u001b[0m \u001b[0mself\u001b[0m\u001b[0;34m.\u001b[0m\u001b[0mfit_gen\u001b[0m\u001b[0;34m(\u001b[0m\u001b[0mself\u001b[0m\u001b[0;34m.\u001b[0m\u001b[0mmodel\u001b[0m\u001b[0;34m,\u001b[0m \u001b[0mself\u001b[0m\u001b[0;34m.\u001b[0m\u001b[0mdata\u001b[0m\u001b[0;34m,\u001b[0m \u001b[0mlayer_opt\u001b[0m\u001b[0;34m,\u001b[0m \u001b[0mn_cycle\u001b[0m\u001b[0;34m,\u001b[0m \u001b[0;34m**\u001b[0m\u001b[0mkwargs\u001b[0m\u001b[0;34m)\u001b[0m\u001b[0;34m\u001b[0m\u001b[0m\n\u001b[1;32m    288\u001b[0m \u001b[0;34m\u001b[0m\u001b[0m\n",
      "\u001b[0;32m/home/SharedData/anaconda2/external/fastai/fastai/learner.py\u001b[0m in \u001b[0;36mget_layer_opt\u001b[0;34m(self, lrs, wds)\u001b[0m\n\u001b[1;32m    256\u001b[0m             \u001b[0mAn\u001b[0m \u001b[0minstance\u001b[0m \u001b[0mof\u001b[0m \u001b[0ma\u001b[0m \u001b[0mLayerOptimizer\u001b[0m\u001b[0;34m\u001b[0m\u001b[0m\n\u001b[1;32m    257\u001b[0m         \"\"\"\n\u001b[0;32m--> 258\u001b[0;31m         \u001b[0;32mreturn\u001b[0m \u001b[0mLayerOptimizer\u001b[0m\u001b[0;34m(\u001b[0m\u001b[0mself\u001b[0m\u001b[0;34m.\u001b[0m\u001b[0mopt_fn\u001b[0m\u001b[0;34m,\u001b[0m \u001b[0mself\u001b[0m\u001b[0;34m.\u001b[0m\u001b[0mget_layer_groups\u001b[0m\u001b[0;34m(\u001b[0m\u001b[0;34m)\u001b[0m\u001b[0;34m,\u001b[0m \u001b[0mlrs\u001b[0m\u001b[0;34m,\u001b[0m \u001b[0mwds\u001b[0m\u001b[0;34m)\u001b[0m\u001b[0;34m\u001b[0m\u001b[0m\n\u001b[0m\u001b[1;32m    259\u001b[0m \u001b[0;34m\u001b[0m\u001b[0m\n\u001b[1;32m    260\u001b[0m     \u001b[0;32mdef\u001b[0m \u001b[0mfit\u001b[0m\u001b[0;34m(\u001b[0m\u001b[0mself\u001b[0m\u001b[0;34m,\u001b[0m \u001b[0mlrs\u001b[0m\u001b[0;34m,\u001b[0m \u001b[0mn_cycle\u001b[0m\u001b[0;34m,\u001b[0m \u001b[0mwds\u001b[0m\u001b[0;34m=\u001b[0m\u001b[0;32mNone\u001b[0m\u001b[0;34m,\u001b[0m \u001b[0;34m**\u001b[0m\u001b[0mkwargs\u001b[0m\u001b[0;34m)\u001b[0m\u001b[0;34m:\u001b[0m\u001b[0;34m\u001b[0m\u001b[0m\n",
      "\u001b[0;32m/home/SharedData/anaconda2/external/fastai/fastai/layer_optimizer.py\u001b[0m in \u001b[0;36m__init__\u001b[0;34m(self, opt_fn, layer_groups, lrs, wds)\u001b[0m\n\u001b[1;32m     15\u001b[0m         \u001b[0;32mif\u001b[0m \u001b[0mlen\u001b[0m\u001b[0;34m(\u001b[0m\u001b[0mwds\u001b[0m\u001b[0;34m)\u001b[0m\u001b[0;34m==\u001b[0m\u001b[0;36m1\u001b[0m\u001b[0;34m:\u001b[0m \u001b[0mwds\u001b[0m\u001b[0;34m=\u001b[0m\u001b[0mwds\u001b[0m\u001b[0;34m*\u001b[0m\u001b[0mlen\u001b[0m\u001b[0;34m(\u001b[0m\u001b[0mlayer_groups\u001b[0m\u001b[0;34m)\u001b[0m\u001b[0;34m\u001b[0m\u001b[0m\n\u001b[1;32m     16\u001b[0m         \u001b[0mself\u001b[0m\u001b[0;34m.\u001b[0m\u001b[0mlayer_groups\u001b[0m\u001b[0;34m,\u001b[0m\u001b[0mself\u001b[0m\u001b[0;34m.\u001b[0m\u001b[0mlrs\u001b[0m\u001b[0;34m,\u001b[0m\u001b[0mself\u001b[0m\u001b[0;34m.\u001b[0m\u001b[0mwds\u001b[0m \u001b[0;34m=\u001b[0m \u001b[0mlayer_groups\u001b[0m\u001b[0;34m,\u001b[0m\u001b[0mlrs\u001b[0m\u001b[0;34m,\u001b[0m\u001b[0mwds\u001b[0m\u001b[0;34m\u001b[0m\u001b[0m\n\u001b[0;32m---> 17\u001b[0;31m         \u001b[0mself\u001b[0m\u001b[0;34m.\u001b[0m\u001b[0mopt\u001b[0m \u001b[0;34m=\u001b[0m \u001b[0mopt_fn\u001b[0m\u001b[0;34m(\u001b[0m\u001b[0mself\u001b[0m\u001b[0;34m.\u001b[0m\u001b[0mopt_params\u001b[0m\u001b[0;34m(\u001b[0m\u001b[0;34m)\u001b[0m\u001b[0;34m)\u001b[0m\u001b[0;34m\u001b[0m\u001b[0m\n\u001b[0m\u001b[1;32m     18\u001b[0m \u001b[0;34m\u001b[0m\u001b[0m\n\u001b[1;32m     19\u001b[0m     \u001b[0;32mdef\u001b[0m \u001b[0mopt_params\u001b[0m\u001b[0;34m(\u001b[0m\u001b[0mself\u001b[0m\u001b[0;34m)\u001b[0m\u001b[0;34m:\u001b[0m\u001b[0;34m\u001b[0m\u001b[0m\n",
      "\u001b[0;32m/home/SharedData/anaconda2/external/fastai/fastai/layer_optimizer.py\u001b[0m in \u001b[0;36mopt_params\u001b[0;34m(self)\u001b[0m\n\u001b[1;32m     18\u001b[0m \u001b[0;34m\u001b[0m\u001b[0m\n\u001b[1;32m     19\u001b[0m     \u001b[0;32mdef\u001b[0m \u001b[0mopt_params\u001b[0m\u001b[0;34m(\u001b[0m\u001b[0mself\u001b[0m\u001b[0;34m)\u001b[0m\u001b[0;34m:\u001b[0m\u001b[0;34m\u001b[0m\u001b[0m\n\u001b[0;32m---> 20\u001b[0;31m         \u001b[0;32massert\u001b[0m\u001b[0;34m(\u001b[0m\u001b[0mlen\u001b[0m\u001b[0;34m(\u001b[0m\u001b[0mself\u001b[0m\u001b[0;34m.\u001b[0m\u001b[0mlayer_groups\u001b[0m\u001b[0;34m)\u001b[0m \u001b[0;34m==\u001b[0m \u001b[0mlen\u001b[0m\u001b[0;34m(\u001b[0m\u001b[0mself\u001b[0m\u001b[0;34m.\u001b[0m\u001b[0mlrs\u001b[0m\u001b[0;34m)\u001b[0m\u001b[0;34m)\u001b[0m\u001b[0;34m\u001b[0m\u001b[0m\n\u001b[0m\u001b[1;32m     21\u001b[0m         \u001b[0;32massert\u001b[0m\u001b[0;34m(\u001b[0m\u001b[0mlen\u001b[0m\u001b[0;34m(\u001b[0m\u001b[0mself\u001b[0m\u001b[0;34m.\u001b[0m\u001b[0mlayer_groups\u001b[0m\u001b[0;34m)\u001b[0m \u001b[0;34m==\u001b[0m \u001b[0mlen\u001b[0m\u001b[0;34m(\u001b[0m\u001b[0mself\u001b[0m\u001b[0;34m.\u001b[0m\u001b[0mwds\u001b[0m\u001b[0;34m)\u001b[0m\u001b[0;34m)\u001b[0m\u001b[0;34m\u001b[0m\u001b[0m\n\u001b[1;32m     22\u001b[0m         \u001b[0mparams\u001b[0m \u001b[0;34m=\u001b[0m \u001b[0mlist\u001b[0m\u001b[0;34m(\u001b[0m\u001b[0mzip\u001b[0m\u001b[0;34m(\u001b[0m\u001b[0mself\u001b[0m\u001b[0;34m.\u001b[0m\u001b[0mlayer_groups\u001b[0m\u001b[0;34m,\u001b[0m\u001b[0mself\u001b[0m\u001b[0;34m.\u001b[0m\u001b[0mlrs\u001b[0m\u001b[0;34m,\u001b[0m\u001b[0mself\u001b[0m\u001b[0;34m.\u001b[0m\u001b[0mwds\u001b[0m\u001b[0;34m)\u001b[0m\u001b[0;34m)\u001b[0m\u001b[0;34m\u001b[0m\u001b[0m\n",
      "\u001b[0;31mAssertionError\u001b[0m: "
     ]
    },
    {
     "name": "stderr",
     "output_type": "stream",
     "text": [
      "/home/SharedData/anaconda2/envs/inat/lib/python3.6/site-packages/tqdm/_monitor.py:89: TqdmSynchronisationWarning: Set changed size during iteration (see https://github.com/tqdm/tqdm/issues/481)\n",
      "  TqdmSynchronisationWarning)\n"
     ]
    }
   ],
   "source": [
    "## 21\n",
    "learn.fit(lr, 1, cycle_len=1, metrics=[accuracy, accuracytop3])"
   ]
  },
  {
   "cell_type": "code",
   "execution_count": null,
   "metadata": {},
   "outputs": [],
   "source": [
    "learn.fit(lr, 1, cycle_len=3, metrics=[accuracy, accuracytop3])"
   ]
  },
  {
   "cell_type": "code",
   "execution_count": null,
   "metadata": {},
   "outputs": [],
   "source": [
    "## 22\n",
    "learn.fit(lr, 1, cycle_len=3, metrics=[accuracy, accuracytop3])"
   ]
  },
  {
   "cell_type": "code",
   "execution_count": null,
   "metadata": {},
   "outputs": [],
   "source": [
    "## 23\n",
    "learn.save('resNext101_64_RanUnfreezeNicely')"
   ]
  },
  {
   "cell_type": "code",
   "execution_count": null,
   "metadata": {},
   "outputs": [],
   "source": [
    "## 24\n",
    "learn.freeze()"
   ]
  },
  {
   "cell_type": "code",
   "execution_count": null,
   "metadata": {},
   "outputs": [],
   "source": [
    "## 25\n",
    "learn.precompute=True"
   ]
  },
  {
   "cell_type": "code",
   "execution_count": null,
   "metadata": {},
   "outputs": [],
   "source": [
    "## 26\n",
    "def accuracytop5(preds, targs):\n",
    "    preds_5 = preds.sort(dim=1, descending=True)[1][:, :5]\n",
    "    return ((preds_5[:, 0] == targs) + (preds_5[:, 1] == targs) + (preds_5[:, 2] == targs) + (preds_5[:, 3] == targs) + (preds_5[:, 4] == targs)).float().mean()"
   ]
  },
  {
   "cell_type": "code",
   "execution_count": null,
   "metadata": {},
   "outputs": [],
   "source": [
    "## 27\n",
    "learn.fit(1e-4, 1, cycle_len=1, metrics=[accuracy, accuracytop3, accuracytop5])"
   ]
  },
  {
   "cell_type": "code",
   "execution_count": null,
   "metadata": {},
   "outputs": [],
   "source": [
    "## 28 -- STOP\n",
    "log_preds,y = learn.TTA()\n",
    "probs = np.mean(np.exp(log_preds),0)\n",
    "b = torch.from_numpy(probs)\n",
    "c = torch.from_numpy(y)\n",
    "accuracytop5(b, c)"
   ]
  },
  {
   "cell_type": "code",
   "execution_count": null,
   "metadata": {},
   "outputs": [],
   "source": [
    "learn.unfreeze()\n",
    "learn.bn_freeze(True) "
   ]
  },
  {
   "cell_type": "code",
   "execution_count": null,
   "metadata": {},
   "outputs": [],
   "source": [
    "## DONT :P Will Regret\n",
    "lr = np.array([0.0005, 0.005, 0.05])"
   ]
  },
  {
   "cell_type": "code",
   "execution_count": null,
   "metadata": {},
   "outputs": [],
   "source": [
    "learn.fit(lr, 1, cycle_len=3, metrics=[accuracy, accuracytop3, accuracytop5])"
   ]
  },
  {
   "cell_type": "code",
   "execution_count": null,
   "metadata": {},
   "outputs": [],
   "source": [
    "learn.load('resNext101_64_bs64_sz224_all_Freezed')"
   ]
  },
  {
   "cell_type": "code",
   "execution_count": null,
   "metadata": {},
   "outputs": [],
   "source": [
    "learn.freeze()"
   ]
  },
  {
   "cell_type": "code",
   "execution_count": null,
   "metadata": {},
   "outputs": [],
   "source": [
    "learn.precompute=True"
   ]
  },
  {
   "cell_type": "code",
   "execution_count": null,
   "metadata": {},
   "outputs": [],
   "source": [
    "learn.fit(0, 1, cycle_len=1, metrics=[accuracy, accuracytop3])"
   ]
  },
  {
   "cell_type": "code",
   "execution_count": null,
   "metadata": {},
   "outputs": [],
   "source": [
    "lrf=learn.lr_find()\n"
   ]
  },
  {
   "cell_type": "code",
   "execution_count": null,
   "metadata": {},
   "outputs": [],
   "source": [
    "learn.sched.plot()"
   ]
  },
  {
   "cell_type": "code",
   "execution_count": null,
   "metadata": {},
   "outputs": [],
   "source": [
    "learn.unfreeze()"
   ]
  },
  {
   "cell_type": "code",
   "execution_count": null,
   "metadata": {},
   "outputs": [],
   "source": [
    "lrf=learn.lr_find()\n"
   ]
  },
  {
   "cell_type": "code",
   "execution_count": null,
   "metadata": {},
   "outputs": [],
   "source": [
    "learn.fit(0, 1, cycle_len=1, metrics=[accuracy, accuracytop3])"
   ]
  },
  {
   "cell_type": "code",
   "execution_count": null,
   "metadata": {},
   "outputs": [],
   "source": [
    "learn.fit(0.05, 1, cycle_len=2, metrics=[accuracytop3])"
   ]
  },
  {
   "cell_type": "code",
   "execution_count": null,
   "metadata": {},
   "outputs": [],
   "source": [
    "learn.fit(0.001, 1, cycle_len=2, metrics=[accuracy, accuracytop3])"
   ]
  },
  {
   "cell_type": "code",
   "execution_count": null,
   "metadata": {},
   "outputs": [],
   "source": [
    "!ls ../data/tmp/\n"
   ]
  },
  {
   "cell_type": "code",
   "execution_count": null,
   "metadata": {},
   "outputs": [],
   "source": [
    "learn.load('resNext101_64_bs64_sz224_all')"
   ]
  },
  {
   "cell_type": "code",
   "execution_count": null,
   "metadata": {},
   "outputs": [],
   "source": [
    "learn.freeze()"
   ]
  },
  {
   "cell_type": "code",
   "execution_count": null,
   "metadata": {},
   "outputs": [],
   "source": [
    "learn.save('resNext101_64_bs64_sz224_all_Freezed')"
   ]
  },
  {
   "cell_type": "code",
   "execution_count": null,
   "metadata": {},
   "outputs": [],
   "source": [
    "learn.fit(0.001, 1, cycle_len=2, metrics=[accuracy, accuracytop3])"
   ]
  },
  {
   "cell_type": "code",
   "execution_count": null,
   "metadata": {},
   "outputs": [],
   "source": []
  },
  {
   "cell_type": "code",
   "execution_count": null,
   "metadata": {},
   "outputs": [],
   "source": [
    "learn.unfreeze()"
   ]
  },
  {
   "cell_type": "code",
   "execution_count": null,
   "metadata": {},
   "outputs": [],
   "source": [
    "lr=np.array([0.0005, 0.005, 0.05])"
   ]
  },
  {
   "cell_type": "code",
   "execution_count": null,
   "metadata": {},
   "outputs": [],
   "source": [
    "learn.fit(lr, 2, cycle_len=1)"
   ]
  },
  {
   "cell_type": "code",
   "execution_count": null,
   "metadata": {},
   "outputs": [],
   "source": [
    "learn.save('resNext101_64_bs64_sz224_all')"
   ]
  },
  {
   "cell_type": "code",
   "execution_count": null,
   "metadata": {},
   "outputs": [],
   "source": [
    "!ls ../data/models/\n"
   ]
  },
  {
   "cell_type": "code",
   "execution_count": null,
   "metadata": {},
   "outputs": [],
   "source": []
  }
 ],
 "metadata": {
  "kernelspec": {
   "display_name": "Python 3",
   "language": "python",
   "name": "python3"
  },
  "language_info": {
   "codemirror_mode": {
    "name": "ipython",
    "version": 3
   },
   "file_extension": ".py",
   "mimetype": "text/x-python",
   "name": "python",
   "nbconvert_exporter": "python",
   "pygments_lexer": "ipython3",
   "version": "3.6.5"
  }
 },
 "nbformat": 4,
 "nbformat_minor": 2
}
